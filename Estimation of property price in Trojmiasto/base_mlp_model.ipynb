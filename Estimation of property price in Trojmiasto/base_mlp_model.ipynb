{
  "nbformat": 4,
  "nbformat_minor": 0,
  "metadata": {
    "colab": {
      "name": "base_mlp_model.ipynb",
      "provenance": [],
      "collapsed_sections": [],
      "toc_visible": true
    },
    "kernelspec": {
      "name": "python3",
      "display_name": "Python 3"
    },
    "accelerator": "GPU"
  },
  "cells": [
    {
      "cell_type": "markdown",
      "metadata": {
        "id": "H1upXSgNvgyr",
        "colab_type": "text"
      },
      "source": [
        "#Dataworkshop 3city -  **Predicting flats prices using MLP.**"
      ]
    },
    {
      "cell_type": "markdown",
      "metadata": {
        "id": "YUupLv43vYZ5",
        "colab_type": "text"
      },
      "source": [
        "## Install eli5 library to check features importance."
      ]
    },
    {
      "cell_type": "code",
      "metadata": {
        "id": "DIAnF1hEz39k",
        "colab_type": "code",
        "colab": {
          "base_uri": "https://localhost:8080/",
          "height": 202
        },
        "outputId": "39dcc487-a690-4d03-b4b7-17bb4f53face"
      },
      "source": [
        "!pip install eli5"
      ],
      "execution_count": 1,
      "outputs": [
        {
          "output_type": "stream",
          "text": [
            "Requirement already satisfied: eli5 in /usr/local/lib/python3.6/dist-packages (0.10.1)\n",
            "Requirement already satisfied: graphviz in /usr/local/lib/python3.6/dist-packages (from eli5) (0.10.1)\n",
            "Requirement already satisfied: jinja2 in /usr/local/lib/python3.6/dist-packages (from eli5) (2.11.2)\n",
            "Requirement already satisfied: six in /usr/local/lib/python3.6/dist-packages (from eli5) (1.12.0)\n",
            "Requirement already satisfied: scipy in /usr/local/lib/python3.6/dist-packages (from eli5) (1.4.1)\n",
            "Requirement already satisfied: attrs>16.0.0 in /usr/local/lib/python3.6/dist-packages (from eli5) (19.3.0)\n",
            "Requirement already satisfied: scikit-learn>=0.18 in /usr/local/lib/python3.6/dist-packages (from eli5) (0.22.2.post1)\n",
            "Requirement already satisfied: tabulate>=0.7.7 in /usr/local/lib/python3.6/dist-packages (from eli5) (0.8.7)\n",
            "Requirement already satisfied: numpy>=1.9.0 in /usr/local/lib/python3.6/dist-packages (from eli5) (1.18.5)\n",
            "Requirement already satisfied: MarkupSafe>=0.23 in /usr/local/lib/python3.6/dist-packages (from jinja2->eli5) (1.1.1)\n",
            "Requirement already satisfied: joblib>=0.11 in /usr/local/lib/python3.6/dist-packages (from scikit-learn>=0.18->eli5) (0.16.0)\n"
          ],
          "name": "stdout"
        }
      ]
    },
    {
      "cell_type": "markdown",
      "metadata": {
        "id": "xGBROIl3miXG",
        "colab_type": "text"
      },
      "source": [
        "## Data loading, cleaning and preprocessing."
      ]
    },
    {
      "cell_type": "code",
      "metadata": {
        "id": "oo3O0X33pGZt",
        "colab_type": "code",
        "colab": {}
      },
      "source": [
        "import os\n",
        "import pandas as pd\n",
        "import numpy as np"
      ],
      "execution_count": 2,
      "outputs": []
    },
    {
      "cell_type": "markdown",
      "metadata": {
        "id": "hf1B6ABFwNpW",
        "colab_type": "text"
      },
      "source": [
        "###Load data from GDrive"
      ]
    },
    {
      "cell_type": "code",
      "metadata": {
        "id": "KDNco1HPpfY1",
        "colab_type": "code",
        "colab": {
          "base_uri": "https://localhost:8080/",
          "height": 34
        },
        "outputId": "dbb633d7-cbf8-470a-a3f2-e0ad984834fa"
      },
      "source": [
        "os.chdir(\"/content/drive/My Drive/Colab Notebooks/DW3city/dane z portali/Dane z 4 portali razem/train_test_split\")\n",
        "!pwd"
      ],
      "execution_count": 3,
      "outputs": [
        {
          "output_type": "stream",
          "text": [
            "/content/drive/.shortcut-targets-by-id/106/DataWorkshop Trójmiasto/dane z portali/Dane z 4 portali razem/train_test_split\n"
          ],
          "name": "stdout"
        }
      ]
    },
    {
      "cell_type": "code",
      "metadata": {
        "id": "zoMlAfkZpwT1",
        "colab_type": "code",
        "colab": {}
      },
      "source": [
        "df_train = pd.read_csv(\"x_train.csv\")\n",
        "df_validation = pd.read_csv(\"x_val.csv\")\n",
        "y_train = pd.read_csv(\"y_train.csv\")\n",
        "y_validation = pd.read_csv(\"y_val.csv\")\n",
        "\n",
        "df_test = pd.read_csv('x_test.csv')\n",
        "y_test = pd.read_csv('y_test.csv')"
      ],
      "execution_count": 4,
      "outputs": []
    },
    {
      "cell_type": "code",
      "metadata": {
        "id": "jnWzJ6C9qALl",
        "colab_type": "code",
        "colab": {
          "base_uri": "https://localhost:8080/",
          "height": 34
        },
        "outputId": "a7fe7f03-2df5-4f87-aee7-a8977c8580c2"
      },
      "source": [
        "df_train.shape, df_validation.shape, df_test.shape"
      ],
      "execution_count": 5,
      "outputs": [
        {
          "output_type": "execute_result",
          "data": {
            "text/plain": [
              "((13658, 24), (4553, 24), (4553, 24))"
            ]
          },
          "metadata": {
            "tags": []
          },
          "execution_count": 5
        }
      ]
    },
    {
      "cell_type": "markdown",
      "metadata": {
        "id": "AoxwlDxnwWOd",
        "colab_type": "text"
      },
      "source": [
        "### Check y values distribution and transform using log()"
      ]
    },
    {
      "cell_type": "code",
      "metadata": {
        "id": "IbVu8NIswVfv",
        "colab_type": "code",
        "colab": {
          "base_uri": "https://localhost:8080/",
          "height": 654
        },
        "outputId": "9feff67b-3aa3-4f17-cd9b-1c393cd7fe91"
      },
      "source": [
        "y_train.hist(bins=20, figsize=(10,10))"
      ],
      "execution_count": 6,
      "outputs": [
        {
          "output_type": "execute_result",
          "data": {
            "text/plain": [
              "array([[<matplotlib.axes._subplots.AxesSubplot object at 0x7fa40fcea748>]],\n",
              "      dtype=object)"
            ]
          },
          "metadata": {
            "tags": []
          },
          "execution_count": 6
        },
        {
          "output_type": "display_data",
          "data": {
            "image/png": "[encoded data removed]",
            "text/plain": [
              "<Figure size 720x720 with 1 Axes>"
            ]
          },
          "metadata": {
            "tags": [],
            "needs_background": "light"
          }
        }
      ]
    },
    {
      "cell_type": "code",
      "metadata": {
        "id": "D2HmNN6HfpM7",
        "colab_type": "code",
        "colab": {}
      },
      "source": [
        "y_train_log = np.log(y_train)\n",
        "y_validation_log=np.log(y_validation) \n",
        "y_test_log = np.log(y_test)"
      ],
      "execution_count": 7,
      "outputs": []
    },
    {
      "cell_type": "code",
      "metadata": {
        "id": "iW-eKxWIw9gH",
        "colab_type": "code",
        "colab": {
          "base_uri": "https://localhost:8080/",
          "height": 641
        },
        "outputId": "b7fbc3df-5ccc-4f80-c0f7-a90ce0abb0db"
      },
      "source": [
        "y_train_log.hist(bins=20, figsize=(10,10))"
      ],
      "execution_count": 8,
      "outputs": [
        {
          "output_type": "execute_result",
          "data": {
            "text/plain": [
              "array([[<matplotlib.axes._subplots.AxesSubplot object at 0x7fa40fc0c0b8>]],\n",
              "      dtype=object)"
            ]
          },
          "metadata": {
            "tags": []
          },
          "execution_count": 8
        },
        {
          "output_type": "display_data",
          "data": {
            "image/png": "[encoded data removed]",
            "text/plain": [
              "<Figure size 720x720 with 1 Axes>"
            ]
          },
          "metadata": {
            "tags": [],
            "needs_background": "light"
          }
        }
      ]
    },
    {
      "cell_type": "markdown",
      "metadata": {
        "id": "8A-U9C3mxZLZ",
        "colab_type": "text"
      },
      "source": [
        "### Concat train, validation, test data for preprocessing"
      ]
    },
    {
      "cell_type": "code",
      "metadata": {
        "id": "hy9i69xIqEh2",
        "colab_type": "code",
        "colab": {
          "base_uri": "https://localhost:8080/",
          "height": 774
        },
        "outputId": "49352062-15bb-40c6-9295-8099b5235fd1"
      },
      "source": [
        "df_combined = pd.concat([df_train, df_validation, df_test], ignore_index=True)\n",
        "df_combined"
      ],
      "execution_count": 9,
      "outputs": [
        {
          "output_type": "execute_result",
          "data": {
            "text/html": [
              "<div>\n",
              "<style scoped>\n",
              "    .dataframe tbody tr th:only-of-type {\n",
              "        vertical-align: middle;\n",
              "    }\n",
              "\n",
              "    .dataframe tbody tr th {\n",
              "        vertical-align: top;\n",
              "    }\n",
              "\n",
              "    .dataframe thead th {\n",
              "        text-align: right;\n",
              "    }\n",
              "</style>\n",
              "<table border=\"1\" class=\"dataframe\">\n",
              "  <thead>\n",
              "    <tr style=\"text-align: right;\">\n",
              "      <th></th>\n",
              "      <th>kuchnia</th>\n",
              "      <th>rynek</th>\n",
              "      <th>balkon</th>\n",
              "      <th>liczba_pieter_budynku</th>\n",
              "      <th>rok_budowy</th>\n",
              "      <th>miasto</th>\n",
              "      <th>liczba_pokoi</th>\n",
              "      <th>wykonczenie</th>\n",
              "      <th>ulica</th>\n",
              "      <th>pietro</th>\n",
              "      <th>rodzaj_zabudowy</th>\n",
              "      <th>powierzchnia</th>\n",
              "      <th>dzielnica</th>\n",
              "      <th>forma-wlasnosci</th>\n",
              "      <th>adres</th>\n",
              "      <th>serwis</th>\n",
              "      <th>material_budynku</th>\n",
              "      <th>oferta</th>\n",
              "      <th>ogrzewanie</th>\n",
              "      <th>winda</th>\n",
              "      <th>czynsz</th>\n",
              "      <th>typ_ogrzewania</th>\n",
              "      <th>dodatkowe_informacje</th>\n",
              "      <th>ulica_i_nr</th>\n",
              "    </tr>\n",
              "  </thead>\n",
              "  <tbody>\n",
              "    <tr>\n",
              "      <th>0</th>\n",
              "      <td>-1</td>\n",
              "      <td>-1</td>\n",
              "      <td>-1</td>\n",
              "      <td>5</td>\n",
              "      <td>2005</td>\n",
              "      <td>-1</td>\n",
              "      <td>2</td>\n",
              "      <td>-1</td>\n",
              "      <td>-1</td>\n",
              "      <td>3</td>\n",
              "      <td>-1</td>\n",
              "      <td>50.00</td>\n",
              "      <td>-1</td>\n",
              "      <td>-1</td>\n",
              "      <td>Gdynia, Grabówek, Morska</td>\n",
              "      <td>trojmiasto</td>\n",
              "      <td>-1</td>\n",
              "      <td>-1</td>\n",
              "      <td>-1</td>\n",
              "      <td>-1</td>\n",
              "      <td>-1.0</td>\n",
              "      <td>-1</td>\n",
              "      <td>Garaż, Winda, Kuchnia</td>\n",
              "      <td>-1</td>\n",
              "    </tr>\n",
              "    <tr>\n",
              "      <th>1</th>\n",
              "      <td>brak</td>\n",
              "      <td>wtórny</td>\n",
              "      <td>-1</td>\n",
              "      <td>3</td>\n",
              "      <td>2020</td>\n",
              "      <td>Gdynia</td>\n",
              "      <td>2</td>\n",
              "      <td>dowykończenia</td>\n",
              "      <td>-1</td>\n",
              "      <td>2</td>\n",
              "      <td>blok</td>\n",
              "      <td>39.72</td>\n",
              "      <td>-1</td>\n",
              "      <td>-1</td>\n",
              "      <td>Gdynia, Obłuże</td>\n",
              "      <td>otodom</td>\n",
              "      <td>pustak</td>\n",
              "      <td>Oferta biura nieruchomości</td>\n",
              "      <td>miejskie</td>\n",
              "      <td>0</td>\n",
              "      <td>200.0</td>\n",
              "      <td>-1</td>\n",
              "      <td>-1</td>\n",
              "      <td>-1</td>\n",
              "    </tr>\n",
              "    <tr>\n",
              "      <th>2</th>\n",
              "      <td>-1</td>\n",
              "      <td>-1</td>\n",
              "      <td>-1</td>\n",
              "      <td>4</td>\n",
              "      <td>1970</td>\n",
              "      <td>-1</td>\n",
              "      <td>3</td>\n",
              "      <td>-1</td>\n",
              "      <td>-1</td>\n",
              "      <td>2</td>\n",
              "      <td>-1</td>\n",
              "      <td>54.00</td>\n",
              "      <td>-1</td>\n",
              "      <td>-1</td>\n",
              "      <td>Gdańsk, Przymorze, Jagiellońska</td>\n",
              "      <td>trojmiasto</td>\n",
              "      <td>-1</td>\n",
              "      <td>-1</td>\n",
              "      <td>-1</td>\n",
              "      <td>-1</td>\n",
              "      <td>-1.0</td>\n",
              "      <td>-1</td>\n",
              "      <td>Balkon, Piwnica, Kuchnia</td>\n",
              "      <td>-1</td>\n",
              "    </tr>\n",
              "    <tr>\n",
              "      <th>3</th>\n",
              "      <td>-1</td>\n",
              "      <td>-1</td>\n",
              "      <td>-1</td>\n",
              "      <td>4</td>\n",
              "      <td>2017</td>\n",
              "      <td>-1</td>\n",
              "      <td>4</td>\n",
              "      <td>-1</td>\n",
              "      <td>-1</td>\n",
              "      <td>4</td>\n",
              "      <td>-1</td>\n",
              "      <td>172.60</td>\n",
              "      <td>-1</td>\n",
              "      <td>-1</td>\n",
              "      <td>Gdynia, Działki, Leśne, Nautikka</td>\n",
              "      <td>trojmiasto</td>\n",
              "      <td>-1</td>\n",
              "      <td>-1</td>\n",
              "      <td>-1</td>\n",
              "      <td>-1</td>\n",
              "      <td>-1.0</td>\n",
              "      <td>C. o. miejskie</td>\n",
              "      <td>Garaż, Winda, Taras, Miejsce parkingowe, Inter...</td>\n",
              "      <td>-1</td>\n",
              "    </tr>\n",
              "    <tr>\n",
              "      <th>4</th>\n",
              "      <td>brak</td>\n",
              "      <td>wtórny</td>\n",
              "      <td>-1</td>\n",
              "      <td>10</td>\n",
              "      <td>1970</td>\n",
              "      <td>Gdynia</td>\n",
              "      <td>3</td>\n",
              "      <td>-1</td>\n",
              "      <td>-1</td>\n",
              "      <td>10</td>\n",
              "      <td>-1</td>\n",
              "      <td>54.10</td>\n",
              "      <td>-1</td>\n",
              "      <td>-1</td>\n",
              "      <td>Gdynia, Chylonia, Lubawska</td>\n",
              "      <td>otodom</td>\n",
              "      <td>-1</td>\n",
              "      <td>Oferta biura nieruchomości</td>\n",
              "      <td>miejskie</td>\n",
              "      <td>0</td>\n",
              "      <td>-1.0</td>\n",
              "      <td>-1</td>\n",
              "      <td>-1</td>\n",
              "      <td>-1</td>\n",
              "    </tr>\n",
              "    <tr>\n",
              "      <th>...</th>\n",
              "      <td>...</td>\n",
              "      <td>...</td>\n",
              "      <td>...</td>\n",
              "      <td>...</td>\n",
              "      <td>...</td>\n",
              "      <td>...</td>\n",
              "      <td>...</td>\n",
              "      <td>...</td>\n",
              "      <td>...</td>\n",
              "      <td>...</td>\n",
              "      <td>...</td>\n",
              "      <td>...</td>\n",
              "      <td>...</td>\n",
              "      <td>...</td>\n",
              "      <td>...</td>\n",
              "      <td>...</td>\n",
              "      <td>...</td>\n",
              "      <td>...</td>\n",
              "      <td>...</td>\n",
              "      <td>...</td>\n",
              "      <td>...</td>\n",
              "      <td>...</td>\n",
              "      <td>...</td>\n",
              "      <td>...</td>\n",
              "    </tr>\n",
              "    <tr>\n",
              "      <th>22759</th>\n",
              "      <td>aneks</td>\n",
              "      <td>wtórny</td>\n",
              "      <td>-1</td>\n",
              "      <td>6</td>\n",
              "      <td>2020</td>\n",
              "      <td>Gdańsk</td>\n",
              "      <td>1</td>\n",
              "      <td>deweloperski</td>\n",
              "      <td>pszenna</td>\n",
              "      <td>2 / 6</td>\n",
              "      <td>apartamentowiec</td>\n",
              "      <td>42.70</td>\n",
              "      <td>śródmieście</td>\n",
              "      <td>własność</td>\n",
              "      <td>gdańsk, śródmieście, pszenna</td>\n",
              "      <td>morizon</td>\n",
              "      <td>mieszana</td>\n",
              "      <td>-1</td>\n",
              "      <td>-1</td>\n",
              "      <td>-1</td>\n",
              "      <td>-1.0</td>\n",
              "      <td>-1</td>\n",
              "      <td>-1</td>\n",
              "      <td>-1</td>\n",
              "    </tr>\n",
              "    <tr>\n",
              "      <th>22760</th>\n",
              "      <td>-1</td>\n",
              "      <td>-1</td>\n",
              "      <td>-1</td>\n",
              "      <td>4</td>\n",
              "      <td>1968</td>\n",
              "      <td>-1</td>\n",
              "      <td>3</td>\n",
              "      <td>-1</td>\n",
              "      <td>-1</td>\n",
              "      <td>4</td>\n",
              "      <td>-1</td>\n",
              "      <td>47.00</td>\n",
              "      <td>-1</td>\n",
              "      <td>-1</td>\n",
              "      <td>Gdańsk, Stogi, Stryjewskiego</td>\n",
              "      <td>trojmiasto</td>\n",
              "      <td>-1</td>\n",
              "      <td>-1</td>\n",
              "      <td>-1</td>\n",
              "      <td>-1</td>\n",
              "      <td>-1.0</td>\n",
              "      <td>Co</td>\n",
              "      <td>-1</td>\n",
              "      <td>-1</td>\n",
              "    </tr>\n",
              "    <tr>\n",
              "      <th>22761</th>\n",
              "      <td>-1</td>\n",
              "      <td>wtórny</td>\n",
              "      <td>-1</td>\n",
              "      <td>10</td>\n",
              "      <td>1978</td>\n",
              "      <td>Gdańsk</td>\n",
              "      <td>3</td>\n",
              "      <td>dozamieszkania</td>\n",
              "      <td>-1</td>\n",
              "      <td>0</td>\n",
              "      <td>blok</td>\n",
              "      <td>56.12</td>\n",
              "      <td>-1</td>\n",
              "      <td>-1</td>\n",
              "      <td>Gdańsk, Suchanino</td>\n",
              "      <td>otodom</td>\n",
              "      <td>-1</td>\n",
              "      <td>Oferta biura nieruchomości</td>\n",
              "      <td>miejskie</td>\n",
              "      <td>1</td>\n",
              "      <td>-1.0</td>\n",
              "      <td>-1</td>\n",
              "      <td>-1</td>\n",
              "      <td>-1</td>\n",
              "    </tr>\n",
              "    <tr>\n",
              "      <th>22762</th>\n",
              "      <td>aneks</td>\n",
              "      <td>pierwotny</td>\n",
              "      <td>-1</td>\n",
              "      <td>-1</td>\n",
              "      <td>2021</td>\n",
              "      <td>Gdynia</td>\n",
              "      <td>2</td>\n",
              "      <td>-1</td>\n",
              "      <td>masztowa 21</td>\n",
              "      <td>-1</td>\n",
              "      <td>apartamentowiec</td>\n",
              "      <td>51.93</td>\n",
              "      <td>chylonia</td>\n",
              "      <td>własność</td>\n",
              "      <td>gdynia, chylonia, masztowa 21</td>\n",
              "      <td>morizon</td>\n",
              "      <td>-1</td>\n",
              "      <td>-1</td>\n",
              "      <td>-1</td>\n",
              "      <td>-1</td>\n",
              "      <td>-1.0</td>\n",
              "      <td>-1</td>\n",
              "      <td>-1</td>\n",
              "      <td>-1</td>\n",
              "    </tr>\n",
              "    <tr>\n",
              "      <th>22763</th>\n",
              "      <td>-1</td>\n",
              "      <td>wtórny</td>\n",
              "      <td>tak</td>\n",
              "      <td>10</td>\n",
              "      <td>1970</td>\n",
              "      <td>Sopot</td>\n",
              "      <td>2</td>\n",
              "      <td>-1</td>\n",
              "      <td>wejherowska</td>\n",
              "      <td>8 / 10</td>\n",
              "      <td>blok mieszkalny</td>\n",
              "      <td>36.80</td>\n",
              "      <td>kamienny potok</td>\n",
              "      <td>-1</td>\n",
              "      <td>sopot, kamienny potok, wejherowska</td>\n",
              "      <td>morizon</td>\n",
              "      <td>-1</td>\n",
              "      <td>-1</td>\n",
              "      <td>-1</td>\n",
              "      <td>-1</td>\n",
              "      <td>-1.0</td>\n",
              "      <td>-1</td>\n",
              "      <td>-1</td>\n",
              "      <td>-1</td>\n",
              "    </tr>\n",
              "  </tbody>\n",
              "</table>\n",
              "<p>22764 rows × 24 columns</p>\n",
              "</div>"
            ],
            "text/plain": [
              "      kuchnia  ... ulica_i_nr\n",
              "0          -1  ...         -1\n",
              "1        brak  ...         -1\n",
              "2          -1  ...         -1\n",
              "3          -1  ...         -1\n",
              "4        brak  ...         -1\n",
              "...       ...  ...        ...\n",
              "22759   aneks  ...         -1\n",
              "22760      -1  ...         -1\n",
              "22761      -1  ...         -1\n",
              "22762   aneks  ...         -1\n",
              "22763      -1  ...         -1\n",
              "\n",
              "[22764 rows x 24 columns]"
            ]
          },
          "metadata": {
            "tags": []
          },
          "execution_count": 9
        }
      ]
    },
    {
      "cell_type": "code",
      "metadata": {
        "id": "l33mMrwTq6xD",
        "colab_type": "code",
        "colab": {
          "base_uri": "https://localhost:8080/",
          "height": 538
        },
        "outputId": "36b9551f-59a2-47f9-c3e8-e364a7c15c2f"
      },
      "source": [
        "df_combined.info()"
      ],
      "execution_count": 10,
      "outputs": [
        {
          "output_type": "stream",
          "text": [
            "<class 'pandas.core.frame.DataFrame'>\n",
            "RangeIndex: 22764 entries, 0 to 22763\n",
            "Data columns (total 24 columns):\n",
            " #   Column                 Non-Null Count  Dtype  \n",
            "---  ------                 --------------  -----  \n",
            " 0   kuchnia                22764 non-null  object \n",
            " 1   rynek                  22764 non-null  object \n",
            " 2   balkon                 22764 non-null  object \n",
            " 3   liczba_pieter_budynku  22764 non-null  int64  \n",
            " 4   rok_budowy             22764 non-null  int64  \n",
            " 5   miasto                 22764 non-null  object \n",
            " 6   liczba_pokoi           22764 non-null  int64  \n",
            " 7   wykonczenie            22764 non-null  object \n",
            " 8   ulica                  22764 non-null  object \n",
            " 9   pietro                 22764 non-null  object \n",
            " 10  rodzaj_zabudowy        22764 non-null  object \n",
            " 11  powierzchnia           22764 non-null  float64\n",
            " 12  dzielnica              22764 non-null  object \n",
            " 13  forma-wlasnosci        22764 non-null  object \n",
            " 14  adres                  22762 non-null  object \n",
            " 15  serwis                 22764 non-null  object \n",
            " 16  material_budynku       22764 non-null  object \n",
            " 17  oferta                 22764 non-null  object \n",
            " 18  ogrzewanie             22764 non-null  object \n",
            " 19  winda                  22764 non-null  int64  \n",
            " 20  czynsz                 22764 non-null  float64\n",
            " 21  typ_ogrzewania         22764 non-null  object \n",
            " 22  dodatkowe_informacje   22764 non-null  object \n",
            " 23  ulica_i_nr             22764 non-null  object \n",
            "dtypes: float64(2), int64(4), object(18)\n",
            "memory usage: 4.2+ MB\n"
          ],
          "name": "stdout"
        }
      ]
    },
    {
      "cell_type": "markdown",
      "metadata": {
        "id": "B2KCREe-xktX",
        "colab_type": "text"
      },
      "source": [
        "### Fill in missing values"
      ]
    },
    {
      "cell_type": "code",
      "metadata": {
        "id": "CmpQZrGXrS4m",
        "colab_type": "code",
        "colab": {
          "base_uri": "https://localhost:8080/",
          "height": 774
        },
        "outputId": "1c3cd529-1c5c-41e2-e37e-2758f8577b23"
      },
      "source": [
        "df_combined.fillna(\"-1\")"
      ],
      "execution_count": 11,
      "outputs": [
        {
          "output_type": "execute_result",
          "data": {
            "text/html": [
              "<div>\n",
              "<style scoped>\n",
              "    .dataframe tbody tr th:only-of-type {\n",
              "        vertical-align: middle;\n",
              "    }\n",
              "\n",
              "    .dataframe tbody tr th {\n",
              "        vertical-align: top;\n",
              "    }\n",
              "\n",
              "    .dataframe thead th {\n",
              "        text-align: right;\n",
              "    }\n",
              "</style>\n",
              "<table border=\"1\" class=\"dataframe\">\n",
              "  <thead>\n",
              "    <tr style=\"text-align: right;\">\n",
              "      <th></th>\n",
              "      <th>kuchnia</th>\n",
              "      <th>rynek</th>\n",
              "      <th>balkon</th>\n",
              "      <th>liczba_pieter_budynku</th>\n",
              "      <th>rok_budowy</th>\n",
              "      <th>miasto</th>\n",
              "      <th>liczba_pokoi</th>\n",
              "      <th>wykonczenie</th>\n",
              "      <th>ulica</th>\n",
              "      <th>pietro</th>\n",
              "      <th>rodzaj_zabudowy</th>\n",
              "      <th>powierzchnia</th>\n",
              "      <th>dzielnica</th>\n",
              "      <th>forma-wlasnosci</th>\n",
              "      <th>adres</th>\n",
              "      <th>serwis</th>\n",
              "      <th>material_budynku</th>\n",
              "      <th>oferta</th>\n",
              "      <th>ogrzewanie</th>\n",
              "      <th>winda</th>\n",
              "      <th>czynsz</th>\n",
              "      <th>typ_ogrzewania</th>\n",
              "      <th>dodatkowe_informacje</th>\n",
              "      <th>ulica_i_nr</th>\n",
              "    </tr>\n",
              "  </thead>\n",
              "  <tbody>\n",
              "    <tr>\n",
              "      <th>0</th>\n",
              "      <td>-1</td>\n",
              "      <td>-1</td>\n",
              "      <td>-1</td>\n",
              "      <td>5</td>\n",
              "      <td>2005</td>\n",
              "      <td>-1</td>\n",
              "      <td>2</td>\n",
              "      <td>-1</td>\n",
              "      <td>-1</td>\n",
              "      <td>3</td>\n",
              "      <td>-1</td>\n",
              "      <td>50.00</td>\n",
              "      <td>-1</td>\n",
              "      <td>-1</td>\n",
              "      <td>Gdynia, Grabówek, Morska</td>\n",
              "      <td>trojmiasto</td>\n",
              "      <td>-1</td>\n",
              "      <td>-1</td>\n",
              "      <td>-1</td>\n",
              "      <td>-1</td>\n",
              "      <td>-1.0</td>\n",
              "      <td>-1</td>\n",
              "      <td>Garaż, Winda, Kuchnia</td>\n",
              "      <td>-1</td>\n",
              "    </tr>\n",
              "    <tr>\n",
              "      <th>1</th>\n",
              "      <td>brak</td>\n",
              "      <td>wtórny</td>\n",
              "      <td>-1</td>\n",
              "      <td>3</td>\n",
              "      <td>2020</td>\n",
              "      <td>Gdynia</td>\n",
              "      <td>2</td>\n",
              "      <td>dowykończenia</td>\n",
              "      <td>-1</td>\n",
              "      <td>2</td>\n",
              "      <td>blok</td>\n",
              "      <td>39.72</td>\n",
              "      <td>-1</td>\n",
              "      <td>-1</td>\n",
              "      <td>Gdynia, Obłuże</td>\n",
              "      <td>otodom</td>\n",
              "      <td>pustak</td>\n",
              "      <td>Oferta biura nieruchomości</td>\n",
              "      <td>miejskie</td>\n",
              "      <td>0</td>\n",
              "      <td>200.0</td>\n",
              "      <td>-1</td>\n",
              "      <td>-1</td>\n",
              "      <td>-1</td>\n",
              "    </tr>\n",
              "    <tr>\n",
              "      <th>2</th>\n",
              "      <td>-1</td>\n",
              "      <td>-1</td>\n",
              "      <td>-1</td>\n",
              "      <td>4</td>\n",
              "      <td>1970</td>\n",
              "      <td>-1</td>\n",
              "      <td>3</td>\n",
              "      <td>-1</td>\n",
              "      <td>-1</td>\n",
              "      <td>2</td>\n",
              "      <td>-1</td>\n",
              "      <td>54.00</td>\n",
              "      <td>-1</td>\n",
              "      <td>-1</td>\n",
              "      <td>Gdańsk, Przymorze, Jagiellońska</td>\n",
              "      <td>trojmiasto</td>\n",
              "      <td>-1</td>\n",
              "      <td>-1</td>\n",
              "      <td>-1</td>\n",
              "      <td>-1</td>\n",
              "      <td>-1.0</td>\n",
              "      <td>-1</td>\n",
              "      <td>Balkon, Piwnica, Kuchnia</td>\n",
              "      <td>-1</td>\n",
              "    </tr>\n",
              "    <tr>\n",
              "      <th>3</th>\n",
              "      <td>-1</td>\n",
              "      <td>-1</td>\n",
              "      <td>-1</td>\n",
              "      <td>4</td>\n",
              "      <td>2017</td>\n",
              "      <td>-1</td>\n",
              "      <td>4</td>\n",
              "      <td>-1</td>\n",
              "      <td>-1</td>\n",
              "      <td>4</td>\n",
              "      <td>-1</td>\n",
              "      <td>172.60</td>\n",
              "      <td>-1</td>\n",
              "      <td>-1</td>\n",
              "      <td>Gdynia, Działki, Leśne, Nautikka</td>\n",
              "      <td>trojmiasto</td>\n",
              "      <td>-1</td>\n",
              "      <td>-1</td>\n",
              "      <td>-1</td>\n",
              "      <td>-1</td>\n",
              "      <td>-1.0</td>\n",
              "      <td>C. o. miejskie</td>\n",
              "      <td>Garaż, Winda, Taras, Miejsce parkingowe, Inter...</td>\n",
              "      <td>-1</td>\n",
              "    </tr>\n",
              "    <tr>\n",
              "      <th>4</th>\n",
              "      <td>brak</td>\n",
              "      <td>wtórny</td>\n",
              "      <td>-1</td>\n",
              "      <td>10</td>\n",
              "      <td>1970</td>\n",
              "      <td>Gdynia</td>\n",
              "      <td>3</td>\n",
              "      <td>-1</td>\n",
              "      <td>-1</td>\n",
              "      <td>10</td>\n",
              "      <td>-1</td>\n",
              "      <td>54.10</td>\n",
              "      <td>-1</td>\n",
              "      <td>-1</td>\n",
              "      <td>Gdynia, Chylonia, Lubawska</td>\n",
              "      <td>otodom</td>\n",
              "      <td>-1</td>\n",
              "      <td>Oferta biura nieruchomości</td>\n",
              "      <td>miejskie</td>\n",
              "      <td>0</td>\n",
              "      <td>-1.0</td>\n",
              "      <td>-1</td>\n",
              "      <td>-1</td>\n",
              "      <td>-1</td>\n",
              "    </tr>\n",
              "    <tr>\n",
              "      <th>...</th>\n",
              "      <td>...</td>\n",
              "      <td>...</td>\n",
              "      <td>...</td>\n",
              "      <td>...</td>\n",
              "      <td>...</td>\n",
              "      <td>...</td>\n",
              "      <td>...</td>\n",
              "      <td>...</td>\n",
              "      <td>...</td>\n",
              "      <td>...</td>\n",
              "      <td>...</td>\n",
              "      <td>...</td>\n",
              "      <td>...</td>\n",
              "      <td>...</td>\n",
              "      <td>...</td>\n",
              "      <td>...</td>\n",
              "      <td>...</td>\n",
              "      <td>...</td>\n",
              "      <td>...</td>\n",
              "      <td>...</td>\n",
              "      <td>...</td>\n",
              "      <td>...</td>\n",
              "      <td>...</td>\n",
              "      <td>...</td>\n",
              "    </tr>\n",
              "    <tr>\n",
              "      <th>22759</th>\n",
              "      <td>aneks</td>\n",
              "      <td>wtórny</td>\n",
              "      <td>-1</td>\n",
              "      <td>6</td>\n",
              "      <td>2020</td>\n",
              "      <td>Gdańsk</td>\n",
              "      <td>1</td>\n",
              "      <td>deweloperski</td>\n",
              "      <td>pszenna</td>\n",
              "      <td>2 / 6</td>\n",
              "      <td>apartamentowiec</td>\n",
              "      <td>42.70</td>\n",
              "      <td>śródmieście</td>\n",
              "      <td>własność</td>\n",
              "      <td>gdańsk, śródmieście, pszenna</td>\n",
              "      <td>morizon</td>\n",
              "      <td>mieszana</td>\n",
              "      <td>-1</td>\n",
              "      <td>-1</td>\n",
              "      <td>-1</td>\n",
              "      <td>-1.0</td>\n",
              "      <td>-1</td>\n",
              "      <td>-1</td>\n",
              "      <td>-1</td>\n",
              "    </tr>\n",
              "    <tr>\n",
              "      <th>22760</th>\n",
              "      <td>-1</td>\n",
              "      <td>-1</td>\n",
              "      <td>-1</td>\n",
              "      <td>4</td>\n",
              "      <td>1968</td>\n",
              "      <td>-1</td>\n",
              "      <td>3</td>\n",
              "      <td>-1</td>\n",
              "      <td>-1</td>\n",
              "      <td>4</td>\n",
              "      <td>-1</td>\n",
              "      <td>47.00</td>\n",
              "      <td>-1</td>\n",
              "      <td>-1</td>\n",
              "      <td>Gdańsk, Stogi, Stryjewskiego</td>\n",
              "      <td>trojmiasto</td>\n",
              "      <td>-1</td>\n",
              "      <td>-1</td>\n",
              "      <td>-1</td>\n",
              "      <td>-1</td>\n",
              "      <td>-1.0</td>\n",
              "      <td>Co</td>\n",
              "      <td>-1</td>\n",
              "      <td>-1</td>\n",
              "    </tr>\n",
              "    <tr>\n",
              "      <th>22761</th>\n",
              "      <td>-1</td>\n",
              "      <td>wtórny</td>\n",
              "      <td>-1</td>\n",
              "      <td>10</td>\n",
              "      <td>1978</td>\n",
              "      <td>Gdańsk</td>\n",
              "      <td>3</td>\n",
              "      <td>dozamieszkania</td>\n",
              "      <td>-1</td>\n",
              "      <td>0</td>\n",
              "      <td>blok</td>\n",
              "      <td>56.12</td>\n",
              "      <td>-1</td>\n",
              "      <td>-1</td>\n",
              "      <td>Gdańsk, Suchanino</td>\n",
              "      <td>otodom</td>\n",
              "      <td>-1</td>\n",
              "      <td>Oferta biura nieruchomości</td>\n",
              "      <td>miejskie</td>\n",
              "      <td>1</td>\n",
              "      <td>-1.0</td>\n",
              "      <td>-1</td>\n",
              "      <td>-1</td>\n",
              "      <td>-1</td>\n",
              "    </tr>\n",
              "    <tr>\n",
              "      <th>22762</th>\n",
              "      <td>aneks</td>\n",
              "      <td>pierwotny</td>\n",
              "      <td>-1</td>\n",
              "      <td>-1</td>\n",
              "      <td>2021</td>\n",
              "      <td>Gdynia</td>\n",
              "      <td>2</td>\n",
              "      <td>-1</td>\n",
              "      <td>masztowa 21</td>\n",
              "      <td>-1</td>\n",
              "      <td>apartamentowiec</td>\n",
              "      <td>51.93</td>\n",
              "      <td>chylonia</td>\n",
              "      <td>własność</td>\n",
              "      <td>gdynia, chylonia, masztowa 21</td>\n",
              "      <td>morizon</td>\n",
              "      <td>-1</td>\n",
              "      <td>-1</td>\n",
              "      <td>-1</td>\n",
              "      <td>-1</td>\n",
              "      <td>-1.0</td>\n",
              "      <td>-1</td>\n",
              "      <td>-1</td>\n",
              "      <td>-1</td>\n",
              "    </tr>\n",
              "    <tr>\n",
              "      <th>22763</th>\n",
              "      <td>-1</td>\n",
              "      <td>wtórny</td>\n",
              "      <td>tak</td>\n",
              "      <td>10</td>\n",
              "      <td>1970</td>\n",
              "      <td>Sopot</td>\n",
              "      <td>2</td>\n",
              "      <td>-1</td>\n",
              "      <td>wejherowska</td>\n",
              "      <td>8 / 10</td>\n",
              "      <td>blok mieszkalny</td>\n",
              "      <td>36.80</td>\n",
              "      <td>kamienny potok</td>\n",
              "      <td>-1</td>\n",
              "      <td>sopot, kamienny potok, wejherowska</td>\n",
              "      <td>morizon</td>\n",
              "      <td>-1</td>\n",
              "      <td>-1</td>\n",
              "      <td>-1</td>\n",
              "      <td>-1</td>\n",
              "      <td>-1.0</td>\n",
              "      <td>-1</td>\n",
              "      <td>-1</td>\n",
              "      <td>-1</td>\n",
              "    </tr>\n",
              "  </tbody>\n",
              "</table>\n",
              "<p>22764 rows × 24 columns</p>\n",
              "</div>"
            ],
            "text/plain": [
              "      kuchnia  ... ulica_i_nr\n",
              "0          -1  ...         -1\n",
              "1        brak  ...         -1\n",
              "2          -1  ...         -1\n",
              "3          -1  ...         -1\n",
              "4        brak  ...         -1\n",
              "...       ...  ...        ...\n",
              "22759   aneks  ...         -1\n",
              "22760      -1  ...         -1\n",
              "22761      -1  ...         -1\n",
              "22762   aneks  ...         -1\n",
              "22763      -1  ...         -1\n",
              "\n",
              "[22764 rows x 24 columns]"
            ]
          },
          "metadata": {
            "tags": []
          },
          "execution_count": 11
        }
      ]
    },
    {
      "cell_type": "markdown",
      "metadata": {
        "id": "ktzktzpVxt9X",
        "colab_type": "text"
      },
      "source": [
        "### Transform floor number feature"
      ]
    },
    {
      "cell_type": "code",
      "metadata": {
        "id": "tlpTq5hdrevu",
        "colab_type": "code",
        "colab": {
          "base_uri": "https://localhost:8080/",
          "height": 538
        },
        "outputId": "7c751383-5010-42ac-879c-9fdf84339ade"
      },
      "source": [
        "df_combined.pietro.value_counts()[:30]"
      ],
      "execution_count": 12,
      "outputs": [
        {
          "output_type": "execute_result",
          "data": {
            "text/plain": [
              "1              4347\n",
              "2              3341\n",
              "3              3129\n",
              "4              1882\n",
              "Parter         1871\n",
              "0              1454\n",
              "5               671\n",
              "6               389\n",
              "3 / 3           305\n",
              "3 / 4           282\n",
              "parter / 3      276\n",
              "2 / 3           271\n",
              "1 / 3           268\n",
              "1 / 4           265\n",
              "4 / 4           232\n",
              "10              218\n",
              "8               204\n",
              "7               201\n",
              "2 / 4           200\n",
              "9               192\n",
              "parter / 4      188\n",
              "1 / 2           181\n",
              "-1              177\n",
              "parter / 2      173\n",
              "2 / 2           155\n",
              "11              123\n",
              "4 / 5            61\n",
              "1 / 5            60\n",
              "1 / 6            54\n",
              "1 / 1            54\n",
              "Name: pietro, dtype: int64"
            ]
          },
          "metadata": {
            "tags": []
          },
          "execution_count": 12
        }
      ]
    },
    {
      "cell_type": "code",
      "metadata": {
        "id": "3PuLoVinrypj",
        "colab_type": "code",
        "colab": {
          "base_uri": "https://localhost:8080/",
          "height": 34
        },
        "outputId": "92a34c2c-1a50-49a8-f511-268450a8e292"
      },
      "source": [
        "def clean_pietro(x):\n",
        "  try:\n",
        "    splitted = x.split('/')[0].strip().lower()\n",
        "  except Exception:\n",
        "    splitted = x.lower()\n",
        "  if splitted == 'parter':\n",
        "    splitted = '0'\n",
        "  return int(splitted)\n",
        "clean_pietro('parter / 4')"
      ],
      "execution_count": 13,
      "outputs": [
        {
          "output_type": "execute_result",
          "data": {
            "text/plain": [
              "0"
            ]
          },
          "metadata": {
            "tags": []
          },
          "execution_count": 13
        }
      ]
    },
    {
      "cell_type": "code",
      "metadata": {
        "id": "ynLGV2zpsw9P",
        "colab_type": "code",
        "colab": {
          "base_uri": "https://localhost:8080/",
          "height": 386
        },
        "outputId": "2a2e64d6-5d03-4537-a7bd-60ea3d2d9d2e"
      },
      "source": [
        "df_combined.pietro= df_combined.pietro.apply(lambda x: clean_pietro(x))\n",
        "df_combined.pietro.value_counts()"
      ],
      "execution_count": 14,
      "outputs": [
        {
          "output_type": "execute_result",
          "data": {
            "text/plain": [
              " 1     5357\n",
              " 2     4156\n",
              " 0     4142\n",
              " 3     3893\n",
              " 4     2284\n",
              " 5      824\n",
              " 6      494\n",
              " 10     272\n",
              " 8      257\n",
              " 7      257\n",
              " 9      233\n",
              "-1      177\n",
              " 11     148\n",
              " 17      60\n",
              " 12      51\n",
              " 15      45\n",
              " 14      40\n",
              " 16      39\n",
              " 13      20\n",
              " 18      13\n",
              " 25       2\n",
              "Name: pietro, dtype: int64"
            ]
          },
          "metadata": {
            "tags": []
          },
          "execution_count": 14
        }
      ]
    },
    {
      "cell_type": "code",
      "metadata": {
        "id": "v5iTgl6ctdaw",
        "colab_type": "code",
        "colab": {
          "base_uri": "https://localhost:8080/",
          "height": 487
        },
        "outputId": "08bb2033-1ae5-4ee3-dede-26096f2694c1"
      },
      "source": [
        "df_combined.liczba_pieter_budynku.value_counts()"
      ],
      "execution_count": 15,
      "outputs": [
        {
          "output_type": "execute_result",
          "data": {
            "text/plain": [
              " 4     6359\n",
              " 3     6072\n",
              " 2     2525\n",
              " 10    1745\n",
              " 5     1517\n",
              " 6      866\n",
              " 1      561\n",
              " 17     560\n",
              " 7      463\n",
              " 8      446\n",
              "-1      374\n",
              " 11     295\n",
              " 12     251\n",
              " 9      214\n",
              " 0      214\n",
              " 16     110\n",
              " 18      92\n",
              " 13      38\n",
              " 15      25\n",
              " 19       7\n",
              " 20       6\n",
              " 24       6\n",
              " 25       4\n",
              " 28       4\n",
              " 14       4\n",
              " 29       3\n",
              " 23       3\n",
              "Name: liczba_pieter_budynku, dtype: int64"
            ]
          },
          "metadata": {
            "tags": []
          },
          "execution_count": 15
        }
      ]
    },
    {
      "cell_type": "markdown",
      "metadata": {
        "id": "iEyke0sYx6dv",
        "colab_type": "text"
      },
      "source": [
        "### Create new, merged heating column based on two other columns"
      ]
    },
    {
      "cell_type": "code",
      "metadata": {
        "id": "tPnQ0ABft6tY",
        "colab_type": "code",
        "colab": {
          "base_uri": "https://localhost:8080/",
          "height": 218
        },
        "outputId": "05b7ab63-bce2-49a1-c09d-c78786089254"
      },
      "source": [
        "df_combined[\"ogrzewanie_merged\"] = df_combined.ogrzewanie + df_combined.typ_ogrzewania\n",
        "df_combined[\"ogrzewanie_merged\"].value_counts()"
      ],
      "execution_count": 16,
      "outputs": [
        {
          "output_type": "execute_result",
          "data": {
            "text/plain": [
              "-1-1                11886\n",
              "-1Co miejskie        3380\n",
              "miejskie-1           3116\n",
              "-1C. o. miejskie     1180\n",
              "-1Miejskie            824\n",
              "                    ...  \n",
              "-1Piec                  2\n",
              "-1Gazowa                1\n",
              "-1Miejskie c. o.        1\n",
              "piecekaflowe-1          1\n",
              "-1Ec                    1\n",
              "Name: ogrzewanie_merged, Length: 71, dtype: int64"
            ]
          },
          "metadata": {
            "tags": []
          },
          "execution_count": 16
        }
      ]
    },
    {
      "cell_type": "code",
      "metadata": {
        "id": "SXLBR10ius6I",
        "colab_type": "code",
        "colab": {
          "base_uri": "https://localhost:8080/",
          "height": 218
        },
        "outputId": "279d7bba-17fd-480a-bddd-f243683a7fae"
      },
      "source": [
        "df_combined.ogrzewanie_merged =df_combined.ogrzewanie_merged.str.replace(\"-1-1\",\"nan\")\n",
        "df_combined.ogrzewanie_merged =df_combined.ogrzewanie_merged.str.replace(\"-1\",\"\")\n",
        "df_combined[\"ogrzewanie_merged\"].value_counts()"
      ],
      "execution_count": 17,
      "outputs": [
        {
          "output_type": "execute_result",
          "data": {
            "text/plain": [
              "nan                         11886\n",
              "Co miejskie                  3380\n",
              "miejskie                     3116\n",
              "C. o. miejskie               1180\n",
              "Miejskie                      824\n",
              "                            ...  \n",
              "Centralne ze spółdzielni        2\n",
              "Gazowa                          1\n",
              "piecekaflowe                    1\n",
              "Miejskie c. o.                  1\n",
              "Ec                              1\n",
              "Name: ogrzewanie_merged, Length: 71, dtype: int64"
            ]
          },
          "metadata": {
            "tags": []
          },
          "execution_count": 17
        }
      ]
    },
    {
      "cell_type": "code",
      "metadata": {
        "id": "LRdjWqT5u7uY",
        "colab_type": "code",
        "colab": {
          "base_uri": "https://localhost:8080/",
          "height": 218
        },
        "outputId": "51294baa-99a2-4125-9c82-41f35c20fe85"
      },
      "source": [
        "df_combined.ogrzewanie_merged = df_combined.ogrzewanie_merged.str.lower()\n",
        "df_combined[\"ogrzewanie_merged\"].value_counts()"
      ],
      "execution_count": 18,
      "outputs": [
        {
          "output_type": "execute_result",
          "data": {
            "text/plain": [
              "nan               11886\n",
              "miejskie           3940\n",
              "co miejskie        3380\n",
              "gazowe             1211\n",
              "c. o. miejskie     1180\n",
              "                  ...  \n",
              "logotermy             2\n",
              "gazowa                1\n",
              "miejskie c. o.        1\n",
              "piecekaflowe          1\n",
              "ec                    1\n",
              "Name: ogrzewanie_merged, Length: 66, dtype: int64"
            ]
          },
          "metadata": {
            "tags": []
          },
          "execution_count": 18
        }
      ]
    },
    {
      "cell_type": "code",
      "metadata": {
        "id": "UjOvgzwOvuUg",
        "colab_type": "code",
        "colab": {
          "base_uri": "https://localhost:8080/",
          "height": 638
        },
        "outputId": "a0bb07be-95f2-40bf-a84e-f6e33de55cc4"
      },
      "source": [
        "df_combined.ogrzewanie_merged = df_combined.ogrzewanie_merged.apply(lambda x: \"miejskie\" if 'miejskie' in x else x)\n",
        "df_combined.ogrzewanie_merged = df_combined.ogrzewanie_merged.apply(lambda x: \"miejskie\" if 'miejski' in x else x)\n",
        "df_combined.ogrzewanie_merged = df_combined.ogrzewanie_merged.apply(lambda x: \"gazowe\" if 'gaz' in x else x)\n",
        "df_combined.ogrzewanie_merged = df_combined.ogrzewanie_merged.apply(lambda x: \"elektryczne\" if 'elektryczne' in x else x)\n",
        "df_combined.ogrzewanie_merged = df_combined.ogrzewanie_merged.apply(lambda x: \"-1\" if 'nan' in x else x)\n",
        "df_combined[\"ogrzewanie_merged\"].value_counts()"
      ],
      "execution_count": 19,
      "outputs": [
        {
          "output_type": "execute_result",
          "data": {
            "text/plain": [
              "-1                                                  11888\n",
              "miejskie                                             8665\n",
              "gazowe                                               1267\n",
              "elektryczne                                           226\n",
              "centralne                                             174\n",
              "co własne                                             166\n",
              "inne                                                  135\n",
              "co                                                     64\n",
              "c. o.                                                  46\n",
              "kotłownia                                              41\n",
              "kotłownia lokalna                                      22\n",
              "pompa ciepła                                            8\n",
              "kominkowe                                               6\n",
              "c. o                                                    6\n",
              "centralne ogrzewanie                                    5\n",
              "własne co                                               4\n",
              "etażowe                                                 4\n",
              "brak                                                    3\n",
              "sieć miejska                                            2\n",
              "c. o. z sieci lokalnej                                  2\n",
              "cen                                                     2\n",
              "oc                                                      2\n",
              "centr                                                   2\n",
              "piec                                                    2\n",
              "centralne ze spółdzielni                                2\n",
              "centralne-kotłownia                                     2\n",
              "logotermy                                               2\n",
              "podłogowe                                               2\n",
              "węglowe                                                 2\n",
              "centralne ogrzewanie z kotłowni opec sp. z o. o.        2\n",
              "kotłownia w bloku                                       2\n",
              "centralny                                               2\n",
              "miasto                                                  2\n",
              "miejske                                                 2\n",
              "ec                                                      1\n",
              "piecekaflowe                                            1\n",
              "Name: ogrzewanie_merged, dtype: int64"
            ]
          },
          "metadata": {
            "tags": []
          },
          "execution_count": 19
        }
      ]
    },
    {
      "cell_type": "markdown",
      "metadata": {
        "id": "npN6u6bYyHHJ",
        "colab_type": "text"
      },
      "source": [
        "### Create numerical features from categorical feats."
      ]
    },
    {
      "cell_type": "code",
      "metadata": {
        "id": "mI6RYWnBwVo1",
        "colab_type": "code",
        "colab": {
          "base_uri": "https://localhost:8080/",
          "height": 101
        },
        "outputId": "43406df6-d92d-48e5-a058-2c0170993712"
      },
      "source": [
        "df_combined.select_dtypes('object').columns"
      ],
      "execution_count": 20,
      "outputs": [
        {
          "output_type": "execute_result",
          "data": {
            "text/plain": [
              "Index(['kuchnia', 'rynek', 'balkon', 'miasto', 'wykonczenie', 'ulica',\n",
              "       'rodzaj_zabudowy', 'dzielnica', 'forma-wlasnosci', 'adres', 'serwis',\n",
              "       'material_budynku', 'oferta', 'ogrzewanie', 'typ_ogrzewania',\n",
              "       'dodatkowe_informacje', 'ulica_i_nr', 'ogrzewanie_merged'],\n",
              "      dtype='object')"
            ]
          },
          "metadata": {
            "tags": []
          },
          "execution_count": 20
        }
      ]
    },
    {
      "cell_type": "code",
      "metadata": {
        "id": "cqCcpwcEx2by",
        "colab_type": "code",
        "colab": {
          "base_uri": "https://localhost:8080/",
          "height": 790
        },
        "outputId": "dfeea8a3-e94b-4eca-ad3f-e8a37e13eee2"
      },
      "source": [
        "cat_feats = ['kuchnia', \n",
        "             'rynek', \n",
        "             'balkon', \n",
        "             'miasto', \n",
        "             'wykonczenie', \n",
        "             'ulica',\n",
        "             'rodzaj_zabudowy', \n",
        "             'dzielnica', \n",
        "             'forma-wlasnosci', \n",
        "             'adres', \n",
        "             'material_budynku', \n",
        "             'oferta', \n",
        "            #  'dodatkowe_informacje', - lots of inconsistent values there\n",
        "             'ulica_i_nr', \n",
        "             'ogrzewanie_merged']\n",
        "\n",
        "def make_cat_feat(df, feat):\n",
        "  df[feat + \"_cat\"] = df[feat].factorize()[0]\n",
        "\n",
        "for i in cat_feats:\n",
        "  make_cat_feat(df_combined, i)\n",
        "df_combined.info()"
      ],
      "execution_count": 21,
      "outputs": [
        {
          "output_type": "stream",
          "text": [
            "<class 'pandas.core.frame.DataFrame'>\n",
            "RangeIndex: 22764 entries, 0 to 22763\n",
            "Data columns (total 39 columns):\n",
            " #   Column                 Non-Null Count  Dtype  \n",
            "---  ------                 --------------  -----  \n",
            " 0   kuchnia                22764 non-null  object \n",
            " 1   rynek                  22764 non-null  object \n",
            " 2   balkon                 22764 non-null  object \n",
            " 3   liczba_pieter_budynku  22764 non-null  int64  \n",
            " 4   rok_budowy             22764 non-null  int64  \n",
            " 5   miasto                 22764 non-null  object \n",
            " 6   liczba_pokoi           22764 non-null  int64  \n",
            " 7   wykonczenie            22764 non-null  object \n",
            " 8   ulica                  22764 non-null  object \n",
            " 9   pietro                 22764 non-null  int64  \n",
            " 10  rodzaj_zabudowy        22764 non-null  object \n",
            " 11  powierzchnia           22764 non-null  float64\n",
            " 12  dzielnica              22764 non-null  object \n",
            " 13  forma-wlasnosci        22764 non-null  object \n",
            " 14  adres                  22762 non-null  object \n",
            " 15  serwis                 22764 non-null  object \n",
            " 16  material_budynku       22764 non-null  object \n",
            " 17  oferta                 22764 non-null  object \n",
            " 18  ogrzewanie             22764 non-null  object \n",
            " 19  winda                  22764 non-null  int64  \n",
            " 20  czynsz                 22764 non-null  float64\n",
            " 21  typ_ogrzewania         22764 non-null  object \n",
            " 22  dodatkowe_informacje   22764 non-null  object \n",
            " 23  ulica_i_nr             22764 non-null  object \n",
            " 24  ogrzewanie_merged      22764 non-null  object \n",
            " 25  kuchnia_cat            22764 non-null  int64  \n",
            " 26  rynek_cat              22764 non-null  int64  \n",
            " 27  balkon_cat             22764 non-null  int64  \n",
            " 28  miasto_cat             22764 non-null  int64  \n",
            " 29  wykonczenie_cat        22764 non-null  int64  \n",
            " 30  ulica_cat              22764 non-null  int64  \n",
            " 31  rodzaj_zabudowy_cat    22764 non-null  int64  \n",
            " 32  dzielnica_cat          22764 non-null  int64  \n",
            " 33  forma-wlasnosci_cat    22764 non-null  int64  \n",
            " 34  adres_cat              22764 non-null  int64  \n",
            " 35  material_budynku_cat   22764 non-null  int64  \n",
            " 36  oferta_cat             22764 non-null  int64  \n",
            " 37  ulica_i_nr_cat         22764 non-null  int64  \n",
            " 38  ogrzewanie_merged_cat  22764 non-null  int64  \n",
            "dtypes: float64(2), int64(19), object(18)\n",
            "memory usage: 6.8+ MB\n"
          ],
          "name": "stdout"
        }
      ]
    },
    {
      "cell_type": "markdown",
      "metadata": {
        "id": "oSYi21Mpy174",
        "colab_type": "text"
      },
      "source": [
        "### Normalize chosen feats"
      ]
    },
    {
      "cell_type": "code",
      "metadata": {
        "id": "nFIaXBL6y2gQ",
        "colab_type": "code",
        "colab": {}
      },
      "source": [
        "df_numerical_feats = df_combined.select_dtypes(np.number)\n",
        "df_numerical_feats = (df_numerical_feats-df_numerical_feats.mean())/df_numerical_feats.std()"
      ],
      "execution_count": 22,
      "outputs": []
    },
    {
      "cell_type": "markdown",
      "metadata": {
        "id": "woeeJpo7NSKr",
        "colab_type": "text"
      },
      "source": [
        "### Split data back for training and testing."
      ]
    },
    {
      "cell_type": "code",
      "metadata": {
        "id": "Xb8LpYVgPAYd",
        "colab_type": "code",
        "colab": {
          "base_uri": "https://localhost:8080/",
          "height": 34
        },
        "outputId": "b4cd993f-370c-4986-92f8-8e3349d6adf6"
      },
      "source": [
        "x_train = df_numerical_feats.loc[:13657].values\n",
        "x_val = df_numerical_feats.loc[13658:13658+4553-1].values\n",
        "x_test = df_numerical_feats.loc[13658+4553:].values\n",
        "x_train.shape, x_val.shape, x_test.shape"
      ],
      "execution_count": 23,
      "outputs": [
        {
          "output_type": "execute_result",
          "data": {
            "text/plain": [
              "((13658, 21), (4553, 21), (4553, 21))"
            ]
          },
          "metadata": {
            "tags": []
          },
          "execution_count": 23
        }
      ]
    },
    {
      "cell_type": "markdown",
      "metadata": {
        "id": "affmCYuvy-zI",
        "colab_type": "text"
      },
      "source": [
        "## MLP using Keras"
      ]
    },
    {
      "cell_type": "code",
      "metadata": {
        "id": "eDXpFZ2fzGZQ",
        "colab_type": "code",
        "colab": {
          "base_uri": "https://localhost:8080/",
          "height": 34
        },
        "outputId": "c8896dcd-db10-4938-90ec-99371daf6e32"
      },
      "source": [
        "import tensorflow as tf\n",
        "from keras import backend as K\n",
        "from tensorflow.keras.models import Sequential\n",
        "from tensorflow.keras.layers import Dense, Flatten, Dropout\n"
      ],
      "execution_count": 24,
      "outputs": [
        {
          "output_type": "stream",
          "text": [
            "Using TensorFlow backend.\n"
          ],
          "name": "stderr"
        }
      ]
    },
    {
      "cell_type": "markdown",
      "metadata": {
        "id": "gl2aCJ_Lqhwz",
        "colab_type": "text"
      },
      "source": [
        "### Creating custom metric - RMSLE"
      ]
    },
    {
      "cell_type": "code",
      "metadata": {
        "id": "p4zaFuCqKmCj",
        "colab_type": "code",
        "colab": {}
      },
      "source": [
        "def rmsle_K(y, y0):\n",
        "    return K.sqrt(K.mean(K.square(tf.math.log1p(y) - tf.math.log1p(y0))))"
      ],
      "execution_count": 25,
      "outputs": []
    },
    {
      "cell_type": "markdown",
      "metadata": {
        "id": "RpD3vAlSzQEj",
        "colab_type": "text"
      },
      "source": [
        "### Function for model creation"
      ]
    },
    {
      "cell_type": "code",
      "metadata": {
        "id": "b10uitcNNlfp",
        "colab_type": "code",
        "colab": {}
      },
      "source": [
        "def get_model(dense_1=128,dense_2=64,dense_3=8,optimizer= tf.keras.optimizers.Adam(learning_rate=0.00005)):\n",
        "  model = Sequential([\n",
        "                    Dense(dense_1, activation=\"relu\", input_shape=(df_numerical_feats.shape[1],)),\n",
        "                    Dense(dense_2, activation=\"relu\"),\n",
        "                    Dense(dense_3, activation=\"relu\"),\n",
        "                    Dense(1, activation=\"linear\")\n",
        "  ])\n",
        "  model.summary()\n",
        "\n",
        "  model.compile(optimizer=optimizer,\n",
        "                loss=\"mean_squared_error\",\n",
        "                metrics=[rmsle_K])\n",
        "  \n",
        "  return model\n",
        "  "
      ],
      "execution_count": 34,
      "outputs": []
    },
    {
      "cell_type": "markdown",
      "metadata": {
        "id": "cOsU70GrzxL2",
        "colab_type": "text"
      },
      "source": [
        "### Fitting (training) Keras model"
      ]
    },
    {
      "cell_type": "code",
      "metadata": {
        "id": "fZfY5F0gJGXf",
        "colab_type": "code",
        "colab": {
          "base_uri": "https://localhost:8080/",
          "height": 1000
        },
        "outputId": "de34a375-c26f-4043-e79e-fb82aca7a5c6"
      },
      "source": [
        "opt = tf.keras.optimizers.RMSprop(learning_rate=0.00005)\n",
        "model = get_model(optimizer=opt)\n",
        "history= model.fit(x_train, \n",
        "                   y_train_log,\n",
        "                   epochs=200, \n",
        "                   validation_data= (x_val, y_validation_log), \n",
        "                   callbacks = [tf.keras.callbacks.EarlyStopping(monitor ='val_loss', patience=5)]\n",
        "                    )"
      ],
      "execution_count": 36,
      "outputs": [
        {
          "output_type": "stream",
          "text": [
            "Model: \"sequential_2\"\n",
            "_________________________________________________________________\n",
            "Layer (type)                 Output Shape              Param #   \n",
            "=================================================================\n",
            "dense_9 (Dense)              (None, 128)               2816      \n",
            "_________________________________________________________________\n",
            "dense_10 (Dense)             (None, 64)                8256      \n",
            "_________________________________________________________________\n",
            "dense_11 (Dense)             (None, 8)                 520       \n",
            "_________________________________________________________________\n",
            "dense_12 (Dense)             (None, 1)                 9         \n",
            "=================================================================\n",
            "Total params: 11,601\n",
            "Trainable params: 11,601\n",
            "Non-trainable params: 0\n",
            "_________________________________________________________________\n",
            "Epoch 1/200\n",
            "427/427 [==============================] - 2s 4ms/step - loss: 151.3201 - rmsle_K: 2.0886 - val_loss: 123.4110 - val_rmsle_K: 1.5980\n",
            "Epoch 2/200\n",
            "427/427 [==============================] - 2s 4ms/step - loss: 92.7982 - rmsle_K: 1.2116 - val_loss: 57.5586 - val_rmsle_K: 0.8179\n",
            "Epoch 3/200\n",
            "427/427 [==============================] - 1s 3ms/step - loss: 30.0633 - rmsle_K: 0.4980 - val_loss: 11.9284 - val_rmsle_K: 0.2433\n",
            "Epoch 4/200\n",
            "427/427 [==============================] - 1s 3ms/step - loss: 6.8586 - rmsle_K: 0.1777 - val_loss: 6.5929 - val_rmsle_K: 0.1610\n",
            "Epoch 5/200\n",
            "427/427 [==============================] - 1s 3ms/step - loss: 4.5403 - rmsle_K: 0.1439 - val_loss: 4.9334 - val_rmsle_K: 0.1411\n",
            "Epoch 6/200\n",
            "427/427 [==============================] - 2s 4ms/step - loss: 3.5961 - rmsle_K: 0.1283 - val_loss: 4.0098 - val_rmsle_K: 0.1290\n",
            "Epoch 7/200\n",
            "427/427 [==============================] - 1s 3ms/step - loss: 3.0238 - rmsle_K: 0.1181 - val_loss: 3.4126 - val_rmsle_K: 0.1201\n",
            "Epoch 8/200\n",
            "427/427 [==============================] - 1s 3ms/step - loss: 2.6243 - rmsle_K: 0.1105 - val_loss: 3.0252 - val_rmsle_K: 0.1127\n",
            "Epoch 9/200\n",
            "427/427 [==============================] - 1s 3ms/step - loss: 2.3136 - rmsle_K: 0.1038 - val_loss: 2.7268 - val_rmsle_K: 0.1063\n",
            "Epoch 10/200\n",
            "427/427 [==============================] - 1s 3ms/step - loss: 2.0616 - rmsle_K: 0.0982 - val_loss: 2.4811 - val_rmsle_K: 0.1011\n",
            "Epoch 11/200\n",
            "427/427 [==============================] - 2s 4ms/step - loss: 1.8500 - rmsle_K: 0.0929 - val_loss: 2.2032 - val_rmsle_K: 0.0963\n",
            "Epoch 12/200\n",
            "427/427 [==============================] - 2s 4ms/step - loss: 1.6726 - rmsle_K: 0.0882 - val_loss: 1.9747 - val_rmsle_K: 0.0921\n",
            "Epoch 13/200\n",
            "427/427 [==============================] - 1s 3ms/step - loss: 1.5187 - rmsle_K: 0.0840 - val_loss: 1.8192 - val_rmsle_K: 0.0881\n",
            "Epoch 14/200\n",
            "427/427 [==============================] - 2s 4ms/step - loss: 1.3864 - rmsle_K: 0.0803 - val_loss: 1.6856 - val_rmsle_K: 0.0845\n",
            "Epoch 15/200\n",
            "427/427 [==============================] - 2s 4ms/step - loss: 1.2649 - rmsle_K: 0.0766 - val_loss: 1.5488 - val_rmsle_K: 0.0810\n",
            "Epoch 16/200\n",
            "427/427 [==============================] - 1s 3ms/step - loss: 1.1599 - rmsle_K: 0.0733 - val_loss: 1.4305 - val_rmsle_K: 0.0778\n",
            "Epoch 17/200\n",
            "427/427 [==============================] - 2s 4ms/step - loss: 1.0645 - rmsle_K: 0.0700 - val_loss: 1.2948 - val_rmsle_K: 0.0745\n",
            "Epoch 18/200\n",
            "427/427 [==============================] - 1s 3ms/step - loss: 0.9785 - rmsle_K: 0.0673 - val_loss: 1.1955 - val_rmsle_K: 0.0718\n",
            "Epoch 19/200\n",
            "427/427 [==============================] - 2s 4ms/step - loss: 0.9033 - rmsle_K: 0.0646 - val_loss: 1.1087 - val_rmsle_K: 0.0693\n",
            "Epoch 20/200\n",
            "427/427 [==============================] - 1s 3ms/step - loss: 0.8350 - rmsle_K: 0.0620 - val_loss: 1.0602 - val_rmsle_K: 0.0672\n",
            "Epoch 21/200\n",
            "427/427 [==============================] - 1s 3ms/step - loss: 0.7725 - rmsle_K: 0.0595 - val_loss: 0.9420 - val_rmsle_K: 0.0645\n",
            "Epoch 22/200\n",
            "427/427 [==============================] - 1s 3ms/step - loss: 0.7181 - rmsle_K: 0.0576 - val_loss: 0.8837 - val_rmsle_K: 0.0621\n",
            "Epoch 23/200\n",
            "427/427 [==============================] - 2s 4ms/step - loss: 0.6653 - rmsle_K: 0.0552 - val_loss: 0.8258 - val_rmsle_K: 0.0600\n",
            "Epoch 24/200\n",
            "427/427 [==============================] - 1s 3ms/step - loss: 0.6175 - rmsle_K: 0.0532 - val_loss: 0.7485 - val_rmsle_K: 0.0577\n",
            "Epoch 25/200\n",
            "427/427 [==============================] - 2s 4ms/step - loss: 0.5736 - rmsle_K: 0.0513 - val_loss: 0.7225 - val_rmsle_K: 0.0561\n",
            "Epoch 26/200\n",
            "427/427 [==============================] - 1s 3ms/step - loss: 0.5330 - rmsle_K: 0.0493 - val_loss: 0.6514 - val_rmsle_K: 0.0538\n",
            "Epoch 27/200\n",
            "427/427 [==============================] - 1s 3ms/step - loss: 0.4953 - rmsle_K: 0.0476 - val_loss: 0.6201 - val_rmsle_K: 0.0522\n",
            "Epoch 28/200\n",
            "427/427 [==============================] - 1s 3ms/step - loss: 0.4606 - rmsle_K: 0.0459 - val_loss: 0.5675 - val_rmsle_K: 0.0502\n",
            "Epoch 29/200\n",
            "427/427 [==============================] - 1s 3ms/step - loss: 0.4278 - rmsle_K: 0.0443 - val_loss: 0.5336 - val_rmsle_K: 0.0486\n",
            "Epoch 30/200\n",
            "427/427 [==============================] - 1s 3ms/step - loss: 0.3967 - rmsle_K: 0.0426 - val_loss: 0.4935 - val_rmsle_K: 0.0469\n",
            "Epoch 31/200\n",
            "427/427 [==============================] - 1s 3ms/step - loss: 0.3695 - rmsle_K: 0.0411 - val_loss: 0.4535 - val_rmsle_K: 0.0450\n",
            "Epoch 32/200\n",
            "427/427 [==============================] - 2s 4ms/step - loss: 0.3433 - rmsle_K: 0.0396 - val_loss: 0.4153 - val_rmsle_K: 0.0433\n",
            "Epoch 33/200\n",
            "427/427 [==============================] - 1s 3ms/step - loss: 0.3195 - rmsle_K: 0.0381 - val_loss: 0.3957 - val_rmsle_K: 0.0420\n",
            "Epoch 34/200\n",
            "427/427 [==============================] - 1s 3ms/step - loss: 0.2969 - rmsle_K: 0.0367 - val_loss: 0.3630 - val_rmsle_K: 0.0403\n",
            "Epoch 35/200\n",
            "427/427 [==============================] - 1s 3ms/step - loss: 0.2753 - rmsle_K: 0.0354 - val_loss: 0.3384 - val_rmsle_K: 0.0389\n",
            "Epoch 36/200\n",
            "427/427 [==============================] - 1s 3ms/step - loss: 0.2554 - rmsle_K: 0.0341 - val_loss: 0.3314 - val_rmsle_K: 0.0383\n",
            "Epoch 37/200\n",
            "427/427 [==============================] - 1s 4ms/step - loss: 0.2382 - rmsle_K: 0.0329 - val_loss: 0.2971 - val_rmsle_K: 0.0364\n",
            "Epoch 38/200\n",
            "427/427 [==============================] - 1s 3ms/step - loss: 0.2218 - rmsle_K: 0.0318 - val_loss: 0.2724 - val_rmsle_K: 0.0350\n",
            "Epoch 39/200\n",
            "427/427 [==============================] - 2s 4ms/step - loss: 0.2065 - rmsle_K: 0.0307 - val_loss: 0.2518 - val_rmsle_K: 0.0336\n",
            "Epoch 40/200\n",
            "427/427 [==============================] - 1s 3ms/step - loss: 0.1934 - rmsle_K: 0.0297 - val_loss: 0.2377 - val_rmsle_K: 0.0326\n",
            "Epoch 41/200\n",
            "427/427 [==============================] - 1s 3ms/step - loss: 0.1814 - rmsle_K: 0.0287 - val_loss: 0.2163 - val_rmsle_K: 0.0315\n",
            "Epoch 42/200\n",
            "427/427 [==============================] - 1s 3ms/step - loss: 0.1705 - rmsle_K: 0.0279 - val_loss: 0.2056 - val_rmsle_K: 0.0306\n",
            "Epoch 43/200\n",
            "427/427 [==============================] - 1s 3ms/step - loss: 0.1610 - rmsle_K: 0.0271 - val_loss: 0.1987 - val_rmsle_K: 0.0299\n",
            "Epoch 44/200\n",
            "427/427 [==============================] - 1s 3ms/step - loss: 0.1523 - rmsle_K: 0.0264 - val_loss: 0.1895 - val_rmsle_K: 0.0293\n",
            "Epoch 45/200\n",
            "427/427 [==============================] - 2s 4ms/step - loss: 0.1443 - rmsle_K: 0.0257 - val_loss: 0.1724 - val_rmsle_K: 0.0280\n",
            "Epoch 46/200\n",
            "427/427 [==============================] - 1s 3ms/step - loss: 0.1374 - rmsle_K: 0.0251 - val_loss: 0.1663 - val_rmsle_K: 0.0275\n",
            "Epoch 47/200\n",
            "427/427 [==============================] - 1s 3ms/step - loss: 0.1314 - rmsle_K: 0.0246 - val_loss: 0.1578 - val_rmsle_K: 0.0269\n",
            "Epoch 48/200\n",
            "427/427 [==============================] - 2s 4ms/step - loss: 0.1258 - rmsle_K: 0.0241 - val_loss: 0.1533 - val_rmsle_K: 0.0264\n",
            "Epoch 49/200\n",
            "427/427 [==============================] - 2s 4ms/step - loss: 0.1206 - rmsle_K: 0.0236 - val_loss: 0.1452 - val_rmsle_K: 0.0258\n",
            "Epoch 50/200\n",
            "427/427 [==============================] - 2s 4ms/step - loss: 0.1161 - rmsle_K: 0.0232 - val_loss: 0.1436 - val_rmsle_K: 0.0257\n",
            "Epoch 51/200\n",
            "427/427 [==============================] - 2s 4ms/step - loss: 0.1118 - rmsle_K: 0.0228 - val_loss: 0.1407 - val_rmsle_K: 0.0254\n",
            "Epoch 52/200\n",
            "427/427 [==============================] - 1s 3ms/step - loss: 0.1083 - rmsle_K: 0.0224 - val_loss: 0.1281 - val_rmsle_K: 0.0243\n",
            "Epoch 53/200\n",
            "427/427 [==============================] - 1s 3ms/step - loss: 0.1052 - rmsle_K: 0.0222 - val_loss: 0.1253 - val_rmsle_K: 0.0241\n",
            "Epoch 54/200\n",
            "427/427 [==============================] - 1s 3ms/step - loss: 0.1021 - rmsle_K: 0.0218 - val_loss: 0.1229 - val_rmsle_K: 0.0238\n",
            "Epoch 55/200\n",
            "427/427 [==============================] - 2s 4ms/step - loss: 0.0994 - rmsle_K: 0.0216 - val_loss: 0.1185 - val_rmsle_K: 0.0235\n",
            "Epoch 56/200\n",
            "427/427 [==============================] - 1s 3ms/step - loss: 0.0968 - rmsle_K: 0.0213 - val_loss: 0.1143 - val_rmsle_K: 0.0231\n",
            "Epoch 57/200\n",
            "427/427 [==============================] - 1s 3ms/step - loss: 0.0948 - rmsle_K: 0.0211 - val_loss: 0.1111 - val_rmsle_K: 0.0228\n",
            "Epoch 58/200\n",
            "427/427 [==============================] - 1s 3ms/step - loss: 0.0926 - rmsle_K: 0.0209 - val_loss: 0.1092 - val_rmsle_K: 0.0226\n",
            "Epoch 59/200\n",
            "427/427 [==============================] - 1s 3ms/step - loss: 0.0907 - rmsle_K: 0.0207 - val_loss: 0.1064 - val_rmsle_K: 0.0223\n",
            "Epoch 60/200\n",
            "427/427 [==============================] - 1s 3ms/step - loss: 0.0889 - rmsle_K: 0.0205 - val_loss: 0.1067 - val_rmsle_K: 0.0224\n",
            "Epoch 61/200\n",
            "427/427 [==============================] - 2s 4ms/step - loss: 0.0873 - rmsle_K: 0.0203 - val_loss: 0.1048 - val_rmsle_K: 0.0222\n",
            "Epoch 62/200\n",
            "427/427 [==============================] - 1s 3ms/step - loss: 0.0858 - rmsle_K: 0.0202 - val_loss: 0.1039 - val_rmsle_K: 0.0221\n",
            "Epoch 63/200\n",
            "427/427 [==============================] - 1s 3ms/step - loss: 0.0844 - rmsle_K: 0.0200 - val_loss: 0.1014 - val_rmsle_K: 0.0218\n",
            "Epoch 64/200\n",
            "427/427 [==============================] - 1s 3ms/step - loss: 0.0831 - rmsle_K: 0.0199 - val_loss: 0.1007 - val_rmsle_K: 0.0218\n",
            "Epoch 65/200\n",
            "427/427 [==============================] - 1s 3ms/step - loss: 0.0817 - rmsle_K: 0.0197 - val_loss: 0.0982 - val_rmsle_K: 0.0215\n",
            "Epoch 66/200\n",
            "427/427 [==============================] - 1s 3ms/step - loss: 0.0805 - rmsle_K: 0.0196 - val_loss: 0.0978 - val_rmsle_K: 0.0215\n",
            "Epoch 67/200\n",
            "427/427 [==============================] - 1s 3ms/step - loss: 0.0797 - rmsle_K: 0.0195 - val_loss: 0.0957 - val_rmsle_K: 0.0213\n",
            "Epoch 68/200\n",
            "427/427 [==============================] - 1s 3ms/step - loss: 0.0786 - rmsle_K: 0.0194 - val_loss: 0.1009 - val_rmsle_K: 0.0218\n",
            "Epoch 69/200\n",
            "427/427 [==============================] - 1s 3ms/step - loss: 0.0776 - rmsle_K: 0.0193 - val_loss: 0.0953 - val_rmsle_K: 0.0212\n",
            "Epoch 70/200\n",
            "427/427 [==============================] - 1s 3ms/step - loss: 0.0766 - rmsle_K: 0.0192 - val_loss: 0.0942 - val_rmsle_K: 0.0211\n",
            "Epoch 71/200\n",
            "427/427 [==============================] - 1s 3ms/step - loss: 0.0760 - rmsle_K: 0.0191 - val_loss: 0.0924 - val_rmsle_K: 0.0210\n",
            "Epoch 72/200\n",
            "427/427 [==============================] - 1s 3ms/step - loss: 0.0753 - rmsle_K: 0.0190 - val_loss: 0.0966 - val_rmsle_K: 0.0214\n",
            "Epoch 73/200\n",
            "427/427 [==============================] - 2s 4ms/step - loss: 0.0744 - rmsle_K: 0.0189 - val_loss: 0.0922 - val_rmsle_K: 0.0209\n",
            "Epoch 74/200\n",
            "427/427 [==============================] - 1s 3ms/step - loss: 0.0738 - rmsle_K: 0.0188 - val_loss: 0.0920 - val_rmsle_K: 0.0209\n",
            "Epoch 75/200\n",
            "427/427 [==============================] - 2s 4ms/step - loss: 0.0729 - rmsle_K: 0.0187 - val_loss: 0.0882 - val_rmsle_K: 0.0205\n",
            "Epoch 76/200\n",
            "427/427 [==============================] - 1s 3ms/step - loss: 0.0724 - rmsle_K: 0.0186 - val_loss: 0.0884 - val_rmsle_K: 0.0205\n",
            "Epoch 77/200\n",
            "427/427 [==============================] - 1s 3ms/step - loss: 0.0718 - rmsle_K: 0.0186 - val_loss: 0.0900 - val_rmsle_K: 0.0206\n",
            "Epoch 78/200\n",
            "427/427 [==============================] - 2s 4ms/step - loss: 0.0715 - rmsle_K: 0.0185 - val_loss: 0.0896 - val_rmsle_K: 0.0206\n",
            "Epoch 79/200\n",
            "427/427 [==============================] - 1s 3ms/step - loss: 0.0706 - rmsle_K: 0.0184 - val_loss: 0.0899 - val_rmsle_K: 0.0207\n",
            "Epoch 80/200\n",
            "427/427 [==============================] - 1s 3ms/step - loss: 0.0701 - rmsle_K: 0.0184 - val_loss: 0.0877 - val_rmsle_K: 0.0204\n",
            "Epoch 81/200\n",
            "427/427 [==============================] - 1s 3ms/step - loss: 0.0697 - rmsle_K: 0.0183 - val_loss: 0.0851 - val_rmsle_K: 0.0202\n",
            "Epoch 82/200\n",
            "427/427 [==============================] - 1s 3ms/step - loss: 0.0693 - rmsle_K: 0.0183 - val_loss: 0.0853 - val_rmsle_K: 0.0202\n",
            "Epoch 83/200\n",
            "427/427 [==============================] - 1s 3ms/step - loss: 0.0688 - rmsle_K: 0.0182 - val_loss: 0.0835 - val_rmsle_K: 0.0200\n",
            "Epoch 84/200\n",
            "427/427 [==============================] - 2s 4ms/step - loss: 0.0684 - rmsle_K: 0.0181 - val_loss: 0.0844 - val_rmsle_K: 0.0201\n",
            "Epoch 85/200\n",
            "427/427 [==============================] - 1s 3ms/step - loss: 0.0680 - rmsle_K: 0.0181 - val_loss: 0.0868 - val_rmsle_K: 0.0204\n",
            "Epoch 86/200\n",
            "427/427 [==============================] - 1s 3ms/step - loss: 0.0674 - rmsle_K: 0.0180 - val_loss: 0.0826 - val_rmsle_K: 0.0198\n",
            "Epoch 87/200\n",
            "427/427 [==============================] - 1s 3ms/step - loss: 0.0671 - rmsle_K: 0.0180 - val_loss: 0.0844 - val_rmsle_K: 0.0200\n",
            "Epoch 88/200\n",
            "427/427 [==============================] - 1s 3ms/step - loss: 0.0668 - rmsle_K: 0.0179 - val_loss: 0.0835 - val_rmsle_K: 0.0199\n",
            "Epoch 89/200\n",
            "427/427 [==============================] - 1s 3ms/step - loss: 0.0663 - rmsle_K: 0.0179 - val_loss: 0.0863 - val_rmsle_K: 0.0203\n",
            "Epoch 90/200\n",
            "427/427 [==============================] - 1s 3ms/step - loss: 0.0661 - rmsle_K: 0.0178 - val_loss: 0.0841 - val_rmsle_K: 0.0200\n",
            "Epoch 91/200\n",
            "427/427 [==============================] - 2s 4ms/step - loss: 0.0655 - rmsle_K: 0.0178 - val_loss: 0.0804 - val_rmsle_K: 0.0196\n",
            "Epoch 92/200\n",
            "427/427 [==============================] - 1s 3ms/step - loss: 0.0654 - rmsle_K: 0.0178 - val_loss: 0.0814 - val_rmsle_K: 0.0197\n",
            "Epoch 93/200\n",
            "427/427 [==============================] - 1s 3ms/step - loss: 0.0650 - rmsle_K: 0.0177 - val_loss: 0.0808 - val_rmsle_K: 0.0196\n",
            "Epoch 94/200\n",
            "427/427 [==============================] - 1s 3ms/step - loss: 0.0646 - rmsle_K: 0.0176 - val_loss: 0.0829 - val_rmsle_K: 0.0199\n",
            "Epoch 95/200\n",
            "427/427 [==============================] - 1s 3ms/step - loss: 0.0643 - rmsle_K: 0.0176 - val_loss: 0.0805 - val_rmsle_K: 0.0196\n",
            "Epoch 96/200\n",
            "427/427 [==============================] - 1s 3ms/step - loss: 0.0641 - rmsle_K: 0.0176 - val_loss: 0.0792 - val_rmsle_K: 0.0194\n",
            "Epoch 97/200\n",
            "427/427 [==============================] - 2s 4ms/step - loss: 0.0637 - rmsle_K: 0.0175 - val_loss: 0.0801 - val_rmsle_K: 0.0195\n",
            "Epoch 98/200\n",
            "427/427 [==============================] - 1s 3ms/step - loss: 0.0635 - rmsle_K: 0.0175 - val_loss: 0.0774 - val_rmsle_K: 0.0192\n",
            "Epoch 99/200\n",
            "427/427 [==============================] - 1s 3ms/step - loss: 0.0634 - rmsle_K: 0.0175 - val_loss: 0.0773 - val_rmsle_K: 0.0192\n",
            "Epoch 100/200\n",
            "427/427 [==============================] - 1s 3ms/step - loss: 0.0631 - rmsle_K: 0.0174 - val_loss: 0.0772 - val_rmsle_K: 0.0192\n",
            "Epoch 101/200\n",
            "427/427 [==============================] - 1s 3ms/step - loss: 0.0627 - rmsle_K: 0.0174 - val_loss: 0.0777 - val_rmsle_K: 0.0193\n",
            "Epoch 102/200\n",
            "427/427 [==============================] - 1s 3ms/step - loss: 0.0625 - rmsle_K: 0.0173 - val_loss: 0.0772 - val_rmsle_K: 0.0192\n",
            "Epoch 103/200\n",
            "427/427 [==============================] - 1s 3ms/step - loss: 0.0623 - rmsle_K: 0.0173 - val_loss: 0.0804 - val_rmsle_K: 0.0196\n",
            "Epoch 104/200\n",
            "427/427 [==============================] - 1s 3ms/step - loss: 0.0620 - rmsle_K: 0.0173 - val_loss: 0.0762 - val_rmsle_K: 0.0191\n",
            "Epoch 105/200\n",
            "427/427 [==============================] - 1s 3ms/step - loss: 0.0617 - rmsle_K: 0.0173 - val_loss: 0.0747 - val_rmsle_K: 0.0189\n",
            "Epoch 106/200\n",
            "427/427 [==============================] - 2s 4ms/step - loss: 0.0614 - rmsle_K: 0.0172 - val_loss: 0.0790 - val_rmsle_K: 0.0194\n",
            "Epoch 107/200\n",
            "427/427 [==============================] - 2s 4ms/step - loss: 0.0611 - rmsle_K: 0.0172 - val_loss: 0.0771 - val_rmsle_K: 0.0192\n",
            "Epoch 108/200\n",
            "427/427 [==============================] - 2s 4ms/step - loss: 0.0612 - rmsle_K: 0.0172 - val_loss: 0.0755 - val_rmsle_K: 0.0190\n",
            "Epoch 109/200\n",
            "427/427 [==============================] - 2s 4ms/step - loss: 0.0609 - rmsle_K: 0.0171 - val_loss: 0.0746 - val_rmsle_K: 0.0189\n",
            "Epoch 110/200\n",
            "427/427 [==============================] - 1s 4ms/step - loss: 0.0607 - rmsle_K: 0.0171 - val_loss: 0.0742 - val_rmsle_K: 0.0188\n",
            "Epoch 111/200\n",
            "427/427 [==============================] - 2s 4ms/step - loss: 0.0606 - rmsle_K: 0.0171 - val_loss: 0.0746 - val_rmsle_K: 0.0189\n",
            "Epoch 112/200\n",
            "427/427 [==============================] - 1s 3ms/step - loss: 0.0604 - rmsle_K: 0.0171 - val_loss: 0.0755 - val_rmsle_K: 0.0190\n",
            "Epoch 113/200\n",
            "427/427 [==============================] - 1s 3ms/step - loss: 0.0601 - rmsle_K: 0.0170 - val_loss: 0.0744 - val_rmsle_K: 0.0189\n",
            "Epoch 114/200\n",
            "427/427 [==============================] - 1s 3ms/step - loss: 0.0599 - rmsle_K: 0.0170 - val_loss: 0.0769 - val_rmsle_K: 0.0192\n",
            "Epoch 115/200\n",
            "427/427 [==============================] - 2s 4ms/step - loss: 0.0597 - rmsle_K: 0.0170 - val_loss: 0.0751 - val_rmsle_K: 0.0190\n"
          ],
          "name": "stdout"
        }
      ]
    },
    {
      "cell_type": "markdown",
      "metadata": {
        "id": "PIMBof3sz5y1",
        "colab_type": "text"
      },
      "source": [
        "### Plotting loss and RMSLE"
      ]
    },
    {
      "cell_type": "code",
      "metadata": {
        "id": "jmsEg3f9c9-m",
        "colab_type": "code",
        "colab": {
          "base_uri": "https://localhost:8080/",
          "height": 905
        },
        "outputId": "fc43ed20-4de0-4029-8714-debcb166f46f"
      },
      "source": [
        "%matplotlib inline\n",
        "\n",
        "import matplotlib.pyplot as plt\n",
        "\n",
        "#-----------------------------------------------------------\n",
        "# Retrieve a list of list results on training and test data\n",
        "# sets for each training epoch\n",
        "#-----------------------------------------------------------\n",
        "rmsle=history.history['rmsle_K'][3:]\n",
        "val_rmsle=history.history['val_rmsle_K'][3:]\n",
        "loss=history.history['loss'][3:]\n",
        "val_loss=history.history['val_loss'][3:]\n",
        "\n",
        "epochs=range(len(rmsle)) # Get number of epochs\n",
        "\n",
        "plt.figure(figsize=(14,7))\n",
        "#------------------------------------------------\n",
        "# Plot training and validation rmsle per epoch\n",
        "#------------------------------------------------\n",
        "\n",
        "plt.plot(epochs, rmsle, 'r', label='train')\n",
        "plt.plot(epochs, val_rmsle, 'b', label='validation')\n",
        "plt.title('Training and validation rmsle')\n",
        "plt.legend(loc=\"lower left\")\n",
        "\n",
        "plt.figure()\n",
        "plt.figure(figsize=(14,7))\n",
        "#------------------------------------------------\n",
        "# Plot training and validation loss per epoch\n",
        "#------------------------------------------------\n",
        "plt.plot(epochs, loss, 'r', label='train')\n",
        "plt.plot(epochs, val_loss, 'b', label='validation')\n",
        "plt.legend(loc=\"lower left\")\n",
        "\n",
        "plt.title('Training and validation loss')\n",
        "\n",
        "\n",
        "\n",
        "# Desired output. Charts with training and validation metrics. No crash :)"
      ],
      "execution_count": 28,
      "outputs": [
        {
          "output_type": "execute_result",
          "data": {
            "text/plain": [
              "Text(0.5, 1.0, 'Training and validation loss')"
            ]
          },
          "metadata": {
            "tags": []
          },
          "execution_count": 28
        },
        {
          "output_type": "display_data",
          "data": {
            "image/png": "[encoded data removed]",
            "text/plain": [
              "<Figure size 1008x504 with 1 Axes>"
            ]
          },
          "metadata": {
            "tags": [],
            "needs_background": "light"
          }
        },
        {
          "output_type": "display_data",
          "data": {
            "text/plain": [
              "<Figure size 432x288 with 0 Axes>"
            ]
          },
          "metadata": {
            "tags": []
          }
        },
        {
          "output_type": "display_data",
          "data": {
            "image/png": "[encoded data removed]",
            "text/plain": [
              "<Figure size 1008x504 with 1 Axes>"
            ]
          },
          "metadata": {
            "tags": [],
            "needs_background": "light"
          }
        }
      ]
    },
    {
      "cell_type": "markdown",
      "metadata": {
        "id": "LHrLiVQ92xqF",
        "colab_type": "text"
      },
      "source": [
        "### Predict chosen observation"
      ]
    },
    {
      "cell_type": "code",
      "metadata": {
        "id": "kI5n7L4Qebgn",
        "colab_type": "code",
        "colab": {
          "base_uri": "https://localhost:8080/",
          "height": 34
        },
        "outputId": "01faffa8-e47d-4ba9-c1f8-fbd04e85fb63"
      },
      "source": [
        "np.exp(model.predict(df_numerical_feats.loc[18206].values.reshape(-1,df_numerical_feats.shape[1])))"
      ],
      "execution_count": 29,
      "outputs": [
        {
          "output_type": "execute_result",
          "data": {
            "text/plain": [
              "array([[490062.97]], dtype=float32)"
            ]
          },
          "metadata": {
            "tags": []
          },
          "execution_count": 29
        }
      ]
    },
    {
      "cell_type": "code",
      "metadata": {
        "id": "qwwfF3NIgzEj",
        "colab_type": "code",
        "colab": {
          "base_uri": "https://localhost:8080/",
          "height": 195
        },
        "outputId": "9311dd20-c624-4835-dc17-59162e773b71"
      },
      "source": [
        "y_validation.tail()"
      ],
      "execution_count": 30,
      "outputs": [
        {
          "output_type": "execute_result",
          "data": {
            "text/html": [
              "<div>\n",
              "<style scoped>\n",
              "    .dataframe tbody tr th:only-of-type {\n",
              "        vertical-align: middle;\n",
              "    }\n",
              "\n",
              "    .dataframe tbody tr th {\n",
              "        vertical-align: top;\n",
              "    }\n",
              "\n",
              "    .dataframe thead th {\n",
              "        text-align: right;\n",
              "    }\n",
              "</style>\n",
              "<table border=\"1\" class=\"dataframe\">\n",
              "  <thead>\n",
              "    <tr style=\"text-align: right;\">\n",
              "      <th></th>\n",
              "      <th>cena</th>\n",
              "    </tr>\n",
              "  </thead>\n",
              "  <tbody>\n",
              "    <tr>\n",
              "      <th>4548</th>\n",
              "      <td>485000.0</td>\n",
              "    </tr>\n",
              "    <tr>\n",
              "      <th>4549</th>\n",
              "      <td>399000.0</td>\n",
              "    </tr>\n",
              "    <tr>\n",
              "      <th>4550</th>\n",
              "      <td>1033218.0</td>\n",
              "    </tr>\n",
              "    <tr>\n",
              "      <th>4551</th>\n",
              "      <td>325000.0</td>\n",
              "    </tr>\n",
              "    <tr>\n",
              "      <th>4552</th>\n",
              "      <td>357654.0</td>\n",
              "    </tr>\n",
              "  </tbody>\n",
              "</table>\n",
              "</div>"
            ],
            "text/plain": [
              "           cena\n",
              "4548   485000.0\n",
              "4549   399000.0\n",
              "4550  1033218.0\n",
              "4551   325000.0\n",
              "4552   357654.0"
            ]
          },
          "metadata": {
            "tags": []
          },
          "execution_count": 30
        }
      ]
    },
    {
      "cell_type": "markdown",
      "metadata": {
        "id": "cgO-qxPa28xy",
        "colab_type": "text"
      },
      "source": [
        "### Evaluate test set"
      ]
    },
    {
      "cell_type": "code",
      "metadata": {
        "id": "MdYLKzrKej2a",
        "colab_type": "code",
        "colab": {
          "base_uri": "https://localhost:8080/",
          "height": 50
        },
        "outputId": "22b8d099-2f21-469f-ddf4-7e87dad34a96"
      },
      "source": [
        "model.evaluate(x_test, y_test_log)"
      ],
      "execution_count": 31,
      "outputs": [
        {
          "output_type": "stream",
          "text": [
            "143/143 [==============================] - 0s 2ms/step - loss: 0.0895 - rmsle_K: 0.0204\n"
          ],
          "name": "stdout"
        },
        {
          "output_type": "execute_result",
          "data": {
            "text/plain": [
              "[0.08946174383163452, 0.020378362387418747]"
            ]
          },
          "metadata": {
            "tags": []
          },
          "execution_count": 31
        }
      ]
    },
    {
      "cell_type": "markdown",
      "metadata": {
        "id": "_LeXjnts2lXk",
        "colab_type": "text"
      },
      "source": [
        "## Features importance checking"
      ]
    },
    {
      "cell_type": "code",
      "metadata": {
        "id": "1khMccVb2KjM",
        "colab_type": "code",
        "colab": {
          "base_uri": "https://localhost:8080/",
          "height": 104
        },
        "outputId": "cda95288-d8f2-4285-d2fc-8bb1afb6a408"
      },
      "source": [
        "from keras.wrappers.scikit_learn import KerasRegressor\n",
        "import eli5\n",
        "from eli5.sklearn import PermutationImportance"
      ],
      "execution_count": 32,
      "outputs": [
        {
          "output_type": "stream",
          "text": [
            "/usr/local/lib/python3.6/dist-packages/sklearn/utils/deprecation.py:144: FutureWarning: The sklearn.metrics.scorer module is  deprecated in version 0.22 and will be removed in version 0.24. The corresponding classes / functions should instead be imported from sklearn.metrics. Anything that cannot be imported from sklearn.metrics is now part of the private API.\n",
            "  warnings.warn(message, FutureWarning)\n",
            "/usr/local/lib/python3.6/dist-packages/sklearn/utils/deprecation.py:144: FutureWarning: The sklearn.feature_selection.base module is  deprecated in version 0.22 and will be removed in version 0.24. The corresponding classes / functions should instead be imported from sklearn.feature_selection. Anything that cannot be imported from sklearn.feature_selection is now part of the private API.\n",
            "  warnings.warn(message, FutureWarning)\n"
          ],
          "name": "stderr"
        }
      ]
    },
    {
      "cell_type": "code",
      "metadata": {
        "id": "16yMOmqC2_d0",
        "colab_type": "code",
        "colab": {
          "base_uri": "https://localhost:8080/",
          "height": 1000
        },
        "outputId": "de394dc2-aac2-4d79-b8c6-d71912157d1c"
      },
      "source": [
        "my_model = KerasRegressor(build_fn=get_model, optimizer=opt)    \n",
        "my_model.fit(x_train,\n",
        "             y_train_log,\n",
        "             epochs=200,\n",
        "             validation_data= (x_val, y_validation_log), \n",
        "             callbacks = [tf.keras.callbacks.EarlyStopping(monitor ='val_loss', patience=5)])\n",
        "\n",
        "perm = PermutationImportance(my_model, random_state=1).fit(x_train,y_train_log)\n",
        "eli5.show_weights(perm, feature_names = df_numerical_feats.columns.tolist())"
      ],
      "execution_count": 37,
      "outputs": [
        {
          "output_type": "stream",
          "text": [
            "Model: \"sequential_3\"\n",
            "_________________________________________________________________\n",
            "Layer (type)                 Output Shape              Param #   \n",
            "=================================================================\n",
            "dense_13 (Dense)             (None, 128)               2816      \n",
            "_________________________________________________________________\n",
            "dense_14 (Dense)             (None, 64)                8256      \n",
            "_________________________________________________________________\n",
            "dense_15 (Dense)             (None, 8)                 520       \n",
            "_________________________________________________________________\n",
            "dense_16 (Dense)             (None, 1)                 9         \n",
            "=================================================================\n",
            "Total params: 11,601\n",
            "Trainable params: 11,601\n",
            "Non-trainable params: 0\n",
            "_________________________________________________________________\n",
            "Epoch 1/200\n",
            "427/427 [==============================] - 2s 4ms/step - loss: 106.3032 - rmsle_K: 1.3980 - val_loss: 51.1910 - val_rmsle_K: 0.7471\n",
            "Epoch 2/200\n",
            "427/427 [==============================] - 2s 4ms/step - loss: 22.5450 - rmsle_K: 0.3970 - val_loss: 9.6637 - val_rmsle_K: 0.1901\n",
            "Epoch 3/200\n",
            "427/427 [==============================] - 2s 4ms/step - loss: 5.5256 - rmsle_K: 0.1579 - val_loss: 5.5611 - val_rmsle_K: 0.1492\n",
            "Epoch 4/200\n",
            "427/427 [==============================] - 2s 4ms/step - loss: 3.7499 - rmsle_K: 0.1326 - val_loss: 4.1135 - val_rmsle_K: 0.1300\n",
            "Epoch 5/200\n",
            "427/427 [==============================] - 1s 3ms/step - loss: 2.9102 - rmsle_K: 0.1174 - val_loss: 3.2042 - val_rmsle_K: 0.1166\n",
            "Epoch 6/200\n",
            "427/427 [==============================] - 2s 4ms/step - loss: 2.3666 - rmsle_K: 0.1062 - val_loss: 2.6852 - val_rmsle_K: 0.1066\n",
            "Epoch 7/200\n",
            "427/427 [==============================] - 2s 4ms/step - loss: 1.9745 - rmsle_K: 0.0968 - val_loss: 2.1959 - val_rmsle_K: 0.0983\n",
            "Epoch 8/200\n",
            "427/427 [==============================] - 1s 3ms/step - loss: 1.6698 - rmsle_K: 0.0889 - val_loss: 1.9171 - val_rmsle_K: 0.0910\n",
            "Epoch 9/200\n",
            "427/427 [==============================] - 1s 3ms/step - loss: 1.4183 - rmsle_K: 0.0816 - val_loss: 1.5841 - val_rmsle_K: 0.0841\n",
            "Epoch 10/200\n",
            "427/427 [==============================] - 1s 3ms/step - loss: 1.2178 - rmsle_K: 0.0755 - val_loss: 1.3800 - val_rmsle_K: 0.0780\n",
            "Epoch 11/200\n",
            "427/427 [==============================] - 1s 3ms/step - loss: 1.0468 - rmsle_K: 0.0698 - val_loss: 1.1937 - val_rmsle_K: 0.0729\n",
            "Epoch 12/200\n",
            "427/427 [==============================] - 1s 3ms/step - loss: 0.9064 - rmsle_K: 0.0648 - val_loss: 1.0675 - val_rmsle_K: 0.0684\n",
            "Epoch 13/200\n",
            "427/427 [==============================] - 1s 3ms/step - loss: 0.7854 - rmsle_K: 0.0601 - val_loss: 0.9564 - val_rmsle_K: 0.0644\n",
            "Epoch 14/200\n",
            "427/427 [==============================] - 1s 3ms/step - loss: 0.6779 - rmsle_K: 0.0557 - val_loss: 0.8087 - val_rmsle_K: 0.0596\n",
            "Epoch 15/200\n",
            "427/427 [==============================] - 1s 4ms/step - loss: 0.5933 - rmsle_K: 0.0521 - val_loss: 0.6822 - val_rmsle_K: 0.0553\n",
            "Epoch 16/200\n",
            "427/427 [==============================] - 1s 3ms/step - loss: 0.5162 - rmsle_K: 0.0485 - val_loss: 0.6145 - val_rmsle_K: 0.0520\n",
            "Epoch 17/200\n",
            "427/427 [==============================] - 2s 4ms/step - loss: 0.4510 - rmsle_K: 0.0452 - val_loss: 0.5278 - val_rmsle_K: 0.0485\n",
            "Epoch 18/200\n",
            "427/427 [==============================] - 2s 4ms/step - loss: 0.3948 - rmsle_K: 0.0424 - val_loss: 0.4959 - val_rmsle_K: 0.0466\n",
            "Epoch 19/200\n",
            "427/427 [==============================] - 1s 3ms/step - loss: 0.3460 - rmsle_K: 0.0397 - val_loss: 0.4137 - val_rmsle_K: 0.0430\n",
            "Epoch 20/200\n",
            "427/427 [==============================] - 1s 3ms/step - loss: 0.3066 - rmsle_K: 0.0373 - val_loss: 0.3604 - val_rmsle_K: 0.0401\n",
            "Epoch 21/200\n",
            "427/427 [==============================] - 1s 3ms/step - loss: 0.2710 - rmsle_K: 0.0351 - val_loss: 0.3188 - val_rmsle_K: 0.0378\n",
            "Epoch 22/200\n",
            "427/427 [==============================] - 2s 4ms/step - loss: 0.2419 - rmsle_K: 0.0332 - val_loss: 0.2890 - val_rmsle_K: 0.0360\n",
            "Epoch 23/200\n",
            "427/427 [==============================] - 2s 4ms/step - loss: 0.2176 - rmsle_K: 0.0315 - val_loss: 0.2586 - val_rmsle_K: 0.0342\n",
            "Epoch 24/200\n",
            "427/427 [==============================] - 2s 4ms/step - loss: 0.1974 - rmsle_K: 0.0301 - val_loss: 0.2409 - val_rmsle_K: 0.0329\n",
            "Epoch 25/200\n",
            "427/427 [==============================] - 2s 4ms/step - loss: 0.1806 - rmsle_K: 0.0288 - val_loss: 0.2096 - val_rmsle_K: 0.0309\n",
            "Epoch 26/200\n",
            "427/427 [==============================] - 2s 4ms/step - loss: 0.1675 - rmsle_K: 0.0277 - val_loss: 0.1946 - val_rmsle_K: 0.0298\n",
            "Epoch 27/200\n",
            "427/427 [==============================] - 2s 4ms/step - loss: 0.1550 - rmsle_K: 0.0267 - val_loss: 0.1862 - val_rmsle_K: 0.0291\n",
            "Epoch 28/200\n",
            "427/427 [==============================] - 2s 4ms/step - loss: 0.1457 - rmsle_K: 0.0260 - val_loss: 0.1701 - val_rmsle_K: 0.0281\n",
            "Epoch 29/200\n",
            "427/427 [==============================] - 1s 3ms/step - loss: 0.1368 - rmsle_K: 0.0253 - val_loss: 0.1629 - val_rmsle_K: 0.0273\n",
            "Epoch 30/200\n",
            "427/427 [==============================] - 1s 3ms/step - loss: 0.1301 - rmsle_K: 0.0246 - val_loss: 0.1546 - val_rmsle_K: 0.0267\n",
            "Epoch 31/200\n",
            "427/427 [==============================] - 1s 3ms/step - loss: 0.1232 - rmsle_K: 0.0241 - val_loss: 0.1470 - val_rmsle_K: 0.0260\n",
            "Epoch 32/200\n",
            "427/427 [==============================] - 1s 3ms/step - loss: 0.1178 - rmsle_K: 0.0236 - val_loss: 0.1428 - val_rmsle_K: 0.0257\n",
            "Epoch 33/200\n",
            "427/427 [==============================] - 1s 3ms/step - loss: 0.1134 - rmsle_K: 0.0231 - val_loss: 0.1365 - val_rmsle_K: 0.0251\n",
            "Epoch 34/200\n",
            "427/427 [==============================] - 1s 3ms/step - loss: 0.1097 - rmsle_K: 0.0227 - val_loss: 0.1365 - val_rmsle_K: 0.0251\n",
            "Epoch 35/200\n",
            "427/427 [==============================] - 1s 3ms/step - loss: 0.1060 - rmsle_K: 0.0224 - val_loss: 0.1277 - val_rmsle_K: 0.0244\n",
            "Epoch 36/200\n",
            "427/427 [==============================] - 1s 3ms/step - loss: 0.1027 - rmsle_K: 0.0220 - val_loss: 0.1256 - val_rmsle_K: 0.0242\n",
            "Epoch 37/200\n",
            "427/427 [==============================] - 1s 3ms/step - loss: 0.1000 - rmsle_K: 0.0218 - val_loss: 0.1259 - val_rmsle_K: 0.0241\n",
            "Epoch 38/200\n",
            "427/427 [==============================] - 2s 4ms/step - loss: 0.0975 - rmsle_K: 0.0216 - val_loss: 0.1207 - val_rmsle_K: 0.0238\n",
            "Epoch 39/200\n",
            "427/427 [==============================] - 1s 3ms/step - loss: 0.0952 - rmsle_K: 0.0213 - val_loss: 0.1195 - val_rmsle_K: 0.0237\n",
            "Epoch 40/200\n",
            "427/427 [==============================] - 1s 3ms/step - loss: 0.0930 - rmsle_K: 0.0211 - val_loss: 0.1155 - val_rmsle_K: 0.0233\n",
            "Epoch 41/200\n",
            "427/427 [==============================] - 1s 3ms/step - loss: 0.0909 - rmsle_K: 0.0208 - val_loss: 0.1145 - val_rmsle_K: 0.0232\n",
            "Epoch 42/200\n",
            "427/427 [==============================] - 1s 3ms/step - loss: 0.0894 - rmsle_K: 0.0206 - val_loss: 0.1108 - val_rmsle_K: 0.0229\n",
            "Epoch 43/200\n",
            "427/427 [==============================] - 1s 3ms/step - loss: 0.0874 - rmsle_K: 0.0205 - val_loss: 0.1088 - val_rmsle_K: 0.0226\n",
            "Epoch 44/200\n",
            "427/427 [==============================] - 2s 4ms/step - loss: 0.0860 - rmsle_K: 0.0203 - val_loss: 0.1084 - val_rmsle_K: 0.0226\n",
            "Epoch 45/200\n",
            "427/427 [==============================] - 1s 3ms/step - loss: 0.0844 - rmsle_K: 0.0201 - val_loss: 0.1081 - val_rmsle_K: 0.0225\n",
            "Epoch 46/200\n",
            "427/427 [==============================] - 2s 4ms/step - loss: 0.0832 - rmsle_K: 0.0200 - val_loss: 0.1055 - val_rmsle_K: 0.0223\n",
            "Epoch 47/200\n",
            "427/427 [==============================] - 1s 3ms/step - loss: 0.0821 - rmsle_K: 0.0198 - val_loss: 0.1028 - val_rmsle_K: 0.0220\n",
            "Epoch 48/200\n",
            "427/427 [==============================] - 2s 4ms/step - loss: 0.0810 - rmsle_K: 0.0197 - val_loss: 0.1018 - val_rmsle_K: 0.0220\n",
            "Epoch 49/200\n",
            "427/427 [==============================] - 1s 3ms/step - loss: 0.0797 - rmsle_K: 0.0196 - val_loss: 0.1016 - val_rmsle_K: 0.0220\n",
            "Epoch 50/200\n",
            "427/427 [==============================] - 1s 3ms/step - loss: 0.0788 - rmsle_K: 0.0195 - val_loss: 0.0990 - val_rmsle_K: 0.0216\n",
            "Epoch 51/200\n",
            "427/427 [==============================] - 1s 3ms/step - loss: 0.0779 - rmsle_K: 0.0193 - val_loss: 0.0986 - val_rmsle_K: 0.0216\n",
            "Epoch 52/200\n",
            "427/427 [==============================] - 1s 3ms/step - loss: 0.0770 - rmsle_K: 0.0193 - val_loss: 0.1016 - val_rmsle_K: 0.0219\n",
            "Epoch 53/200\n",
            "427/427 [==============================] - 1s 3ms/step - loss: 0.0760 - rmsle_K: 0.0191 - val_loss: 0.0998 - val_rmsle_K: 0.0217\n",
            "Epoch 54/200\n",
            "427/427 [==============================] - 1s 3ms/step - loss: 0.0750 - rmsle_K: 0.0190 - val_loss: 0.0960 - val_rmsle_K: 0.0213\n",
            "Epoch 55/200\n",
            "427/427 [==============================] - 1s 3ms/step - loss: 0.0744 - rmsle_K: 0.0189 - val_loss: 0.0976 - val_rmsle_K: 0.0215\n",
            "Epoch 56/200\n",
            "427/427 [==============================] - 1s 3ms/step - loss: 0.0735 - rmsle_K: 0.0188 - val_loss: 0.0950 - val_rmsle_K: 0.0212\n",
            "Epoch 57/200\n",
            "427/427 [==============================] - 1s 3ms/step - loss: 0.0727 - rmsle_K: 0.0187 - val_loss: 0.0942 - val_rmsle_K: 0.0211\n",
            "Epoch 58/200\n",
            "427/427 [==============================] - 1s 3ms/step - loss: 0.0722 - rmsle_K: 0.0186 - val_loss: 0.0935 - val_rmsle_K: 0.0211\n",
            "Epoch 59/200\n",
            "427/427 [==============================] - 1s 3ms/step - loss: 0.0713 - rmsle_K: 0.0185 - val_loss: 0.0935 - val_rmsle_K: 0.0211\n",
            "Epoch 60/200\n",
            "427/427 [==============================] - 1s 3ms/step - loss: 0.0710 - rmsle_K: 0.0185 - val_loss: 0.0941 - val_rmsle_K: 0.0211\n",
            "Epoch 61/200\n",
            "427/427 [==============================] - 1s 3ms/step - loss: 0.0702 - rmsle_K: 0.0184 - val_loss: 0.0943 - val_rmsle_K: 0.0211\n",
            "Epoch 62/200\n",
            "427/427 [==============================] - 1s 3ms/step - loss: 0.0697 - rmsle_K: 0.0183 - val_loss: 0.0926 - val_rmsle_K: 0.0209\n",
            "Epoch 63/200\n",
            "427/427 [==============================] - 1s 3ms/step - loss: 0.0690 - rmsle_K: 0.0182 - val_loss: 0.0920 - val_rmsle_K: 0.0209\n",
            "Epoch 64/200\n",
            "427/427 [==============================] - 1s 3ms/step - loss: 0.0686 - rmsle_K: 0.0182 - val_loss: 0.0927 - val_rmsle_K: 0.0209\n",
            "Epoch 65/200\n",
            "427/427 [==============================] - 1s 3ms/step - loss: 0.0679 - rmsle_K: 0.0181 - val_loss: 0.0887 - val_rmsle_K: 0.0205\n",
            "Epoch 66/200\n",
            "427/427 [==============================] - 1s 3ms/step - loss: 0.0677 - rmsle_K: 0.0181 - val_loss: 0.0893 - val_rmsle_K: 0.0206\n",
            "Epoch 67/200\n",
            "427/427 [==============================] - 1s 3ms/step - loss: 0.0670 - rmsle_K: 0.0180 - val_loss: 0.0880 - val_rmsle_K: 0.0204\n",
            "Epoch 68/200\n",
            "427/427 [==============================] - 1s 3ms/step - loss: 0.0665 - rmsle_K: 0.0179 - val_loss: 0.0902 - val_rmsle_K: 0.0207\n",
            "Epoch 69/200\n",
            "427/427 [==============================] - 1s 3ms/step - loss: 0.0660 - rmsle_K: 0.0178 - val_loss: 0.0895 - val_rmsle_K: 0.0206\n",
            "Epoch 70/200\n",
            "427/427 [==============================] - 1s 3ms/step - loss: 0.0657 - rmsle_K: 0.0178 - val_loss: 0.0928 - val_rmsle_K: 0.0209\n",
            "Epoch 71/200\n",
            "427/427 [==============================] - 1s 3ms/step - loss: 0.0652 - rmsle_K: 0.0177 - val_loss: 0.0873 - val_rmsle_K: 0.0204\n",
            "Epoch 72/200\n",
            "427/427 [==============================] - 1s 3ms/step - loss: 0.0648 - rmsle_K: 0.0177 - val_loss: 0.0902 - val_rmsle_K: 0.0206\n",
            "Epoch 73/200\n",
            "427/427 [==============================] - 1s 3ms/step - loss: 0.0643 - rmsle_K: 0.0176 - val_loss: 0.0862 - val_rmsle_K: 0.0202\n",
            "Epoch 74/200\n",
            "427/427 [==============================] - 2s 4ms/step - loss: 0.0640 - rmsle_K: 0.0176 - val_loss: 0.0859 - val_rmsle_K: 0.0201\n",
            "Epoch 75/200\n",
            "427/427 [==============================] - 2s 4ms/step - loss: 0.0636 - rmsle_K: 0.0175 - val_loss: 0.0873 - val_rmsle_K: 0.0203\n",
            "Epoch 76/200\n",
            "427/427 [==============================] - 1s 3ms/step - loss: 0.0634 - rmsle_K: 0.0175 - val_loss: 0.0908 - val_rmsle_K: 0.0206\n",
            "Epoch 77/200\n",
            "427/427 [==============================] - 1s 3ms/step - loss: 0.0628 - rmsle_K: 0.0174 - val_loss: 0.0902 - val_rmsle_K: 0.0205\n",
            "Epoch 78/200\n",
            "427/427 [==============================] - 1s 3ms/step - loss: 0.0627 - rmsle_K: 0.0174 - val_loss: 0.0864 - val_rmsle_K: 0.0202\n",
            "Epoch 79/200\n",
            "427/427 [==============================] - 2s 4ms/step - loss: 0.0621 - rmsle_K: 0.0173 - val_loss: 0.0844 - val_rmsle_K: 0.0200\n",
            "Epoch 80/200\n",
            "427/427 [==============================] - 1s 3ms/step - loss: 0.0621 - rmsle_K: 0.0173 - val_loss: 0.0850 - val_rmsle_K: 0.0200\n",
            "Epoch 81/200\n",
            "427/427 [==============================] - 1s 3ms/step - loss: 0.0617 - rmsle_K: 0.0172 - val_loss: 0.0850 - val_rmsle_K: 0.0201\n",
            "Epoch 82/200\n",
            "427/427 [==============================] - 1s 3ms/step - loss: 0.0614 - rmsle_K: 0.0172 - val_loss: 0.0854 - val_rmsle_K: 0.0201\n",
            "Epoch 83/200\n",
            "427/427 [==============================] - 1s 3ms/step - loss: 0.0610 - rmsle_K: 0.0171 - val_loss: 0.0877 - val_rmsle_K: 0.0204\n",
            "Epoch 84/200\n",
            "427/427 [==============================] - 1s 3ms/step - loss: 0.0608 - rmsle_K: 0.0171 - val_loss: 0.0843 - val_rmsle_K: 0.0199\n",
            "Epoch 85/200\n",
            "427/427 [==============================] - 1s 3ms/step - loss: 0.0603 - rmsle_K: 0.0170 - val_loss: 0.0856 - val_rmsle_K: 0.0201\n",
            "Epoch 86/200\n",
            "427/427 [==============================] - 1s 3ms/step - loss: 0.0601 - rmsle_K: 0.0170 - val_loss: 0.0899 - val_rmsle_K: 0.0206\n",
            "Epoch 87/200\n",
            "427/427 [==============================] - 1s 3ms/step - loss: 0.0598 - rmsle_K: 0.0170 - val_loss: 0.0827 - val_rmsle_K: 0.0197\n",
            "Epoch 88/200\n",
            "427/427 [==============================] - 2s 4ms/step - loss: 0.0597 - rmsle_K: 0.0170 - val_loss: 0.0832 - val_rmsle_K: 0.0198\n",
            "Epoch 89/200\n",
            "427/427 [==============================] - 1s 3ms/step - loss: 0.0594 - rmsle_K: 0.0169 - val_loss: 0.0825 - val_rmsle_K: 0.0197\n",
            "Epoch 90/200\n",
            "427/427 [==============================] - 1s 3ms/step - loss: 0.0593 - rmsle_K: 0.0169 - val_loss: 0.0820 - val_rmsle_K: 0.0196\n",
            "Epoch 91/200\n",
            "427/427 [==============================] - 1s 3ms/step - loss: 0.0588 - rmsle_K: 0.0168 - val_loss: 0.0855 - val_rmsle_K: 0.0201\n",
            "Epoch 92/200\n",
            "427/427 [==============================] - 1s 3ms/step - loss: 0.0587 - rmsle_K: 0.0169 - val_loss: 0.0816 - val_rmsle_K: 0.0197\n",
            "Epoch 93/200\n",
            "427/427 [==============================] - 1s 3ms/step - loss: 0.0584 - rmsle_K: 0.0168 - val_loss: 0.0850 - val_rmsle_K: 0.0200\n",
            "Epoch 94/200\n",
            "427/427 [==============================] - 1s 3ms/step - loss: 0.0582 - rmsle_K: 0.0167 - val_loss: 0.0818 - val_rmsle_K: 0.0196\n",
            "Epoch 95/200\n",
            "427/427 [==============================] - 1s 3ms/step - loss: 0.0579 - rmsle_K: 0.0167 - val_loss: 0.0845 - val_rmsle_K: 0.0199\n",
            "Epoch 96/200\n",
            "427/427 [==============================] - 1s 3ms/step - loss: 0.0579 - rmsle_K: 0.0167 - val_loss: 0.0809 - val_rmsle_K: 0.0195\n",
            "Epoch 97/200\n",
            "427/427 [==============================] - 1s 3ms/step - loss: 0.0576 - rmsle_K: 0.0167 - val_loss: 0.0842 - val_rmsle_K: 0.0199\n",
            "Epoch 98/200\n",
            "427/427 [==============================] - 1s 3ms/step - loss: 0.0574 - rmsle_K: 0.0166 - val_loss: 0.0835 - val_rmsle_K: 0.0198\n",
            "Epoch 99/200\n",
            "427/427 [==============================] - 1s 3ms/step - loss: 0.0571 - rmsle_K: 0.0166 - val_loss: 0.0821 - val_rmsle_K: 0.0197\n",
            "Epoch 100/200\n",
            "427/427 [==============================] - 1s 3ms/step - loss: 0.0570 - rmsle_K: 0.0166 - val_loss: 0.0815 - val_rmsle_K: 0.0195\n",
            "Epoch 101/200\n",
            "427/427 [==============================] - 1s 3ms/step - loss: 0.0567 - rmsle_K: 0.0165 - val_loss: 0.0809 - val_rmsle_K: 0.0195\n",
            "Epoch 102/200\n",
            "427/427 [==============================] - 1s 3ms/step - loss: 0.0567 - rmsle_K: 0.0165 - val_loss: 0.0815 - val_rmsle_K: 0.0196\n",
            "Epoch 103/200\n",
            "427/427 [==============================] - 1s 3ms/step - loss: 0.0565 - rmsle_K: 0.0165 - val_loss: 0.0814 - val_rmsle_K: 0.0196\n",
            "Epoch 104/200\n",
            "427/427 [==============================] - 1s 3ms/step - loss: 0.0563 - rmsle_K: 0.0165 - val_loss: 0.0848 - val_rmsle_K: 0.0199\n",
            "Epoch 105/200\n",
            "427/427 [==============================] - 1s 3ms/step - loss: 0.0562 - rmsle_K: 0.0164 - val_loss: 0.0811 - val_rmsle_K: 0.0195\n",
            "Epoch 106/200\n",
            "427/427 [==============================] - 1s 3ms/step - loss: 0.0558 - rmsle_K: 0.0164 - val_loss: 0.0835 - val_rmsle_K: 0.0198\n",
            "427/427 [==============================] - 1s 2ms/step - loss: 0.0555 - rmsle_K: 0.0164\n",
            "427/427 [==============================] - 1s 2ms/step - loss: 0.0746 - rmsle_K: 0.0189\n",
            "427/427 [==============================] - 1s 2ms/step - loss: 0.0987 - rmsle_K: 0.0217\n",
            "427/427 [==============================] - 1s 2ms/step - loss: 0.0731 - rmsle_K: 0.0188\n",
            "427/427 [==============================] - 1s 2ms/step - loss: 0.0652 - rmsle_K: 0.0177\n",
            "427/427 [==============================] - 1s 2ms/step - loss: 0.2373 - rmsle_K: 0.0338\n",
            "427/427 [==============================] - 1s 2ms/step - loss: 0.8950 - rmsle_K: 0.0710\n",
            "427/427 [==============================] - 1s 2ms/step - loss: 0.3463 - rmsle_K: 0.0407\n",
            "427/427 [==============================] - 1s 2ms/step - loss: 0.0734 - rmsle_K: 0.0187\n",
            "427/427 [==============================] - 1s 2ms/step - loss: 0.2538 - rmsle_K: 0.0350\n",
            "427/427 [==============================] - 1s 2ms/step - loss: 0.6336 - rmsle_K: 0.0572\n",
            "427/427 [==============================] - 1s 2ms/step - loss: 0.0958 - rmsle_K: 0.0215\n",
            "427/427 [==============================] - 1s 2ms/step - loss: 0.0755 - rmsle_K: 0.0190\n",
            "427/427 [==============================] - 1s 2ms/step - loss: 0.3831 - rmsle_K: 0.0431\n",
            "427/427 [==============================] - 1s 2ms/step - loss: 0.0877 - rmsle_K: 0.0205\n",
            "427/427 [==============================] - 1s 2ms/step - loss: 0.7211 - rmsle_K: 0.0626\n",
            "427/427 [==============================] - 1s 2ms/step - loss: 0.1173 - rmsle_K: 0.0233\n",
            "427/427 [==============================] - 1s 2ms/step - loss: 0.0742 - rmsle_K: 0.0189\n",
            "427/427 [==============================] - 1s 2ms/step - loss: 0.0780 - rmsle_K: 0.0194\n",
            "427/427 [==============================] - 1s 2ms/step - loss: 0.8444 - rmsle_K: 0.0688\n",
            "427/427 [==============================] - 1s 2ms/step - loss: 0.2225 - rmsle_K: 0.0299\n",
            "427/427 [==============================] - 1s 2ms/step - loss: 0.2847 - rmsle_K: 0.0360\n",
            "427/427 [==============================] - 1s 2ms/step - loss: 0.0749 - rmsle_K: 0.0189\n",
            "427/427 [==============================] - 1s 2ms/step - loss: 0.0984 - rmsle_K: 0.0218\n",
            "427/427 [==============================] - 1s 2ms/step - loss: 0.0726 - rmsle_K: 0.0187\n",
            "427/427 [==============================] - 1s 2ms/step - loss: 0.0653 - rmsle_K: 0.0177\n",
            "427/427 [==============================] - 1s 2ms/step - loss: 0.2386 - rmsle_K: 0.0339\n",
            "427/427 [==============================] - 1s 2ms/step - loss: 0.8751 - rmsle_K: 0.0698\n",
            "427/427 [==============================] - 1s 2ms/step - loss: 0.3276 - rmsle_K: 0.0396\n",
            "427/427 [==============================] - 1s 2ms/step - loss: 0.0730 - rmsle_K: 0.0187\n",
            "427/427 [==============================] - 1s 2ms/step - loss: 0.2490 - rmsle_K: 0.0348\n",
            "427/427 [==============================] - 1s 2ms/step - loss: 0.6749 - rmsle_K: 0.0591\n",
            "427/427 [==============================] - 1s 2ms/step - loss: 0.0934 - rmsle_K: 0.0212\n",
            "427/427 [==============================] - 1s 2ms/step - loss: 0.0743 - rmsle_K: 0.0189\n",
            "427/427 [==============================] - 1s 2ms/step - loss: 0.3376 - rmsle_K: 0.0404\n",
            "427/427 [==============================] - 1s 2ms/step - loss: 0.0893 - rmsle_K: 0.0206\n",
            "427/427 [==============================] - 1s 2ms/step - loss: 0.7992 - rmsle_K: 0.0663\n",
            "427/427 [==============================] - 1s 2ms/step - loss: 0.1332 - rmsle_K: 0.0246\n",
            "427/427 [==============================] - 1s 2ms/step - loss: 0.0729 - rmsle_K: 0.0187\n",
            "427/427 [==============================] - 1s 2ms/step - loss: 0.0765 - rmsle_K: 0.0192\n",
            "427/427 [==============================] - 1s 2ms/step - loss: 0.8324 - rmsle_K: 0.0684\n",
            "427/427 [==============================] - 1s 2ms/step - loss: 0.2767 - rmsle_K: 0.0334\n",
            "427/427 [==============================] - 1s 2ms/step - loss: 0.2809 - rmsle_K: 0.0358\n",
            "427/427 [==============================] - 1s 2ms/step - loss: 0.0754 - rmsle_K: 0.0190\n",
            "427/427 [==============================] - 1s 2ms/step - loss: 0.0982 - rmsle_K: 0.0217\n",
            "427/427 [==============================] - 1s 2ms/step - loss: 0.0715 - rmsle_K: 0.0185\n",
            "427/427 [==============================] - 1s 2ms/step - loss: 0.0646 - rmsle_K: 0.0176\n",
            "427/427 [==============================] - 1s 2ms/step - loss: 0.2397 - rmsle_K: 0.0340\n",
            "427/427 [==============================] - 1s 2ms/step - loss: 0.8528 - rmsle_K: 0.0688\n",
            "427/427 [==============================] - 1s 2ms/step - loss: 0.3374 - rmsle_K: 0.0402\n",
            "427/427 [==============================] - 1s 2ms/step - loss: 0.0737 - rmsle_K: 0.0187\n",
            "427/427 [==============================] - 1s 2ms/step - loss: 0.2488 - rmsle_K: 0.0348\n",
            "427/427 [==============================] - 1s 2ms/step - loss: 0.6445 - rmsle_K: 0.0576\n",
            "427/427 [==============================] - 1s 2ms/step - loss: 0.0956 - rmsle_K: 0.0214\n",
            "427/427 [==============================] - 1s 2ms/step - loss: 0.0748 - rmsle_K: 0.0190\n",
            "427/427 [==============================] - 1s 2ms/step - loss: 0.3672 - rmsle_K: 0.0420\n",
            "427/427 [==============================] - 1s 2ms/step - loss: 0.0884 - rmsle_K: 0.0205\n",
            "427/427 [==============================] - 1s 2ms/step - loss: 0.7713 - rmsle_K: 0.0650\n",
            "427/427 [==============================] - 1s 2ms/step - loss: 0.1179 - rmsle_K: 0.0235\n",
            "427/427 [==============================] - 1s 2ms/step - loss: 0.0743 - rmsle_K: 0.0188\n",
            "427/427 [==============================] - 1s 2ms/step - loss: 0.0782 - rmsle_K: 0.0193\n",
            "427/427 [==============================] - 1s 2ms/step - loss: 0.8403 - rmsle_K: 0.0687\n",
            "427/427 [==============================] - 1s 2ms/step - loss: 0.2562 - rmsle_K: 0.0318\n",
            "427/427 [==============================] - 1s 2ms/step - loss: 0.2747 - rmsle_K: 0.0355\n",
            "427/427 [==============================] - 1s 2ms/step - loss: 0.0750 - rmsle_K: 0.0190\n",
            "427/427 [==============================] - 1s 2ms/step - loss: 0.0994 - rmsle_K: 0.0219\n",
            "427/427 [==============================] - 1s 2ms/step - loss: 0.0719 - rmsle_K: 0.0186\n",
            "427/427 [==============================] - 1s 2ms/step - loss: 0.0656 - rmsle_K: 0.0178\n",
            "427/427 [==============================] - 1s 2ms/step - loss: 0.2390 - rmsle_K: 0.0339\n",
            "427/427 [==============================] - 1s 2ms/step - loss: 0.8604 - rmsle_K: 0.0690\n",
            "427/427 [==============================] - 1s 2ms/step - loss: 0.3231 - rmsle_K: 0.0391\n",
            "427/427 [==============================] - 1s 2ms/step - loss: 0.0733 - rmsle_K: 0.0187\n",
            "427/427 [==============================] - 1s 2ms/step - loss: 0.2506 - rmsle_K: 0.0349\n",
            "427/427 [==============================] - 1s 2ms/step - loss: 0.6571 - rmsle_K: 0.0584\n",
            "427/427 [==============================] - 1s 2ms/step - loss: 0.0947 - rmsle_K: 0.0213\n",
            "427/427 [==============================] - 1s 2ms/step - loss: 0.0750 - rmsle_K: 0.0190\n",
            "427/427 [==============================] - 1s 2ms/step - loss: 0.3692 - rmsle_K: 0.0419\n",
            "427/427 [==============================] - 1s 2ms/step - loss: 0.0844 - rmsle_K: 0.0200\n",
            "427/427 [==============================] - 1s 2ms/step - loss: 0.7668 - rmsle_K: 0.0650\n",
            "427/427 [==============================] - 1s 2ms/step - loss: 0.1183 - rmsle_K: 0.0234\n",
            "427/427 [==============================] - 1s 2ms/step - loss: 0.0726 - rmsle_K: 0.0186\n",
            "427/427 [==============================] - 1s 2ms/step - loss: 0.0782 - rmsle_K: 0.0194\n",
            "427/427 [==============================] - 1s 2ms/step - loss: 0.8655 - rmsle_K: 0.0701\n",
            "427/427 [==============================] - 1s 2ms/step - loss: 0.2542 - rmsle_K: 0.0314\n",
            "427/427 [==============================] - 1s 2ms/step - loss: 0.2523 - rmsle_K: 0.0341\n",
            "427/427 [==============================] - 1s 2ms/step - loss: 0.0741 - rmsle_K: 0.0189\n",
            "427/427 [==============================] - 1s 2ms/step - loss: 0.0998 - rmsle_K: 0.0219\n",
            "427/427 [==============================] - 1s 2ms/step - loss: 0.0724 - rmsle_K: 0.0186\n",
            "427/427 [==============================] - 1s 2ms/step - loss: 0.0648 - rmsle_K: 0.0177\n",
            "427/427 [==============================] - 1s 2ms/step - loss: 0.2375 - rmsle_K: 0.0338\n",
            "427/427 [==============================] - 1s 2ms/step - loss: 0.8820 - rmsle_K: 0.0701\n",
            "427/427 [==============================] - 1s 2ms/step - loss: 0.3440 - rmsle_K: 0.0406\n",
            "427/427 [==============================] - 1s 2ms/step - loss: 0.0728 - rmsle_K: 0.0187\n",
            "427/427 [==============================] - 1s 2ms/step - loss: 0.2508 - rmsle_K: 0.0349\n",
            "427/427 [==============================] - 1s 2ms/step - loss: 0.6970 - rmsle_K: 0.0609\n",
            "427/427 [==============================] - 1s 2ms/step - loss: 0.0951 - rmsle_K: 0.0213\n",
            "427/427 [==============================] - 1s 2ms/step - loss: 0.0754 - rmsle_K: 0.0191\n",
            "427/427 [==============================] - 1s 2ms/step - loss: 0.3748 - rmsle_K: 0.0428\n",
            "427/427 [==============================] - 1s 2ms/step - loss: 0.0871 - rmsle_K: 0.0204\n",
            "427/427 [==============================] - 1s 2ms/step - loss: 0.7797 - rmsle_K: 0.0658\n",
            "427/427 [==============================] - 1s 2ms/step - loss: 0.1163 - rmsle_K: 0.0232\n",
            "427/427 [==============================] - 1s 2ms/step - loss: 0.0732 - rmsle_K: 0.0187\n",
            "427/427 [==============================] - 1s 2ms/step - loss: 0.0792 - rmsle_K: 0.0195\n",
            "427/427 [==============================] - 1s 2ms/step - loss: 0.8675 - rmsle_K: 0.0700\n",
            "427/427 [==============================] - 1s 2ms/step - loss: 0.2239 - rmsle_K: 0.0296\n",
            "427/427 [==============================] - 1s 2ms/step - loss: 0.2817 - rmsle_K: 0.0360\n"
          ],
          "name": "stdout"
        },
        {
          "output_type": "execute_result",
          "data": {
            "text/html": [
              "\n",
              "    <style>\n",
              "    table.eli5-weights tr:hover {\n",
              "        filter: brightness(85%);\n",
              "    }\n",
              "</style>\n",
              "\n",
              "\n",
              "\n",
              "    \n",
              "\n",
              "    \n",
              "\n",
              "    \n",
              "\n",
              "    \n",
              "\n",
              "    \n",
              "\n",
              "    \n",
              "\n",
              "\n",
              "    \n",
              "\n",
              "    \n",
              "\n",
              "    \n",
              "\n",
              "    \n",
              "\n",
              "    \n",
              "\n",
              "    \n",
              "\n",
              "\n",
              "    \n",
              "\n",
              "    \n",
              "\n",
              "    \n",
              "\n",
              "    \n",
              "\n",
              "    \n",
              "        <table class=\"eli5-weights eli5-feature-importances\" style=\"border-collapse: collapse; border: none; margin-top: 0em; table-layout: auto;\">\n",
              "    <thead>\n",
              "    <tr style=\"border: none;\">\n",
              "        <th style=\"padding: 0 1em 0 0.5em; text-align: right; border: none;\">Weight</th>\n",
              "        <th style=\"padding: 0 0.5em 0 0.5em; text-align: left; border: none;\">Feature</th>\n",
              "    </tr>\n",
              "    </thead>\n",
              "    <tbody>\n",
              "    \n",
              "        <tr style=\"background-color: hsl(120, 100.00%, 80.00%); border: none;\">\n",
              "            <td style=\"padding: 0 1em 0 0.5em; text-align: right; border: none;\">\n",
              "                0.8175\n",
              "                \n",
              "                    &plusmn; 0.0302\n",
              "                \n",
              "            </td>\n",
              "            <td style=\"padding: 0 0.5em 0 0.5em; text-align: left; border: none;\">\n",
              "                winda\n",
              "            </td>\n",
              "        </tr>\n",
              "    \n",
              "        <tr style=\"background-color: hsl(120, 100.00%, 80.40%); border: none;\">\n",
              "            <td style=\"padding: 0 1em 0 0.5em; text-align: right; border: none;\">\n",
              "                0.7945\n",
              "                \n",
              "                    &plusmn; 0.0280\n",
              "                \n",
              "            </td>\n",
              "            <td style=\"padding: 0 0.5em 0 0.5em; text-align: left; border: none;\">\n",
              "                oferta_cat\n",
              "            </td>\n",
              "        </tr>\n",
              "    \n",
              "        <tr style=\"background-color: hsl(120, 100.00%, 81.84%); border: none;\">\n",
              "            <td style=\"padding: 0 1em 0 0.5em; text-align: right; border: none;\">\n",
              "                0.7121\n",
              "                \n",
              "                    &plusmn; 0.0515\n",
              "                \n",
              "            </td>\n",
              "            <td style=\"padding: 0 0.5em 0 0.5em; text-align: left; border: none;\">\n",
              "                dzielnica_cat\n",
              "            </td>\n",
              "        </tr>\n",
              "    \n",
              "        <tr style=\"background-color: hsl(120, 100.00%, 83.78%); border: none;\">\n",
              "            <td style=\"padding: 0 1em 0 0.5em; text-align: right; border: none;\">\n",
              "                0.6059\n",
              "                \n",
              "                    &plusmn; 0.0450\n",
              "                \n",
              "            </td>\n",
              "            <td style=\"padding: 0 0.5em 0 0.5em; text-align: left; border: none;\">\n",
              "                balkon_cat\n",
              "            </td>\n",
              "        </tr>\n",
              "    \n",
              "        <tr style=\"background-color: hsl(120, 100.00%, 89.84%); border: none;\">\n",
              "            <td style=\"padding: 0 1em 0 0.5em; text-align: right; border: none;\">\n",
              "                0.3109\n",
              "                \n",
              "                    &plusmn; 0.0308\n",
              "                \n",
              "            </td>\n",
              "            <td style=\"padding: 0 0.5em 0 0.5em; text-align: left; border: none;\">\n",
              "                ulica_cat\n",
              "            </td>\n",
              "        </tr>\n",
              "    \n",
              "        <tr style=\"background-color: hsl(120, 100.00%, 90.55%); border: none;\">\n",
              "            <td style=\"padding: 0 1em 0 0.5em; text-align: right; border: none;\">\n",
              "                0.2801\n",
              "                \n",
              "                    &plusmn; 0.0181\n",
              "                \n",
              "            </td>\n",
              "            <td style=\"padding: 0 0.5em 0 0.5em; text-align: left; border: none;\">\n",
              "                czynsz\n",
              "            </td>\n",
              "        </tr>\n",
              "    \n",
              "        <tr style=\"background-color: hsl(120, 100.00%, 92.04%); border: none;\">\n",
              "            <td style=\"padding: 0 1em 0 0.5em; text-align: right; border: none;\">\n",
              "                0.2193\n",
              "                \n",
              "                    &plusmn; 0.0235\n",
              "                \n",
              "            </td>\n",
              "            <td style=\"padding: 0 0.5em 0 0.5em; text-align: left; border: none;\">\n",
              "                ogrzewanie_merged_cat\n",
              "            </td>\n",
              "        </tr>\n",
              "    \n",
              "        <tr style=\"background-color: hsl(120, 100.00%, 92.66%); border: none;\">\n",
              "            <td style=\"padding: 0 1em 0 0.5em; text-align: right; border: none;\">\n",
              "                0.1951\n",
              "                \n",
              "                    &plusmn; 0.0036\n",
              "                \n",
              "            </td>\n",
              "            <td style=\"padding: 0 0.5em 0 0.5em; text-align: left; border: none;\">\n",
              "                rynek_cat\n",
              "            </td>\n",
              "        </tr>\n",
              "    \n",
              "        <tr style=\"background-color: hsl(120, 100.00%, 92.77%); border: none;\">\n",
              "            <td style=\"padding: 0 1em 0 0.5em; text-align: right; border: none;\">\n",
              "                0.1912\n",
              "                \n",
              "                    &plusmn; 0.0415\n",
              "                \n",
              "            </td>\n",
              "            <td style=\"padding: 0 0.5em 0 0.5em; text-align: left; border: none;\">\n",
              "                ulica_i_nr_cat\n",
              "            </td>\n",
              "        </tr>\n",
              "    \n",
              "        <tr style=\"background-color: hsl(120, 100.00%, 92.99%); border: none;\">\n",
              "            <td style=\"padding: 0 1em 0 0.5em; text-align: right; border: none;\">\n",
              "                0.1829\n",
              "                \n",
              "                    &plusmn; 0.0018\n",
              "                \n",
              "            </td>\n",
              "            <td style=\"padding: 0 0.5em 0 0.5em; text-align: left; border: none;\">\n",
              "                powierzchnia\n",
              "            </td>\n",
              "        </tr>\n",
              "    \n",
              "        <tr style=\"background-color: hsl(120, 100.00%, 96.60%); border: none;\">\n",
              "            <td style=\"padding: 0 1em 0 0.5em; text-align: right; border: none;\">\n",
              "                0.0651\n",
              "                \n",
              "                    &plusmn; 0.0127\n",
              "                \n",
              "            </td>\n",
              "            <td style=\"padding: 0 0.5em 0 0.5em; text-align: left; border: none;\">\n",
              "                forma-wlasnosci_cat\n",
              "            </td>\n",
              "        </tr>\n",
              "    \n",
              "        <tr style=\"background-color: hsl(120, 100.00%, 97.44%); border: none;\">\n",
              "            <td style=\"padding: 0 1em 0 0.5em; text-align: right; border: none;\">\n",
              "                0.0434\n",
              "                \n",
              "                    &plusmn; 0.0012\n",
              "                \n",
              "            </td>\n",
              "            <td style=\"padding: 0 0.5em 0 0.5em; text-align: left; border: none;\">\n",
              "                rok_budowy\n",
              "            </td>\n",
              "        </tr>\n",
              "    \n",
              "        <tr style=\"background-color: hsl(120, 100.00%, 97.61%); border: none;\">\n",
              "            <td style=\"padding: 0 1em 0 0.5em; text-align: right; border: none;\">\n",
              "                0.0394\n",
              "                \n",
              "                    &plusmn; 0.0017\n",
              "                \n",
              "            </td>\n",
              "            <td style=\"padding: 0 0.5em 0 0.5em; text-align: left; border: none;\">\n",
              "                miasto_cat\n",
              "            </td>\n",
              "        </tr>\n",
              "    \n",
              "        <tr style=\"background-color: hsl(120, 100.00%, 97.94%); border: none;\">\n",
              "            <td style=\"padding: 0 1em 0 0.5em; text-align: right; border: none;\">\n",
              "                0.0318\n",
              "                \n",
              "                    &plusmn; 0.0034\n",
              "                \n",
              "            </td>\n",
              "            <td style=\"padding: 0 0.5em 0 0.5em; text-align: left; border: none;\">\n",
              "                rodzaj_zabudowy_cat\n",
              "            </td>\n",
              "        </tr>\n",
              "    \n",
              "        <tr style=\"background-color: hsl(120, 100.00%, 98.38%); border: none;\">\n",
              "            <td style=\"padding: 0 1em 0 0.5em; text-align: right; border: none;\">\n",
              "                0.0225\n",
              "                \n",
              "                    &plusmn; 0.0017\n",
              "                \n",
              "            </td>\n",
              "            <td style=\"padding: 0 0.5em 0 0.5em; text-align: left; border: none;\">\n",
              "                material_budynku_cat\n",
              "            </td>\n",
              "        </tr>\n",
              "    \n",
              "        <tr style=\"background-color: hsl(120, 100.00%, 98.54%); border: none;\">\n",
              "            <td style=\"padding: 0 1em 0 0.5em; text-align: right; border: none;\">\n",
              "                0.0195\n",
              "                \n",
              "                    &plusmn; 0.0009\n",
              "                \n",
              "            </td>\n",
              "            <td style=\"padding: 0 0.5em 0 0.5em; text-align: left; border: none;\">\n",
              "                wykonczenie_cat\n",
              "            </td>\n",
              "        </tr>\n",
              "    \n",
              "        <tr style=\"background-color: hsl(120, 100.00%, 98.55%); border: none;\">\n",
              "            <td style=\"padding: 0 1em 0 0.5em; text-align: right; border: none;\">\n",
              "                0.0193\n",
              "                \n",
              "                    &plusmn; 0.0009\n",
              "                \n",
              "            </td>\n",
              "            <td style=\"padding: 0 0.5em 0 0.5em; text-align: left; border: none;\">\n",
              "                liczba_pieter_budynku\n",
              "            </td>\n",
              "        </tr>\n",
              "    \n",
              "        <tr style=\"background-color: hsl(120, 100.00%, 98.62%); border: none;\">\n",
              "            <td style=\"padding: 0 1em 0 0.5em; text-align: right; border: none;\">\n",
              "                0.0179\n",
              "                \n",
              "                    &plusmn; 0.0014\n",
              "                \n",
              "            </td>\n",
              "            <td style=\"padding: 0 0.5em 0 0.5em; text-align: left; border: none;\">\n",
              "                adres_cat\n",
              "            </td>\n",
              "        </tr>\n",
              "    \n",
              "        <tr style=\"background-color: hsl(120, 100.00%, 98.63%); border: none;\">\n",
              "            <td style=\"padding: 0 1em 0 0.5em; text-align: right; border: none;\">\n",
              "                0.0177\n",
              "                \n",
              "                    &plusmn; 0.0006\n",
              "                \n",
              "            </td>\n",
              "            <td style=\"padding: 0 0.5em 0 0.5em; text-align: left; border: none;\">\n",
              "                kuchnia_cat\n",
              "            </td>\n",
              "        </tr>\n",
              "    \n",
              "        <tr style=\"background-color: hsl(120, 100.00%, 98.68%); border: none;\">\n",
              "            <td style=\"padding: 0 1em 0 0.5em; text-align: right; border: none;\">\n",
              "                0.0168\n",
              "                \n",
              "                    &plusmn; 0.0011\n",
              "                \n",
              "            </td>\n",
              "            <td style=\"padding: 0 0.5em 0 0.5em; text-align: left; border: none;\">\n",
              "                liczba_pokoi\n",
              "            </td>\n",
              "        </tr>\n",
              "    \n",
              "    \n",
              "        \n",
              "            <tr style=\"background-color: hsl(120, 100.00%, 98.68%); border: none;\">\n",
              "                <td colspan=\"2\" style=\"padding: 0 0.5em 0 0.5em; text-align: center; border: none; white-space: nowrap;\">\n",
              "                    <i>&hellip; 1 more &hellip;</i>\n",
              "                </td>\n",
              "            </tr>\n",
              "        \n",
              "    \n",
              "    </tbody>\n",
              "</table>\n",
              "    \n",
              "\n",
              "    \n",
              "\n",
              "\n",
              "    \n",
              "\n",
              "    \n",
              "\n",
              "    \n",
              "\n",
              "    \n",
              "\n",
              "    \n",
              "\n",
              "    \n",
              "\n",
              "\n",
              "\n"
            ],
            "text/plain": [
              "<IPython.core.display.HTML object>"
            ]
          },
          "metadata": {
            "tags": []
          },
          "execution_count": 37
        }
      ]
    },
    {
      "cell_type": "code",
      "metadata": {
        "id": "hmLqFH9186uG",
        "colab_type": "code",
        "colab": {}
      },
      "source": [
        ""
      ],
      "execution_count": null,
      "outputs": []
    }
  ]
}