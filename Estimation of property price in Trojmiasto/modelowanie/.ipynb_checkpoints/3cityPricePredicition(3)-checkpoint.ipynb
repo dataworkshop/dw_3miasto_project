{
 "cells": [
  {
   "cell_type": "markdown",
   "metadata": {
    "colab_type": "text",
    "id": "4VRW_Fx-92rY"
   },
   "source": [
    "## Projekt uczenia maszynowego\n",
    "\n"
   ]
  },
  {
   "cell_type": "markdown",
   "metadata": {
    "colab_type": "text",
    "id": "G7O7SG8f99II"
   },
   "source": [
    "* Przeanalizuj całokształt zadania\n",
    "* Uzyskaj dane\n",
    "* Przygotuj dane\n",
    "* Odkryj i zwizualizuj dane w celu rozpoznania wzorców i dodatkowych informacji\n",
    "* Przygotuj dane pod względem algorytmów uczenia maszynowego\n",
    "* Wybierz i wyucz model\n",
    "* Dostrój model\n",
    "* Zaprezentuj rozwiązanie\n",
    "* Uruchom, monitoruj i utrzymuj system"
   ]
  },
  {
   "cell_type": "code",
   "execution_count": 3,
   "metadata": {
    "colab": {
     "base_uri": "https://localhost:8080/",
     "height": 71
    },
    "colab_type": "code",
    "id": "GNZm1oEL--J3",
    "outputId": "2e3a1d06-95ab-48bd-b822-ab7a2cb09b71"
   },
   "outputs": [
    {
     "name": "stderr",
     "output_type": "stream",
     "text": [
      "/usr/local/lib/python3.6/dist-packages/statsmodels/tools/_testing.py:19: FutureWarning: pandas.util.testing is deprecated. Use the functions in the public API at pandas.testing instead.\n",
      "  import pandas.util.testing as tm\n"
     ]
    }
   ],
   "source": [
    "# biblioteki\n",
    "\n",
    "import pandas as pd\n",
    "import seaborn as sns\n",
    "import numpy as np\n",
    "from geopy import Nominatim\n",
    "from geopy import GoogleV3\n",
    "from tqdm.auto import tqdm\n",
    "from time import sleep\n",
    "import matplotlib.pyplot as plt\n",
    "from math import sin, cos, atan2, sqrt, degrees, radians, pi\n",
    "from geopy.distance import great_circle\n",
    "from geopy.point import Point\n",
    "from geopy import distance\n"
   ]
  },
  {
   "cell_type": "code",
   "execution_count": null,
   "metadata": {
    "colab": {},
    "colab_type": "code",
    "id": "rm4FLBcIi8bd"
   },
   "outputs": [],
   "source": [
    "# Import JSONa\n",
    "\n",
    "df = pd.read_json('drive/My Drive/DataSets/Nieruchomosci3miasto/przygotowane_dane.json')"
   ]
  },
  {
   "cell_type": "code",
   "execution_count": null,
   "metadata": {
    "colab": {},
    "colab_type": "code",
    "id": "RJ79yVuoCtY7"
   },
   "outputs": [],
   "source": [
    "# Atrybuty\n",
    "\n",
    "# Dwa geolocatory, które mają się uzupełniać\n",
    "geolocator = Nominatim(user_agent='dts36@wp.pl') \n",
    "geolocatorGoogle = GoogleV3(api_key='') # Podmienić na swoje API\n",
    "\n",
    "# Funkcje\n",
    "\n",
    "def converterStr2Float(x):\n",
    "  '''\n",
    "  Jeśli wartości w kolumnie nie można zamienić na liczbę, to zastępowana jest ona NaN.\n",
    "  Docelowo funkcja ma usuwać \"Zapytaj o cenę\" z kolumny CENA\n",
    "  ''' \n",
    "  try:\n",
    "    x = float(x)\n",
    "  except ValueError:\n",
    "    x = np.nan\n",
    "  return x\n",
    "\n",
    "def none2Nans(x):\n",
    "  '''\n",
    "  Zamiana '-1' na NaN.\n",
    "  '''\n",
    "  try:\n",
    "    if float(x) == -1.0:\n",
    "      return np.nan\n",
    "    else:\n",
    "      return x\n",
    "  except ValueError:\n",
    "    return x\n",
    "  except  TypeError:\n",
    "    return x\n",
    "\n",
    "\n",
    "def okreslAdres(address):\n",
    "  '''\n",
    "  Funkcja określa adres i współrzędne nieruchomości na bazie adresów w kolumnie ADRES\n",
    "  '''\n",
    "  try:\n",
    "    locData = geolocator.geocode(address)\n",
    "    # Jeżeli Nominatim nie poradzi sobie z wyznaczeniem współrzędnych, korzystamy z Google\n",
    "    if locData is None:\n",
    "      return geolocatorGoogle.geocode(address)\n",
    "    else:\n",
    "      return locData\n",
    "  except:\n",
    "    # Czasami trzeba odpytać jeszcze raz, po krótkiej przerwie...\n",
    "    try:\n",
    "      sleep(1)\n",
    "      locData = geolocator.geocode(address)\n",
    "      if locData is None:\n",
    "        return geolocatorGoogle.geocode(address)\n",
    "      else:\n",
    "        return locData\n",
    "    except:\n",
    "      # ...a czasami po dłuższej.\n",
    "      try:\n",
    "        sleep(5)\n",
    "        locData = geolocator.geocode(address)\n",
    "        if locData is None:\n",
    "          return geolocatorGoogle.geocode(address)\n",
    "        else:\n",
    "          return locData\n",
    "      except:\n",
    "        return np.nan\n",
    "      \n",
    "\n",
    "def okreslRynek(rok, rynek):\n",
    "  '''\n",
    "  Funkcja aktualizuje kolumnę RYNEK o wartości 'wtórny' jeśli nieruchmość została zbudowana przed 2019 r.\n",
    "  '''\n",
    "  if float(rok) < 2019 and ~pd.isnull('rynek'):\n",
    "    return 'wtórny'\n",
    "  else:\n",
    "    return rynek\n",
    "\n",
    "def okreslMiasto(adres):\n",
    "  '''\n",
    "  Funkcja zwraca nazwę miasta bazując na danych adresowych nieruchomości\n",
    "  '''\n",
    "  try:\n",
    "    if 'Gdańsk' in adres:\n",
    "      return 'Gdańsk'\n",
    "    elif 'Gdynia' in adres:\n",
    "      return 'Gdynia'\n",
    "    elif 'Sopot' in adres:\n",
    "      return 'Sopot'\n",
    "    else:\n",
    "      return np.nan\n",
    "  except:\n",
    "    return np.nan\n",
    "    \n",
    "\n",
    "def korektaPieter(x):\n",
    "  '''\n",
    "  Funkcja ujednolica oznaczenia pięter: 'Parter' > 0, '5/7' > 5 \n",
    "  '''\n",
    "  if 'parter' in str(x).lower():\n",
    "    return 0\n",
    "  elif ' ' in str(x).lower():\n",
    "    return int(str(x)[:str(x).index(' ')])\n",
    "  elif pd.isnull(x):\n",
    "    return x\n",
    "  else:\n",
    "    return int(x)\n",
    "\n",
    "def setBCoordinate(adres):\n",
    "  '''\n",
    "  Funkcja wyciąga współrzędną B z wcześniej wyznaczonych adresów za pomocą funkcji okreslAdres\n",
    "  '''\n",
    "  try:\n",
    "    return adres[1][0]\n",
    "  except:\n",
    "    return np.nan\n",
    "\n",
    "def setLCoordinate(adres):\n",
    "  '''\n",
    "  Funkcja wyciąga współrzędną L z wcześniej wyznaczonych adresów za pomocą funkcji okreslAdres\n",
    "  '''\n",
    "  try:\n",
    "    return adres[1][1]\n",
    "  except:\n",
    "    return np.nan\n",
    "\n",
    "def obliczenieOdleglosciOdCentrum(B, L, city):\n",
    "  '''\n",
    "  Funkcja oblicza odległość pomiędzy centrum miasta a nieruchomością\n",
    "\n",
    "  @param\n",
    "  B - współrzędna B nieruchomości\n",
    "  L - współrzędna L nieruchomości\n",
    "  city - miasto, w ktorym znajduje się nieruchomość\n",
    "  '''\n",
    "  # Bc, Lc to Współrzędne centrum\n",
    "\n",
    "  if city == 'Gdańsk':\n",
    "    Bc = 54.3475\n",
    "    Lc = 18.645278\n",
    "    return float(distance.distance((B,L), (Bc, Lc)).km)\n",
    "\n",
    "  elif city == \"Gdynia\":\n",
    "    Bc = 54.519167\n",
    "    Lc = 18.539444\n",
    "    return float(distance.distance((B,L), (Bc, Lc)).km)\n",
    "\n",
    "  elif city == 'Sopot':\n",
    "    Bc = 54.441944\n",
    "    Lc = 18.559722\n",
    "    return float(distance.distance((B,L), (Bc, Lc)).km)\n",
    "\n",
    "  else:\n",
    "    print('Sth wrong')\n",
    "\n",
    "def midpoint(a, b):\n",
    "  '''\n",
    "  Funkcja pomocnicza do Funkcji obliczającej odległość nieruchomości od linii (z założenia brzegowej)\n",
    "\n",
    "  @param\n",
    "  a - Point ze wspołrzędnymi punktu początkowego linii\n",
    "  b - Point ze współrzędnymi punktu końcowego linii\n",
    "  '''\n",
    "  a_lat, a_lon = radians(a.latitude), radians(a.longitude)\n",
    "  b_lat, b_lon = radians(b.latitude), radians(b.longitude)\n",
    "  delta_lon = b_lon - a_lon\n",
    "  B_x = cos(b_lat) * cos(delta_lon)\n",
    "  B_y = cos(b_lat) * sin(delta_lon)\n",
    "  mid_lat = atan2(\n",
    "      sin(a_lat) + sin(b_lat),\n",
    "      sqrt(((cos(a_lat) + B_x)**2 + B_y**2))\n",
    "  )\n",
    "  mid_lon = a_lon + atan2(B_y, cos(a_lat) + B_x)\n",
    "  # Normalise\n",
    "  mid_lon = (mid_lon + 3*pi) % (2*pi) - pi\n",
    "  return Point(latitude=degrees(mid_lat), longitude=degrees(mid_lon))\n",
    "\n",
    "\n",
    "\n",
    "def obliczanieOdleglosciOdMorza(B,L):\n",
    "  '''\n",
    "  Funkcja oblicza odległość nieruchomości od linii brzegowej (patrz szkic poniżej)\n",
    "  Linię tworzą 3 punkty: a, b, c (2 linie)\n",
    "  Funkcja oblicza najkrótsze odleglosci od linii i zwraca tę najmniejszą.\n",
    "\n",
    "  @param\n",
    "  B, L - współrzędne nieruchomości\n",
    "  '''\n",
    "  # Example:\n",
    "  a = Point(latitude=54.635670, longitude=18.535485)\n",
    "  b = Point(latitude=54.441223, longitude=18.581622)\n",
    "  c = Point(latitude=54.357214 , longitude=18.828730)\n",
    "\n",
    "  p = Point(latitude=B, longitude=L)\n",
    "\n",
    "  d1 = great_circle(midpoint(a, b), p)\n",
    "  d2 = great_circle(midpoint(b, c), p)\n",
    "  \n",
    "  return min([float(d1.km), float(d2.km)])\n"
   ]
  },
  {
   "cell_type": "markdown",
   "metadata": {
    "colab_type": "text",
    "id": "B0NW6SIfEhVR"
   },
   "source": [
    "Szkic przyjętej linii brzegowej\n",
    "\n",
    "![image.png](data:image/png;base64,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)"
   ]
  },
  {
   "cell_type": "markdown",
   "metadata": {
    "colab_type": "text",
    "id": "or4A8PLGeoaN"
   },
   "source": [
    "### Czyszczenie danych"
   ]
  },
  {
   "cell_type": "code",
   "execution_count": null,
   "metadata": {
    "colab": {},
    "colab_type": "code",
    "id": "d8tQ9hqpekjg"
   },
   "outputs": [],
   "source": [
    "# Wartości cen, których nie można przekonwertować na liczby (np. 'Zapytaj o cenę') zostają zamienione na NaN\n",
    "df['cena'] = df['cena'].apply(lambda x: converterStr2Float(x))\n",
    "# a następnie rekordy z NaN w kolumnie cena zostają usunięte\n",
    "df = df.dropna(subset=['cena'])\n"
   ]
  },
  {
   "cell_type": "code",
   "execution_count": null,
   "metadata": {
    "colab": {},
    "colab_type": "code",
    "id": "N4y0lVPi2zcF"
   },
   "outputs": [],
   "source": [
    "# W każdej kolumnie -1 zostają zamienione na NaN\n",
    "\n",
    "for column in list(df.columns):\n",
    "  df[column] = df[column].apply(lambda x: none2Nans(x))"
   ]
  },
  {
   "cell_type": "code",
   "execution_count": null,
   "metadata": {
    "colab": {},
    "colab_type": "code",
    "id": "dYFrGbBzE5Ec"
   },
   "outputs": [],
   "source": [
    "# Uzupełnienie kolumny 'rynek' o wartości 'wtórny', bazujące na roku budowy nieruchomości \n",
    "df['rynek_new'] = df.apply(lambda x: okreslRynek(x['rok_budowy'], x['rynek']), axis=1)"
   ]
  },
  {
   "cell_type": "code",
   "execution_count": null,
   "metadata": {
    "colab": {},
    "colab_type": "code",
    "id": "tr_B0IAWjntu"
   },
   "outputs": [],
   "source": [
    "# Korektra oznaczenia pięter, na którym znajduje się mieszkanie\n",
    "df['pietro_new'] = df['pietro']\n",
    "df['pietro_new'] = df['pietro_new'].apply(lambda x: korektaPieter(x))"
   ]
  },
  {
   "cell_type": "code",
   "execution_count": null,
   "metadata": {
    "colab": {
     "base_uri": "https://localhost:8080/",
     "height": 621
    },
    "colab_type": "code",
    "id": "OhAtcdgNHOMd",
    "outputId": "4d096144-abd9-477b-cb42-798c3a5c653a"
   },
   "outputs": [
    {
     "name": "stdout",
     "output_type": "stream",
     "text": [
      "<class 'pandas.core.frame.DataFrame'>\n",
      "Int64Index: 22764 entries, 0 to 9999\n",
      "Data columns (total 27 columns):\n",
      " #   Column                 Non-Null Count  Dtype  \n",
      "---  ------                 --------------  -----  \n",
      " 0   kuchnia                6999 non-null   object \n",
      " 1   rynek                  9396 non-null   object \n",
      " 2   balkon                 2631 non-null   object \n",
      " 3   liczba_pieter_budynku  22390 non-null  float64\n",
      " 4   rok_budowy             22764 non-null  int64  \n",
      " 5   miasto                 12250 non-null  object \n",
      " 6   liczba_pokoi           22712 non-null  float64\n",
      " 7   wykonczenie            5590 non-null   object \n",
      " 8   ulica                  3923 non-null   object \n",
      " 9   pietro                 22587 non-null  object \n",
      " 10  rodzaj_zabudowy        9137 non-null   object \n",
      " 11  powierzchnia           22764 non-null  float64\n",
      " 12  dzielnica              7001 non-null   object \n",
      " 13  forma-wlasnosci        1860 non-null   object \n",
      " 14  cena                   22764 non-null  float64\n",
      " 15  adres                  22764 non-null  object \n",
      " 16  serwis                 22764 non-null  object \n",
      " 17  material_budynku       3579 non-null   object \n",
      " 18  oferta                 4991 non-null   object \n",
      " 19  ogrzewanie             3727 non-null   object \n",
      " 20  winda                  4991 non-null   float64\n",
      " 21  czynsz                 1249 non-null   float64\n",
      " 22  typ_ogrzewania         7151 non-null   object \n",
      " 23  dodatkowe_informacje   8968 non-null   object \n",
      " 24  ulica_i_nr             669 non-null    object \n",
      " 25  rynek_new              20973 non-null  object \n",
      " 26  pietro_new             22587 non-null  float64\n",
      "dtypes: float64(7), int64(1), object(19)\n",
      "memory usage: 4.9+ MB\n"
     ]
    }
   ],
   "source": [
    "# Po pierwszej turze przetworzenia Datasetu sprawdzamy, które kolumny mają największą liczbę brakujących wartości\n",
    "# \n",
    "\n",
    "df.info()"
   ]
  },
  {
   "cell_type": "markdown",
   "metadata": {
    "colab_type": "text",
    "id": "t7epWx62HiiF"
   },
   "source": [
    "Funkcja uzupełniająca informacje o rynku odtworzyła blisko 11 tys. wartości (porównanie kolumny rynek i rynek_new)\n",
    "\n",
    "Funkcja piętro prawidłowo przetworzyła wszystkie wartości \n",
    "(porównanie kolumny pietro i pietro_new)\n",
    "\n",
    "Kolumna miasto powinna mieć tyle samo niezerowych wartości co kolumna adres, a więc jest do odtworzenia na bazie punktow adresowych)\n",
    "\n",
    "Atrybuty, które nie posiadały min. 15 tys. wartości zostały odrzucone. "
   ]
  },
  {
   "cell_type": "code",
   "execution_count": null,
   "metadata": {
    "colab": {},
    "colab_type": "code",
    "id": "zzdx5O6Nvqhw"
   },
   "outputs": [],
   "source": [
    "# Lista kolumn, które uznałem za istotne z punktu widzenia trenowania modelu i które zawierały więcej niż 15 tys. atrybutów\n",
    "bestCol = [ 'cena',\n",
    "            'powierzchnia',\n",
    "            'rynek_new',\n",
    "            'rok_budowy',\n",
    "            'liczba_pieter_budynku',\n",
    "            'liczba_pokoi',\n",
    "            'miasto',\n",
    "            'pietro_new',\n",
    "            'adres']\n",
    "\n",
    "# Lista kolumn, w jakich nie może być wartości NaN. W porównaniu do zestawu kolumn powyżej, nie ma w niej miasta (bo te wartości zostaną odtworzone później)\n",
    "\n",
    "noNanCol = [ 'cena',\n",
    "            'powierzchnia',\n",
    "            'rynek_new',\n",
    "            'rok_budowy',\n",
    "            'liczba_pieter_budynku',\n",
    "            'liczba_pokoi',\n",
    "            'pietro_new',\n",
    "            'adres']\n"
   ]
  },
  {
   "cell_type": "code",
   "execution_count": null,
   "metadata": {
    "colab": {},
    "colab_type": "code",
    "id": "c5RNLBeLG2nX"
   },
   "outputs": [],
   "source": [
    "# Selekcja kolumn, które spełniały kryteria: liczba wartości atrybutów > 15 tys.\n",
    "df = df[bestCol]\n",
    "\n",
    "# Usunięcie rekordów, które zawierają wartości NaN\n",
    "df = df.dropna(subset=noNanCol)\n"
   ]
  },
  {
   "cell_type": "code",
   "execution_count": null,
   "metadata": {
    "colab": {
     "base_uri": "https://localhost:8080/",
     "height": 301
    },
    "colab_type": "code",
    "id": "iAzvEV-9J88M",
    "outputId": "c2eb4adb-9bf3-4b4e-c87a-cf226022521d"
   },
   "outputs": [
    {
     "name": "stdout",
     "output_type": "stream",
     "text": [
      "<class 'pandas.core.frame.DataFrame'>\n",
      "Int64Index: 20416 entries, 0 to 9999\n",
      "Data columns (total 9 columns):\n",
      " #   Column                 Non-Null Count  Dtype  \n",
      "---  ------                 --------------  -----  \n",
      " 0   cena                   20416 non-null  float64\n",
      " 1   powierzchnia           20416 non-null  float64\n",
      " 2   rynek_new              20416 non-null  object \n",
      " 3   rok_budowy             20416 non-null  int64  \n",
      " 4   liczba_pieter_budynku  20416 non-null  float64\n",
      " 5   liczba_pokoi           20416 non-null  float64\n",
      " 6   miasto                 11454 non-null  object \n",
      " 7   pietro_new             20416 non-null  float64\n",
      " 8   adres                  20416 non-null  object \n",
      "dtypes: float64(5), int64(1), object(3)\n",
      "memory usage: 1.6+ MB\n"
     ]
    }
   ],
   "source": [
    "df.info()"
   ]
  },
  {
   "cell_type": "code",
   "execution_count": null,
   "metadata": {
    "colab": {
     "base_uri": "https://localhost:8080/",
     "height": 66,
     "referenced_widgets": [
      "cf706a9bd5e1456284baf4f10fa27fd2",
      "df8c8da300504157b48707ef4a64db88",
      "927cf0e959304f00aafbe6d0a686db8c",
      "6a64933e06e64bc3a241101c2e4c24cb",
      "9744283c4ee943bcbbe3c76bcd4752f4",
      "fddfd5dc1d1b43afb2363543ccf73b8b",
      "b917f7c4bd0d47608adf30fe05d4cc79",
      "05e682ba7d374e0295aee7ae91aee3c9"
     ]
    },
    "colab_type": "code",
    "id": "0kJ1jEHWyrOv",
    "outputId": "75ea4327-8eb8-4fa7-e0bc-7aceb69bb1f1"
   },
   "outputs": [
    {
     "data": {
      "application/vnd.jupyter.widget-view+json": {
       "model_id": "cf706a9bd5e1456284baf4f10fa27fd2",
       "version_major": 2,
       "version_minor": 0
      },
      "text/plain": [
       "HBox(children=(FloatProgress(value=0.0, max=20416.0), HTML(value='')))"
      ]
     },
     "metadata": {
      "tags": []
     },
     "output_type": "display_data"
    },
    {
     "name": "stdout",
     "output_type": "stream",
     "text": [
      "\n"
     ]
    }
   ],
   "source": [
    "# Zamian adresów na adresy + współrzędne w formacie geopy\n",
    "# !!! UWAGA - zajmuje to ok 3h !!!\n",
    "\n",
    "tqdm.pandas()\n",
    "df['adres_new'] = df['adres'].progress_apply(lambda x: okreslAdres(x))"
   ]
  },
  {
   "cell_type": "code",
   "execution_count": null,
   "metadata": {
    "colab": {},
    "colab_type": "code",
    "id": "crYl_8a7RLtW"
   },
   "outputs": [],
   "source": [
    "# Wyodrębnienie współrzędnych B i L z danych adresowych\n",
    "\n",
    "df['B'] = df.apply(lambda x: setBCoordinate(x['adres_new']), axis=1)\n",
    "df['L'] = df.apply(lambda x: setLCoordinate(x['adres_new']), axis=1)"
   ]
  },
  {
   "cell_type": "code",
   "execution_count": null,
   "metadata": {
    "colab": {},
    "colab_type": "code",
    "id": "IMvPT3jWVxOM"
   },
   "outputs": [],
   "source": [
    "# Aktualizacja wartości atrybutu MIASTO na bazie danych adresowych\n",
    "\n",
    "df['miasto_new'] = df.apply(lambda x: okreslMiasto(x['adres_new']), axis= 1)"
   ]
  },
  {
   "cell_type": "code",
   "execution_count": null,
   "metadata": {
    "colab": {},
    "colab_type": "code",
    "id": "Tx1Tpjp_bcaw"
   },
   "outputs": [],
   "source": [
    "# Obliczenie ceny za 1 m2 \n",
    "\n",
    "df['cena_za_metr'] = df.apply(lambda x: int(x['cena']/x['powierzchnia']), axis = 1)"
   ]
  },
  {
   "cell_type": "code",
   "execution_count": null,
   "metadata": {
    "colab": {
     "base_uri": "https://localhost:8080/",
     "height": 66,
     "referenced_widgets": [
      "a450d4b6b3b6442c913705ee93491d7b",
      "87b2da7731af42c6bb4fe70865e1ec8c",
      "3db91e3d80d4480ea9b4255c4548e582",
      "ffd314add4c748bc8e35d9bc6920cccd",
      "de9aed40ed9b443ebc16efc3b13ea6ed",
      "a0fc6c9a334d4033bc570601f0dee842",
      "2a06008e249b4c28bc3a7a5267ec6927",
      "57557ca051904b4ba68ca9c3ecb8b0a7"
     ]
    },
    "colab_type": "code",
    "id": "5Rve5JdPgst7",
    "outputId": "1f4a5ed4-869b-4211-dc4d-371f042cc9bf"
   },
   "outputs": [
    {
     "data": {
      "application/vnd.jupyter.widget-view+json": {
       "model_id": "a450d4b6b3b6442c913705ee93491d7b",
       "version_major": 2,
       "version_minor": 0
      },
      "text/plain": [
       "HBox(children=(FloatProgress(value=0.0, max=20299.0), HTML(value='')))"
      ]
     },
     "metadata": {
      "tags": []
     },
     "output_type": "display_data"
    },
    {
     "name": "stdout",
     "output_type": "stream",
     "text": [
      "\n"
     ]
    }
   ],
   "source": [
    "# Usunięcie rekordów, które zawierały błędne adresy i przez to zostały wyznaczone złe współrzędne\n",
    "\n",
    "df = df[df['B']>47]"
   ]
  },
  {
   "cell_type": "code",
   "execution_count": null,
   "metadata": {
    "colab": {},
    "colab_type": "code",
    "id": "OrQQ9Ki2LYl0"
   },
   "outputs": [],
   "source": [
    "# Obliczenie odległości do centrum miasta\n",
    "\n",
    "tqdm.pandas()\n",
    "df['doCentrum'] = df.progress_apply(lambda x: obliczenieOdleglosciOdCentrum(x['B'], x['L'], x['miasto_new']), axis = 1)"
   ]
  },
  {
   "cell_type": "code",
   "execution_count": null,
   "metadata": {
    "colab": {},
    "colab_type": "code",
    "id": "wUfr-Fp4tron"
   },
   "outputs": [],
   "source": [
    "# Obliczenie odległości do morza\n",
    "\n",
    "df['doMorza'] = df.apply(lambda x: obliczanieOdleglosciOdMorza(x['B'], x['L']), axis = 1)"
   ]
  },
  {
   "cell_type": "code",
   "execution_count": null,
   "metadata": {
    "colab": {},
    "colab_type": "code",
    "id": "DvSt5LAmKwVT"
   },
   "outputs": [],
   "source": [
    "# Nowa lista kolumn, które uznałem za istotne z punktu widzenia trenowania modelu\n",
    "\n",
    "bestCol = [ 'cena',\n",
    "            'powierzchnia',\n",
    "            'cena_za_metr',\n",
    "            'rynek_new',\n",
    "            'rok_budowy',\n",
    "            'liczba_pieter_budynku',\n",
    "            'liczba_pokoi',\n",
    "            'miasto_new',\n",
    "            'pietro_new',\n",
    "            'B',\n",
    "            'L',\n",
    "            'doMorza',\n",
    "            'doCentrum']\n"
   ]
  },
  {
   "cell_type": "code",
   "execution_count": null,
   "metadata": {
    "colab": {},
    "colab_type": "code",
    "id": "CBNkiSE5NNJS"
   },
   "outputs": [],
   "source": [
    "# Usunięcie zbędnych kolumn\n",
    "\n",
    "df = df[bestCol]"
   ]
  },
  {
   "cell_type": "code",
   "execution_count": null,
   "metadata": {
    "colab": {
     "base_uri": "https://localhost:8080/",
     "height": 407
    },
    "colab_type": "code",
    "id": "aBifx8j3Dr-R",
    "outputId": "2b1596d1-c47a-4728-cff9-4d8352f824ef"
   },
   "outputs": [
    {
     "name": "stdout",
     "output_type": "stream",
     "text": [
      "<class 'pandas.core.frame.DataFrame'>\n",
      "Int64Index: 20303 entries, 0 to 20415\n",
      "Data columns (total 15 columns):\n",
      " #   Column                 Non-Null Count  Dtype  \n",
      "---  ------                 --------------  -----  \n",
      " 0   Unnamed: 0             20303 non-null  int64  \n",
      " 1   rynek_uzupelniony      20303 non-null  object \n",
      " 2   liczba_pieter_budynku  20303 non-null  float64\n",
      " 3   rok_budowy             20303 non-null  int64  \n",
      " 4   miasto                 11393 non-null  object \n",
      " 5   liczba_pokoi           20303 non-null  float64\n",
      " 6   pietro_new             20303 non-null  float64\n",
      " 7   powierzchnia           20303 non-null  float64\n",
      " 8   cena                   20303 non-null  float64\n",
      " 9   adres                  20303 non-null  object \n",
      " 10  adres_new              20303 non-null  object \n",
      " 11  B                      20303 non-null  float64\n",
      " 12  L                      20303 non-null  float64\n",
      " 13  miasto_new             20303 non-null  object \n",
      " 14  cena_za_metr           20303 non-null  int64  \n",
      "dtypes: float64(7), int64(3), object(5)\n",
      "memory usage: 2.5+ MB\n"
     ]
    }
   ],
   "source": [
    "# Usunięcie rekordów, które zawierają wartość NaN\n",
    "\n",
    "df = df.dropna(subset=bestCol)"
   ]
  },
  {
   "cell_type": "code",
   "execution_count": null,
   "metadata": {
    "colab": {},
    "colab_type": "code",
    "id": "PAixfXp2MHBa"
   },
   "outputs": [],
   "source": [
    "# !!! Każdy z atrybutów powinien mieć 20303 wartości !!!\n",
    "\n",
    "df.info()"
   ]
  },
  {
   "cell_type": "code",
   "execution_count": null,
   "metadata": {
    "colab": {},
    "colab_type": "code",
    "id": "0cDG1I1AMRJ3"
   },
   "outputs": [],
   "source": [
    "# Zapis przetworzonego datasetu do pliku CSV\n",
    "\n",
    "df.to_csv('drive/My Drive/DataSets/Nieruchomosci3miasto/3city_dataset_DT.csv', index=True)\n"
   ]
  },
  {
   "cell_type": "markdown",
   "metadata": {
    "colab_type": "text",
    "id": "3TQ2WCxANbl2"
   },
   "source": [
    "### Analiza Danych - cdn..."
   ]
  },
  {
   "cell_type": "code",
   "execution_count": 4,
   "metadata": {
    "colab": {},
    "colab_type": "code",
    "id": "ahJ0GvTGNiQx"
   },
   "outputs": [],
   "source": [
    "# Wczytanie pliku CSV\n",
    "\n",
    "df = pd.read_csv('drive/My Drive/DataSets/Nieruchomosci3miasto/3city_dataset_DT.csv')"
   ]
  },
  {
   "cell_type": "code",
   "execution_count": 5,
   "metadata": {
    "colab": {},
    "colab_type": "code",
    "id": "33vPrdRjT-NU"
   },
   "outputs": [],
   "source": [
    "bestCol = bestCol = [\n",
    "            'powierzchnia',\n",
    "            'cena_za_metr',\n",
    "            'rynek_new',\n",
    "            'rok_budowy',\n",
    "            'liczba_pieter_budynku',\n",
    "            'liczba_pokoi',\n",
    "            'miasto_new',\n",
    "            'pietro_new',\n",
    "            'B',\n",
    "            'L',\n",
    "            'doMorza',\n",
    "            'doCentrum'\n",
    "            ]\n",
    "\n",
    "\n",
    "df = df[bestCol]\n",
    "\n"
   ]
  },
  {
   "cell_type": "code",
   "execution_count": 6,
   "metadata": {
    "colab": {},
    "colab_type": "code",
    "id": "5tEsMC2gUC-z"
   },
   "outputs": [],
   "source": [
    "df.columns = ['powierzchnia', 'cena_za_metr', 'rynek', 'rok_budowy',\n",
    "       'liczba_pieter_budynku', 'liczba_pokoi', 'miasto', 'pietro',\n",
    "       'B', 'L', 'do_morza', 'do_centrum']"
   ]
  },
  {
   "cell_type": "code",
   "execution_count": 7,
   "metadata": {
    "colab": {
     "base_uri": "https://localhost:8080/",
     "height": 224
    },
    "colab_type": "code",
    "id": "o0XiIxIYQHQl",
    "outputId": "31c5ddc6-35e5-47d0-c29b-429507804c05"
   },
   "outputs": [
    {
     "data": {
      "text/html": [
       "<div>\n",
       "<style scoped>\n",
       "    .dataframe tbody tr th:only-of-type {\n",
       "        vertical-align: middle;\n",
       "    }\n",
       "\n",
       "    .dataframe tbody tr th {\n",
       "        vertical-align: top;\n",
       "    }\n",
       "\n",
       "    .dataframe thead th {\n",
       "        text-align: right;\n",
       "    }\n",
       "</style>\n",
       "<table border=\"1\" class=\"dataframe\">\n",
       "  <thead>\n",
       "    <tr style=\"text-align: right;\">\n",
       "      <th></th>\n",
       "      <th>powierzchnia</th>\n",
       "      <th>cena_za_metr</th>\n",
       "      <th>rynek</th>\n",
       "      <th>rok_budowy</th>\n",
       "      <th>liczba_pieter_budynku</th>\n",
       "      <th>liczba_pokoi</th>\n",
       "      <th>miasto</th>\n",
       "      <th>pietro</th>\n",
       "      <th>B</th>\n",
       "      <th>L</th>\n",
       "      <th>do_morza</th>\n",
       "      <th>do_centrum</th>\n",
       "    </tr>\n",
       "  </thead>\n",
       "  <tbody>\n",
       "    <tr>\n",
       "      <th>0</th>\n",
       "      <td>46.00</td>\n",
       "      <td>16478</td>\n",
       "      <td>wtórny</td>\n",
       "      <td>2018</td>\n",
       "      <td>3.0</td>\n",
       "      <td>2.0</td>\n",
       "      <td>Gdańsk</td>\n",
       "      <td>0.0</td>\n",
       "      <td>54.411929</td>\n",
       "      <td>18.571334</td>\n",
       "      <td>8.783826</td>\n",
       "      <td>8.632464</td>\n",
       "    </tr>\n",
       "    <tr>\n",
       "      <th>1</th>\n",
       "      <td>47.00</td>\n",
       "      <td>14680</td>\n",
       "      <td>wtórny</td>\n",
       "      <td>2018</td>\n",
       "      <td>3.0</td>\n",
       "      <td>2.0</td>\n",
       "      <td>Gdańsk</td>\n",
       "      <td>0.0</td>\n",
       "      <td>54.411929</td>\n",
       "      <td>18.571334</td>\n",
       "      <td>8.783826</td>\n",
       "      <td>8.632464</td>\n",
       "    </tr>\n",
       "    <tr>\n",
       "      <th>2</th>\n",
       "      <td>41.59</td>\n",
       "      <td>11000</td>\n",
       "      <td>pierwotny</td>\n",
       "      <td>2020</td>\n",
       "      <td>7.0</td>\n",
       "      <td>2.0</td>\n",
       "      <td>Gdańsk</td>\n",
       "      <td>0.0</td>\n",
       "      <td>54.407964</td>\n",
       "      <td>18.580274</td>\n",
       "      <td>8.149679</td>\n",
       "      <td>7.946105</td>\n",
       "    </tr>\n",
       "    <tr>\n",
       "      <th>3</th>\n",
       "      <td>57.96</td>\n",
       "      <td>14354</td>\n",
       "      <td>wtórny</td>\n",
       "      <td>2018</td>\n",
       "      <td>4.0</td>\n",
       "      <td>3.0</td>\n",
       "      <td>Gdańsk</td>\n",
       "      <td>1.0</td>\n",
       "      <td>54.386608</td>\n",
       "      <td>18.622377</td>\n",
       "      <td>5.550485</td>\n",
       "      <td>4.600607</td>\n",
       "    </tr>\n",
       "    <tr>\n",
       "      <th>4</th>\n",
       "      <td>63.50</td>\n",
       "      <td>11258</td>\n",
       "      <td>wtórny</td>\n",
       "      <td>2019</td>\n",
       "      <td>5.0</td>\n",
       "      <td>3.0</td>\n",
       "      <td>Gdańsk</td>\n",
       "      <td>2.0</td>\n",
       "      <td>54.410210</td>\n",
       "      <td>18.553952</td>\n",
       "      <td>9.870762</td>\n",
       "      <td>9.161940</td>\n",
       "    </tr>\n",
       "  </tbody>\n",
       "</table>\n",
       "</div>"
      ],
      "text/plain": [
       "   powierzchnia  cena_za_metr      rynek  ...          L  do_morza  do_centrum\n",
       "0         46.00         16478     wtórny  ...  18.571334  8.783826    8.632464\n",
       "1         47.00         14680     wtórny  ...  18.571334  8.783826    8.632464\n",
       "2         41.59         11000  pierwotny  ...  18.580274  8.149679    7.946105\n",
       "3         57.96         14354     wtórny  ...  18.622377  5.550485    4.600607\n",
       "4         63.50         11258     wtórny  ...  18.553952  9.870762    9.161940\n",
       "\n",
       "[5 rows x 12 columns]"
      ]
     },
     "execution_count": 7,
     "metadata": {
      "tags": []
     },
     "output_type": "execute_result"
    }
   ],
   "source": [
    "# Struktura danych\n",
    "\n",
    "df.head()"
   ]
  },
  {
   "cell_type": "code",
   "execution_count": 8,
   "metadata": {
    "colab": {
     "base_uri": "https://localhost:8080/",
     "height": 340
    },
    "colab_type": "code",
    "id": "XpyEVE9qQrqX",
    "outputId": "69f65f50-89c2-4d86-9a88-5dc6ccf6cdaf"
   },
   "outputs": [
    {
     "name": "stdout",
     "output_type": "stream",
     "text": [
      "<class 'pandas.core.frame.DataFrame'>\n",
      "RangeIndex: 20299 entries, 0 to 20298\n",
      "Data columns (total 12 columns):\n",
      " #   Column                 Non-Null Count  Dtype  \n",
      "---  ------                 --------------  -----  \n",
      " 0   powierzchnia           20299 non-null  float64\n",
      " 1   cena_za_metr           20299 non-null  int64  \n",
      " 2   rynek                  20299 non-null  object \n",
      " 3   rok_budowy             20299 non-null  int64  \n",
      " 4   liczba_pieter_budynku  20299 non-null  float64\n",
      " 5   liczba_pokoi           20299 non-null  float64\n",
      " 6   miasto                 20299 non-null  object \n",
      " 7   pietro                 20299 non-null  float64\n",
      " 8   B                      20299 non-null  float64\n",
      " 9   L                      20299 non-null  float64\n",
      " 10  do_morza               20299 non-null  float64\n",
      " 11  do_centrum             20299 non-null  float64\n",
      "dtypes: float64(8), int64(2), object(2)\n",
      "memory usage: 1.9+ MB\n"
     ]
    }
   ],
   "source": [
    "# Krotki opis danych \n",
    "\n",
    "df.info()\n"
   ]
  },
  {
   "cell_type": "markdown",
   "metadata": {
    "colab_type": "text",
    "id": "V_pA-l08RUJT"
   },
   "source": [
    "W kolumnach rynek_new i miasto_new mamy atrybuty nienumeryczne (prawdopodobnie kategorialne)."
   ]
  },
  {
   "cell_type": "code",
   "execution_count": 9,
   "metadata": {
    "colab": {
     "base_uri": "https://localhost:8080/",
     "height": 85
    },
    "colab_type": "code",
    "id": "0sG_tYWyRpUP",
    "outputId": "f8214f58-5739-4c0d-d3f7-2e091ad28286"
   },
   "outputs": [
    {
     "data": {
      "text/plain": [
       "Gdańsk    12736\n",
       "Gdynia     5624\n",
       "Sopot      1939\n",
       "Name: miasto, dtype: int64"
      ]
     },
     "execution_count": 9,
     "metadata": {
      "tags": []
     },
     "output_type": "execute_result"
    }
   ],
   "source": [
    "# Sprawdzenie, jakie kategorie są dostępne\n",
    "\n",
    "df['miasto'].value_counts()"
   ]
  },
  {
   "cell_type": "code",
   "execution_count": 10,
   "metadata": {
    "colab": {
     "base_uri": "https://localhost:8080/",
     "height": 68
    },
    "colab_type": "code",
    "id": "9QP4uqOxUQjv",
    "outputId": "4540af9a-c445-461c-fa15-d9b15b8e6a86"
   },
   "outputs": [
    {
     "data": {
      "text/plain": [
       "wtórny       18155\n",
       "pierwotny     2144\n",
       "Name: rynek, dtype: int64"
      ]
     },
     "execution_count": 10,
     "metadata": {
      "tags": []
     },
     "output_type": "execute_result"
    }
   ],
   "source": [
    "df['rynek'].value_counts()"
   ]
  },
  {
   "cell_type": "code",
   "execution_count": 11,
   "metadata": {
    "colab": {
     "base_uri": "https://localhost:8080/",
     "height": 34
    },
    "colab_type": "code",
    "id": "9qZaLTUtXaWk",
    "outputId": "59fe4a19-b7bc-4c67-bfa2-09269762221c"
   },
   "outputs": [
    {
     "data": {
      "text/plain": [
       "1498"
      ]
     },
     "execution_count": 11,
     "metadata": {
      "tags": []
     },
     "output_type": "execute_result"
    }
   ],
   "source": [
    "df['rok_budowy'].min()"
   ]
  },
  {
   "cell_type": "code",
   "execution_count": 12,
   "metadata": {
    "colab": {
     "base_uri": "https://localhost:8080/",
     "height": 317
    },
    "colab_type": "code",
    "id": "kLJktIUHSbvl",
    "outputId": "1d72d394-2b54-4474-f124-09a2d7e27767"
   },
   "outputs": [
    {
     "data": {
      "text/html": [
       "<div>\n",
       "<style scoped>\n",
       "    .dataframe tbody tr th:only-of-type {\n",
       "        vertical-align: middle;\n",
       "    }\n",
       "\n",
       "    .dataframe tbody tr th {\n",
       "        vertical-align: top;\n",
       "    }\n",
       "\n",
       "    .dataframe thead th {\n",
       "        text-align: right;\n",
       "    }\n",
       "</style>\n",
       "<table border=\"1\" class=\"dataframe\">\n",
       "  <thead>\n",
       "    <tr style=\"text-align: right;\">\n",
       "      <th></th>\n",
       "      <th>powierzchnia</th>\n",
       "      <th>cena_za_metr</th>\n",
       "      <th>rok_budowy</th>\n",
       "      <th>liczba_pieter_budynku</th>\n",
       "      <th>liczba_pokoi</th>\n",
       "      <th>pietro</th>\n",
       "      <th>B</th>\n",
       "      <th>L</th>\n",
       "      <th>do_morza</th>\n",
       "      <th>do_centrum</th>\n",
       "    </tr>\n",
       "  </thead>\n",
       "  <tbody>\n",
       "    <tr>\n",
       "      <th>count</th>\n",
       "      <td>20299.000000</td>\n",
       "      <td>20299.000000</td>\n",
       "      <td>20299.000000</td>\n",
       "      <td>20299.000000</td>\n",
       "      <td>20299.000000</td>\n",
       "      <td>20299.000000</td>\n",
       "      <td>20299.000000</td>\n",
       "      <td>20299.000000</td>\n",
       "      <td>20299.000000</td>\n",
       "      <td>20299.000000</td>\n",
       "    </tr>\n",
       "    <tr>\n",
       "      <th>mean</th>\n",
       "      <td>60.418328</td>\n",
       "      <td>10013.046455</td>\n",
       "      <td>1987.894872</td>\n",
       "      <td>4.874033</td>\n",
       "      <td>2.714469</td>\n",
       "      <td>2.480024</td>\n",
       "      <td>54.413875</td>\n",
       "      <td>18.573916</td>\n",
       "      <td>7.659480</td>\n",
       "      <td>4.246279</td>\n",
       "    </tr>\n",
       "    <tr>\n",
       "      <th>std</th>\n",
       "      <td>22.478537</td>\n",
       "      <td>3206.961829</td>\n",
       "      <td>33.329532</td>\n",
       "      <td>3.449828</td>\n",
       "      <td>0.930141</td>\n",
       "      <td>2.528668</td>\n",
       "      <td>0.071475</td>\n",
       "      <td>0.060723</td>\n",
       "      <td>2.828548</td>\n",
       "      <td>2.855200</td>\n",
       "    </tr>\n",
       "    <tr>\n",
       "      <th>min</th>\n",
       "      <td>15.690000</td>\n",
       "      <td>2189.000000</td>\n",
       "      <td>1498.000000</td>\n",
       "      <td>0.000000</td>\n",
       "      <td>1.000000</td>\n",
       "      <td>0.000000</td>\n",
       "      <td>54.260854</td>\n",
       "      <td>18.410231</td>\n",
       "      <td>0.589279</td>\n",
       "      <td>0.014662</td>\n",
       "    </tr>\n",
       "    <tr>\n",
       "      <th>25%</th>\n",
       "      <td>45.000000</td>\n",
       "      <td>7716.000000</td>\n",
       "      <td>1970.000000</td>\n",
       "      <td>3.000000</td>\n",
       "      <td>2.000000</td>\n",
       "      <td>1.000000</td>\n",
       "      <td>54.352134</td>\n",
       "      <td>18.540128</td>\n",
       "      <td>5.914516</td>\n",
       "      <td>1.451595</td>\n",
       "    </tr>\n",
       "    <tr>\n",
       "      <th>50%</th>\n",
       "      <td>56.230000</td>\n",
       "      <td>9239.000000</td>\n",
       "      <td>2000.000000</td>\n",
       "      <td>4.000000</td>\n",
       "      <td>3.000000</td>\n",
       "      <td>2.000000</td>\n",
       "      <td>54.398004</td>\n",
       "      <td>18.572436</td>\n",
       "      <td>7.286945</td>\n",
       "      <td>4.396476</td>\n",
       "    </tr>\n",
       "    <tr>\n",
       "      <th>75%</th>\n",
       "      <td>71.000000</td>\n",
       "      <td>11652.000000</td>\n",
       "      <td>2015.000000</td>\n",
       "      <td>5.000000</td>\n",
       "      <td>3.000000</td>\n",
       "      <td>3.000000</td>\n",
       "      <td>54.471423</td>\n",
       "      <td>18.614545</td>\n",
       "      <td>9.762132</td>\n",
       "      <td>6.098539</td>\n",
       "    </tr>\n",
       "    <tr>\n",
       "      <th>max</th>\n",
       "      <td>195.000000</td>\n",
       "      <td>29605.000000</td>\n",
       "      <td>2029.000000</td>\n",
       "      <td>29.000000</td>\n",
       "      <td>10.000000</td>\n",
       "      <td>18.000000</td>\n",
       "      <td>54.581383</td>\n",
       "      <td>18.934268</td>\n",
       "      <td>16.922590</td>\n",
       "      <td>20.028514</td>\n",
       "    </tr>\n",
       "  </tbody>\n",
       "</table>\n",
       "</div>"
      ],
      "text/plain": [
       "       powierzchnia  cena_za_metr  ...      do_morza    do_centrum\n",
       "count  20299.000000  20299.000000  ...  20299.000000  20299.000000\n",
       "mean      60.418328  10013.046455  ...      7.659480      4.246279\n",
       "std       22.478537   3206.961829  ...      2.828548      2.855200\n",
       "min       15.690000   2189.000000  ...      0.589279      0.014662\n",
       "25%       45.000000   7716.000000  ...      5.914516      1.451595\n",
       "50%       56.230000   9239.000000  ...      7.286945      4.396476\n",
       "75%       71.000000  11652.000000  ...      9.762132      6.098539\n",
       "max      195.000000  29605.000000  ...     16.922590     20.028514\n",
       "\n",
       "[8 rows x 10 columns]"
      ]
     },
     "execution_count": 12,
     "metadata": {
      "tags": []
     },
     "output_type": "execute_result"
    }
   ],
   "source": [
    "# Podsumowanie atrybutow numerycznych\n",
    "\n",
    "df.describe()"
   ]
  },
  {
   "cell_type": "code",
   "execution_count": 13,
   "metadata": {
    "colab": {
     "base_uri": "https://localhost:8080/",
     "height": 885
    },
    "colab_type": "code",
    "id": "odHeeYwyTQQU",
    "outputId": "277a5b85-45a4-4eae-a64c-4006f19bbe45"
   },
   "outputs": [
    {
     "data": {
      "text/plain": [
       "array([[<matplotlib.axes._subplots.AxesSubplot object at 0x7fb6ddf8a390>,\n",
       "        <matplotlib.axes._subplots.AxesSubplot object at 0x7fb6ddf5f630>,\n",
       "        <matplotlib.axes._subplots.AxesSubplot object at 0x7fb6ddf16898>],\n",
       "       [<matplotlib.axes._subplots.AxesSubplot object at 0x7fb6ddec9b00>,\n",
       "        <matplotlib.axes._subplots.AxesSubplot object at 0x7fb6ddefdd68>,\n",
       "        <matplotlib.axes._subplots.AxesSubplot object at 0x7fb6ddeb2fd0>],\n",
       "       [<matplotlib.axes._subplots.AxesSubplot object at 0x7fb6dde71278>,\n",
       "        <matplotlib.axes._subplots.AxesSubplot object at 0x7fb6dde254a8>,\n",
       "        <matplotlib.axes._subplots.AxesSubplot object at 0x7fb6dde25518>],\n",
       "       [<matplotlib.axes._subplots.AxesSubplot object at 0x7fb6ddd8a9b0>,\n",
       "        <matplotlib.axes._subplots.AxesSubplot object at 0x7fb6dddbdc18>,\n",
       "        <matplotlib.axes._subplots.AxesSubplot object at 0x7fb6ddd72e80>]],\n",
       "      dtype=object)"
      ]
     },
     "execution_count": 13,
     "metadata": {
      "tags": []
     },
     "output_type": "execute_result"
    },
    {
     "data": {
      "image/png": "[encoded data removed]",
      "text/plain": [
       "<Figure size 1440x1080 with 12 Axes>"
      ]
     },
     "metadata": {
      "needs_background": "light",
      "tags": []
     },
     "output_type": "display_data"
    }
   ],
   "source": [
    "# Histogramy\n",
    "\n",
    "df.hist(bins = 50, figsize = (20,15))"
   ]
  },
  {
   "cell_type": "code",
   "execution_count": 14,
   "metadata": {
    "colab": {
     "base_uri": "https://localhost:8080/",
     "height": 193
    },
    "colab_type": "code",
    "id": "BiNLnKqzXuiA",
    "outputId": "faa1686b-5e09-4243-c868-cdf8ffc1e998"
   },
   "outputs": [
    {
     "data": {
      "text/html": [
       "<div>\n",
       "<style scoped>\n",
       "    .dataframe tbody tr th:only-of-type {\n",
       "        vertical-align: middle;\n",
       "    }\n",
       "\n",
       "    .dataframe tbody tr th {\n",
       "        vertical-align: top;\n",
       "    }\n",
       "\n",
       "    .dataframe thead th {\n",
       "        text-align: right;\n",
       "    }\n",
       "</style>\n",
       "<table border=\"1\" class=\"dataframe\">\n",
       "  <thead>\n",
       "    <tr style=\"text-align: right;\">\n",
       "      <th></th>\n",
       "      <th>powierzchnia</th>\n",
       "      <th>cena_za_metr</th>\n",
       "      <th>rynek</th>\n",
       "      <th>rok_budowy</th>\n",
       "      <th>liczba_pieter_budynku</th>\n",
       "      <th>liczba_pokoi</th>\n",
       "      <th>miasto</th>\n",
       "      <th>pietro</th>\n",
       "      <th>B</th>\n",
       "      <th>L</th>\n",
       "      <th>do_morza</th>\n",
       "      <th>do_centrum</th>\n",
       "    </tr>\n",
       "  </thead>\n",
       "  <tbody>\n",
       "    <tr>\n",
       "      <th>4963</th>\n",
       "      <td>60.20</td>\n",
       "      <td>16993</td>\n",
       "      <td>wtórny</td>\n",
       "      <td>1498</td>\n",
       "      <td>2.0</td>\n",
       "      <td>3.0</td>\n",
       "      <td>Gdańsk</td>\n",
       "      <td>0.0</td>\n",
       "      <td>54.352939</td>\n",
       "      <td>18.659908</td>\n",
       "      <td>5.93278</td>\n",
       "      <td>1.127626</td>\n",
       "    </tr>\n",
       "    <tr>\n",
       "      <th>4977</th>\n",
       "      <td>52.82</td>\n",
       "      <td>16982</td>\n",
       "      <td>wtórny</td>\n",
       "      <td>1498</td>\n",
       "      <td>2.0</td>\n",
       "      <td>2.0</td>\n",
       "      <td>Gdańsk</td>\n",
       "      <td>0.0</td>\n",
       "      <td>54.352939</td>\n",
       "      <td>18.659908</td>\n",
       "      <td>5.93278</td>\n",
       "      <td>1.127626</td>\n",
       "    </tr>\n",
       "    <tr>\n",
       "      <th>10207</th>\n",
       "      <td>60.20</td>\n",
       "      <td>16993</td>\n",
       "      <td>wtórny</td>\n",
       "      <td>1498</td>\n",
       "      <td>2.0</td>\n",
       "      <td>3.0</td>\n",
       "      <td>Gdańsk</td>\n",
       "      <td>0.0</td>\n",
       "      <td>54.352939</td>\n",
       "      <td>18.659908</td>\n",
       "      <td>5.93278</td>\n",
       "      <td>1.127626</td>\n",
       "    </tr>\n",
       "    <tr>\n",
       "      <th>10219</th>\n",
       "      <td>52.82</td>\n",
       "      <td>16982</td>\n",
       "      <td>wtórny</td>\n",
       "      <td>1498</td>\n",
       "      <td>2.0</td>\n",
       "      <td>2.0</td>\n",
       "      <td>Gdańsk</td>\n",
       "      <td>0.0</td>\n",
       "      <td>54.352939</td>\n",
       "      <td>18.659908</td>\n",
       "      <td>5.93278</td>\n",
       "      <td>1.127626</td>\n",
       "    </tr>\n",
       "  </tbody>\n",
       "</table>\n",
       "</div>"
      ],
      "text/plain": [
       "       powierzchnia  cena_za_metr   rynek  ...          L  do_morza  do_centrum\n",
       "4963          60.20         16993  wtórny  ...  18.659908   5.93278    1.127626\n",
       "4977          52.82         16982  wtórny  ...  18.659908   5.93278    1.127626\n",
       "10207         60.20         16993  wtórny  ...  18.659908   5.93278    1.127626\n",
       "10219         52.82         16982  wtórny  ...  18.659908   5.93278    1.127626\n",
       "\n",
       "[4 rows x 12 columns]"
      ]
     },
     "execution_count": 14,
     "metadata": {
      "tags": []
     },
     "output_type": "execute_result"
    }
   ],
   "source": [
    "# Sprawdzenie nieruchomości z 1498 r.\n",
    "\n",
    "df[df['rok_budowy']==1498]"
   ]
  },
  {
   "cell_type": "markdown",
   "metadata": {
    "colab_type": "text",
    "id": "HoZ2M0dshFZw"
   },
   "source": [
    "### Stworzenie zbioru testowego"
   ]
  },
  {
   "cell_type": "code",
   "execution_count": 15,
   "metadata": {
    "colab": {
     "base_uri": "https://localhost:8080/",
     "height": 310
    },
    "colab_type": "code",
    "id": "UBZj_X-6rLkH",
    "outputId": "b418f3b3-cf8e-49bb-da53-720a80eda0b4"
   },
   "outputs": [
    {
     "data": {
      "text/plain": [
       "<matplotlib.axes._subplots.AxesSubplot at 0x7fb6dd6cf908>"
      ]
     },
     "execution_count": 15,
     "metadata": {
      "tags": []
     },
     "output_type": "execute_result"
    },
    {
     "data": {
      "image/png": "[encoded data removed]",
      "text/plain": [
       "<Figure size 432x288 with 1 Axes>"
      ]
     },
     "metadata": {
      "needs_background": "light",
      "tags": []
     },
     "output_type": "display_data"
    }
   ],
   "source": [
    "# Można spodziewać się, że kluczowym czynnikiem wpływającym na wartość mieszkania będzie miasto, w którym się ono znajduje\n",
    "# W związku z tym należy tak podzielić zbiór, aby w zbiorach testowym i treningowym zachowane były proporcje pomiędzy ilością mieszkań w Gdyni, Gdańsku i Sopocie\n",
    "\n",
    "df['miasto'].value_counts().plot(kind='bar')"
   ]
  },
  {
   "cell_type": "code",
   "execution_count": 16,
   "metadata": {
    "colab": {},
    "colab_type": "code",
    "id": "xZl69dChqwEV"
   },
   "outputs": [],
   "source": [
    "from sklearn.model_selection import StratifiedShuffleSplit\n",
    "split = StratifiedShuffleSplit(n_splits = 1, test_size=0.2, random_state=42)\n",
    "for train_index, test_index in split.split(df, df['miasto']):\n",
    "  strat_train_set = df.loc[train_index]\n",
    "  strat_test_set = df.loc[test_index]\n"
   ]
  },
  {
   "cell_type": "code",
   "execution_count": null,
   "metadata": {
    "colab": {},
    "colab_type": "code",
    "id": "pEnPbSKkH66d"
   },
   "outputs": [],
   "source": [
    "# Sptawdzenie propocji występowania rekordów poszczególnych miast w zbiorze wejściowym, treningowym i testowym"
   ]
  },
  {
   "cell_type": "code",
   "execution_count": null,
   "metadata": {
    "colab": {
     "base_uri": "https://localhost:8080/",
     "height": 87
    },
    "colab_type": "code",
    "id": "h2XxT36ovWX-",
    "outputId": "0f4329d4-bd12-437f-d773-33f41ec6b388"
   },
   "outputs": [
    {
     "data": {
      "text/plain": [
       "Gdańsk    0.627420\n",
       "Gdynia    0.277058\n",
       "Sopot     0.095522\n",
       "Name: miasto, dtype: float64"
      ]
     },
     "execution_count": 115,
     "metadata": {
      "tags": []
     },
     "output_type": "execute_result"
    }
   ],
   "source": [
    "df['miasto'].value_counts()/len(df['miasto'])"
   ]
  },
  {
   "cell_type": "code",
   "execution_count": null,
   "metadata": {
    "colab": {
     "base_uri": "https://localhost:8080/",
     "height": 87
    },
    "colab_type": "code",
    "id": "zkDiw0Z6vFog",
    "outputId": "30d4d0ae-5510-4ec8-df8d-5e200893261e"
   },
   "outputs": [
    {
     "data": {
      "text/plain": [
       "Gdańsk    0.627440\n",
       "Gdynia    0.277049\n",
       "Sopot     0.095511\n",
       "Name: miasto, dtype: float64"
      ]
     },
     "execution_count": 116,
     "metadata": {
      "tags": []
     },
     "output_type": "execute_result"
    }
   ],
   "source": [
    "strat_train_set['miasto'].value_counts()/len( strat_train_set['miasto'])"
   ]
  },
  {
   "cell_type": "code",
   "execution_count": null,
   "metadata": {
    "colab": {
     "base_uri": "https://localhost:8080/",
     "height": 87
    },
    "colab_type": "code",
    "id": "WHKb7TiKvltp",
    "outputId": "c53ba3eb-d239-4313-be1e-5a3fffe180f3"
   },
   "outputs": [
    {
     "data": {
      "text/plain": [
       "Gdańsk    0.627340\n",
       "Gdynia    0.277094\n",
       "Sopot     0.095567\n",
       "Name: miasto, dtype: float64"
      ]
     },
     "execution_count": 117,
     "metadata": {
      "tags": []
     },
     "output_type": "execute_result"
    }
   ],
   "source": [
    "strat_test_set['miasto'].value_counts()/len( strat_test_set['miasto'])"
   ]
  },
  {
   "cell_type": "code",
   "execution_count": 17,
   "metadata": {
    "colab": {},
    "colab_type": "code",
    "id": "wQ5PXR1AIChS"
   },
   "outputs": [],
   "source": [
    "# Tworzenie kopii zbioru treningowego w celu dalszej eksploracji\n",
    "\n",
    "df2 = strat_train_set.copy()"
   ]
  },
  {
   "cell_type": "code",
   "execution_count": 18,
   "metadata": {
    "colab": {
     "base_uri": "https://localhost:8080/",
     "height": 296
    },
    "colab_type": "code",
    "id": "jc5VwAdyGavc",
    "outputId": "8728a23c-3b69-4a10-f96d-c9200369876c"
   },
   "outputs": [
    {
     "data": {
      "text/plain": [
       "<matplotlib.axes._subplots.AxesSubplot at 0x7fb6dbc7bb38>"
      ]
     },
     "execution_count": 18,
     "metadata": {
      "tags": []
     },
     "output_type": "execute_result"
    },
    {
     "data": {
      "image/png": "[encoded data removed]",
      "text/plain": [
       "<Figure size 432x288 with 1 Axes>"
      ]
     },
     "metadata": {
      "needs_background": "light",
      "tags": []
     },
     "output_type": "display_data"
    }
   ],
   "source": [
    "df2.plot(kind = 'scatter', x='L', y='B')"
   ]
  },
  {
   "cell_type": "code",
   "execution_count": 19,
   "metadata": {
    "colab": {
     "base_uri": "https://localhost:8080/",
     "height": 296
    },
    "colab_type": "code",
    "id": "HAueh_xLGbDy",
    "outputId": "aeba3554-1740-472d-b115-ca8f20905692"
   },
   "outputs": [
    {
     "data": {
      "text/plain": [
       "<matplotlib.axes._subplots.AxesSubplot at 0x7fb6db9e1fd0>"
      ]
     },
     "execution_count": 19,
     "metadata": {
      "tags": []
     },
     "output_type": "execute_result"
    },
    {
     "data": {
      "image/png": "[encoded data removed]",
      "text/plain": [
       "<Figure size 432x288 with 1 Axes>"
      ]
     },
     "metadata": {
      "needs_background": "light",
      "tags": []
     },
     "output_type": "display_data"
    }
   ],
   "source": [
    "# dodajmy parametr przezroczystości, aby zobaczyć, w których miejscach jest najwięcej nieruchomości\n",
    "\n",
    "df2.plot(kind = 'scatter', x='L', y='B', alpha = 0.05)"
   ]
  },
  {
   "cell_type": "code",
   "execution_count": 20,
   "metadata": {
    "colab": {
     "base_uri": "https://localhost:8080/",
     "height": 432
    },
    "colab_type": "code",
    "id": "4Ke9CoS6GbPD",
    "outputId": "f23cd31a-6a47-4264-cfa4-6f6b46b09e6a"
   },
   "outputs": [
    {
     "data": {
      "text/plain": [
       "<matplotlib.axes._subplots.AxesSubplot at 0x7fb6db94d7b8>"
      ]
     },
     "execution_count": 20,
     "metadata": {
      "tags": []
     },
     "output_type": "execute_result"
    },
    {
     "data": {
      "image/png": "[encoded data removed]",
      "text/plain": [
       "<Figure size 720x504 with 2 Axes>"
      ]
     },
     "metadata": {
      "needs_background": "light",
      "tags": []
     },
     "output_type": "display_data"
    }
   ],
   "source": [
    "# Oznaczmy kolorami ceny mieszkań\n",
    "\n",
    "df2.plot(\n",
    "    kind = 'scatter', \n",
    "    x = 'L', \n",
    "    y = 'B',\n",
    "    c = 'cena_za_metr',\n",
    "    figsize = (10,7),\n",
    "    cmap = plt.get_cmap('jet'),\n",
    "    alpha = 0.3)"
   ]
  },
  {
   "cell_type": "code",
   "execution_count": 21,
   "metadata": {
    "colab": {
     "base_uri": "https://localhost:8080/",
     "height": 204
    },
    "colab_type": "code",
    "id": "hI86jActGbLa",
    "outputId": "c908677d-cf34-4f7e-89eb-ed0f671835d4"
   },
   "outputs": [
    {
     "data": {
      "text/plain": [
       "powierzchnia            -0.191906\n",
       "cena_za_metr             1.000000\n",
       "rok_budowy               0.085857\n",
       "liczba_pieter_budynku    0.112803\n",
       "liczba_pokoi            -0.250166\n",
       "pietro                   0.054707\n",
       "B                       -0.117049\n",
       "L                        0.347751\n",
       "do_morza                -0.108251\n",
       "do_centrum              -0.306446\n",
       "Name: cena_za_metr, dtype: float64"
      ]
     },
     "execution_count": 21,
     "metadata": {
      "tags": []
     },
     "output_type": "execute_result"
    }
   ],
   "source": [
    "#Macierz korelacji liniowych wszystkich ziennych numerycznych\n",
    "\n",
    "corr_matrix = df2.corr()\n",
    "\n",
    "# tylko dla cena_za_metr\n",
    "corr_matrix['cena_za_metr']"
   ]
  },
  {
   "cell_type": "code",
   "execution_count": 22,
   "metadata": {
    "colab": {
     "base_uri": "https://localhost:8080/",
     "height": 954
    },
    "colab_type": "code",
    "id": "ch91Tg3IP00n",
    "outputId": "183428d7-e003-4dd0-8ae4-0ad36920f8cc"
   },
   "outputs": [
    {
     "data": {
      "text/plain": [
       "array([[<matplotlib.axes._subplots.AxesSubplot object at 0x7fb6db8cada0>,\n",
       "        <matplotlib.axes._subplots.AxesSubplot object at 0x7fb6db8b2cf8>,\n",
       "        <matplotlib.axes._subplots.AxesSubplot object at 0x7fb6da063f60>,\n",
       "        <matplotlib.axes._subplots.AxesSubplot object at 0x7fb6da021208>,\n",
       "        <matplotlib.axes._subplots.AxesSubplot object at 0x7fb6d9fd4470>],\n",
       "       [<matplotlib.axes._subplots.AxesSubplot object at 0x7fb6d9f866d8>,\n",
       "        <matplotlib.axes._subplots.AxesSubplot object at 0x7fb6d9fbc940>,\n",
       "        <matplotlib.axes._subplots.AxesSubplot object at 0x7fb6d9f70b70>,\n",
       "        <matplotlib.axes._subplots.AxesSubplot object at 0x7fb6d9f70be0>,\n",
       "        <matplotlib.axes._subplots.AxesSubplot object at 0x7fb6d9ee40b8>],\n",
       "       [<matplotlib.axes._subplots.AxesSubplot object at 0x7fb6d9e97320>,\n",
       "        <matplotlib.axes._subplots.AxesSubplot object at 0x7fb6d9e4c588>,\n",
       "        <matplotlib.axes._subplots.AxesSubplot object at 0x7fb6d9e7f7f0>,\n",
       "        <matplotlib.axes._subplots.AxesSubplot object at 0x7fb6d9e31a58>,\n",
       "        <matplotlib.axes._subplots.AxesSubplot object at 0x7fb6d9de7cc0>],\n",
       "       [<matplotlib.axes._subplots.AxesSubplot object at 0x7fb6d9d9cf28>,\n",
       "        <matplotlib.axes._subplots.AxesSubplot object at 0x7fb6d9d5d1d0>,\n",
       "        <matplotlib.axes._subplots.AxesSubplot object at 0x7fb6d9d12438>,\n",
       "        <matplotlib.axes._subplots.AxesSubplot object at 0x7fb6d9cc56a0>,\n",
       "        <matplotlib.axes._subplots.AxesSubplot object at 0x7fb6d9cf8908>],\n",
       "       [<matplotlib.axes._subplots.AxesSubplot object at 0x7fb6d9cae908>,\n",
       "        <matplotlib.axes._subplots.AxesSubplot object at 0x7fb6d9c60c88>,\n",
       "        <matplotlib.axes._subplots.AxesSubplot object at 0x7fb6d9c14fd0>,\n",
       "        <matplotlib.axes._subplots.AxesSubplot object at 0x7fb6d9bd13c8>,\n",
       "        <matplotlib.axes._subplots.AxesSubplot object at 0x7fb6d9c02748>]],\n",
       "      dtype=object)"
      ]
     },
     "execution_count": 22,
     "metadata": {
      "tags": []
     },
     "output_type": "execute_result"
    },
    {
     "data": {
      "image/png": "[encoded data removed]",
      "text/plain": [
       "<Figure size 864x576 with 25 Axes>"
      ]
     },
     "metadata": {
      "needs_background": "light",
      "tags": []
     },
     "output_type": "display_data"
    }
   ],
   "source": [
    "#Wykresy rozproszenia\n",
    "\n",
    "from pandas.plotting import scatter_matrix\n",
    "attributes = ['powierzchnia', 'do_centrum', 'do_morza', 'liczba_pokoi', 'cena_za_metr',]\n",
    "scatter_matrix(df2[attributes], figsize=(12,8))\n"
   ]
  },
  {
   "cell_type": "code",
   "execution_count": 23,
   "metadata": {
    "colab": {
     "base_uri": "https://localhost:8080/",
     "height": 221
    },
    "colab_type": "code",
    "id": "cYEho2TgvAv1",
    "outputId": "cd603820-b4df-498f-f4de-9261852c3933"
   },
   "outputs": [
    {
     "data": {
      "text/plain": [
       "powierzchnia             0.316438\n",
       "cena_za_metr             0.096583\n",
       "rok_budowy              -0.037201\n",
       "liczba_pieter_budynku   -0.076776\n",
       "liczba_pokoi            -0.283494\n",
       "pietro                  -0.039039\n",
       "B                       -0.036492\n",
       "L                        0.019629\n",
       "do_morza                 0.066067\n",
       "do_centrum              -0.123218\n",
       "srednia_pow_pokoju       1.000000\n",
       "Name: srednia_pow_pokoju, dtype: float64"
      ]
     },
     "execution_count": 23,
     "metadata": {
      "tags": []
     },
     "output_type": "execute_result"
    }
   ],
   "source": [
    "# Policzmy średnią powierzchnię pokoju i sprawdźmy jak jest skorelowana z ceną za 1m2 mieszkania\n",
    "\n",
    "df2['srednia_pow_pokoju'] = df2['powierzchnia']/df2['liczba_pokoi']\n",
    "\n",
    "corr_matrix = df2.corr()\n",
    "corr_matrix['srednia_pow_pokoju']"
   ]
  },
  {
   "cell_type": "code",
   "execution_count": 24,
   "metadata": {
    "colab": {},
    "colab_type": "code",
    "id": "fH8Frd6V0YYN"
   },
   "outputs": [],
   "source": [
    "# Rozdzielenie zbioru treningowego od etykiet tego zbioru\n",
    "\n",
    "df2 = strat_train_set.drop('cena_za_metr', axis =1)\n",
    "df2label = strat_train_set['cena_za_metr'].copy()"
   ]
  },
  {
   "cell_type": "code",
   "execution_count": 25,
   "metadata": {
    "colab": {
     "base_uri": "https://localhost:8080/",
     "height": 439
    },
    "colab_type": "code",
    "id": "tK15-AVY0r4B",
    "outputId": "2fb3cad0-f36b-49df-a79c-611e6c0fc50d"
   },
   "outputs": [
    {
     "data": {
      "text/html": [
       "<div>\n",
       "<style scoped>\n",
       "    .dataframe tbody tr th:only-of-type {\n",
       "        vertical-align: middle;\n",
       "    }\n",
       "\n",
       "    .dataframe tbody tr th {\n",
       "        vertical-align: top;\n",
       "    }\n",
       "\n",
       "    .dataframe thead th {\n",
       "        text-align: right;\n",
       "    }\n",
       "</style>\n",
       "<table border=\"1\" class=\"dataframe\">\n",
       "  <thead>\n",
       "    <tr style=\"text-align: right;\">\n",
       "      <th></th>\n",
       "      <th>powierzchnia</th>\n",
       "      <th>rynek</th>\n",
       "      <th>rok_budowy</th>\n",
       "      <th>liczba_pieter_budynku</th>\n",
       "      <th>liczba_pokoi</th>\n",
       "      <th>miasto</th>\n",
       "      <th>pietro</th>\n",
       "      <th>B</th>\n",
       "      <th>L</th>\n",
       "      <th>do_morza</th>\n",
       "      <th>do_centrum</th>\n",
       "    </tr>\n",
       "  </thead>\n",
       "  <tbody>\n",
       "    <tr>\n",
       "      <th>11068</th>\n",
       "      <td>67.00</td>\n",
       "      <td>1</td>\n",
       "      <td>2000</td>\n",
       "      <td>1.0</td>\n",
       "      <td>3.0</td>\n",
       "      <td>Gdańsk</td>\n",
       "      <td>0.0</td>\n",
       "      <td>54.352862</td>\n",
       "      <td>18.509232</td>\n",
       "      <td>13.707817</td>\n",
       "      <td>8.866397</td>\n",
       "    </tr>\n",
       "    <tr>\n",
       "      <th>6856</th>\n",
       "      <td>71.50</td>\n",
       "      <td>1</td>\n",
       "      <td>2014</td>\n",
       "      <td>3.0</td>\n",
       "      <td>4.0</td>\n",
       "      <td>Sopot</td>\n",
       "      <td>0.0</td>\n",
       "      <td>54.427345</td>\n",
       "      <td>18.570694</td>\n",
       "      <td>9.252414</td>\n",
       "      <td>1.774132</td>\n",
       "    </tr>\n",
       "    <tr>\n",
       "      <th>4690</th>\n",
       "      <td>48.00</td>\n",
       "      <td>1</td>\n",
       "      <td>2012</td>\n",
       "      <td>3.0</td>\n",
       "      <td>2.0</td>\n",
       "      <td>Gdańsk</td>\n",
       "      <td>1.0</td>\n",
       "      <td>54.352375</td>\n",
       "      <td>18.566343</td>\n",
       "      <td>10.402163</td>\n",
       "      <td>5.161319</td>\n",
       "    </tr>\n",
       "    <tr>\n",
       "      <th>11875</th>\n",
       "      <td>85.20</td>\n",
       "      <td>1</td>\n",
       "      <td>2011</td>\n",
       "      <td>4.0</td>\n",
       "      <td>4.0</td>\n",
       "      <td>Gdynia</td>\n",
       "      <td>2.0</td>\n",
       "      <td>54.554856</td>\n",
       "      <td>18.510351</td>\n",
       "      <td>3.607784</td>\n",
       "      <td>4.396476</td>\n",
       "    </tr>\n",
       "    <tr>\n",
       "      <th>13416</th>\n",
       "      <td>64.00</td>\n",
       "      <td>1</td>\n",
       "      <td>2014</td>\n",
       "      <td>1.0</td>\n",
       "      <td>3.0</td>\n",
       "      <td>Gdańsk</td>\n",
       "      <td>0.0</td>\n",
       "      <td>54.337082</td>\n",
       "      <td>18.546181</td>\n",
       "      <td>12.413134</td>\n",
       "      <td>6.548436</td>\n",
       "    </tr>\n",
       "    <tr>\n",
       "      <th>...</th>\n",
       "      <td>...</td>\n",
       "      <td>...</td>\n",
       "      <td>...</td>\n",
       "      <td>...</td>\n",
       "      <td>...</td>\n",
       "      <td>...</td>\n",
       "      <td>...</td>\n",
       "      <td>...</td>\n",
       "      <td>...</td>\n",
       "      <td>...</td>\n",
       "      <td>...</td>\n",
       "    </tr>\n",
       "    <tr>\n",
       "      <th>1762</th>\n",
       "      <td>30.00</td>\n",
       "      <td>1</td>\n",
       "      <td>1954</td>\n",
       "      <td>3.0</td>\n",
       "      <td>1.0</td>\n",
       "      <td>Gdańsk</td>\n",
       "      <td>2.0</td>\n",
       "      <td>54.352939</td>\n",
       "      <td>18.659908</td>\n",
       "      <td>5.932780</td>\n",
       "      <td>1.127626</td>\n",
       "    </tr>\n",
       "    <tr>\n",
       "      <th>15221</th>\n",
       "      <td>74.00</td>\n",
       "      <td>1</td>\n",
       "      <td>2003</td>\n",
       "      <td>12.0</td>\n",
       "      <td>3.0</td>\n",
       "      <td>Gdynia</td>\n",
       "      <td>10.0</td>\n",
       "      <td>54.500795</td>\n",
       "      <td>18.501779</td>\n",
       "      <td>5.566264</td>\n",
       "      <td>3.183444</td>\n",
       "    </tr>\n",
       "    <tr>\n",
       "      <th>14141</th>\n",
       "      <td>92.00</td>\n",
       "      <td>1</td>\n",
       "      <td>1931</td>\n",
       "      <td>3.0</td>\n",
       "      <td>5.0</td>\n",
       "      <td>Sopot</td>\n",
       "      <td>1.0</td>\n",
       "      <td>54.439071</td>\n",
       "      <td>18.570804</td>\n",
       "      <td>9.762132</td>\n",
       "      <td>0.786891</td>\n",
       "    </tr>\n",
       "    <tr>\n",
       "      <th>30</th>\n",
       "      <td>25.21</td>\n",
       "      <td>0</td>\n",
       "      <td>2020</td>\n",
       "      <td>4.0</td>\n",
       "      <td>1.0</td>\n",
       "      <td>Gdańsk</td>\n",
       "      <td>4.0</td>\n",
       "      <td>54.372177</td>\n",
       "      <td>18.600304</td>\n",
       "      <td>7.436930</td>\n",
       "      <td>4.011669</td>\n",
       "    </tr>\n",
       "    <tr>\n",
       "      <th>8733</th>\n",
       "      <td>87.00</td>\n",
       "      <td>1</td>\n",
       "      <td>2017</td>\n",
       "      <td>4.0</td>\n",
       "      <td>4.0</td>\n",
       "      <td>Gdańsk</td>\n",
       "      <td>0.0</td>\n",
       "      <td>54.392095</td>\n",
       "      <td>18.617170</td>\n",
       "      <td>5.761044</td>\n",
       "      <td>5.289449</td>\n",
       "    </tr>\n",
       "  </tbody>\n",
       "</table>\n",
       "<p>16239 rows × 11 columns</p>\n",
       "</div>"
      ],
      "text/plain": [
       "       powierzchnia  rynek  rok_budowy  ...          L   do_morza do_centrum\n",
       "11068         67.00      1        2000  ...  18.509232  13.707817   8.866397\n",
       "6856          71.50      1        2014  ...  18.570694   9.252414   1.774132\n",
       "4690          48.00      1        2012  ...  18.566343  10.402163   5.161319\n",
       "11875         85.20      1        2011  ...  18.510351   3.607784   4.396476\n",
       "13416         64.00      1        2014  ...  18.546181  12.413134   6.548436\n",
       "...             ...    ...         ...  ...        ...        ...        ...\n",
       "1762          30.00      1        1954  ...  18.659908   5.932780   1.127626\n",
       "15221         74.00      1        2003  ...  18.501779   5.566264   3.183444\n",
       "14141         92.00      1        1931  ...  18.570804   9.762132   0.786891\n",
       "30            25.21      0        2020  ...  18.600304   7.436930   4.011669\n",
       "8733          87.00      1        2017  ...  18.617170   5.761044   5.289449\n",
       "\n",
       "[16239 rows x 11 columns]"
      ]
     },
     "execution_count": 25,
     "metadata": {
      "tags": []
     },
     "output_type": "execute_result"
    }
   ],
   "source": [
    "# Zamiana zmiennych kategorycznych na numeryczne (dla 'rynek')\n",
    "\n",
    "from sklearn.preprocessing import LabelEncoder\n",
    "\n",
    "encoder = LabelEncoder()\n",
    "df2rynek = df2['rynek']\n",
    "df2rynek_encoded = encoder.fit_transform(df2rynek)\n",
    "df2['rynek'] = df2rynek_encoded\n",
    "df2"
   ]
  },
  {
   "cell_type": "code",
   "execution_count": null,
   "metadata": {
    "colab": {},
    "colab_type": "code",
    "id": "-kWzHrB6_4M0"
   },
   "outputs": [],
   "source": [
    "from sklearn.preprocessing import LabelBinarizer\n",
    "encoder = LabelBinarizer()\n",
    "df2miasto_cat_1hot = encoder.fit_transform(df2miasto)\n",
    "df2['miasto'] = df2miasto_cat_1hot"
   ]
  },
  {
   "cell_type": "code",
   "execution_count": 27,
   "metadata": {
    "colab": {},
    "colab_type": "code",
    "id": "Mg5nFfZrQrcI"
   },
   "outputs": [],
   "source": [
    "encoder = LabelEncoder()\n",
    "df2miasto = df2['miasto']\n",
    "df2miasto_encoded = encoder.fit_transform(df2miasto)\n",
    "df2['miasto'] = df2miasto_encoded"
   ]
  },
  {
   "cell_type": "code",
   "execution_count": 28,
   "metadata": {
    "colab": {
     "base_uri": "https://localhost:8080/",
     "height": 791
    },
    "colab_type": "code",
    "id": "L67y5Zlp7YBy",
    "outputId": "e3faa2a5-bea9-4530-d46c-bd99548f7ec4"
   },
   "outputs": [
    {
     "data": {
      "text/plain": [
       "array([[<matplotlib.axes._subplots.AxesSubplot object at 0x7fb6d990aeb8>,\n",
       "        <matplotlib.axes._subplots.AxesSubplot object at 0x7fb6d86a9518>,\n",
       "        <matplotlib.axes._subplots.AxesSubplot object at 0x7fb6d865b780>,\n",
       "        <matplotlib.axes._subplots.AxesSubplot object at 0x7fb6d860c9e8>],\n",
       "       [<matplotlib.axes._subplots.AxesSubplot object at 0x7fb6d85c0c50>,\n",
       "        <matplotlib.axes._subplots.AxesSubplot object at 0x7fb6d85f5eb8>,\n",
       "        <matplotlib.axes._subplots.AxesSubplot object at 0x7fb6d85b7160>,\n",
       "        <matplotlib.axes._subplots.AxesSubplot object at 0x7fb6d8568390>],\n",
       "       [<matplotlib.axes._subplots.AxesSubplot object at 0x7fb6d8568400>,\n",
       "        <matplotlib.axes._subplots.AxesSubplot object at 0x7fb6d84d1898>,\n",
       "        <matplotlib.axes._subplots.AxesSubplot object at 0x7fb6d8483b00>,\n",
       "        <matplotlib.axes._subplots.AxesSubplot object at 0x7fb6d84b9d68>],\n",
       "       [<matplotlib.axes._subplots.AxesSubplot object at 0x7fb6d846cfd0>,\n",
       "        <matplotlib.axes._subplots.AxesSubplot object at 0x7fb6d842f278>,\n",
       "        <matplotlib.axes._subplots.AxesSubplot object at 0x7fb6d83e04e0>,\n",
       "        <matplotlib.axes._subplots.AxesSubplot object at 0x7fb6d8398748>]],\n",
       "      dtype=object)"
      ]
     },
     "execution_count": 28,
     "metadata": {
      "tags": []
     },
     "output_type": "execute_result"
    },
    {
     "data": {
      "image/png": "[encoded data removed]",
      "text/plain": [
       "<Figure size 864x576 with 16 Axes>"
      ]
     },
     "metadata": {
      "needs_background": "light",
      "tags": []
     },
     "output_type": "display_data"
    }
   ],
   "source": [
    "#Wykresy rozproszenia\n",
    "\n",
    "from pandas.plotting import scatter_matrix\n",
    "attributes = ['powierzchnia', 'do_centrum', 'do_morza', 'miasto']\n",
    "scatter_matrix(df2[attributes], figsize=(12,8))"
   ]
  },
  {
   "cell_type": "markdown",
   "metadata": {
    "colab_type": "text",
    "id": "ua-mF32Boo5J"
   },
   "source": [
    "### Wybór i uczenie modelu"
   ]
  },
  {
   "cell_type": "markdown",
   "metadata": {
    "colab_type": "text",
    "id": "viSTPye_puGo"
   },
   "source": [
    "#### Linear Regression"
   ]
  },
  {
   "cell_type": "code",
   "execution_count": 29,
   "metadata": {
    "colab": {
     "base_uri": "https://localhost:8080/",
     "height": 34
    },
    "colab_type": "code",
    "id": "JYxGN_h-ojXu",
    "outputId": "bea7cfc3-b2c4-45f5-c2b0-b7ae6149ef00"
   },
   "outputs": [
    {
     "data": {
      "text/plain": [
       "LinearRegression(copy_X=True, fit_intercept=True, n_jobs=None, normalize=False)"
      ]
     },
     "execution_count": 29,
     "metadata": {
      "tags": []
     },
     "output_type": "execute_result"
    }
   ],
   "source": [
    "from sklearn.linear_model import LinearRegression\n",
    "\n",
    "lin_reg = LinearRegression()\n",
    "lin_reg.fit(df2, df2label)"
   ]
  },
  {
   "cell_type": "code",
   "execution_count": 30,
   "metadata": {
    "colab": {
     "base_uri": "https://localhost:8080/",
     "height": 68
    },
    "colab_type": "code",
    "id": "6poEBZkVpnLv",
    "outputId": "63b4ab93-2fa9-4fca-ee8e-6226135c8520"
   },
   "outputs": [
    {
     "name": "stdout",
     "output_type": "stream",
     "text": [
      "Prognoza: [ 6836.15624135 13435.29221854  9688.97429652  9408.38193164\n",
      "  8370.28811511]\n",
      "Etykiety: [7447, 16083, 9770, 7159, 8046]\n"
     ]
    }
   ],
   "source": [
    "some_data = df2.iloc[:5]\n",
    "some_labels = df2label.iloc[:5]\n",
    "print('Prognoza:', lin_reg.predict(some_data))\n",
    "print('Etykiety:', list(some_labels))\n"
   ]
  },
  {
   "cell_type": "code",
   "execution_count": 31,
   "metadata": {
    "colab": {
     "base_uri": "https://localhost:8080/",
     "height": 34
    },
    "colab_type": "code",
    "id": "3-OgC0anpnH-",
    "outputId": "5d246145-efda-4fec-a25b-c57fc666239f"
   },
   "outputs": [
    {
     "data": {
      "text/plain": [
       "2594.490916294309"
      ]
     },
     "execution_count": 31,
     "metadata": {
      "tags": []
     },
     "output_type": "execute_result"
    }
   ],
   "source": [
    "from sklearn.metrics import mean_squared_error\n",
    "lr_predictions = lin_reg.predict(df2)\n",
    "lin_mse = mean_squared_error(df2label, lr_predictions)\n",
    "lin_rmse = np.sqrt(lin_mse)\n",
    "lin_rmse"
   ]
  },
  {
   "cell_type": "code",
   "execution_count": 32,
   "metadata": {
    "colab": {
     "base_uri": "https://localhost:8080/",
     "height": 88
    },
    "colab_type": "code",
    "id": "HNfPKqjx42_K",
    "outputId": "86843573-8d35-459f-fe76-d4413e3f96d0"
   },
   "outputs": [
    {
     "name": "stderr",
     "output_type": "stream",
     "text": [
      "/usr/local/lib/python3.6/dist-packages/sklearn/externals/joblib/__init__.py:15: FutureWarning: sklearn.externals.joblib is deprecated in 0.21 and will be removed in 0.23. Please import this functionality directly from joblib, which can be installed with: pip install joblib. If this warning is raised when loading pickled models, you may need to re-serialize those models with scikit-learn 0.21+.\n",
      "  warnings.warn(msg, category=FutureWarning)\n"
     ]
    },
    {
     "data": {
      "text/plain": [
       "['drive/My Drive/DataSets/Nieruchomosci3miasto/lin_reg.pkl']"
      ]
     },
     "execution_count": 32,
     "metadata": {
      "tags": []
     },
     "output_type": "execute_result"
    }
   ],
   "source": [
    "# Zapis modelu\n",
    "\n",
    "from sklearn.externals import joblib\n",
    "\n",
    "joblib.dump(lin_reg, 'drive/My Drive/DataSets/Nieruchomosci3miasto/lin_reg.pkl')"
   ]
  },
  {
   "cell_type": "markdown",
   "metadata": {
    "colab_type": "text",
    "id": "fjSGZmtxvBev"
   },
   "source": [
    "#### Decision Tree Regressor"
   ]
  },
  {
   "cell_type": "code",
   "execution_count": 33,
   "metadata": {
    "colab": {
     "base_uri": "https://localhost:8080/",
     "height": 119
    },
    "colab_type": "code",
    "id": "7evCdTKVvA1W",
    "outputId": "136a762b-bcb0-4692-88b6-160917b3d0df"
   },
   "outputs": [
    {
     "data": {
      "text/plain": [
       "DecisionTreeRegressor(ccp_alpha=0.0, criterion='mse', max_depth=None,\n",
       "                      max_features=None, max_leaf_nodes=None,\n",
       "                      min_impurity_decrease=0.0, min_impurity_split=None,\n",
       "                      min_samples_leaf=1, min_samples_split=2,\n",
       "                      min_weight_fraction_leaf=0.0, presort='deprecated',\n",
       "                      random_state=None, splitter='best')"
      ]
     },
     "execution_count": 33,
     "metadata": {
      "tags": []
     },
     "output_type": "execute_result"
    }
   ],
   "source": [
    "from sklearn.tree import DecisionTreeRegressor\n",
    "\n",
    "tree_reg = DecisionTreeRegressor()\n",
    "tree_reg.fit(df2, df2label)"
   ]
  },
  {
   "cell_type": "code",
   "execution_count": 34,
   "metadata": {
    "colab": {
     "base_uri": "https://localhost:8080/",
     "height": 34
    },
    "colab_type": "code",
    "id": "3oEQRU-0pnDx",
    "outputId": "b251bdc1-9276-4470-b818-de5603d16a05"
   },
   "outputs": [
    {
     "data": {
      "text/plain": [
       "2594.490916294309"
      ]
     },
     "execution_count": 34,
     "metadata": {
      "tags": []
     },
     "output_type": "execute_result"
    }
   ],
   "source": [
    "dtr_predictions = tree_reg.predict(df2)\n",
    "tree_mse = mean_squared_error(df2label, dtr_predictions)\n",
    "tree_rmse = np.sqrt(lin_mse)\n",
    "tree_rmse\n",
    "\n",
    "# Model skrajnie przeuczony"
   ]
  },
  {
   "cell_type": "code",
   "execution_count": 35,
   "metadata": {
    "colab": {
     "base_uri": "https://localhost:8080/",
     "height": 119
    },
    "colab_type": "code",
    "id": "ExFRWBBapm_f",
    "outputId": "772d5e8a-8271-426e-8254-494b0cc1446b"
   },
   "outputs": [
    {
     "name": "stdout",
     "output_type": "stream",
     "text": [
      "[1061.85838828 1156.34339942 1102.71630353  967.45187629  997.44663631\n",
      "  985.45499469 1079.51153872 1023.65777709 1051.99257593 1008.96372312\n",
      " 1031.70171629 1061.29879199  909.18482678  971.71469457  985.7923004\n",
      "  932.52386405  944.53168064 1063.37850494  910.42248732  966.90746089]\n",
      "1010.6426770611375\n",
      "64.13873001802637\n"
     ]
    }
   ],
   "source": [
    "# Walidacja krzyżowa\n",
    "\n",
    "from sklearn.model_selection import cross_val_score\n",
    "scores = cross_val_score(tree_reg, df2, df2label, scoring= 'neg_mean_squared_error', cv=20)\n",
    "tree_remse_scores = np.sqrt(-scores)\n",
    "print(tree_remse_scores)\n",
    "print(tree_remse_scores.mean())\n",
    "print(tree_remse_scores.std())"
   ]
  },
  {
   "cell_type": "code",
   "execution_count": 36,
   "metadata": {
    "colab": {
     "base_uri": "https://localhost:8080/",
     "height": 34
    },
    "colab_type": "code",
    "id": "jUNAuNUx5WnT",
    "outputId": "effebee4-8856-44ea-a372-ea7987be4708"
   },
   "outputs": [
    {
     "data": {
      "text/plain": [
       "['drive/My Drive/DataSets/Nieruchomosci3miasto/tree_reg.pkl']"
      ]
     },
     "execution_count": 36,
     "metadata": {
      "tags": []
     },
     "output_type": "execute_result"
    }
   ],
   "source": [
    "# Zapis modelu\n",
    "\n",
    "from sklearn.externals import joblib\n",
    "\n",
    "joblib.dump(tree_reg, 'drive/My Drive/DataSets/Nieruchomosci3miasto/tree_reg.pkl')"
   ]
  },
  {
   "cell_type": "markdown",
   "metadata": {
    "colab_type": "text",
    "id": "xqE7JKCGzyxv"
   },
   "source": [
    "#### Random Forest Regressor"
   ]
  },
  {
   "cell_type": "code",
   "execution_count": 49,
   "metadata": {
    "colab": {
     "base_uri": "https://localhost:8080/",
     "height": 136
    },
    "colab_type": "code",
    "id": "sYa0yAPVzyO7",
    "outputId": "58352da0-f462-4467-de39-6b5d7e59752c"
   },
   "outputs": [
    {
     "data": {
      "text/plain": [
       "RandomForestRegressor(bootstrap=True, ccp_alpha=0.0, criterion='mse',\n",
       "                      max_depth=None, max_features='auto', max_leaf_nodes=None,\n",
       "                      max_samples=None, min_impurity_decrease=0.0,\n",
       "                      min_impurity_split=None, min_samples_leaf=1,\n",
       "                      min_samples_split=2, min_weight_fraction_leaf=0.0,\n",
       "                      n_estimators=100, n_jobs=None, oob_score=False,\n",
       "                      random_state=None, verbose=0, warm_start=False)"
      ]
     },
     "execution_count": 49,
     "metadata": {
      "tags": []
     },
     "output_type": "execute_result"
    }
   ],
   "source": [
    "from sklearn.ensemble import RandomForestRegressor\n",
    "\n",
    "forest_reg = RandomForestRegressor()\n",
    "forest_reg.fit(df2, df2label)"
   ]
  },
  {
   "cell_type": "code",
   "execution_count": 38,
   "metadata": {
    "colab": {
     "base_uri": "https://localhost:8080/",
     "height": 34
    },
    "colab_type": "code",
    "id": "b70p1ihEzyKa",
    "outputId": "2951ff35-7eb5-4c50-d561-74ce78535801"
   },
   "outputs": [
    {
     "data": {
      "text/plain": [
       "299.81073112355074"
      ]
     },
     "execution_count": 38,
     "metadata": {
      "tags": []
     },
     "output_type": "execute_result"
    }
   ],
   "source": [
    "fr_predictions = forest_reg.predict(df2)\n",
    "forest_mse = mean_squared_error(df2label, fr_predictions)\n",
    "forest_rmse = np.sqrt(forest_mse)\n",
    "forest_rmse\n"
   ]
  },
  {
   "cell_type": "code",
   "execution_count": 39,
   "metadata": {
    "colab": {
     "base_uri": "https://localhost:8080/",
     "height": 85
    },
    "colab_type": "code",
    "id": "jSLKd1QazyF3",
    "outputId": "00896ca3-5a21-41e2-8928-b66da3061afe"
   },
   "outputs": [
    {
     "name": "stdout",
     "output_type": "stream",
     "text": [
      "[840.02950133 875.06986396 832.55541496 877.00994326 795.0434632\n",
      " 809.15025839 763.19233807 685.78049041 795.17277618 828.68239947]\n",
      "810.1686449236499\n",
      "53.43163428395166\n"
     ]
    }
   ],
   "source": [
    "scores = cross_val_score(forest_reg, df2, df2label, scoring= 'neg_mean_squared_error', cv=10)\n",
    "forest_remse_scores = np.sqrt(-scores)\n",
    "print(forest_remse_scores)\n",
    "print(forest_remse_scores.mean())\n",
    "print(forest_remse_scores.std())"
   ]
  },
  {
   "cell_type": "code",
   "execution_count": 40,
   "metadata": {
    "colab": {
     "base_uri": "https://localhost:8080/",
     "height": 34
    },
    "colab_type": "code",
    "id": "1MAMKdn_zyBG",
    "outputId": "fc9d6bce-8777-46b4-b191-989119a3c85f"
   },
   "outputs": [
    {
     "data": {
      "text/plain": [
       "['drive/My Drive/DataSets/Nieruchomosci3miasto/forest_reg.pkl']"
      ]
     },
     "execution_count": 40,
     "metadata": {
      "tags": []
     },
     "output_type": "execute_result"
    }
   ],
   "source": [
    "# Zapis modelu\n",
    "\n",
    "from sklearn.externals import joblib\n",
    "\n",
    "joblib.dump(forest_reg, 'drive/My Drive/DataSets/Nieruchomosci3miasto/forest_reg.pkl')"
   ]
  },
  {
   "cell_type": "markdown",
   "metadata": {
    "colab_type": "text",
    "id": "MHIVLxIO5qx5"
   },
   "source": [
    "#### Regulowanie modelu"
   ]
  },
  {
   "cell_type": "code",
   "execution_count": 44,
   "metadata": {
    "colab": {
     "base_uri": "https://localhost:8080/",
     "height": 340
    },
    "colab_type": "code",
    "id": "ambUCbn25k7i",
    "outputId": "a145b3a3-5a89-4fb5-9370-4037e7811feb"
   },
   "outputs": [
    {
     "data": {
      "text/plain": [
       "GridSearchCV(cv=10, error_score=nan,\n",
       "             estimator=RandomForestRegressor(bootstrap=True, ccp_alpha=0.0,\n",
       "                                             criterion='mse', max_depth=None,\n",
       "                                             max_features='auto',\n",
       "                                             max_leaf_nodes=None,\n",
       "                                             max_samples=None,\n",
       "                                             min_impurity_decrease=0.0,\n",
       "                                             min_impurity_split=None,\n",
       "                                             min_samples_leaf=1,\n",
       "                                             min_samples_split=2,\n",
       "                                             min_weight_fraction_leaf=0.0,\n",
       "                                             n_estimators=100, n_jobs=None,\n",
       "                                             oob_score=False, random_state=None,\n",
       "                                             verbose=0, warm_start=False),\n",
       "             iid='deprecated', n_jobs=None,\n",
       "             param_grid=[{'n_estimators': [150, 200]},\n",
       "                         {'bootstrap': [False], 'n_estimators': [150, 200]}],\n",
       "             pre_dispatch='2*n_jobs', refit=True, return_train_score=False,\n",
       "             scoring='neg_mean_squared_error', verbose=0)"
      ]
     },
     "execution_count": 44,
     "metadata": {
      "tags": []
     },
     "output_type": "execute_result"
    }
   ],
   "source": [
    "from sklearn.model_selection import GridSearchCV\n",
    "\n",
    "param_grid = [\n",
    "              {\n",
    "                'n_estimators': [150, 200],\n",
    "               },\n",
    "              {\n",
    "                'bootstrap':[False],\n",
    "                'n_estimators': [150, 200],\n",
    "              }\n",
    "]\n",
    "\n",
    "forest_reg = RandomForestRegressor()\n",
    "grid_search = GridSearchCV(forest_reg, param_grid, cv=10, scoring = 'neg_mean_squared_error')\n",
    "grid_search.fit(df2, df2label)"
   ]
  },
  {
   "cell_type": "code",
   "execution_count": 45,
   "metadata": {
    "colab": {
     "base_uri": "https://localhost:8080/",
     "height": 34
    },
    "colab_type": "code",
    "id": "gjjpV84D5lje",
    "outputId": "dca5b8d8-9aed-4bc7-e7db-e1c3d33e1239"
   },
   "outputs": [
    {
     "data": {
      "text/plain": [
       "{'n_estimators': 150}"
      ]
     },
     "execution_count": 45,
     "metadata": {
      "tags": []
     },
     "output_type": "execute_result"
    }
   ],
   "source": [
    "grid_search.best_params_"
   ]
  },
  {
   "cell_type": "code",
   "execution_count": 46,
   "metadata": {
    "colab": {
     "base_uri": "https://localhost:8080/",
     "height": 85
    },
    "colab_type": "code",
    "id": "zCjLey_k5leM",
    "outputId": "ac8308dc-df84-4815-9c6f-4c879ed1ef0d"
   },
   "outputs": [
    {
     "name": "stdout",
     "output_type": "stream",
     "text": [
      "812.3419004947248 {'n_estimators': 150}\n",
      "813.618677012337 {'n_estimators': 200}\n",
      "990.9908592626603 {'bootstrap': False, 'n_estimators': 150}\n",
      "991.5932757856037 {'bootstrap': False, 'n_estimators': 200}\n"
     ]
    }
   ],
   "source": [
    "cvres = grid_search.cv_results_\n",
    "for mean_score, params in zip(cvres['mean_test_score'], cvres['params']):\n",
    "  print(np.sqrt(-mean_score), params)"
   ]
  },
  {
   "cell_type": "code",
   "execution_count": 47,
   "metadata": {
    "colab": {
     "base_uri": "https://localhost:8080/",
     "height": 204
    },
    "colab_type": "code",
    "id": "1fdeGJjH5lY8",
    "outputId": "51a2eded-9a88-4e9a-e54e-a50a5f330504"
   },
   "outputs": [
    {
     "data": {
      "text/plain": [
       "[(0.25803476511362605, 'do_centrum'),\n",
       " (0.23326894349626884, 'rok_budowy'),\n",
       " (0.1326165429849061, 'B'),\n",
       " (0.11877866890880562, 'powierzchnia'),\n",
       " (0.10801853079055587, 'L'),\n",
       " (0.06952258016420965, 'do_morza'),\n",
       " (0.02727731395703962, 'liczba_pieter_budynku'),\n",
       " (0.025905865753064118, 'pietro'),\n",
       " (0.01851416502433819, 'liczba_pokoi'),\n",
       " (0.005538100075853917, 'rynek'),\n",
       " (0.0025245237313320694, 'miasto')]"
      ]
     },
     "execution_count": 47,
     "metadata": {
      "tags": []
     },
     "output_type": "execute_result"
    }
   ],
   "source": [
    "# względna istotność każdego atrybutu w generowaniu prognoz\n",
    "\n",
    "feature_importance = grid_search.best_estimator_.feature_importances_\n",
    "sorted(zip(feature_importance, list(df2.columns)), reverse = True)"
   ]
  },
  {
   "cell_type": "code",
   "execution_count": 50,
   "metadata": {
    "colab": {
     "base_uri": "https://localhost:8080/",
     "height": 34
    },
    "colab_type": "code",
    "id": "zdgH_pKs5lTf",
    "outputId": "90f3d366-39dc-4893-cc40-1f0eebd544c4"
   },
   "outputs": [
    {
     "data": {
      "text/plain": [
       "767.9283788322545"
      ]
     },
     "execution_count": 50,
     "metadata": {
      "tags": []
     },
     "output_type": "execute_result"
    }
   ],
   "source": [
    "# Zbiór testowy\n",
    "\n",
    "forest_reg.fit(df2, df2label)\n",
    "\n",
    "X_test = strat_test_set.drop('cena_za_metr', axis=1)\n",
    "y_test = strat_test_set['cena_za_metr'].copy()\n",
    "\n",
    "encoder = LabelEncoder()\n",
    "X_test_rynek = X_test['rynek']\n",
    "X_test_encoded = encoder.fit_transform(X_test_rynek)\n",
    "X_test['rynek'] = X_test_encoded\n",
    "\n",
    "from sklearn.preprocessing import LabelBinarizer\n",
    "encoder = LabelBinarizer()\n",
    "X_test_miasto = X_test['miasto']\n",
    "X_test_miasto_cat_1hot = encoder.fit_transform(X_test_miasto)\n",
    "X_test['miasto'] = X_test_miasto_cat_1hot\n",
    "\n",
    "\n",
    "final_predictions = forest_reg.predict(X_test)\n",
    "forest_mse = mean_squared_error(y_test, final_predictions)\n",
    "forest_rmse = np.sqrt(forest_mse)\n",
    "forest_rmse"
   ]
  },
  {
   "cell_type": "code",
   "execution_count": 52,
   "metadata": {
    "colab": {
     "base_uri": "https://localhost:8080/",
     "height": 292
    },
    "colab_type": "code",
    "id": "siDxXJ7VXiyb",
    "outputId": "e54cbec1-f5c2-4132-db0e-18b433d96e23"
   },
   "outputs": [
    {
     "name": "stdout",
     "output_type": "stream",
     "text": [
      "Collecting eli5\n",
      "\u001b[?25l  Downloading https://files.pythonhosted.org/packages/97/2f/c85c7d8f8548e460829971785347e14e45fa5c6617da374711dec8cb38cc/eli5-0.10.1-py2.py3-none-any.whl (105kB)\n",
      "\r",
      "\u001b[K     |███                             | 10kB 12.9MB/s eta 0:00:01\r",
      "\u001b[K     |██████▏                         | 20kB 2.0MB/s eta 0:00:01\r",
      "\u001b[K     |█████████▎                      | 30kB 2.8MB/s eta 0:00:01\r",
      "\u001b[K     |████████████▍                   | 40kB 2.9MB/s eta 0:00:01\r",
      "\u001b[K     |███████████████▌                | 51kB 2.3MB/s eta 0:00:01\r",
      "\u001b[K     |██████████████████▋             | 61kB 2.6MB/s eta 0:00:01\r",
      "\u001b[K     |█████████████████████▊          | 71kB 2.9MB/s eta 0:00:01\r",
      "\u001b[K     |████████████████████████▊       | 81kB 3.1MB/s eta 0:00:01\r",
      "\u001b[K     |███████████████████████████▉    | 92kB 3.5MB/s eta 0:00:01\r",
      "\u001b[K     |███████████████████████████████ | 102kB 3.4MB/s eta 0:00:01\r",
      "\u001b[K     |████████████████████████████████| 112kB 3.4MB/s \n",
      "\u001b[?25hRequirement already satisfied: scipy in /usr/local/lib/python3.6/dist-packages (from eli5) (1.4.1)\n",
      "Requirement already satisfied: numpy>=1.9.0 in /usr/local/lib/python3.6/dist-packages (from eli5) (1.18.5)\n",
      "Requirement already satisfied: scikit-learn>=0.18 in /usr/local/lib/python3.6/dist-packages (from eli5) (0.22.2.post1)\n",
      "Requirement already satisfied: attrs>16.0.0 in /usr/local/lib/python3.6/dist-packages (from eli5) (19.3.0)\n",
      "Requirement already satisfied: tabulate>=0.7.7 in /usr/local/lib/python3.6/dist-packages (from eli5) (0.8.7)\n",
      "Requirement already satisfied: graphviz in /usr/local/lib/python3.6/dist-packages (from eli5) (0.10.1)\n",
      "Requirement already satisfied: six in /usr/local/lib/python3.6/dist-packages (from eli5) (1.15.0)\n",
      "Requirement already satisfied: jinja2 in /usr/local/lib/python3.6/dist-packages (from eli5) (2.11.2)\n",
      "Requirement already satisfied: joblib>=0.11 in /usr/local/lib/python3.6/dist-packages (from scikit-learn>=0.18->eli5) (0.16.0)\n",
      "Requirement already satisfied: MarkupSafe>=0.23 in /usr/local/lib/python3.6/dist-packages (from jinja2->eli5) (1.1.1)\n",
      "Installing collected packages: eli5\n",
      "Successfully installed eli5-0.10.1\n"
     ]
    }
   ],
   "source": [
    "!pip install eli5"
   ]
  },
  {
   "cell_type": "code",
   "execution_count": 53,
   "metadata": {
    "colab": {
     "base_uri": "https://localhost:8080/",
     "height": 326
    },
    "colab_type": "code",
    "id": "SFJa-H2W5lOM",
    "outputId": "bee66d1b-94bd-41d6-a69f-3a151e51cff8"
   },
   "outputs": [
    {
     "name": "stderr",
     "output_type": "stream",
     "text": [
      "/usr/local/lib/python3.6/dist-packages/sklearn/utils/deprecation.py:144: FutureWarning: The sklearn.metrics.scorer module is  deprecated in version 0.22 and will be removed in version 0.24. The corresponding classes / functions should instead be imported from sklearn.metrics. Anything that cannot be imported from sklearn.metrics is now part of the private API.\n",
      "  warnings.warn(message, FutureWarning)\n",
      "/usr/local/lib/python3.6/dist-packages/sklearn/utils/deprecation.py:144: FutureWarning: The sklearn.feature_selection.base module is  deprecated in version 0.22 and will be removed in version 0.24. The corresponding classes / functions should instead be imported from sklearn.feature_selection. Anything that cannot be imported from sklearn.feature_selection is now part of the private API.\n",
      "  warnings.warn(message, FutureWarning)\n",
      "Using TensorFlow backend.\n"
     ]
    },
    {
     "data": {
      "text/html": [
       "\n",
       "    <style>\n",
       "    table.eli5-weights tr:hover {\n",
       "        filter: brightness(85%);\n",
       "    }\n",
       "</style>\n",
       "\n",
       "\n",
       "\n",
       "    \n",
       "\n",
       "    \n",
       "\n",
       "    \n",
       "\n",
       "    \n",
       "\n",
       "    \n",
       "\n",
       "    \n",
       "\n",
       "\n",
       "    \n",
       "\n",
       "    \n",
       "\n",
       "    \n",
       "\n",
       "    \n",
       "\n",
       "    \n",
       "\n",
       "    \n",
       "\n",
       "\n",
       "    \n",
       "\n",
       "    \n",
       "\n",
       "    \n",
       "\n",
       "    \n",
       "\n",
       "    \n",
       "        <table class=\"eli5-weights eli5-feature-importances\" style=\"border-collapse: collapse; border: none; margin-top: 0em; table-layout: auto;\">\n",
       "    <thead>\n",
       "    <tr style=\"border: none;\">\n",
       "        <th style=\"padding: 0 1em 0 0.5em; text-align: right; border: none;\">Weight</th>\n",
       "        <th style=\"padding: 0 0.5em 0 0.5em; text-align: left; border: none;\">Feature</th>\n",
       "    </tr>\n",
       "    </thead>\n",
       "    <tbody>\n",
       "    \n",
       "        <tr style=\"background-color: hsl(120, 100.00%, 80.00%); border: none;\">\n",
       "            <td style=\"padding: 0 1em 0 0.5em; text-align: right; border: none;\">\n",
       "                0.2582\n",
       "                \n",
       "                    &plusmn; 0.0205\n",
       "                \n",
       "            </td>\n",
       "            <td style=\"padding: 0 0.5em 0 0.5em; text-align: left; border: none;\">\n",
       "                do_centrum\n",
       "            </td>\n",
       "        </tr>\n",
       "    \n",
       "        <tr style=\"background-color: hsl(120, 100.00%, 81.38%); border: none;\">\n",
       "            <td style=\"padding: 0 1em 0 0.5em; text-align: right; border: none;\">\n",
       "                0.2331\n",
       "                \n",
       "                    &plusmn; 0.0165\n",
       "                \n",
       "            </td>\n",
       "            <td style=\"padding: 0 0.5em 0 0.5em; text-align: left; border: none;\">\n",
       "                rok_budowy\n",
       "            </td>\n",
       "        </tr>\n",
       "    \n",
       "        <tr style=\"background-color: hsl(120, 100.00%, 87.35%); border: none;\">\n",
       "            <td style=\"padding: 0 1em 0 0.5em; text-align: right; border: none;\">\n",
       "                0.1343\n",
       "                \n",
       "                    &plusmn; 0.0237\n",
       "                \n",
       "            </td>\n",
       "            <td style=\"padding: 0 0.5em 0 0.5em; text-align: left; border: none;\">\n",
       "                B\n",
       "            </td>\n",
       "        </tr>\n",
       "    \n",
       "        <tr style=\"background-color: hsl(120, 100.00%, 88.47%); border: none;\">\n",
       "            <td style=\"padding: 0 1em 0 0.5em; text-align: right; border: none;\">\n",
       "                0.1176\n",
       "                \n",
       "                    &plusmn; 0.0150\n",
       "                \n",
       "            </td>\n",
       "            <td style=\"padding: 0 0.5em 0 0.5em; text-align: left; border: none;\">\n",
       "                powierzchnia\n",
       "            </td>\n",
       "        </tr>\n",
       "    \n",
       "        <tr style=\"background-color: hsl(120, 100.00%, 89.10%); border: none;\">\n",
       "            <td style=\"padding: 0 1em 0 0.5em; text-align: right; border: none;\">\n",
       "                0.1085\n",
       "                \n",
       "                    &plusmn; 0.0225\n",
       "                \n",
       "            </td>\n",
       "            <td style=\"padding: 0 0.5em 0 0.5em; text-align: left; border: none;\">\n",
       "                L\n",
       "            </td>\n",
       "        </tr>\n",
       "    \n",
       "        <tr style=\"background-color: hsl(120, 100.00%, 92.14%); border: none;\">\n",
       "            <td style=\"padding: 0 1em 0 0.5em; text-align: right; border: none;\">\n",
       "                0.0680\n",
       "                \n",
       "                    &plusmn; 0.0314\n",
       "                \n",
       "            </td>\n",
       "            <td style=\"padding: 0 0.5em 0 0.5em; text-align: left; border: none;\">\n",
       "                do_morza\n",
       "            </td>\n",
       "        </tr>\n",
       "    \n",
       "        <tr style=\"background-color: hsl(120, 100.00%, 95.90%); border: none;\">\n",
       "            <td style=\"padding: 0 1em 0 0.5em; text-align: right; border: none;\">\n",
       "                0.0269\n",
       "                \n",
       "                    &plusmn; 0.0062\n",
       "                \n",
       "            </td>\n",
       "            <td style=\"padding: 0 0.5em 0 0.5em; text-align: left; border: none;\">\n",
       "                liczba_pieter_budynku\n",
       "            </td>\n",
       "        </tr>\n",
       "    \n",
       "        <tr style=\"background-color: hsl(120, 100.00%, 95.97%); border: none;\">\n",
       "            <td style=\"padding: 0 1em 0 0.5em; text-align: right; border: none;\">\n",
       "                0.0262\n",
       "                \n",
       "                    &plusmn; 0.0050\n",
       "                \n",
       "            </td>\n",
       "            <td style=\"padding: 0 0.5em 0 0.5em; text-align: left; border: none;\">\n",
       "                pietro\n",
       "            </td>\n",
       "        </tr>\n",
       "    \n",
       "        <tr style=\"background-color: hsl(120, 100.00%, 96.79%); border: none;\">\n",
       "            <td style=\"padding: 0 1em 0 0.5em; text-align: right; border: none;\">\n",
       "                0.0190\n",
       "                \n",
       "                    &plusmn; 0.0105\n",
       "                \n",
       "            </td>\n",
       "            <td style=\"padding: 0 0.5em 0 0.5em; text-align: left; border: none;\">\n",
       "                liczba_pokoi\n",
       "            </td>\n",
       "        </tr>\n",
       "    \n",
       "        <tr style=\"background-color: hsl(120, 100.00%, 98.62%); border: none;\">\n",
       "            <td style=\"padding: 0 1em 0 0.5em; text-align: right; border: none;\">\n",
       "                0.0057\n",
       "                \n",
       "                    &plusmn; 0.0029\n",
       "                \n",
       "            </td>\n",
       "            <td style=\"padding: 0 0.5em 0 0.5em; text-align: left; border: none;\">\n",
       "                rynek\n",
       "            </td>\n",
       "        </tr>\n",
       "    \n",
       "        <tr style=\"background-color: hsl(120, 100.00%, 99.20%); border: none;\">\n",
       "            <td style=\"padding: 0 1em 0 0.5em; text-align: right; border: none;\">\n",
       "                0.0026\n",
       "                \n",
       "                    &plusmn; 0.0091\n",
       "                \n",
       "            </td>\n",
       "            <td style=\"padding: 0 0.5em 0 0.5em; text-align: left; border: none;\">\n",
       "                miasto\n",
       "            </td>\n",
       "        </tr>\n",
       "    \n",
       "    \n",
       "    </tbody>\n",
       "</table>\n",
       "    \n",
       "\n",
       "    \n",
       "\n",
       "\n",
       "    \n",
       "\n",
       "    \n",
       "\n",
       "    \n",
       "\n",
       "    \n",
       "\n",
       "    \n",
       "\n",
       "    \n",
       "\n",
       "\n",
       "\n"
      ],
      "text/plain": [
       "<IPython.core.display.HTML object>"
      ]
     },
     "execution_count": 53,
     "metadata": {
      "tags": []
     },
     "output_type": "execute_result"
    }
   ],
   "source": [
    "import eli5\n",
    "eli5.show_weights(forest_reg, feature_names=list(X_test.columns))"
   ]
  },
  {
   "cell_type": "code",
   "execution_count": 54,
   "metadata": {
    "colab": {
     "base_uri": "https://localhost:8080/",
     "height": 34
    },
    "colab_type": "code",
    "id": "PzSJUnQ_O4Wt",
    "outputId": "39e6d828-4670-45c2-ab3f-d2026fc9bd3a"
   },
   "outputs": [
    {
     "data": {
      "text/plain": [
       "0.07853526834082387"
      ]
     },
     "execution_count": 54,
     "metadata": {
      "tags": []
     },
     "output_type": "execute_result"
    }
   ],
   "source": [
    "from sklearn.metrics import mean_squared_log_error\n",
    "np.sqrt(mean_squared_log_error( y_test, final_predictions ))\n"
   ]
  },
  {
   "cell_type": "code",
   "execution_count": 70,
   "metadata": {
    "colab": {
     "base_uri": "https://localhost:8080/",
     "height": 357
    },
    "colab_type": "code",
    "id": "uVNTEZ3wNb6j",
    "outputId": "4c7cc6ba-4339-4e22-cd09-815682388f45"
   },
   "outputs": [
    {
     "name": "stdout",
     "output_type": "stream",
     "text": [
      "predicted:  14079 \t  real:  14000\n",
      "predicted:  6317 \t  real:  6363\n",
      "predicted:  17062 \t  real:  18999\n",
      "predicted:  13043 \t  real:  12872\n",
      "predicted:  7894 \t  real:  7894\n",
      "predicted:  5869 \t  real:  5800\n",
      "predicted:  8314 \t  real:  8113\n",
      "predicted:  9069 \t  real:  7476\n",
      "predicted:  18567 \t  real:  18500\n",
      "predicted:  7117 \t  real:  7099\n",
      "predicted:  13513 \t  real:  13000\n",
      "predicted:  7800 \t  real:  7325\n",
      "predicted:  6858 \t  real:  6786\n",
      "predicted:  9646 \t  real:  9266\n",
      "predicted:  7493 \t  real:  7446\n",
      "predicted:  10207 \t  real:  12900\n",
      "predicted:  8749 \t  real:  8586\n",
      "predicted:  9865 \t  real:  9775\n",
      "predicted:  12915 \t  real:  15119\n",
      "predicted:  9069 \t  real:  7476\n"
     ]
    }
   ],
   "source": [
    "for predicted, real in zip(list(final_predictions)[:20], list(y_test)[:20]):\n",
    "  print('predicted: ', int(predicted),'\\t', ' real: ', real)"
   ]
  }
 ],
 "metadata": {
  "colab": {
   "collapsed_sections": [],
   "name": "3cityPricePredicition.ipynb",
   "provenance": [],
   "toc_visible": true
  },
  "kernelspec": {
   "display_name": "Python 3",
   "language": "python",
   "name": "python3"
  },
  "language_info": {
   "codemirror_mode": {
    "name": "ipython",
    "version": 3
   },
   "file_extension": ".py",
   "mimetype": "text/x-python",
   "name": "python",
   "nbconvert_exporter": "python",
   "pygments_lexer": "ipython3",
   "version": "3.7.3"
  },
  "widgets": {
   "application/vnd.jupyter.widget-state+json": {
    "05e682ba7d374e0295aee7ae91aee3c9": {
     "model_module": "@jupyter-widgets/base",
     "model_name": "LayoutModel",
     "state": {
      "_model_module": "@jupyter-widgets/base",
      "_model_module_version": "1.2.0",
      "_model_name": "LayoutModel",
      "_view_count": null,
      "_view_module": "@jupyter-widgets/base",
      "_view_module_version": "1.2.0",
      "_view_name": "LayoutView",
      "align_content": null,
      "align_items": null,
      "align_self": null,
      "border": null,
      "bottom": null,
      "display": null,
      "flex": null,
      "flex_flow": null,
      "grid_area": null,
      "grid_auto_columns": null,
      "grid_auto_flow": null,
      "grid_auto_rows": null,
      "grid_column": null,
      "grid_gap": null,
      "grid_row": null,
      "grid_template_areas": null,
      "grid_template_columns": null,
      "grid_template_rows": null,
      "height": null,
      "justify_content": null,
      "justify_items": null,
      "left": null,
      "margin": null,
      "max_height": null,
      "max_width": null,
      "min_height": null,
      "min_width": null,
      "object_fit": null,
      "object_position": null,
      "order": null,
      "overflow": null,
      "overflow_x": null,
      "overflow_y": null,
      "padding": null,
      "right": null,
      "top": null,
      "visibility": null,
      "width": null
     }
    },
    "2a06008e249b4c28bc3a7a5267ec6927": {
     "model_module": "@jupyter-widgets/controls",
     "model_name": "DescriptionStyleModel",
     "state": {
      "_model_module": "@jupyter-widgets/controls",
      "_model_module_version": "1.5.0",
      "_model_name": "DescriptionStyleModel",
      "_view_count": null,
      "_view_module": "@jupyter-widgets/base",
      "_view_module_version": "1.2.0",
      "_view_name": "StyleView",
      "description_width": ""
     }
    },
    "3db91e3d80d4480ea9b4255c4548e582": {
     "model_module": "@jupyter-widgets/controls",
     "model_name": "FloatProgressModel",
     "state": {
      "_dom_classes": [],
      "_model_module": "@jupyter-widgets/controls",
      "_model_module_version": "1.5.0",
      "_model_name": "FloatProgressModel",
      "_view_count": null,
      "_view_module": "@jupyter-widgets/controls",
      "_view_module_version": "1.5.0",
      "_view_name": "ProgressView",
      "bar_style": "success",
      "description": "100%",
      "description_tooltip": null,
      "layout": "IPY_MODEL_a0fc6c9a334d4033bc570601f0dee842",
      "max": 20299,
      "min": 0,
      "orientation": "horizontal",
      "style": "IPY_MODEL_de9aed40ed9b443ebc16efc3b13ea6ed",
      "value": 20299
     }
    },
    "57557ca051904b4ba68ca9c3ecb8b0a7": {
     "model_module": "@jupyter-widgets/base",
     "model_name": "LayoutModel",
     "state": {
      "_model_module": "@jupyter-widgets/base",
      "_model_module_version": "1.2.0",
      "_model_name": "LayoutModel",
      "_view_count": null,
      "_view_module": "@jupyter-widgets/base",
      "_view_module_version": "1.2.0",
      "_view_name": "LayoutView",
      "align_content": null,
      "align_items": null,
      "align_self": null,
      "border": null,
      "bottom": null,
      "display": null,
      "flex": null,
      "flex_flow": null,
      "grid_area": null,
      "grid_auto_columns": null,
      "grid_auto_flow": null,
      "grid_auto_rows": null,
      "grid_column": null,
      "grid_gap": null,
      "grid_row": null,
      "grid_template_areas": null,
      "grid_template_columns": null,
      "grid_template_rows": null,
      "height": null,
      "justify_content": null,
      "justify_items": null,
      "left": null,
      "margin": null,
      "max_height": null,
      "max_width": null,
      "min_height": null,
      "min_width": null,
      "object_fit": null,
      "object_position": null,
      "order": null,
      "overflow": null,
      "overflow_x": null,
      "overflow_y": null,
      "padding": null,
      "right": null,
      "top": null,
      "visibility": null,
      "width": null
     }
    },
    "6a64933e06e64bc3a241101c2e4c24cb": {
     "model_module": "@jupyter-widgets/controls",
     "model_name": "HTMLModel",
     "state": {
      "_dom_classes": [],
      "_model_module": "@jupyter-widgets/controls",
      "_model_module_version": "1.5.0",
      "_model_name": "HTMLModel",
      "_view_count": null,
      "_view_module": "@jupyter-widgets/controls",
      "_view_module_version": "1.5.0",
      "_view_name": "HTMLView",
      "description": "",
      "description_tooltip": null,
      "layout": "IPY_MODEL_05e682ba7d374e0295aee7ae91aee3c9",
      "placeholder": "​",
      "style": "IPY_MODEL_b917f7c4bd0d47608adf30fe05d4cc79",
      "value": " 20416/20416 [3:22:40&lt;00:00,  1.68it/s]"
     }
    },
    "87b2da7731af42c6bb4fe70865e1ec8c": {
     "model_module": "@jupyter-widgets/base",
     "model_name": "LayoutModel",
     "state": {
      "_model_module": "@jupyter-widgets/base",
      "_model_module_version": "1.2.0",
      "_model_name": "LayoutModel",
      "_view_count": null,
      "_view_module": "@jupyter-widgets/base",
      "_view_module_version": "1.2.0",
      "_view_name": "LayoutView",
      "align_content": null,
      "align_items": null,
      "align_self": null,
      "border": null,
      "bottom": null,
      "display": null,
      "flex": null,
      "flex_flow": null,
      "grid_area": null,
      "grid_auto_columns": null,
      "grid_auto_flow": null,
      "grid_auto_rows": null,
      "grid_column": null,
      "grid_gap": null,
      "grid_row": null,
      "grid_template_areas": null,
      "grid_template_columns": null,
      "grid_template_rows": null,
      "height": null,
      "justify_content": null,
      "justify_items": null,
      "left": null,
      "margin": null,
      "max_height": null,
      "max_width": null,
      "min_height": null,
      "min_width": null,
      "object_fit": null,
      "object_position": null,
      "order": null,
      "overflow": null,
      "overflow_x": null,
      "overflow_y": null,
      "padding": null,
      "right": null,
      "top": null,
      "visibility": null,
      "width": null
     }
    },
    "927cf0e959304f00aafbe6d0a686db8c": {
     "model_module": "@jupyter-widgets/controls",
     "model_name": "FloatProgressModel",
     "state": {
      "_dom_classes": [],
      "_model_module": "@jupyter-widgets/controls",
      "_model_module_version": "1.5.0",
      "_model_name": "FloatProgressModel",
      "_view_count": null,
      "_view_module": "@jupyter-widgets/controls",
      "_view_module_version": "1.5.0",
      "_view_name": "ProgressView",
      "bar_style": "success",
      "description": "100%",
      "description_tooltip": null,
      "layout": "IPY_MODEL_fddfd5dc1d1b43afb2363543ccf73b8b",
      "max": 20416,
      "min": 0,
      "orientation": "horizontal",
      "style": "IPY_MODEL_9744283c4ee943bcbbe3c76bcd4752f4",
      "value": 20416
     }
    },
    "9744283c4ee943bcbbe3c76bcd4752f4": {
     "model_module": "@jupyter-widgets/controls",
     "model_name": "ProgressStyleModel",
     "state": {
      "_model_module": "@jupyter-widgets/controls",
      "_model_module_version": "1.5.0",
      "_model_name": "ProgressStyleModel",
      "_view_count": null,
      "_view_module": "@jupyter-widgets/base",
      "_view_module_version": "1.2.0",
      "_view_name": "StyleView",
      "bar_color": null,
      "description_width": "initial"
     }
    },
    "a0fc6c9a334d4033bc570601f0dee842": {
     "model_module": "@jupyter-widgets/base",
     "model_name": "LayoutModel",
     "state": {
      "_model_module": "@jupyter-widgets/base",
      "_model_module_version": "1.2.0",
      "_model_name": "LayoutModel",
      "_view_count": null,
      "_view_module": "@jupyter-widgets/base",
      "_view_module_version": "1.2.0",
      "_view_name": "LayoutView",
      "align_content": null,
      "align_items": null,
      "align_self": null,
      "border": null,
      "bottom": null,
      "display": null,
      "flex": null,
      "flex_flow": null,
      "grid_area": null,
      "grid_auto_columns": null,
      "grid_auto_flow": null,
      "grid_auto_rows": null,
      "grid_column": null,
      "grid_gap": null,
      "grid_row": null,
      "grid_template_areas": null,
      "grid_template_columns": null,
      "grid_template_rows": null,
      "height": null,
      "justify_content": null,
      "justify_items": null,
      "left": null,
      "margin": null,
      "max_height": null,
      "max_width": null,
      "min_height": null,
      "min_width": null,
      "object_fit": null,
      "object_position": null,
      "order": null,
      "overflow": null,
      "overflow_x": null,
      "overflow_y": null,
      "padding": null,
      "right": null,
      "top": null,
      "visibility": null,
      "width": null
     }
    },
    "a450d4b6b3b6442c913705ee93491d7b": {
     "model_module": "@jupyter-widgets/controls",
     "model_name": "HBoxModel",
     "state": {
      "_dom_classes": [],
      "_model_module": "@jupyter-widgets/controls",
      "_model_module_version": "1.5.0",
      "_model_name": "HBoxModel",
      "_view_count": null,
      "_view_module": "@jupyter-widgets/controls",
      "_view_module_version": "1.5.0",
      "_view_name": "HBoxView",
      "box_style": "",
      "children": [
       "IPY_MODEL_3db91e3d80d4480ea9b4255c4548e582",
       "IPY_MODEL_ffd314add4c748bc8e35d9bc6920cccd"
      ],
      "layout": "IPY_MODEL_87b2da7731af42c6bb4fe70865e1ec8c"
     }
    },
    "b917f7c4bd0d47608adf30fe05d4cc79": {
     "model_module": "@jupyter-widgets/controls",
     "model_name": "DescriptionStyleModel",
     "state": {
      "_model_module": "@jupyter-widgets/controls",
      "_model_module_version": "1.5.0",
      "_model_name": "DescriptionStyleModel",
      "_view_count": null,
      "_view_module": "@jupyter-widgets/base",
      "_view_module_version": "1.2.0",
      "_view_name": "StyleView",
      "description_width": ""
     }
    },
    "cf706a9bd5e1456284baf4f10fa27fd2": {
     "model_module": "@jupyter-widgets/controls",
     "model_name": "HBoxModel",
     "state": {
      "_dom_classes": [],
      "_model_module": "@jupyter-widgets/controls",
      "_model_module_version": "1.5.0",
      "_model_name": "HBoxModel",
      "_view_count": null,
      "_view_module": "@jupyter-widgets/controls",
      "_view_module_version": "1.5.0",
      "_view_name": "HBoxView",
      "box_style": "",
      "children": [
       "IPY_MODEL_927cf0e959304f00aafbe6d0a686db8c",
       "IPY_MODEL_6a64933e06e64bc3a241101c2e4c24cb"
      ],
      "layout": "IPY_MODEL_df8c8da300504157b48707ef4a64db88"
     }
    },
    "de9aed40ed9b443ebc16efc3b13ea6ed": {
     "model_module": "@jupyter-widgets/controls",
     "model_name": "ProgressStyleModel",
     "state": {
      "_model_module": "@jupyter-widgets/controls",
      "_model_module_version": "1.5.0",
      "_model_name": "ProgressStyleModel",
      "_view_count": null,
      "_view_module": "@jupyter-widgets/base",
      "_view_module_version": "1.2.0",
      "_view_name": "StyleView",
      "bar_color": null,
      "description_width": "initial"
     }
    },
    "df8c8da300504157b48707ef4a64db88": {
     "model_module": "@jupyter-widgets/base",
     "model_name": "LayoutModel",
     "state": {
      "_model_module": "@jupyter-widgets/base",
      "_model_module_version": "1.2.0",
      "_model_name": "LayoutModel",
      "_view_count": null,
      "_view_module": "@jupyter-widgets/base",
      "_view_module_version": "1.2.0",
      "_view_name": "LayoutView",
      "align_content": null,
      "align_items": null,
      "align_self": null,
      "border": null,
      "bottom": null,
      "display": null,
      "flex": null,
      "flex_flow": null,
      "grid_area": null,
      "grid_auto_columns": null,
      "grid_auto_flow": null,
      "grid_auto_rows": null,
      "grid_column": null,
      "grid_gap": null,
      "grid_row": null,
      "grid_template_areas": null,
      "grid_template_columns": null,
      "grid_template_rows": null,
      "height": null,
      "justify_content": null,
      "justify_items": null,
      "left": null,
      "margin": null,
      "max_height": null,
      "max_width": null,
      "min_height": null,
      "min_width": null,
      "object_fit": null,
      "object_position": null,
      "order": null,
      "overflow": null,
      "overflow_x": null,
      "overflow_y": null,
      "padding": null,
      "right": null,
      "top": null,
      "visibility": null,
      "width": null
     }
    },
    "fddfd5dc1d1b43afb2363543ccf73b8b": {
     "model_module": "@jupyter-widgets/base",
     "model_name": "LayoutModel",
     "state": {
      "_model_module": "@jupyter-widgets/base",
      "_model_module_version": "1.2.0",
      "_model_name": "LayoutModel",
      "_view_count": null,
      "_view_module": "@jupyter-widgets/base",
      "_view_module_version": "1.2.0",
      "_view_name": "LayoutView",
      "align_content": null,
      "align_items": null,
      "align_self": null,
      "border": null,
      "bottom": null,
      "display": null,
      "flex": null,
      "flex_flow": null,
      "grid_area": null,
      "grid_auto_columns": null,
      "grid_auto_flow": null,
      "grid_auto_rows": null,
      "grid_column": null,
      "grid_gap": null,
      "grid_row": null,
      "grid_template_areas": null,
      "grid_template_columns": null,
      "grid_template_rows": null,
      "height": null,
      "justify_content": null,
      "justify_items": null,
      "left": null,
      "margin": null,
      "max_height": null,
      "max_width": null,
      "min_height": null,
      "min_width": null,
      "object_fit": null,
      "object_position": null,
      "order": null,
      "overflow": null,
      "overflow_x": null,
      "overflow_y": null,
      "padding": null,
      "right": null,
      "top": null,
      "visibility": null,
      "width": null
     }
    },
    "ffd314add4c748bc8e35d9bc6920cccd": {
     "model_module": "@jupyter-widgets/controls",
     "model_name": "HTMLModel",
     "state": {
      "_dom_classes": [],
      "_model_module": "@jupyter-widgets/controls",
      "_model_module_version": "1.5.0",
      "_model_name": "HTMLModel",
      "_view_count": null,
      "_view_module": "@jupyter-widgets/controls",
      "_view_module_version": "1.5.0",
      "_view_name": "HTMLView",
      "description": "",
      "description_tooltip": null,
      "layout": "IPY_MODEL_57557ca051904b4ba68ca9c3ecb8b0a7",
      "placeholder": "​",
      "style": "IPY_MODEL_2a06008e249b4c28bc3a7a5267ec6927",
      "value": " 20299/20299 [00:20&lt;00:00, 982.90it/s]"
     }
    }
   }
  }
 },
 "nbformat": 4,
 "nbformat_minor": 1
}
