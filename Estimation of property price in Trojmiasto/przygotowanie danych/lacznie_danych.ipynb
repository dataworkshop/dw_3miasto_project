{
 "cells": [
  {
   "cell_type": "code",
   "execution_count": 1,
   "metadata": {},
   "outputs": [],
   "source": [
    "import pandas as pd\n",
    "import numpy as np\n",
    "import json"
   ]
  },
  {
   "cell_type": "markdown",
   "metadata": {},
   "source": [
    "## Wczytanie danych z morizona"
   ]
  },
  {
   "cell_type": "code",
   "execution_count": 2,
   "metadata": {},
   "outputs": [],
   "source": [
    "morizon = pd.DataFrame(pd.read_json('morizon.json'))\n",
    "morizon['serwis'] = 'morizon'"
   ]
  },
  {
   "cell_type": "markdown",
   "metadata": {},
   "source": [
    "## Wczytanie danych z otodom"
   ]
  },
  {
   "cell_type": "code",
   "execution_count": 4,
   "metadata": {},
   "outputs": [],
   "source": [
    "otodom = pd.DataFrame(pd.read_json('otodom.json'))\n",
    "otodom['serwis'] = 'otodom'"
   ]
  },
  {
   "cell_type": "markdown",
   "metadata": {},
   "source": [
    "## Wczytanie danych z gratki"
   ]
  },
  {
   "cell_type": "code",
   "execution_count": 5,
   "metadata": {},
   "outputs": [],
   "source": [
    "gratka = pd.DataFrame(pd.read_json('gratka.json'))\n",
    "gratka['serwis'] = 'gratka'"
   ]
  },
  {
   "cell_type": "markdown",
   "metadata": {},
   "source": [
    "## Wczytanie danych z tromiasta"
   ]
  },
  {
   "cell_type": "code",
   "execution_count": 6,
   "metadata": {},
   "outputs": [],
   "source": [
    "trojmiasto = pd.DataFrame(pd.read_json('trojmiasto_1.json'))\n",
    "trojmiasto['serwis'] = 'trojmiasto'"
   ]
  },
  {
   "cell_type": "markdown",
   "metadata": {},
   "source": [
    "## Łączenie danych"
   ]
  },
  {
   "cell_type": "code",
   "execution_count": 7,
   "metadata": {},
   "outputs": [
    {
     "data": {
      "text/html": [
       "<div>\n",
       "<style scoped>\n",
       "    .dataframe tbody tr th:only-of-type {\n",
       "        vertical-align: middle;\n",
       "    }\n",
       "\n",
       "    .dataframe tbody tr th {\n",
       "        vertical-align: top;\n",
       "    }\n",
       "\n",
       "    .dataframe thead th {\n",
       "        text-align: right;\n",
       "    }\n",
       "</style>\n",
       "<table border=\"1\" class=\"dataframe\">\n",
       "  <thead>\n",
       "    <tr style=\"text-align: right;\">\n",
       "      <th></th>\n",
       "      <th>kuchnia</th>\n",
       "      <th>rynek</th>\n",
       "      <th>balkon</th>\n",
       "      <th>liczba_pieter_budynku</th>\n",
       "      <th>material-budowlany</th>\n",
       "      <th>rok_budowy</th>\n",
       "      <th>powierzchnia-uzytkowa</th>\n",
       "      <th>miasto</th>\n",
       "      <th>liczba_pokoi</th>\n",
       "      <th>wykonczenie</th>\n",
       "      <th>...</th>\n",
       "      <th>data_wyroznienia</th>\n",
       "      <th>data</th>\n",
       "      <th>data_aktualizacji</th>\n",
       "      <th>wyswietlenia</th>\n",
       "      <th>wyswietlen_na_liscie</th>\n",
       "      <th>dodatkowe_informacje</th>\n",
       "      <th>zdjecie</th>\n",
       "      <th>data_dostepne</th>\n",
       "      <th>powierzchnia_dzialki</th>\n",
       "      <th>ulica_i_nr</th>\n",
       "    </tr>\n",
       "  </thead>\n",
       "  <tbody>\n",
       "    <tr>\n",
       "      <th>9196</th>\n",
       "      <td>0</td>\n",
       "      <td>NaN</td>\n",
       "      <td>NaN</td>\n",
       "      <td>8</td>\n",
       "      <td>NaN</td>\n",
       "      <td>2020.0</td>\n",
       "      <td>NaN</td>\n",
       "      <td>Gdynia</td>\n",
       "      <td>2</td>\n",
       "      <td>dowykończenia</td>\n",
       "      <td>...</td>\n",
       "      <td>NaN</td>\n",
       "      <td>NaN</td>\n",
       "      <td>NaN</td>\n",
       "      <td>NaN</td>\n",
       "      <td>NaN</td>\n",
       "      <td>NaN</td>\n",
       "      <td>NaN</td>\n",
       "      <td>NaN</td>\n",
       "      <td>NaN</td>\n",
       "      <td>NaN</td>\n",
       "    </tr>\n",
       "    <tr>\n",
       "      <th>19874</th>\n",
       "      <td>NaN</td>\n",
       "      <td>NaN</td>\n",
       "      <td>NaN</td>\n",
       "      <td>17</td>\n",
       "      <td>NaN</td>\n",
       "      <td>2011.0</td>\n",
       "      <td>NaN</td>\n",
       "      <td>None</td>\n",
       "      <td>2</td>\n",
       "      <td>NaN</td>\n",
       "      <td>...</td>\n",
       "      <td>10 marca 2020</td>\n",
       "      <td>24 września 2019</td>\n",
       "      <td>16 kwietnia 2020</td>\n",
       "      <td>739</td>\n",
       "      <td>22 705</td>\n",
       "      <td>Balkon, Winda, Siła, Internet, Kuchnia</td>\n",
       "      <td>True</td>\n",
       "      <td>None</td>\n",
       "      <td>None</td>\n",
       "      <td>None</td>\n",
       "    </tr>\n",
       "    <tr>\n",
       "      <th>17823</th>\n",
       "      <td>NaN</td>\n",
       "      <td>NaN</td>\n",
       "      <td>NaN</td>\n",
       "      <td>10</td>\n",
       "      <td>NaN</td>\n",
       "      <td>1974.0</td>\n",
       "      <td>NaN</td>\n",
       "      <td>None</td>\n",
       "      <td>3</td>\n",
       "      <td>NaN</td>\n",
       "      <td>...</td>\n",
       "      <td>None</td>\n",
       "      <td>24 lutego 2020</td>\n",
       "      <td>17 marca 2020</td>\n",
       "      <td>231</td>\n",
       "      <td>5 185</td>\n",
       "      <td>Balkon, Miejsce parkingowe</td>\n",
       "      <td>True</td>\n",
       "      <td>None</td>\n",
       "      <td>None</td>\n",
       "      <td>None</td>\n",
       "    </tr>\n",
       "    <tr>\n",
       "      <th>25465</th>\n",
       "      <td>NaN</td>\n",
       "      <td>NaN</td>\n",
       "      <td>NaN</td>\n",
       "      <td>3</td>\n",
       "      <td>NaN</td>\n",
       "      <td>1953.0</td>\n",
       "      <td>NaN</td>\n",
       "      <td>None</td>\n",
       "      <td>3</td>\n",
       "      <td>NaN</td>\n",
       "      <td>...</td>\n",
       "      <td>25 kwietnia 2020</td>\n",
       "      <td>25 stycznia 2020</td>\n",
       "      <td>7 maja 2020</td>\n",
       "      <td>478</td>\n",
       "      <td>10 012</td>\n",
       "      <td>Kuchnia</td>\n",
       "      <td>True</td>\n",
       "      <td>25-01-2020</td>\n",
       "      <td>None</td>\n",
       "      <td>None</td>\n",
       "    </tr>\n",
       "    <tr>\n",
       "      <th>21846</th>\n",
       "      <td>NaN</td>\n",
       "      <td>NaN</td>\n",
       "      <td>NaN</td>\n",
       "      <td>4</td>\n",
       "      <td>NaN</td>\n",
       "      <td>0.0</td>\n",
       "      <td>NaN</td>\n",
       "      <td>None</td>\n",
       "      <td>2</td>\n",
       "      <td>NaN</td>\n",
       "      <td>...</td>\n",
       "      <td>None</td>\n",
       "      <td>4 maja 2020</td>\n",
       "      <td>4 maja 2020</td>\n",
       "      <td>60</td>\n",
       "      <td>2 839</td>\n",
       "      <td>Piwnica</td>\n",
       "      <td>True</td>\n",
       "      <td>None</td>\n",
       "      <td>None</td>\n",
       "      <td>None</td>\n",
       "    </tr>\n",
       "  </tbody>\n",
       "</table>\n",
       "<p>5 rows × 43 columns</p>\n",
       "</div>"
      ],
      "text/plain": [
       "      kuchnia rynek balkon liczba_pieter_budynku material-budowlany  \\\n",
       "9196        0   NaN    NaN                     8                NaN   \n",
       "19874     NaN   NaN    NaN                    17                NaN   \n",
       "17823     NaN   NaN    NaN                    10                NaN   \n",
       "25465     NaN   NaN    NaN                     3                NaN   \n",
       "21846     NaN   NaN    NaN                     4                NaN   \n",
       "\n",
       "       rok_budowy  powierzchnia-uzytkowa  miasto liczba_pokoi    wykonczenie  \\\n",
       "9196       2020.0                    NaN  Gdynia            2  dowykończenia   \n",
       "19874      2011.0                    NaN    None            2            NaN   \n",
       "17823      1974.0                    NaN    None            3            NaN   \n",
       "25465      1953.0                    NaN    None            3            NaN   \n",
       "21846         0.0                    NaN    None            2            NaN   \n",
       "\n",
       "       ...  data_wyroznienia              data data_aktualizacji  \\\n",
       "9196   ...               NaN               NaN               NaN   \n",
       "19874  ...     10 marca 2020  24 września 2019  16 kwietnia 2020   \n",
       "17823  ...              None    24 lutego 2020     17 marca 2020   \n",
       "25465  ...  25 kwietnia 2020  25 stycznia 2020       7 maja 2020   \n",
       "21846  ...              None       4 maja 2020       4 maja 2020   \n",
       "\n",
       "       wyswietlenia wyswietlen_na_liscie  \\\n",
       "9196            NaN                  NaN   \n",
       "19874           739               22 705   \n",
       "17823           231                5 185   \n",
       "25465           478               10 012   \n",
       "21846            60                2 839   \n",
       "\n",
       "                         dodatkowe_informacje  zdjecie data_dostepne  \\\n",
       "9196                                      NaN      NaN           NaN   \n",
       "19874  Balkon, Winda, Siła, Internet, Kuchnia     True          None   \n",
       "17823              Balkon, Miejsce parkingowe     True          None   \n",
       "25465                                 Kuchnia     True    25-01-2020   \n",
       "21846                                 Piwnica     True          None   \n",
       "\n",
       "      powierzchnia_dzialki  ulica_i_nr  \n",
       "9196                   NaN         NaN  \n",
       "19874                 None        None  \n",
       "17823                 None        None  \n",
       "25465                 None        None  \n",
       "21846                 None        None  \n",
       "\n",
       "[5 rows x 43 columns]"
      ]
     },
     "execution_count": 7,
     "metadata": {},
     "output_type": "execute_result"
    }
   ],
   "source": [
    "data = pd.concat([morizon, otodom, gratka, trojmiasto], sort=False, ignore_index =True)\n",
    "data.sample(5)"
   ]
  },
  {
   "cell_type": "markdown",
   "metadata": {},
   "source": [
    "## Sprawdzenie"
   ]
  },
  {
   "cell_type": "code",
   "execution_count": 8,
   "metadata": {},
   "outputs": [
    {
     "data": {
      "text/plain": [
       "True"
      ]
     },
     "execution_count": 8,
     "metadata": {},
     "output_type": "execute_result"
    }
   ],
   "source": [
    "data.shape[0] == (morizon.shape[0] + otodom.shape[0] + gratka.shape[0] + trojmiasto.shape[0])"
   ]
  },
  {
   "cell_type": "code",
   "execution_count": 9,
   "metadata": {},
   "outputs": [
    {
     "name": "stdout",
     "output_type": "stream",
     "text": [
      "<class 'pandas.core.frame.DataFrame'>\n",
      "RangeIndex: 27813 entries, 0 to 27812\n",
      "Data columns (total 43 columns):\n",
      " #   Column                  Non-Null Count  Dtype  \n",
      "---  ------                  --------------  -----  \n",
      " 0   kuchnia                 11668 non-null  object \n",
      " 1   rynek                   5356 non-null   object \n",
      " 2   balkon                  5356 non-null   object \n",
      " 3   liczba_pieter_budynku   27740 non-null  object \n",
      " 4   material-budowlany      5356 non-null   object \n",
      " 5   rok_budowy              26604 non-null  float64\n",
      " 6   powierzchnia-uzytkowa   5356 non-null   float64\n",
      " 7   miasto                  14750 non-null  object \n",
      " 8   liczba_pokoi            27803 non-null  object \n",
      " 9   wykonczenie             9570 non-null   object \n",
      " 10  ulica                   5356 non-null   object \n",
      " 11  pietro                  27621 non-null  object \n",
      " 12  rodzaj_zabudowy         13004 non-null  object \n",
      " 13  powierzchnia            27807 non-null  float64\n",
      " 14  dzielnica               9335 non-null   object \n",
      " 15  forma-wlasnosci         5356 non-null   object \n",
      " 16  cena                    27813 non-null  float64\n",
      " 17  adres                   27813 non-null  object \n",
      " 18  serwis                  27813 non-null  object \n",
      " 19  cena_za_metr            8965 non-null   float64\n",
      " 20  oferta                  4991 non-null   object \n",
      " 21  ogrzewanie              3727 non-null   object \n",
      " 22  winda                   4991 non-null   float64\n",
      " 23  material_budynku        2076 non-null   object \n",
      " 24  czynsz                  4991 non-null   float64\n",
      " 25  url                     13487 non-null  object \n",
      " 26  tytul                   13487 non-null  object \n",
      " 27  tresc                   13487 non-null  object \n",
      " 28  nr_licencji_posrednika  3687 non-null   object \n",
      " 29  typ_nieruchomosci       13487 non-null  object \n",
      " 30  nr_oferty               8001 non-null   object \n",
      " 31  typ_ogrzewania          8672 non-null   object \n",
      " 32  id_ogloszenia           13487 non-null  float64\n",
      " 33  data_wyroznienia        4997 non-null   object \n",
      " 34  data                    13487 non-null  object \n",
      " 35  data_aktualizacji       12969 non-null  object \n",
      " 36  wyswietlenia            13487 non-null  object \n",
      " 37  wyswietlen_na_liscie    13487 non-null  object \n",
      " 38  dodatkowe_informacje    10949 non-null  object \n",
      " 39  zdjecie                 13487 non-null  object \n",
      " 40  data_dostepne           2448 non-null   object \n",
      " 41  powierzchnia_dzialki    94 non-null     object \n",
      " 42  ulica_i_nr              982 non-null    object \n",
      "dtypes: float64(8), object(35)\n",
      "memory usage: 9.1+ MB\n"
     ]
    }
   ],
   "source": [
    "data.info()"
   ]
  },
  {
   "cell_type": "markdown",
   "metadata": {},
   "source": [
    "## Zapisujemy dane"
   ]
  },
  {
   "cell_type": "code",
   "execution_count": null,
   "metadata": {},
   "outputs": [],
   "source": [
    "#data.to_json (r'dane_z_4_portali.json', orient='columns')"
   ]
  },
  {
   "cell_type": "code",
   "execution_count": null,
   "metadata": {},
   "outputs": [],
   "source": []
  }
 ],
 "metadata": {
  "kernelspec": {
   "display_name": "Python 3",
   "language": "python",
   "name": "python3"
  },
  "language_info": {
   "codemirror_mode": {
    "name": "ipython",
    "version": 3
   },
   "file_extension": ".py",
   "mimetype": "text/x-python",
   "name": "python",
   "nbconvert_exporter": "python",
   "pygments_lexer": "ipython3",
   "version": "3.7.6"
  }
 },
 "nbformat": 4,
 "nbformat_minor": 4
}
