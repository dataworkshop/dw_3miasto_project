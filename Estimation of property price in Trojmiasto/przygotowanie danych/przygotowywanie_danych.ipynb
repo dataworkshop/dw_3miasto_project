{
 "cells": [
  {
   "cell_type": "markdown",
   "metadata": {},
   "source": [
    "### Wczytanie bibliotek"
   ]
  },
  {
   "cell_type": "code",
   "execution_count": 462,
   "metadata": {},
   "outputs": [],
   "source": [
    "import pandas as pd\n",
    "import numpy as np\n",
    "import json"
   ]
  },
  {
   "cell_type": "markdown",
   "metadata": {},
   "source": [
    "### Wczytanie danych"
   ]
  },
  {
   "cell_type": "code",
   "execution_count": 463,
   "metadata": {},
   "outputs": [],
   "source": [
    "#Otwieranie pliku\n",
    "df = pd.read_json('dane_z_4_portali_poprawione.json', orient='index')\n",
    "df=df.T"
   ]
  },
  {
   "cell_type": "markdown",
   "metadata": {},
   "source": [
    "### Usuwanie nie potrzebnych kolumn"
   ]
  },
  {
   "cell_type": "code",
   "execution_count": 464,
   "metadata": {},
   "outputs": [
    {
     "data": {
      "text/plain": [
       "Index(['kuchnia', 'rynek', 'balkon', 'liczba_pieter_budynku', 'rok_budowy',\n",
       "       'powierzchnia-uzytkowa', 'miasto', 'liczba_pokoi', 'wykonczenie',\n",
       "       'ulica', 'pietro', 'rodzaj_zabudowy', 'powierzchnia', 'dzielnica',\n",
       "       'forma-wlasnosci', 'cena', 'adres', 'serwis', 'material_budynku',\n",
       "       'cena_za_metr', 'oferta', 'ogrzewanie', 'winda', 'czynsz', 'url',\n",
       "       'tytul', 'tresc', 'nr_licencji_posrednika', 'typ_nieruchomosci',\n",
       "       'nr_oferty', 'typ_ogrzewania', 'id_ogloszenia', 'data_wyroznienia',\n",
       "       'data', 'data_aktualizacji', 'wyswietlenia', 'wyswietlen_na_liscie',\n",
       "       'dodatkowe_informacje', 'zdjecie', 'data_dostepne',\n",
       "       'powierzchnia_dzialki', 'ulica_i_nr'],\n",
       "      dtype='object')"
      ]
     },
     "execution_count": 464,
     "metadata": {},
     "output_type": "execute_result"
    }
   ],
   "source": [
    "df.columns"
   ]
  },
  {
   "cell_type": "code",
   "execution_count": 465,
   "metadata": {},
   "outputs": [],
   "source": [
    "df.drop(columns=['url', 'tytul', 'tresc', 'nr_licencji_posrednika', 'nr_oferty', 'id_ogloszenia', 'typ_nieruchomosci'], inplace=True)"
   ]
  },
  {
   "cell_type": "code",
   "execution_count": 466,
   "metadata": {},
   "outputs": [
    {
     "data": {
      "text/plain": [
       "Index(['kuchnia', 'rynek', 'balkon', 'liczba_pieter_budynku', 'rok_budowy',\n",
       "       'powierzchnia-uzytkowa', 'miasto', 'liczba_pokoi', 'wykonczenie',\n",
       "       'ulica', 'pietro', 'rodzaj_zabudowy', 'powierzchnia', 'dzielnica',\n",
       "       'forma-wlasnosci', 'cena', 'adres', 'serwis', 'material_budynku',\n",
       "       'cena_za_metr', 'oferta', 'ogrzewanie', 'winda', 'czynsz',\n",
       "       'typ_ogrzewania', 'data_wyroznienia', 'data', 'data_aktualizacji',\n",
       "       'wyswietlenia', 'wyswietlen_na_liscie', 'dodatkowe_informacje',\n",
       "       'zdjecie', 'data_dostepne', 'powierzchnia_dzialki', 'ulica_i_nr'],\n",
       "      dtype='object')"
      ]
     },
     "execution_count": 466,
     "metadata": {},
     "output_type": "execute_result"
    }
   ],
   "source": [
    "df.columns"
   ]
  },
  {
   "cell_type": "code",
   "execution_count": 467,
   "metadata": {},
   "outputs": [],
   "source": [
    "df.drop(columns=['data','data_aktualizacji','data_wyroznienia','data_dostepne','powierzchnia_dzialki'], inplace=True)"
   ]
  },
  {
   "cell_type": "code",
   "execution_count": 468,
   "metadata": {},
   "outputs": [
    {
     "data": {
      "text/plain": [
       "Index(['kuchnia', 'rynek', 'balkon', 'liczba_pieter_budynku', 'rok_budowy',\n",
       "       'powierzchnia-uzytkowa', 'miasto', 'liczba_pokoi', 'wykonczenie',\n",
       "       'ulica', 'pietro', 'rodzaj_zabudowy', 'powierzchnia', 'dzielnica',\n",
       "       'forma-wlasnosci', 'cena', 'adres', 'serwis', 'material_budynku',\n",
       "       'cena_za_metr', 'oferta', 'ogrzewanie', 'winda', 'czynsz',\n",
       "       'typ_ogrzewania', 'wyswietlenia', 'wyswietlen_na_liscie',\n",
       "       'dodatkowe_informacje', 'zdjecie', 'ulica_i_nr'],\n",
       "      dtype='object')"
      ]
     },
     "execution_count": 468,
     "metadata": {},
     "output_type": "execute_result"
    }
   ],
   "source": [
    "df.columns"
   ]
  },
  {
   "cell_type": "code",
   "execution_count": 469,
   "metadata": {},
   "outputs": [],
   "source": [
    "df.drop(columns=['cena_za_metr','wyswietlenia','wyswietlen_na_liscie','zdjecie'],inplace=True)"
   ]
  },
  {
   "cell_type": "code",
   "execution_count": 470,
   "metadata": {},
   "outputs": [
    {
     "data": {
      "text/plain": [
       "Index(['kuchnia', 'rynek', 'balkon', 'liczba_pieter_budynku', 'rok_budowy',\n",
       "       'powierzchnia-uzytkowa', 'miasto', 'liczba_pokoi', 'wykonczenie',\n",
       "       'ulica', 'pietro', 'rodzaj_zabudowy', 'powierzchnia', 'dzielnica',\n",
       "       'forma-wlasnosci', 'cena', 'adres', 'serwis', 'material_budynku',\n",
       "       'oferta', 'ogrzewanie', 'winda', 'czynsz', 'typ_ogrzewania',\n",
       "       'dodatkowe_informacje', 'ulica_i_nr'],\n",
       "      dtype='object')"
      ]
     },
     "execution_count": 470,
     "metadata": {},
     "output_type": "execute_result"
    }
   ],
   "source": [
    "df.columns"
   ]
  },
  {
   "cell_type": "markdown",
   "metadata": {},
   "source": [
    "### Porównanie powierzchni oraz powierzchni użytkowej"
   ]
  },
  {
   "cell_type": "code",
   "execution_count": 471,
   "metadata": {},
   "outputs": [
    {
     "data": {
      "text/plain": [
       "3322.0"
      ]
     },
     "execution_count": 471,
     "metadata": {},
     "output_type": "execute_result"
    }
   ],
   "source": [
    "df['powierzchnia'].max()"
   ]
  },
  {
   "cell_type": "code",
   "execution_count": 472,
   "metadata": {},
   "outputs": [
    {
     "data": {
      "text/plain": [
       "38.00     388\n",
       "45.00     332\n",
       "54.00     313\n",
       "50.00     311\n",
       "60.00     305\n",
       "53.00     304\n",
       "63.00     268\n",
       "48.00     254\n",
       "42.00     235\n",
       "46.00     231\n",
       "47.00     228\n",
       "65.00     228\n",
       "70.00     225\n",
       "43.00     214\n",
       "40.00     206\n",
       "44.00     204\n",
       "56.00     200\n",
       "67.00     200\n",
       "64.00     199\n",
       "55.00     190\n",
       "41.00     190\n",
       "49.00     185\n",
       "58.00     183\n",
       "52.00     181\n",
       "30.00     172\n",
       "37.00     166\n",
       "28.00     166\n",
       "33.00     161\n",
       "31.00     148\n",
       "61.00     145\n",
       "         ... \n",
       "48.75       1\n",
       "61.55       1\n",
       "73.96       1\n",
       "54.25       1\n",
       "64.05       1\n",
       "76.25       1\n",
       "48.23       1\n",
       "125.40      1\n",
       "33.03       1\n",
       "62.65       1\n",
       "75.15       1\n",
       "77.76       1\n",
       "41.51       1\n",
       "61.16       1\n",
       "66.11       1\n",
       "49.17       1\n",
       "37.61       1\n",
       "42.85       1\n",
       "116.97      1\n",
       "110.05      1\n",
       "26.11       1\n",
       "90.10       1\n",
       "42.99       1\n",
       "66.29       1\n",
       "63.34       1\n",
       "33.74       1\n",
       "45.13       1\n",
       "31.46       1\n",
       "27.30       1\n",
       "50.02       1\n",
       "Name: powierzchnia, Length: 2663, dtype: int64"
      ]
     },
     "execution_count": 472,
     "metadata": {},
     "output_type": "execute_result"
    }
   ],
   "source": [
    "df['powierzchnia'].value_counts()"
   ]
  },
  {
   "cell_type": "code",
   "execution_count": 473,
   "metadata": {},
   "outputs": [
    {
     "data": {
      "text/plain": [
       "<matplotlib.axes._subplots.AxesSubplot at 0x18b2fa96fd0>"
      ]
     },
     "execution_count": 473,
     "metadata": {},
     "output_type": "execute_result"
    },
    {
     "data": {
      "image/png": "[encoded data removed]",
      "text/plain": [
       "<Figure size 432x288 with 1 Axes>"
      ]
     },
     "metadata": {
      "needs_background": "light"
     },
     "output_type": "display_data"
    }
   ],
   "source": [
    "df=df[df['powierzchnia']<200]\n",
    "df['powierzchnia'].hist(bins=50)"
   ]
  },
  {
   "cell_type": "code",
   "execution_count": 474,
   "metadata": {},
   "outputs": [
    {
     "data": {
      "text/plain": [
       "<matplotlib.axes._subplots.AxesSubplot at 0x18b2fa729e8>"
      ]
     },
     "execution_count": 474,
     "metadata": {},
     "output_type": "execute_result"
    },
    {
     "data": {
      "image/png": "[encoded data removed]",
      "text/plain": [
       "<Figure size 432x288 with 1 Axes>"
      ]
     },
     "metadata": {
      "needs_background": "light"
     },
     "output_type": "display_data"
    }
   ],
   "source": [
    "%matplotlib inline\n",
    "df['powierzchnia-uzytkowa'].hist(bins=50)"
   ]
  },
  {
   "cell_type": "code",
   "execution_count": 475,
   "metadata": {},
   "outputs": [],
   "source": [
    "df.drop(columns=['powierzchnia-uzytkowa'],inplace=True) # usunięcie zmiennej powierzchnia użytkowa - duplikująca się cecha"
   ]
  },
  {
   "cell_type": "code",
   "execution_count": 476,
   "metadata": {},
   "outputs": [
    {
     "data": {
      "text/plain": [
       "Index(['kuchnia', 'rynek', 'balkon', 'liczba_pieter_budynku', 'rok_budowy',\n",
       "       'miasto', 'liczba_pokoi', 'wykonczenie', 'ulica', 'pietro',\n",
       "       'rodzaj_zabudowy', 'powierzchnia', 'dzielnica', 'forma-wlasnosci',\n",
       "       'cena', 'adres', 'serwis', 'material_budynku', 'oferta', 'ogrzewanie',\n",
       "       'winda', 'czynsz', 'typ_ogrzewania', 'dodatkowe_informacje',\n",
       "       'ulica_i_nr'],\n",
       "      dtype='object')"
      ]
     },
     "execution_count": 476,
     "metadata": {},
     "output_type": "execute_result"
    }
   ],
   "source": [
    "df.columns"
   ]
  },
  {
   "cell_type": "code",
   "execution_count": 477,
   "metadata": {},
   "outputs": [],
   "source": [
    "df=df.replace([None],-1)"
   ]
  },
  {
   "cell_type": "markdown",
   "metadata": {},
   "source": [
    "## Ujednolicenie danych"
   ]
  },
  {
   "cell_type": "markdown",
   "metadata": {},
   "source": [
    "### Kuchnia"
   ]
  },
  {
   "cell_type": "code",
   "execution_count": 478,
   "metadata": {},
   "outputs": [
    {
     "data": {
      "text/plain": [
       "-1                           15992\n",
       "0                             4309\n",
       "-1                            3183\n",
       "oddzielna                     1141\n",
       "w aneksie                      834\n",
       "1                              682\n",
       "aneks                          589\n",
       "półotwarta                     317\n",
       "z oknem                        217\n",
       "brak                           179\n",
       "otwarta                        152\n",
       "bez okna                         6\n",
       "wnęka                            4\n",
       "zamknięta                        4\n",
       "kuchnia otwarta bez okna         3\n",
       "kuchnia z jadalnią               3\n",
       "otwarta na pokój                 1\n",
       "okno na pokój                    1\n",
       "Name: kuchnia, dtype: int64"
      ]
     },
     "execution_count": 478,
     "metadata": {},
     "output_type": "execute_result"
    }
   ],
   "source": [
    "df['kuchnia'].value_counts()"
   ]
  },
  {
   "cell_type": "code",
   "execution_count": 479,
   "metadata": {},
   "outputs": [],
   "source": [
    "df['kuchnia']=df['kuchnia'].replace(0,'brak').replace(1,-1)"
   ]
  },
  {
   "cell_type": "code",
   "execution_count": 480,
   "metadata": {},
   "outputs": [
    {
     "data": {
      "text/plain": [
       "array(['półotwarta ', 'aneks', '-1', 'brak', 'brak ', -1, 'z oknem',\n",
       "       'oddzielna', 'otwarta ', 'w aneksie', 'okno na pokój ',\n",
       "       'bez okna ', 'zamknięta ', 'kuchnia otwarta bez okna ',\n",
       "       'kuchnia z jadalnią ', 'otwarta na pokój ', 'wnęka '], dtype=object)"
      ]
     },
     "execution_count": 480,
     "metadata": {},
     "output_type": "execute_result"
    }
   ],
   "source": [
    "df['kuchnia'].unique()"
   ]
  },
  {
   "cell_type": "code",
   "execution_count": 481,
   "metadata": {},
   "outputs": [],
   "source": [
    "df['kuchnia']=df['kuchnia'].astype('str')"
   ]
  },
  {
   "cell_type": "code",
   "execution_count": 482,
   "metadata": {},
   "outputs": [
    {
     "data": {
      "text/plain": [
       "-1                           19857\n",
       "brak                          4309\n",
       "oddzielna                     1141\n",
       "w aneksie                      834\n",
       "aneks                          589\n",
       "półotwarta                     317\n",
       "z oknem                        217\n",
       "brak                           179\n",
       "otwarta                        152\n",
       "bez okna                         6\n",
       "wnęka                            4\n",
       "zamknięta                        4\n",
       "kuchnia otwarta bez okna         3\n",
       "kuchnia z jadalnią               3\n",
       "okno na pokój                    1\n",
       "otwarta na pokój                 1\n",
       "Name: kuchnia, dtype: int64"
      ]
     },
     "execution_count": 482,
     "metadata": {},
     "output_type": "execute_result"
    }
   ],
   "source": [
    "df['kuchnia'].value_counts()"
   ]
  },
  {
   "cell_type": "code",
   "execution_count": 483,
   "metadata": {},
   "outputs": [
    {
     "data": {
      "text/plain": [
       "-1                           19857\n",
       "brak                          4309\n",
       "oddzielna                     1141\n",
       "w aneksie                      834\n",
       "aneks                          589\n",
       "półotwarta                     317\n",
       "z oknem                        217\n",
       "brak                           179\n",
       "otwarta                        152\n",
       "bez okna                         6\n",
       "wnęka                            4\n",
       "zamknięta                        4\n",
       "kuchnia otwarta bez okna         3\n",
       "kuchnia z jadalnią               3\n",
       "okno na pokój                    1\n",
       "otwarta na pokój                 1\n",
       "Name: kuchnia, dtype: int64"
      ]
     },
     "execution_count": 483,
     "metadata": {},
     "output_type": "execute_result"
    }
   ],
   "source": [
    "df['kuchnia'].value_counts()"
   ]
  },
  {
   "cell_type": "markdown",
   "metadata": {},
   "source": [
    "### Rynek"
   ]
  },
  {
   "cell_type": "code",
   "execution_count": 484,
   "metadata": {},
   "outputs": [
    {
     "data": {
      "text/plain": [
       "-1            17303\n",
       "wtórny         4116\n",
       "wtórny         3553\n",
       "pierwotny      1438\n",
       "pierwotny      1207\n",
       "Name: rynek, dtype: int64"
      ]
     },
     "execution_count": 484,
     "metadata": {},
     "output_type": "execute_result"
    }
   ],
   "source": [
    "df['rynek'].value_counts()"
   ]
  },
  {
   "cell_type": "code",
   "execution_count": 485,
   "metadata": {},
   "outputs": [
    {
     "data": {
      "text/plain": [
       "array(['wtórny ', 'pierwotny ', 'wtórny', 'pierwotny', -1], dtype=object)"
      ]
     },
     "execution_count": 485,
     "metadata": {},
     "output_type": "execute_result"
    }
   ],
   "source": [
    "df['rynek'].unique()"
   ]
  },
  {
   "cell_type": "code",
   "execution_count": 486,
   "metadata": {},
   "outputs": [],
   "source": [
    "df['rynek']=df['rynek'].str.strip()"
   ]
  },
  {
   "cell_type": "code",
   "execution_count": 487,
   "metadata": {},
   "outputs": [
    {
     "data": {
      "text/plain": [
       "wtórny       7669\n",
       "pierwotny    2645\n",
       "Name: rynek, dtype: int64"
      ]
     },
     "execution_count": 487,
     "metadata": {},
     "output_type": "execute_result"
    }
   ],
   "source": [
    "df['rynek'].value_counts()"
   ]
  },
  {
   "cell_type": "code",
   "execution_count": 488,
   "metadata": {},
   "outputs": [],
   "source": [
    "df['rynek']=df['rynek'].replace([None],-1)"
   ]
  },
  {
   "cell_type": "code",
   "execution_count": 489,
   "metadata": {},
   "outputs": [
    {
     "data": {
      "text/plain": [
       "-1           17303\n",
       "wtórny        7669\n",
       "pierwotny     2645\n",
       "Name: rynek, dtype: int64"
      ]
     },
     "execution_count": 489,
     "metadata": {},
     "output_type": "execute_result"
    }
   ],
   "source": [
    "df['rynek'].value_counts()"
   ]
  },
  {
   "cell_type": "markdown",
   "metadata": {},
   "source": [
    "### Balkon"
   ]
  },
  {
   "cell_type": "code",
   "execution_count": 490,
   "metadata": {},
   "outputs": [
    {
     "data": {
      "text/plain": [
       "-1      22294\n",
       "tak      2654\n",
       "-1       2284\n",
       "nie       385\n",
       "Name: balkon, dtype: int64"
      ]
     },
     "execution_count": 490,
     "metadata": {},
     "output_type": "execute_result"
    }
   ],
   "source": [
    "df['balkon'].value_counts()"
   ]
  },
  {
   "cell_type": "code",
   "execution_count": 491,
   "metadata": {},
   "outputs": [],
   "source": [
    "df['balkon']=df['balkon'].astype('str')"
   ]
  },
  {
   "cell_type": "code",
   "execution_count": 492,
   "metadata": {},
   "outputs": [
    {
     "data": {
      "text/plain": [
       "-1      24578\n",
       "tak      2654\n",
       "nie       385\n",
       "Name: balkon, dtype: int64"
      ]
     },
     "execution_count": 492,
     "metadata": {},
     "output_type": "execute_result"
    }
   ],
   "source": [
    "df['balkon'].value_counts()"
   ]
  },
  {
   "cell_type": "markdown",
   "metadata": {},
   "source": [
    "### Liczba pięter budynku"
   ]
  },
  {
   "cell_type": "code",
   "execution_count": 493,
   "metadata": {},
   "outputs": [
    {
     "data": {
      "text/plain": [
       "4             6478\n",
       "3             6147\n",
       "2             2710\n",
       "10            1827\n",
       "5             1528\n",
       "4             1007\n",
       "3              973\n",
       "6              897\n",
       "1              609\n",
       "-1             530\n",
       "17             525\n",
       "2              476\n",
       "7              474\n",
       "0              454\n",
       "8              436\n",
       "5              338\n",
       "11             294\n",
       "12             271\n",
       "10             261\n",
       "9              208\n",
       "17             202\n",
       "6              129\n",
       "16             128\n",
       "1              121\n",
       "8               96\n",
       "18              81\n",
       "7               66\n",
       "12              55\n",
       "11              50\n",
       "9               41\n",
       "13              34\n",
       "38              24\n",
       "16              23\n",
       "15              21\n",
       "28              17\n",
       "18              14\n",
       "24               9\n",
       "32               8\n",
       "19               8\n",
       "20               6\n",
       "14               5\n",
       "15               5\n",
       "13               4\n",
       "powyżej 30       4\n",
       "24               3\n",
       "25               3\n",
       "29               3\n",
       "28               3\n",
       "33               2\n",
       "23               2\n",
       "100              2\n",
       "25               1\n",
       "14               1\n",
       "21               1\n",
       "19               1\n",
       "23               1\n",
       "Name: liczba_pieter_budynku, dtype: int64"
      ]
     },
     "execution_count": 493,
     "metadata": {},
     "output_type": "execute_result"
    }
   ],
   "source": [
    "df['liczba_pieter_budynku'].value_counts()"
   ]
  },
  {
   "cell_type": "code",
   "execution_count": 494,
   "metadata": {},
   "outputs": [],
   "source": [
    "df['liczba_pieter_budynku']=df['liczba_pieter_budynku'].replace('powyżej 30', 31).replace(100,-1)"
   ]
  },
  {
   "cell_type": "code",
   "execution_count": 495,
   "metadata": {},
   "outputs": [
    {
     "data": {
      "text/plain": [
       "4     6478\n",
       "3     6147\n",
       "2     2710\n",
       "10    1827\n",
       "5     1528\n",
       "4     1007\n",
       "3      973\n",
       "6      897\n",
       "1      609\n",
       "-1     532\n",
       "17     525\n",
       "2      476\n",
       "7      474\n",
       "0      454\n",
       "8      436\n",
       "5      338\n",
       "11     294\n",
       "12     271\n",
       "10     261\n",
       "9      208\n",
       "17     202\n",
       "6      129\n",
       "16     128\n",
       "1      121\n",
       "8       96\n",
       "18      81\n",
       "7       66\n",
       "12      55\n",
       "11      50\n",
       "9       41\n",
       "13      34\n",
       "38      24\n",
       "16      23\n",
       "15      21\n",
       "28      17\n",
       "18      14\n",
       "24       9\n",
       "32       8\n",
       "19       8\n",
       "20       6\n",
       "14       5\n",
       "15       5\n",
       "31       4\n",
       "13       4\n",
       "29       3\n",
       "25       3\n",
       "28       3\n",
       "24       3\n",
       "33       2\n",
       "23       2\n",
       "25       1\n",
       "14       1\n",
       "21       1\n",
       "19       1\n",
       "23       1\n",
       "Name: liczba_pieter_budynku, dtype: int64"
      ]
     },
     "execution_count": 495,
     "metadata": {},
     "output_type": "execute_result"
    }
   ],
   "source": [
    "df['liczba_pieter_budynku'].value_counts()"
   ]
  },
  {
   "cell_type": "code",
   "execution_count": 496,
   "metadata": {},
   "outputs": [],
   "source": [
    "df['liczba_pieter_budynku']=df['liczba_pieter_budynku'].replace([None],-1)"
   ]
  },
  {
   "cell_type": "code",
   "execution_count": 497,
   "metadata": {},
   "outputs": [
    {
     "data": {
      "text/plain": [
       "4     6478\n",
       "3     6147\n",
       "2     2710\n",
       "10    1827\n",
       "5     1528\n",
       "4     1007\n",
       "3      973\n",
       "6      897\n",
       "1      609\n",
       "-1     532\n",
       "17     525\n",
       "2      476\n",
       "7      474\n",
       "0      454\n",
       "8      436\n",
       "5      338\n",
       "11     294\n",
       "12     271\n",
       "10     261\n",
       "9      208\n",
       "17     202\n",
       "6      129\n",
       "16     128\n",
       "1      121\n",
       "8       96\n",
       "18      81\n",
       "7       66\n",
       "12      55\n",
       "11      50\n",
       "9       41\n",
       "13      34\n",
       "38      24\n",
       "16      23\n",
       "15      21\n",
       "28      17\n",
       "18      14\n",
       "24       9\n",
       "32       8\n",
       "19       8\n",
       "20       6\n",
       "14       5\n",
       "15       5\n",
       "31       4\n",
       "13       4\n",
       "29       3\n",
       "25       3\n",
       "28       3\n",
       "24       3\n",
       "33       2\n",
       "23       2\n",
       "25       1\n",
       "14       1\n",
       "21       1\n",
       "19       1\n",
       "23       1\n",
       "Name: liczba_pieter_budynku, dtype: int64"
      ]
     },
     "execution_count": 497,
     "metadata": {},
     "output_type": "execute_result"
    }
   ],
   "source": [
    "df['liczba_pieter_budynku'].value_counts()"
   ]
  },
  {
   "cell_type": "markdown",
   "metadata": {},
   "source": [
    "### Rok budowy"
   ]
  },
  {
   "cell_type": "code",
   "execution_count": 498,
   "metadata": {},
   "outputs": [
    {
     "data": {
      "text/plain": [
       " 2019.0    2195\n",
       " 2020.0    2185\n",
       " 0.0       1993\n",
       "-1.0       1881\n",
       " 1980.0    1126\n",
       " 1970.0     945\n",
       " 2021.0     889\n",
       " 2018.0     865\n",
       " 2012.0     725\n",
       " 2017.0     682\n",
       " 2013.0     586\n",
       " 2011.0     550\n",
       " 2016.0     516\n",
       " 1960.0     509\n",
       " 2009.0     491\n",
       " 2015.0     456\n",
       " 1950.0     438\n",
       " 1975.0     405\n",
       " 2010.0     401\n",
       " 2000.0     396\n",
       " 2008.0     371\n",
       " 1978.0     352\n",
       " 1930.0     341\n",
       " 2007.0     334\n",
       " 2014.0     324\n",
       " 1920.0     308\n",
       " 2006.0     306\n",
       " 1976.0     289\n",
       " 2005.0     258\n",
       " 2003.0     251\n",
       "           ... \n",
       " 1913.0      10\n",
       " 1949.0       9\n",
       " 1924.0       7\n",
       " 1941.0       7\n",
       " 1942.0       7\n",
       " 1914.0       6\n",
       " 1.0          6\n",
       " 1498.0       6\n",
       " 1893.0       5\n",
       " 1933.0       5\n",
       " 1931.0       4\n",
       " 1909.0       4\n",
       " 2029.0       4\n",
       " 1888.0       3\n",
       " 1875.0       3\n",
       " 1809.0       3\n",
       " 1922.0       2\n",
       " 1899.0       2\n",
       " 1943.0       2\n",
       " 191.0        2\n",
       " 19.0         2\n",
       " 200.0        2\n",
       " 1891.0       2\n",
       " 1919.0       2\n",
       " 90.0         2\n",
       " 190.0        2\n",
       " 1947.0       2\n",
       " 10.0         2\n",
       " 1892.0       1\n",
       " 150.0        1\n",
       "Name: rok_budowy, Length: 143, dtype: int64"
      ]
     },
     "execution_count": 498,
     "metadata": {},
     "output_type": "execute_result"
    }
   ],
   "source": [
    "df['rok_budowy'].value_counts()"
   ]
  },
  {
   "cell_type": "code",
   "execution_count": 499,
   "metadata": {},
   "outputs": [],
   "source": [
    "df=df[df['rok_budowy']>1000]"
   ]
  },
  {
   "cell_type": "code",
   "execution_count": 500,
   "metadata": {},
   "outputs": [
    {
     "data": {
      "text/plain": [
       "<matplotlib.axes._subplots.AxesSubplot at 0x18b250bc8d0>"
      ]
     },
     "execution_count": 500,
     "metadata": {},
     "output_type": "execute_result"
    },
    {
     "data": {
      "image/png": "[encoded data removed]",
      "text/plain": [
       "<Figure size 432x288 with 1 Axes>"
      ]
     },
     "metadata": {
      "needs_background": "light"
     },
     "output_type": "display_data"
    }
   ],
   "source": [
    "%matplotlib inline\n",
    "df['rok_budowy'].hist(bins=50)"
   ]
  },
  {
   "cell_type": "markdown",
   "metadata": {},
   "source": [
    "### Miasto"
   ]
  },
  {
   "cell_type": "code",
   "execution_count": 501,
   "metadata": {},
   "outputs": [
    {
     "data": {
      "text/plain": [
       "-1             11110\n",
       "Gdańsk          5015\n",
       "gdańsk          2958\n",
       "Gdynia          2362\n",
       "gdynia          1267\n",
       "Sopot            589\n",
       "sopot            413\n",
       "Rumia              5\n",
       "Chwaszczyno        4\n",
       "Żukowo             1\n",
       "Name: miasto, dtype: int64"
      ]
     },
     "execution_count": 501,
     "metadata": {},
     "output_type": "execute_result"
    }
   ],
   "source": [
    "df['miasto'].value_counts()"
   ]
  },
  {
   "cell_type": "code",
   "execution_count": 502,
   "metadata": {},
   "outputs": [],
   "source": [
    "df['miasto']=df['miasto'].replace('sopot','Sopot').replace('gdańsk','Gdańsk').replace('gdynia','Gdynia')"
   ]
  },
  {
   "cell_type": "code",
   "execution_count": 503,
   "metadata": {},
   "outputs": [
    {
     "data": {
      "text/plain": [
       "-1             11110\n",
       "Gdańsk          7973\n",
       "Gdynia          3629\n",
       "Sopot           1002\n",
       "Rumia              5\n",
       "Chwaszczyno        4\n",
       "Żukowo             1\n",
       "Name: miasto, dtype: int64"
      ]
     },
     "execution_count": 503,
     "metadata": {},
     "output_type": "execute_result"
    }
   ],
   "source": [
    "df['miasto'].value_counts()"
   ]
  },
  {
   "cell_type": "markdown",
   "metadata": {},
   "source": [
    "### Liczba pokoi"
   ]
  },
  {
   "cell_type": "code",
   "execution_count": 504,
   "metadata": {},
   "outputs": [
    {
     "data": {
      "text/plain": [
       "3               8226\n",
       "2               7490\n",
       "4               3108\n",
       "1               1215\n",
       "3               1046\n",
       "2                972\n",
       "5                679\n",
       "4                456\n",
       "6                168\n",
       "1                135\n",
       "5                 91\n",
       "0                 37\n",
       "6                 28\n",
       "7                 25\n",
       "-1                18\n",
       "9                 12\n",
       "7                  7\n",
       "8                  5\n",
       "10                 3\n",
       "więcej niż 8       3\n",
       "Name: liczba_pokoi, dtype: int64"
      ]
     },
     "execution_count": 504,
     "metadata": {},
     "output_type": "execute_result"
    }
   ],
   "source": [
    "df['liczba_pokoi'].value_counts()"
   ]
  },
  {
   "cell_type": "code",
   "execution_count": 505,
   "metadata": {},
   "outputs": [],
   "source": [
    "df['liczba_pokoi']=df['liczba_pokoi'].replace('więcej niż 8', 9).replace(0,-1)"
   ]
  },
  {
   "cell_type": "code",
   "execution_count": 506,
   "metadata": {},
   "outputs": [
    {
     "data": {
      "text/plain": [
       "3     8226\n",
       "2     7490\n",
       "4     3108\n",
       "1     1215\n",
       "3     1046\n",
       "2      972\n",
       "5      679\n",
       "4      456\n",
       "6      168\n",
       "1      135\n",
       "5       91\n",
       "-1      55\n",
       "6       28\n",
       "7       25\n",
       "9       15\n",
       "7        7\n",
       "8        5\n",
       "10       3\n",
       "Name: liczba_pokoi, dtype: int64"
      ]
     },
     "execution_count": 506,
     "metadata": {},
     "output_type": "execute_result"
    }
   ],
   "source": [
    "df['liczba_pokoi'].value_counts()"
   ]
  },
  {
   "cell_type": "markdown",
   "metadata": {},
   "source": [
    "### Wykonczenie"
   ]
  },
  {
   "cell_type": "code",
   "execution_count": 507,
   "metadata": {},
   "outputs": [
    {
     "data": {
      "text/plain": [
       "-1                                     14964\n",
       "-1                                      3130\n",
       "dozamieszkania                          2322\n",
       "dowykończenia                           1133\n",
       "wysoki standard                          408\n",
       "doremontu                                308\n",
       "do wykończenia                           193\n",
       "bardzo wysoki standard                   182\n",
       "dobry                                    167\n",
       "deweloperski                             167\n",
       "bardzo dobry                             118\n",
       "do remontu                               112\n",
       "do remontu                               104\n",
       "stan deweloperski                         67\n",
       "dobry                                     61\n",
       "wysoki standard                           61\n",
       "do odświeżenia                            48\n",
       "do odświeżenia                            47\n",
       "do adaptacji                              21\n",
       "świeżo po remoncie                        18\n",
       "idealny                                   15\n",
       "normalny                                  15\n",
       "do remontu kapit.                         15\n",
       "do wprowadzenia                           11\n",
       "nowy                                      11\n",
       "po generalnym remoncie                     5\n",
       "po remoncie                                4\n",
       "do odnowienia                              3\n",
       "podwyższony                                3\n",
       "wykończony                                 2\n",
       "komfort                                    2\n",
       "luksusowy                                  2\n",
       "wymaga remontu kapitalnego                 1\n",
       "dobry poziom                               1\n",
       "po odświeżeniu                             1\n",
       "do odświeżenia,do drobnego remontu         1\n",
       "do drobnego remontu,do odświeżenia         1\n",
       "Name: wykonczenie, dtype: int64"
      ]
     },
     "execution_count": 507,
     "metadata": {},
     "output_type": "execute_result"
    }
   ],
   "source": [
    "df['wykonczenie'].value_counts()"
   ]
  },
  {
   "cell_type": "code",
   "execution_count": 508,
   "metadata": {},
   "outputs": [],
   "source": [
    "df['wykonczenie']=df['wykonczenie'].astype('str')"
   ]
  },
  {
   "cell_type": "code",
   "execution_count": 509,
   "metadata": {},
   "outputs": [],
   "source": [
    "df['wykonczenie']=df['wykonczenie'].str.strip()"
   ]
  },
  {
   "cell_type": "code",
   "execution_count": 510,
   "metadata": {},
   "outputs": [
    {
     "data": {
      "text/plain": [
       "-1                                    18094\n",
       "dozamieszkania                         2322\n",
       "dowykończenia                          1133\n",
       "wysoki standard                         469\n",
       "doremontu                               308\n",
       "dobry                                   228\n",
       "do remontu                              216\n",
       "do wykończenia                          193\n",
       "bardzo wysoki standard                  182\n",
       "deweloperski                            167\n",
       "bardzo dobry                            118\n",
       "do odświeżenia                           95\n",
       "stan deweloperski                        67\n",
       "do adaptacji                             21\n",
       "świeżo po remoncie                       18\n",
       "normalny                                 15\n",
       "do remontu kapit.                        15\n",
       "idealny                                  15\n",
       "nowy                                     11\n",
       "do wprowadzenia                          11\n",
       "po generalnym remoncie                    5\n",
       "po remoncie                               4\n",
       "do odnowienia                             3\n",
       "podwyższony                               3\n",
       "wykończony                                2\n",
       "komfort                                   2\n",
       "luksusowy                                 2\n",
       "wymaga remontu kapitalnego                1\n",
       "do odświeżenia,do drobnego remontu        1\n",
       "dobry poziom                              1\n",
       "do drobnego remontu,do odświeżenia        1\n",
       "po odświeżeniu                            1\n",
       "Name: wykonczenie, dtype: int64"
      ]
     },
     "execution_count": 510,
     "metadata": {},
     "output_type": "execute_result"
    }
   ],
   "source": [
    "df['wykonczenie'].value_counts()"
   ]
  },
  {
   "cell_type": "markdown",
   "metadata": {},
   "source": [
    "### Ulica"
   ]
  },
  {
   "cell_type": "code",
   "execution_count": 511,
   "metadata": {},
   "outputs": [
    {
     "data": {
      "text/plain": [
       "-1                                19086\n",
       "-1                                  503\n",
       "morena,                              96\n",
       "myśliwska                            59\n",
       "nasypowa                             46\n",
       "grudziądzka                          45\n",
       "wałowa                               42\n",
       "toruńska                             40\n",
       "śródmieście                          38\n",
       "obrońców wybrzeża                    38\n",
       "św. barbary                          38\n",
       "gen. józefa hallera                  37\n",
       "ul. kartuska                         32\n",
       "władysława łokietka                  27\n",
       "chmielna                             26\n",
       "stężycka                             25\n",
       "potęgowska                           24\n",
       "bolesława chrobrego                  24\n",
       "nadmorski dwór                       23\n",
       "botanica,                            23\n",
       "szafarnia                            23\n",
       "dąbrowszczaków                       23\n",
       "jacka malczewskiego                  22\n",
       "al. grunwaldzka                      21\n",
       "ogarna                               21\n",
       "rdestowa                             20\n",
       "adama mickiewicza                    20\n",
       "światowida                           19\n",
       "chylońska                            19\n",
       "starowiejska                         19\n",
       "                                  ...  \n",
       "szymona czechowicza                   1\n",
       "antoniego józefa madalińskiego        1\n",
       "franciszka liszta                     1\n",
       "młodzieży polskiej                    1\n",
       "boh. starówki warszawskiej            1\n",
       "reymonta                              1\n",
       "przyokopowa                           1\n",
       "jana brzechwy                         1\n",
       "al. legionów                          1\n",
       "czwartaków                            1\n",
       "al. zwycięstwa                        1\n",
       "marii konopnickiej                    1\n",
       "na zaspę                              1\n",
       "tomasza pokorniewskiego               1\n",
       "kaliska                               1\n",
       "wyspa spichrzów,                      1\n",
       "kościuszki                            1\n",
       "janusza meissnera                     1\n",
       "witomino,                             1\n",
       "aura iii,                             1\n",
       "plater emilii                         1\n",
       "kaznodziejska                         1\n",
       "gen. józefa fiszera                   1\n",
       "człuchowska                           1\n",
       "husa jana                             1\n",
       "jana pawła ii, aviator                1\n",
       "bądkowskiego lecha                    1\n",
       "irysowa                               1\n",
       "wrzeszcz dolny                        1\n",
       "stanisławy fleszarowej-muskat         1\n",
       "Name: ulica, Length: 971, dtype: int64"
      ]
     },
     "execution_count": 511,
     "metadata": {},
     "output_type": "execute_result"
    }
   ],
   "source": [
    "df['ulica'].value_counts()"
   ]
  },
  {
   "cell_type": "code",
   "execution_count": 512,
   "metadata": {},
   "outputs": [],
   "source": [
    "df['ulica']=df['ulica'].str.strip()"
   ]
  },
  {
   "cell_type": "code",
   "execution_count": 513,
   "metadata": {},
   "outputs": [
    {
     "data": {
      "text/plain": [
       "-1                               503\n",
       "morena,                           96\n",
       "myśliwska                         59\n",
       "nasypowa                          46\n",
       "grudziądzka                       45\n",
       "wałowa                            42\n",
       "toruńska                          40\n",
       "śródmieście                       38\n",
       "św. barbary                       38\n",
       "obrońców wybrzeża                 38\n",
       "gen. józefa hallera               37\n",
       "ul. kartuska                      32\n",
       "władysława łokietka               27\n",
       "chmielna                          26\n",
       "stężycka                          25\n",
       "bolesława chrobrego               24\n",
       "potęgowska                        24\n",
       "szafarnia                         23\n",
       "nadmorski dwór                    23\n",
       "botanica,                         23\n",
       "dąbrowszczaków                    23\n",
       "jacka malczewskiego               22\n",
       "ogarna                            21\n",
       "al. grunwaldzka                   21\n",
       "rdestowa                          20\n",
       "adama mickiewicza                 20\n",
       "śródmieście,                      20\n",
       "konrada guderskiego               19\n",
       "światowida                        19\n",
       "chylońska                         19\n",
       "                                ... \n",
       "św. brata alberta                  1\n",
       "bpa konstantyna dominika           1\n",
       "wrzeszcz górny                     1\n",
       "władysława kańskiego               1\n",
       "brzozowa                           1\n",
       "szymona czechowicza                1\n",
       "piłsudskiego józefa                1\n",
       "franciszka liszta                  1\n",
       "boczna                             1\n",
       "brabank,                           1\n",
       "świętego ducha                     1\n",
       "romualda traugutta                 1\n",
       "batalionów chłopskich              1\n",
       "aura gdańsk,                       1\n",
       "bronisława czecha                  1\n",
       "karwiny                            1\n",
       "pułkownika stanisława dąbka        1\n",
       "redłowska                          1\n",
       "perkuna                            1\n",
       "górka                              1\n",
       "mauretanska                        1\n",
       "al. marsz. piłsudskiego            1\n",
       "kadetów                            1\n",
       "stanisławy fleszarowej-muskat      1\n",
       "kraszewskiego józefa               1\n",
       "wejhera                            1\n",
       "konrada wallenroda 24              1\n",
       "cebertowicza romualda              1\n",
       "jeziorowa                          1\n",
       "leśne,                             1\n",
       "Name: ulica, Length: 961, dtype: int64"
      ]
     },
     "execution_count": 513,
     "metadata": {},
     "output_type": "execute_result"
    }
   ],
   "source": [
    "df['ulica'].value_counts()"
   ]
  },
  {
   "cell_type": "markdown",
   "metadata": {},
   "source": [
    "### Piętro"
   ]
  },
  {
   "cell_type": "code",
   "execution_count": 514,
   "metadata": {},
   "outputs": [
    {
     "data": {
      "text/plain": [
       "1               3276\n",
       "2               2564\n",
       "3               2377\n",
       "Parter          1967\n",
       "4               1459\n",
       "1               1231\n",
       "0                972\n",
       "2                916\n",
       "3                850\n",
       "5                517\n",
       "parter           502\n",
       "4                455\n",
       "6                355\n",
       "3 / 3            315\n",
       "2 / 3            294\n",
       "3 / 4            288\n",
       "1 / 3            283\n",
       "parter / 3       282\n",
       "1 / 4            265\n",
       "4 / 4            237\n",
       "1 / 2            214\n",
       "2 / 4            204\n",
       "parter / 4       197\n",
       "parter / 2       195\n",
       "5                173\n",
       "10               167\n",
       "2 / 2            166\n",
       "9                164\n",
       "8                162\n",
       "-1               159\n",
       "                ... \n",
       "2 / 15             1\n",
       "6 / 13             1\n",
       "poddasze           1\n",
       "parter / 9         1\n",
       "7 / 18             1\n",
       "8 / 16             1\n",
       "12 / 16            1\n",
       "9 / 15             1\n",
       "11                 1\n",
       "18 / 29            1\n",
       "4 / 13             1\n",
       "2 / 13             1\n",
       "17 / 18            1\n",
       "27                 1\n",
       "20 / 38            1\n",
       "4 / 16             1\n",
       "11 / 14            1\n",
       "7 / 16             1\n",
       "6 / 16             1\n",
       "5 / 12             1\n",
       "7 / 13             1\n",
       "12 / 13            1\n",
       "15 / 16            1\n",
       "8 / 25             1\n",
       "9 / 18             1\n",
       "5 / 15             1\n",
       "28 / 28            1\n",
       "parter / 15        1\n",
       "14 / 24            1\n",
       "3 / 16             1\n",
       "Name: pietro, Length: 197, dtype: int64"
      ]
     },
     "execution_count": 514,
     "metadata": {},
     "output_type": "execute_result"
    }
   ],
   "source": [
    "df['pietro'].value_counts()"
   ]
  },
  {
   "cell_type": "code",
   "execution_count": 515,
   "metadata": {},
   "outputs": [],
   "source": [
    "df['pietro']=df['pietro'].replace('parter',0).replace('poddasze',-1).replace('powyżej 30',31)"
   ]
  },
  {
   "cell_type": "code",
   "execution_count": 516,
   "metadata": {},
   "outputs": [
    {
     "data": {
      "text/plain": [
       "array(['parter / 3 ', 'parter / 7 ', '1 / 4 ', '2 / 5 ', 1, 3, 2, 5,\n",
       "       '1 / 12 ', 0, 11, 4, '4 / 4 ', '1 / 5 ', '1 / 6 ', 8, 9, '1 / 2 ',\n",
       "       '3 / 4 ', 6, 'parter / 1 ', 'parter / 6 ', '2 / 6 ', '2 / 4 ',\n",
       "       'parter / 4 ', '1 / 1 ', 7, '2 / 2 ', '8 / 10 ', 'parter / 2 ',\n",
       "       '5 / 10 ', '1 / 18 ', 'parter / 10 ', -1, '3 / 3 ', '1 / 3 ',\n",
       "       '4 / 9 ', 10, '9 / 17 ', '3', '2', '4', '1', '5', '6', '6 / 10 ',\n",
       "       '9', '6 / 17 ', '6 / 8 ', '2 / 18 ', '10', '4 / 5 ', '6 / 12 ',\n",
       "       '3 / 5 ', '5 / 9 ', '14 / 17 ', '11', '3 / 11 ', '7 / 10 ',\n",
       "       '2 / 3 ', '8', '2 / 17 ', '7', '5 / 17 ', '4 / 17 ', '8 / 17 ',\n",
       "       '7 / 17 ', '3 / 17 ', '10 / 17 ', 31, '12 / 17 ', '11 / 17 ',\n",
       "       '13 / 17 ', '5 / 5 ', '7 / 7 ', '18', '15 / 17 ', '16 / 17 ',\n",
       "       '17 / 17 ', '14', '3 ', '5 ', '6 / 6 ', 'parter / 5 ', '27',\n",
       "       '4 / 10 ', '12', '15 / 16 ', '10 / 10 ', '15', '4 / 6 ', '17',\n",
       "       '2 / 10 ', '6 / 7 ', '16 / 16 ', '16', '5 / 16 ', '13', '3 / 6 ',\n",
       "       '1 / 7 ', '2 / 7 ', '3 / 10 ', '3 / 12 ', '9 / 11 ', 'parter ',\n",
       "       'parter / 17 ', '2 / 8 ', '4 / 7 ', '1 ', '2 ', '4 ', '10 / 11 ',\n",
       "       '5 / 6 ', 'Parter', '6 / 13 ', '5 / 8 ', '9 / 13 ', '25', '1 / 8 ',\n",
       "       '11 / 11 ', '3 / 7 ', '20', '28', '8 / 12 ', '9 / 16 ', '6 ',\n",
       "       '9 / 10 ', '2 / 13 ', '5 / 7 ', '12 / 16 ', '3 / 8 ', '-1',\n",
       "       '6 / 16 ', '11 / 14 ', '6 / 9 ', '26', '1 / 16 ', '2 / 9 ',\n",
       "       '1 / 10 ', '16 / 19 ', '9 / 18 ', '7 / 8 ', '15 / 18 ', '12 / 12 ',\n",
       "       '18 / 18 ', '8 / 8 ', '11 / 16 ', '28 / 28 ', '4 / 16 ', '4 / 8 ',\n",
       "       '12 ', '9 / 12 ', '5 / 11 ', '9 / 9 ', '1 / 17 ', '2 / 12 ',\n",
       "       '10 / 12 ', '6 / 11 ', '7 / 12 ', '9 / 15 ', '17 / 18 ',\n",
       "       'parter / 8 ', '11 / 12 ', '14 / 16 ', '8 ', '5 / 12 ', '3 / 13 ',\n",
       "       '2 / 11 ', '10 / 16 ', '3 / 9 ', '8 / 16 ', '7 / 13 ', '8 / 9 ',\n",
       "       'parter / 11 ', '1 / 9 ', '4 / 11 ', '18 / 29 ', '4 / 12 ',\n",
       "       '4 / 13 ', '7 / 18 ', '26 / 38 ', '14 / 24 ', '27 / 28 ',\n",
       "       '5 / 15 ', '10 ', '2 / 15 ', '3 / 16 ', '8 / 25 ', '20 / 38 ',\n",
       "       '7 ', 'parter / 9 ', '11 ', '7 / 16 ', '12 / 13 ', 'parter / 15 '],\n",
       "      dtype=object)"
      ]
     },
     "execution_count": 516,
     "metadata": {},
     "output_type": "execute_result"
    }
   ],
   "source": [
    "df['pietro'].unique()"
   ]
  },
  {
   "cell_type": "markdown",
   "metadata": {},
   "source": [
    "### Rodzaj zabudowy"
   ]
  },
  {
   "cell_type": "code",
   "execution_count": 517,
   "metadata": {},
   "outputs": [
    {
     "data": {
      "text/plain": [
       "-1                               12545\n",
       "blok                              3685\n",
       "-1                                1808\n",
       "apartamentowiec                   1749\n",
       "kamienica                          974\n",
       "apartamentowiec                    891\n",
       "blok mieszkalny                    624\n",
       "kamienica                          443\n",
       "niski blok                         401\n",
       "blok                               196\n",
       "wieżowiec                          159\n",
       "dom wielorodzinny/szeregowiec       63\n",
       "domwolnostojący                     52\n",
       "dom wielorodzinny                   27\n",
       "szeregowiec                         16\n",
       "falowiec                            14\n",
       "niski wielorodzinny                 13\n",
       "dom                                 10\n",
       "nowe budownictwo                    10\n",
       "budynek wielorodzinny                7\n",
       "mieszkalno-biurowy                   6\n",
       "willa                                6\n",
       "bliźniak                             4\n",
       "budynek wolnostojący                 3\n",
       "szeregowy                            3\n",
       "inny                                 3\n",
       "historyczny/zabytkowy                3\n",
       "loft                                 2\n",
       "budynek apartamentowy                1\n",
       "inna                                 1\n",
       "loft                                 1\n",
       "kamienica wolnostojąca               1\n",
       "zabytkowy                            1\n",
       "wolnostojący                         1\n",
       "szeregowiec                          1\n",
       "Name: rodzaj_zabudowy, dtype: int64"
      ]
     },
     "execution_count": 517,
     "metadata": {},
     "output_type": "execute_result"
    }
   ],
   "source": [
    "df['rodzaj_zabudowy'].value_counts()"
   ]
  },
  {
   "cell_type": "code",
   "execution_count": 518,
   "metadata": {},
   "outputs": [],
   "source": [
    "df['rodzaj_zabudowy']=df['rodzaj_zabudowy'].str.strip()"
   ]
  },
  {
   "cell_type": "code",
   "execution_count": 519,
   "metadata": {},
   "outputs": [
    {
     "data": {
      "text/plain": [
       "blok                             3881\n",
       "apartamentowiec                  2640\n",
       "-1                               1808\n",
       "kamienica                        1417\n",
       "blok mieszkalny                   624\n",
       "niski blok                        401\n",
       "wieżowiec                         159\n",
       "dom wielorodzinny/szeregowiec      63\n",
       "domwolnostojący                    52\n",
       "dom wielorodzinny                  27\n",
       "szeregowiec                        17\n",
       "falowiec                           14\n",
       "niski wielorodzinny                13\n",
       "nowe budownictwo                   10\n",
       "dom                                10\n",
       "budynek wielorodzinny               7\n",
       "willa                               6\n",
       "mieszkalno-biurowy                  6\n",
       "bliźniak                            4\n",
       "szeregowy                           3\n",
       "budynek wolnostojący                3\n",
       "historyczny/zabytkowy               3\n",
       "inny                                3\n",
       "loft                                3\n",
       "budynek apartamentowy               1\n",
       "zabytkowy                           1\n",
       "kamienica wolnostojąca              1\n",
       "wolnostojący                        1\n",
       "inna                                1\n",
       "Name: rodzaj_zabudowy, dtype: int64"
      ]
     },
     "execution_count": 519,
     "metadata": {},
     "output_type": "execute_result"
    }
   ],
   "source": [
    "df['rodzaj_zabudowy'].value_counts()"
   ]
  },
  {
   "cell_type": "markdown",
   "metadata": {},
   "source": [
    "### Powierzchnia"
   ]
  },
  {
   "cell_type": "code",
   "execution_count": 520,
   "metadata": {},
   "outputs": [
    {
     "data": {
      "text/plain": [
       "38.00     329\n",
       "45.00     283\n",
       "53.00     274\n",
       "60.00     266\n",
       "50.00     262\n",
       "54.00     242\n",
       "63.00     231\n",
       "48.00     224\n",
       "70.00     206\n",
       "65.00     205\n",
       "46.00     201\n",
       "42.00     189\n",
       "67.00     188\n",
       "47.00     184\n",
       "44.00     178\n",
       "43.00     177\n",
       "49.00     174\n",
       "40.00     169\n",
       "56.00     168\n",
       "64.00     163\n",
       "55.00     159\n",
       "58.00     159\n",
       "30.00     145\n",
       "28.00     142\n",
       "37.00     140\n",
       "52.00     139\n",
       "41.00     138\n",
       "33.00     135\n",
       "85.00     132\n",
       "48.20     128\n",
       "         ... \n",
       "64.43       1\n",
       "84.28       1\n",
       "83.53       1\n",
       "32.32       1\n",
       "123.31      1\n",
       "39.29       1\n",
       "39.96       1\n",
       "56.89       1\n",
       "45.41       1\n",
       "39.63       1\n",
       "44.83       1\n",
       "39.27       1\n",
       "30.43       1\n",
       "65.76       1\n",
       "49.95       1\n",
       "46.47       1\n",
       "108.90      1\n",
       "52.26       1\n",
       "34.45       1\n",
       "53.83       1\n",
       "54.31       1\n",
       "88.42       1\n",
       "80.16       1\n",
       "68.93       1\n",
       "63.34       1\n",
       "93.50       1\n",
       "48.17       1\n",
       "83.02       1\n",
       "32.74       1\n",
       "46.23       1\n",
       "Name: powierzchnia, Length: 2384, dtype: int64"
      ]
     },
     "execution_count": 520,
     "metadata": {},
     "output_type": "execute_result"
    }
   ],
   "source": [
    "df['powierzchnia'].value_counts()"
   ]
  },
  {
   "cell_type": "code",
   "execution_count": 521,
   "metadata": {},
   "outputs": [
    {
     "data": {
      "text/plain": [
       "<matplotlib.axes._subplots.AxesSubplot at 0x18b35d043c8>"
      ]
     },
     "execution_count": 521,
     "metadata": {},
     "output_type": "execute_result"
    },
    {
     "data": {
      "image/png": "[encoded data removed]",
      "text/plain": [
       "<Figure size 432x288 with 1 Axes>"
      ]
     },
     "metadata": {
      "needs_background": "light"
     },
     "output_type": "display_data"
    }
   ],
   "source": [
    "%matplotlib inline\n",
    "df['powierzchnia'].hist(bins=50)"
   ]
  },
  {
   "cell_type": "markdown",
   "metadata": {},
   "source": [
    "### Dzielnica"
   ]
  },
  {
   "cell_type": "code",
   "execution_count": 522,
   "metadata": {},
   "outputs": [
    {
     "data": {
      "text/plain": [
       "-1                                 16342\n",
       "śródmieście                          528\n",
       "Śródmieście                          362\n",
       "wrzeszcz                             296\n",
       "Wrzeszcz                             228\n",
       "gdańsk                               220\n",
       "przymorze                            216\n",
       "jasień                               190\n",
       "morena                               190\n",
       "pomorskie                            154\n",
       "Przymorze                            152\n",
       "dolny                                139\n",
       "brzeźno                              126\n",
       "gdynia                               123\n",
       "stare miasto                         115\n",
       "piecki-migowo                        111\n",
       "orłowo                               111\n",
       "oksywie                              109\n",
       "Jasień                                98\n",
       "obłuże                                95\n",
       "mały kack                             92\n",
       "zaspa                                 91\n",
       "StareMiasto                           89\n",
       "Morena                                84\n",
       "Brzeźno                               82\n",
       "oliwa                                 78\n",
       "Dolny                                 74\n",
       "łostowice                             74\n",
       "pogórze                               71\n",
       "Zaspa                                 66\n",
       "                                   ...  \n",
       "chłodna                                1\n",
       "gen. mariusza zaruskiego               1\n",
       "długi targ                             1\n",
       "panieńska                              1\n",
       "reda                                   1\n",
       "teofila aleksandra lenartowicza        1\n",
       "kiejstuta                              1\n",
       "józefa czyżewskiego                    1\n",
       "śródmieście śródmieście                1\n",
       "lipowa                                 1\n",
       "śląska                                 1\n",
       "pruszcz gdański                        1\n",
       "józefa żylewicza                       1\n",
       "olszynka                               1\n",
       "WisząceOgrody                          1\n",
       "jasień - lawendowe wzgórze             1\n",
       "nasypowa                               1\n",
       "juliusza słowackiego                   1\n",
       "al. jana pawła ii                      1\n",
       "karczemki kiełpińskie                  1\n",
       "al. grunwaldzka                        1\n",
       "heliosa                                1\n",
       "marii skłodowskiej-curie               1\n",
       "Matemblewo                             1\n",
       "jaworzniaków                           1\n",
       "jelitkowski dwór                       1\n",
       "sopocka rezydencja                     1\n",
       "alfonsa chmielewskiego                 1\n",
       "świemirowo                             1\n",
       "płk. dąbka                             1\n",
       "Name: dzielnica, Length: 353, dtype: int64"
      ]
     },
     "execution_count": 522,
     "metadata": {},
     "output_type": "execute_result"
    }
   ],
   "source": [
    "df['dzielnica'].value_counts()"
   ]
  },
  {
   "cell_type": "code",
   "execution_count": 523,
   "metadata": {},
   "outputs": [],
   "source": [
    "df['dzielnica']=df['dzielnica'].str.strip().str.lower()"
   ]
  },
  {
   "cell_type": "code",
   "execution_count": 524,
   "metadata": {},
   "outputs": [],
   "source": [
    "df['dzielnica']=df['dzielnica'].replace([None],-1)"
   ]
  },
  {
   "cell_type": "code",
   "execution_count": 525,
   "metadata": {},
   "outputs": [
    {
     "data": {
      "text/plain": [
       "-1                          16342\n",
       "śródmieście                   890\n",
       "wrzeszcz                      524\n",
       "przymorze                     368\n",
       "morena                        307\n",
       "jasień                        288\n",
       "dolny                         234\n",
       "gdańsk                        220\n",
       "brzeźno                       208\n",
       "orłowo                        161\n",
       "zaspa                         157\n",
       "pomorskie                     154\n",
       "obłuże                        152\n",
       "oliwa                         138\n",
       "gdynia                        125\n",
       "piecki-migowo                 121\n",
       "oksywie                       120\n",
       "pogórze                       117\n",
       "łostowice                     116\n",
       "stare miasto                  115\n",
       "siedlce                       103\n",
       "dąbrowa                        96\n",
       "mały kack                      92\n",
       "staremiasto                    89\n",
       "redłowo                        89\n",
       "ujeścisko                      87\n",
       "chełm                          83\n",
       "chylonia                       80\n",
       "centrum                        79\n",
       "jelitkowo                      77\n",
       "                            ...  \n",
       "heliosa                         1\n",
       "bohaterów monte casino          1\n",
       "jelitkowski dwór                1\n",
       "sopocka rezydencja              1\n",
       "alfonsa chmielewskiego          1\n",
       "centrummiasta                   1\n",
       "śląska                          1\n",
       "józefa żylewicza                1\n",
       "magellana                       1\n",
       "michała glinki                  1\n",
       "wacława balcerskiego            1\n",
       "starowiejska                    1\n",
       "al. gen. józefa hallera         1\n",
       "mikołaja reja                   1\n",
       "rdestowa                        1\n",
       "stare obłuże                    1\n",
       "jabłoniowa                      1\n",
       "gdynia - grabówek               1\n",
       "os.aniołki                      1\n",
       "trawki                          1\n",
       "pl. górnośląski                 1\n",
       "augustyna kordeckiego           1\n",
       "gen. władysława andersa         1\n",
       "panieńska                       1\n",
       "stefana czarnieckiego           1\n",
       "wiszące ogrody                  1\n",
       "bażantowa                       1\n",
       "bieszczadzka                    1\n",
       "zabornia                        1\n",
       "osiedle cztery pory roku        1\n",
       "Name: dzielnica, Length: 274, dtype: int64"
      ]
     },
     "execution_count": 525,
     "metadata": {},
     "output_type": "execute_result"
    }
   ],
   "source": [
    "df['dzielnica'].value_counts()"
   ]
  },
  {
   "cell_type": "markdown",
   "metadata": {},
   "source": [
    "### Forma własności"
   ]
  },
  {
   "cell_type": "code",
   "execution_count": 526,
   "metadata": {},
   "outputs": [
    {
     "data": {
      "text/plain": [
       "-1                                   19086\n",
       "-1                                    2684\n",
       "własność                              1644\n",
       "spółdzielcze własnościowe               91\n",
       "spółdzielcze własnościowe z kw          73\n",
       "(nieznany)                              42\n",
       "odrębna własność                        18\n",
       "odrębna własność lokalu                 16\n",
       "pełna własność                          15\n",
       "inna                                    10\n",
       "spółdzielcze-własnościowe                7\n",
       "spółdzielcze-własnościowe z kw           6\n",
       "pełna własność (hipoteczne)              5\n",
       "spół. własnościowe z kw                  4\n",
       "spółdzielcze wł. z kw                    3\n",
       "spółdzielcza własnościowa bez kw         3\n",
       "współwłasność                            3\n",
       "wieczyste użytkowanie                    3\n",
       "spółdzielcza własnościowa z kw           3\n",
       "-                                        2\n",
       "spół. własnościowe                       2\n",
       "użytkowanie wieczyste                    1\n",
       "ekspektatywa                             1\n",
       "umowa z developerem                      1\n",
       "hipoteczne                               1\n",
       "Name: forma-wlasnosci, dtype: int64"
      ]
     },
     "execution_count": 526,
     "metadata": {},
     "output_type": "execute_result"
    }
   ],
   "source": [
    "df['forma-wlasnosci'].value_counts()"
   ]
  },
  {
   "cell_type": "code",
   "execution_count": 527,
   "metadata": {},
   "outputs": [],
   "source": [
    "df['forma-wlasnosci']=df['forma-wlasnosci'].str.strip()"
   ]
  },
  {
   "cell_type": "code",
   "execution_count": 528,
   "metadata": {},
   "outputs": [
    {
     "data": {
      "text/plain": [
       "-1                                  2684\n",
       "własność                            1644\n",
       "spółdzielcze własnościowe             91\n",
       "spółdzielcze własnościowe z kw        73\n",
       "(nieznany)                            42\n",
       "odrębna własność                      18\n",
       "odrębna własność lokalu               16\n",
       "pełna własność                        15\n",
       "inna                                  10\n",
       "spółdzielcze-własnościowe              7\n",
       "spółdzielcze-własnościowe z kw         6\n",
       "pełna własność (hipoteczne)            5\n",
       "spół. własnościowe z kw                4\n",
       "spółdzielcza własnościowa z kw         3\n",
       "współwłasność                          3\n",
       "spółdzielcze wł. z kw                  3\n",
       "wieczyste użytkowanie                  3\n",
       "spółdzielcza własnościowa bez kw       3\n",
       "-                                      2\n",
       "spół. własnościowe                     2\n",
       "ekspektatywa                           1\n",
       "użytkowanie wieczyste                  1\n",
       "umowa z developerem                    1\n",
       "hipoteczne                             1\n",
       "Name: forma-wlasnosci, dtype: int64"
      ]
     },
     "execution_count": 528,
     "metadata": {},
     "output_type": "execute_result"
    }
   ],
   "source": [
    "df['forma-wlasnosci'].value_counts()"
   ]
  },
  {
   "cell_type": "markdown",
   "metadata": {},
   "source": [
    "### Cena"
   ]
  },
  {
   "cell_type": "code",
   "execution_count": 529,
   "metadata": {},
   "outputs": [
    {
     "data": {
      "text/plain": [
       "499000.00     469\n",
       "599000.00     310\n",
       "449000.00     299\n",
       "399000.00     275\n",
       "699000.00     210\n",
       "349000.00     203\n",
       "799000.00     177\n",
       "375000.00     176\n",
       "379000.00     170\n",
       "649000.00     169\n",
       "450000.00     163\n",
       "425000.00     163\n",
       "429000.00     160\n",
       "369000.00     159\n",
       "299000.00     159\n",
       "690000.00     151\n",
       "469000.00     151\n",
       "439000.00     149\n",
       "420000.00     148\n",
       "419000.00     142\n",
       "539000.00     141\n",
       "440000.00     135\n",
       "650000.00     134\n",
       "479000.00     133\n",
       "489000.00     131\n",
       "545000.00     130\n",
       "350000.00     125\n",
       "899000.00     125\n",
       "550000.00     125\n",
       "849000.00     122\n",
       "             ... \n",
       "762649.00       1\n",
       "1093740.00      1\n",
       "579282.00       1\n",
       "763123.00       1\n",
       "1722811.00      1\n",
       "1395125.00      1\n",
       "546342.00       1\n",
       "296033.83       1\n",
       "861375.00       1\n",
       "512577.00       1\n",
       "381500.00       1\n",
       "248091.00       1\n",
       "1486129.00      1\n",
       "397862.00       1\n",
       "293911.00       1\n",
       "1945000.00      1\n",
       "502750.00       1\n",
       "437101.00       1\n",
       "612081.00       1\n",
       "2050036.00      1\n",
       "387972.00       1\n",
       "276088.00       1\n",
       "469898.00       1\n",
       "598958.00       1\n",
       "446929.00       1\n",
       "469953.00       1\n",
       "251370.00       1\n",
       "598920.00       1\n",
       "502749.00       1\n",
       "441364.71       1\n",
       "Name: cena, Length: 2511, dtype: int64"
      ]
     },
     "execution_count": 529,
     "metadata": {},
     "output_type": "execute_result"
    }
   ],
   "source": [
    "df['cena'].value_counts()"
   ]
  },
  {
   "cell_type": "code",
   "execution_count": 530,
   "metadata": {},
   "outputs": [
    {
     "data": {
      "text/plain": [
       "<matplotlib.axes._subplots.AxesSubplot at 0x18b38148b00>"
      ]
     },
     "execution_count": 530,
     "metadata": {},
     "output_type": "execute_result"
    },
    {
     "data": {
      "image/png": "[encoded data removed]",
      "text/plain": [
       "<Figure size 432x288 with 1 Axes>"
      ]
     },
     "metadata": {
      "needs_background": "light"
     },
     "output_type": "display_data"
    }
   ],
   "source": [
    "%matplotlib inline\n",
    "df['cena'].hist(bins=50)"
   ]
  },
  {
   "cell_type": "code",
   "execution_count": 531,
   "metadata": {},
   "outputs": [],
   "source": [
    "df['cena']=df['cena'].replace([None],-1)"
   ]
  },
  {
   "cell_type": "code",
   "execution_count": 532,
   "metadata": {},
   "outputs": [],
   "source": [
    "df=df[df['cena']<1500000]"
   ]
  },
  {
   "cell_type": "code",
   "execution_count": 533,
   "metadata": {},
   "outputs": [
    {
     "data": {
      "text/plain": [
       "<matplotlib.axes._subplots.AxesSubplot at 0x18b35d1fb70>"
      ]
     },
     "execution_count": 533,
     "metadata": {},
     "output_type": "execute_result"
    },
    {
     "data": {
      "image/png": "[encoded data removed]",
      "text/plain": [
       "<Figure size 432x288 with 1 Axes>"
      ]
     },
     "metadata": {
      "needs_background": "light"
     },
     "output_type": "display_data"
    }
   ],
   "source": [
    "%matplotlib inline\n",
    "df['cena'].hist(bins=50)"
   ]
  },
  {
   "cell_type": "markdown",
   "metadata": {},
   "source": [
    "### Adres"
   ]
  },
  {
   "cell_type": "code",
   "execution_count": 534,
   "metadata": {},
   "outputs": [
    {
     "data": {
      "text/plain": [
       "Gdańsk,Śródmieście,pomorskie                               281\n",
       "Gdańsk,Wrzeszcz,pomorskie                                  217\n",
       "Gdańsk, Śródmieście                                        202\n",
       "Gdańsk, Wrzeszcz, Grudziądzka                              164\n",
       "Gdańsk, Wrzeszcz                                           154\n",
       "Gdańsk,Przymorze,pomorskie                                 151\n",
       "Gdańsk, Śródmieście, Wałowa                                148\n",
       "Gdańsk, Przymorze                                          141\n",
       "Gdynia, pomorskie                                          137\n",
       "Gdańsk, Morena, Myśliwska                                  126\n",
       "Sopot, Wyścigi, Karlikowo, Władysława, Łokietka            111\n",
       "Gdynia, Oksywie                                            111\n",
       "Gdańsk, Przymorze, Obrońców, Wybrzeża                      101\n",
       "Sopot, Dolny, Sopot, Niepodległości                         99\n",
       "Gdańsk,Jasień,pomorskie                                     98\n",
       "gdańsk, piecki-migowo, morena,                              91\n",
       "Gdańsk, Długie, Ogrody, Szafarnia                           87\n",
       "Gdańsk,StareMiasto,pomorskie                                86\n",
       "Gdańsk, Przymorze, Rzeczypospolitej                         85\n",
       "Gdańsk,Morena,pomorskie                                     84\n",
       "Gdańsk, Jasień                                              80\n",
       "Gdańsk, Długie, Ogrody, Św, Barbary                         77\n",
       "Gdańsk,Brzeźno,pomorskie                                    73\n",
       "Gdynia, Obłuże                                              73\n",
       "Gdańsk, Zakoniczyn, Konrada, Guderskiego                    72\n",
       "Gdańsk,pomorskie                                            69\n",
       "Gdańsk, Brzeźno, Nadmorski, Dwór                            69\n",
       "Sopot, Dolny, Sopot, Bohaterów, Monte, Cassino              68\n",
       "Gdynia, Śródmieście                                         66\n",
       "Gdańsk,Zaspa,pomorskie                                      65\n",
       "                                                          ... \n",
       "Sopot, Wyścigi, Niepodległości                               1\n",
       "Gdańsk, Śródmieście, Stare Miasto, Panieńska                 1\n",
       "gdańsk, subisława, -1                                        1\n",
       "Gdańsk, Ujeścisko-Łostowice, Ujeścisko, Zielony Stok         1\n",
       "Gdańsk, Żabianka, Opacka                                     1\n",
       "gdynia, redłowo, powstań chłopskich                          1\n",
       "gdańsk, wrzeszcz, leczkowa                                   1\n",
       "gdańsk, pruszcz gdański, przymorze,                          1\n",
       "gdańsk, siedlce, zagrodowa                                   1\n",
       "Gdańsk, Chełm, gen. Kazimierza Sosnkowskiego                 1\n",
       "gdynia, wielki kack, zielona laguna                          1\n",
       "Gdańsk, Suchanino, Piotra Czajkowskiego                      1\n",
       "gdańsk, sopot, górny,                                        1\n",
       "gdynia, centrum, al. marsz. piłsudskiego                     1\n",
       "gdynia, redłowo, boh. starówki warszawskiej                  1\n",
       "gdańsk, żabianka, wejhera                                    1\n",
       "Gdańsk, Jasień, LESZCZYNOWA                                  1\n",
       "Władysława IV, Sopot, pomorskie                              1\n",
       "Gdynia, Chylonia, Owsiana                                    1\n",
       "gdynia, śródmieście, żołnierzy i armii wojska polskiego      1\n",
       "gdynia, oksywie, gen. marii wittekówny                       1\n",
       "gdynia, mały kack, leśne,                                    1\n",
       "gdańsk, kołobrzeska, -1                                      1\n",
       "gdańsk, wrzeszcz, kościuszki                                 1\n",
       "Gdynia, Kamienna Góra, I Armii Wojska Polskiego              1\n",
       "sopot, wyścigi, świemirowska                                 1\n",
       "Tadeusza Kościuszki, Sopot, pomorskie                        1\n",
       "Gdańsk, Śródmieście, ul. św. Ducha                           1\n",
       "gdynia, kiejstuta, -1                                        1\n",
       "Gdańsk, Wrzeszcz, Magellana                                  1\n",
       "Name: adres, Length: 4075, dtype: int64"
      ]
     },
     "execution_count": 534,
     "metadata": {},
     "output_type": "execute_result"
    }
   ],
   "source": [
    "df['adres'].value_counts()"
   ]
  },
  {
   "cell_type": "code",
   "execution_count": 535,
   "metadata": {},
   "outputs": [],
   "source": [
    "df['adres']=df['adres'].replace([None],-1)"
   ]
  },
  {
   "cell_type": "code",
   "execution_count": 536,
   "metadata": {},
   "outputs": [
    {
     "data": {
      "text/plain": [
       "Gdańsk,Śródmieście,pomorskie                               281\n",
       "Gdańsk,Wrzeszcz,pomorskie                                  217\n",
       "Gdańsk, Śródmieście                                        202\n",
       "Gdańsk, Wrzeszcz, Grudziądzka                              164\n",
       "Gdańsk, Wrzeszcz                                           154\n",
       "Gdańsk,Przymorze,pomorskie                                 151\n",
       "Gdańsk, Śródmieście, Wałowa                                148\n",
       "Gdańsk, Przymorze                                          141\n",
       "Gdynia, pomorskie                                          137\n",
       "Gdańsk, Morena, Myśliwska                                  126\n",
       "Sopot, Wyścigi, Karlikowo, Władysława, Łokietka            111\n",
       "Gdynia, Oksywie                                            111\n",
       "Gdańsk, Przymorze, Obrońców, Wybrzeża                      101\n",
       "Sopot, Dolny, Sopot, Niepodległości                         99\n",
       "Gdańsk,Jasień,pomorskie                                     98\n",
       "gdańsk, piecki-migowo, morena,                              91\n",
       "Gdańsk, Długie, Ogrody, Szafarnia                           87\n",
       "Gdańsk,StareMiasto,pomorskie                                86\n",
       "Gdańsk, Przymorze, Rzeczypospolitej                         85\n",
       "Gdańsk,Morena,pomorskie                                     84\n",
       "Gdańsk, Jasień                                              80\n",
       "Gdańsk, Długie, Ogrody, Św, Barbary                         77\n",
       "Gdańsk,Brzeźno,pomorskie                                    73\n",
       "Gdynia, Obłuże                                              73\n",
       "Gdańsk, Zakoniczyn, Konrada, Guderskiego                    72\n",
       "Gdańsk,pomorskie                                            69\n",
       "Gdańsk, Brzeźno, Nadmorski, Dwór                            69\n",
       "Sopot, Dolny, Sopot, Bohaterów, Monte, Cassino              68\n",
       "Gdynia, Śródmieście                                         66\n",
       "Gdańsk,Zaspa,pomorskie                                      65\n",
       "                                                          ... \n",
       "Sopot, Wyścigi, Niepodległości                               1\n",
       "Gdańsk, Śródmieście, Stare Miasto, Panieńska                 1\n",
       "gdańsk, subisława, -1                                        1\n",
       "Gdańsk, Ujeścisko-Łostowice, Ujeścisko, Zielony Stok         1\n",
       "Gdańsk, Żabianka, Opacka                                     1\n",
       "gdynia, redłowo, powstań chłopskich                          1\n",
       "gdańsk, wrzeszcz, leczkowa                                   1\n",
       "gdańsk, pruszcz gdański, przymorze,                          1\n",
       "gdańsk, siedlce, zagrodowa                                   1\n",
       "Gdańsk, Chełm, gen. Kazimierza Sosnkowskiego                 1\n",
       "gdynia, wielki kack, zielona laguna                          1\n",
       "Gdańsk, Suchanino, Piotra Czajkowskiego                      1\n",
       "gdańsk, sopot, górny,                                        1\n",
       "gdynia, centrum, al. marsz. piłsudskiego                     1\n",
       "gdynia, redłowo, boh. starówki warszawskiej                  1\n",
       "gdańsk, żabianka, wejhera                                    1\n",
       "Gdańsk, Jasień, LESZCZYNOWA                                  1\n",
       "Władysława IV, Sopot, pomorskie                              1\n",
       "Gdynia, Chylonia, Owsiana                                    1\n",
       "gdynia, śródmieście, żołnierzy i armii wojska polskiego      1\n",
       "gdynia, oksywie, gen. marii wittekówny                       1\n",
       "gdynia, mały kack, leśne,                                    1\n",
       "gdańsk, kołobrzeska, -1                                      1\n",
       "gdańsk, wrzeszcz, kościuszki                                 1\n",
       "Gdynia, Kamienna Góra, I Armii Wojska Polskiego              1\n",
       "sopot, wyścigi, świemirowska                                 1\n",
       "Tadeusza Kościuszki, Sopot, pomorskie                        1\n",
       "Gdańsk, Śródmieście, ul. św. Ducha                           1\n",
       "gdynia, kiejstuta, -1                                        1\n",
       "Gdańsk, Wrzeszcz, Magellana                                  1\n",
       "Name: adres, Length: 4075, dtype: int64"
      ]
     },
     "execution_count": 536,
     "metadata": {},
     "output_type": "execute_result"
    }
   ],
   "source": [
    "df['adres'].value_counts()"
   ]
  },
  {
   "cell_type": "markdown",
   "metadata": {},
   "source": [
    "### Matrial budynku"
   ]
  },
  {
   "cell_type": "code",
   "execution_count": 537,
   "metadata": {},
   "outputs": [
    {
     "data": {
      "text/plain": [
       "-1                             16283\n",
       "-1                              2902\n",
       "cegła                            770\n",
       "cegła                            604\n",
       "inne                             392\n",
       "wielkapłyta                      352\n",
       "pustak                           308\n",
       "wielka płyta                     234\n",
       "pustak                           221\n",
       "silikat                          179\n",
       "konstrukcja mieszana              78\n",
       "ytong                             72\n",
       "żelbet                            55\n",
       "beton                             54\n",
       "inne                              45\n",
       "silikat                           45\n",
       "tradycyjna                        24\n",
       "zróżnicowany                      21\n",
       "mieszana                          18\n",
       "konstrukcja żelbetowa             17\n",
       "beton                             14\n",
       "beton, cegła                       9\n",
       "mieszany                           9\n",
       "murowana                           8\n",
       "płyta                              7\n",
       "cegła przedwojenna                 7\n",
       "porotherm                          5\n",
       "betonkomórkowy                     5\n",
       "beton komórkowy                    4\n",
       "rama h                             3\n",
       "inna                               2\n",
       "wielkopłytowa                      2\n",
       "gazobeton                          2\n",
       "pustak żużlowy                     1\n",
       "cegła + styropian                  1\n",
       "cegła czerwona                     1\n",
       "cegła, płyta                       1\n",
       "beton, ocieplony, płyta            1\n",
       "cegła stara                        1\n",
       "płyta po termomodernizacji         1\n",
       "beton, płyta                       1\n",
       "pustak ceramiczny                  1\n",
       "bloczki                            1\n",
       "drewno                             1\n",
       "cement                             1\n",
       "drewno                             1\n",
       "Name: material_budynku, dtype: int64"
      ]
     },
     "execution_count": 537,
     "metadata": {},
     "output_type": "execute_result"
    }
   ],
   "source": [
    "df['material_budynku'].value_counts()"
   ]
  },
  {
   "cell_type": "code",
   "execution_count": 538,
   "metadata": {},
   "outputs": [],
   "source": [
    "df['material_budynku']=df['material_budynku'].str.strip()"
   ]
  },
  {
   "cell_type": "code",
   "execution_count": 539,
   "metadata": {},
   "outputs": [
    {
     "data": {
      "text/plain": [
       "-1                            2902\n",
       "cegła                         1374\n",
       "pustak                         529\n",
       "inne                           437\n",
       "wielkapłyta                    352\n",
       "wielka płyta                   234\n",
       "silikat                        224\n",
       "konstrukcja mieszana            78\n",
       "ytong                           72\n",
       "beton                           68\n",
       "żelbet                          55\n",
       "tradycyjna                      24\n",
       "zróżnicowany                    21\n",
       "mieszana                        18\n",
       "konstrukcja żelbetowa           17\n",
       "beton, cegła                     9\n",
       "mieszany                         9\n",
       "murowana                         8\n",
       "cegła przedwojenna               7\n",
       "płyta                            7\n",
       "betonkomórkowy                   5\n",
       "porotherm                        5\n",
       "beton komórkowy                  4\n",
       "rama h                           3\n",
       "inna                             2\n",
       "drewno                           2\n",
       "wielkopłytowa                    2\n",
       "gazobeton                        2\n",
       "cegła, płyta                     1\n",
       "cegła + styropian                1\n",
       "beton, płyta                     1\n",
       "pustak ceramiczny                1\n",
       "cegła czerwona                   1\n",
       "beton, ocieplony, płyta          1\n",
       "cement                           1\n",
       "pustak żużlowy                   1\n",
       "cegła stara                      1\n",
       "płyta po termomodernizacji       1\n",
       "bloczki                          1\n",
       "Name: material_budynku, dtype: int64"
      ]
     },
     "execution_count": 539,
     "metadata": {},
     "output_type": "execute_result"
    }
   ],
   "source": [
    "df['material_budynku'].value_counts()"
   ]
  },
  {
   "cell_type": "code",
   "execution_count": 540,
   "metadata": {},
   "outputs": [],
   "source": [
    "df['material_budynku']=df['material_budynku'].replace('wielkapłyta','wielka płyta').replace('płyta', 'wielka płyta').replace('wielkopłytowa', 'wielka płyta').replace('konstrukcja mieszana','mieszana').replace('mieszany','mieszana')"
   ]
  },
  {
   "cell_type": "code",
   "execution_count": 541,
   "metadata": {},
   "outputs": [
    {
     "data": {
      "text/plain": [
       "-1                            2902\n",
       "cegła                         1374\n",
       "wielka płyta                   595\n",
       "pustak                         529\n",
       "inne                           437\n",
       "silikat                        224\n",
       "mieszana                       105\n",
       "ytong                           72\n",
       "beton                           68\n",
       "żelbet                          55\n",
       "tradycyjna                      24\n",
       "zróżnicowany                    21\n",
       "konstrukcja żelbetowa           17\n",
       "beton, cegła                     9\n",
       "murowana                         8\n",
       "cegła przedwojenna               7\n",
       "betonkomórkowy                   5\n",
       "porotherm                        5\n",
       "beton komórkowy                  4\n",
       "rama h                           3\n",
       "inna                             2\n",
       "drewno                           2\n",
       "gazobeton                        2\n",
       "cegła, płyta                     1\n",
       "cegła + styropian                1\n",
       "beton, płyta                     1\n",
       "pustak ceramiczny                1\n",
       "cegła czerwona                   1\n",
       "beton, ocieplony, płyta          1\n",
       "cement                           1\n",
       "pustak żużlowy                   1\n",
       "cegła stara                      1\n",
       "płyta po termomodernizacji       1\n",
       "bloczki                          1\n",
       "Name: material_budynku, dtype: int64"
      ]
     },
     "execution_count": 541,
     "metadata": {},
     "output_type": "execute_result"
    }
   ],
   "source": [
    "df['material_budynku'].value_counts()"
   ]
  },
  {
   "cell_type": "markdown",
   "metadata": {},
   "source": [
    "### Oferta"
   ]
  },
  {
   "cell_type": "code",
   "execution_count": 542,
   "metadata": {},
   "outputs": [
    {
     "data": {
      "text/plain": [
       "-1                            17773\n",
       "Oferta biura nieruchomości     4412\n",
       "Oferta dewelopera               296\n",
       "Oferta prywatna                 283\n",
       "Name: oferta, dtype: int64"
      ]
     },
     "execution_count": 542,
     "metadata": {},
     "output_type": "execute_result"
    }
   ],
   "source": [
    "df['oferta'].value_counts()"
   ]
  },
  {
   "cell_type": "markdown",
   "metadata": {},
   "source": [
    "### Ogrzewanie"
   ]
  },
  {
   "cell_type": "code",
   "execution_count": 543,
   "metadata": {},
   "outputs": [
    {
     "data": {
      "text/plain": [
       "-1              19037\n",
       "miejskie         3116\n",
       "gazowe            398\n",
       "inne              116\n",
       "elektryczne        67\n",
       "kotłownia          29\n",
       "piecekaflowe        1\n",
       "Name: ogrzewanie, dtype: int64"
      ]
     },
     "execution_count": 543,
     "metadata": {},
     "output_type": "execute_result"
    }
   ],
   "source": [
    "df['ogrzewanie'].value_counts()"
   ]
  },
  {
   "cell_type": "markdown",
   "metadata": {},
   "source": [
    "### Winda"
   ]
  },
  {
   "cell_type": "code",
   "execution_count": 544,
   "metadata": {},
   "outputs": [
    {
     "data": {
      "text/plain": [
       "-1.0    17773\n",
       " 0.0     2793\n",
       " 1.0     2198\n",
       "Name: winda, dtype: int64"
      ]
     },
     "execution_count": 544,
     "metadata": {},
     "output_type": "execute_result"
    }
   ],
   "source": [
    "df['winda'].value_counts() # 0 - jest winda, 1- brak windy"
   ]
  },
  {
   "cell_type": "markdown",
   "metadata": {},
   "source": [
    "### Czynsz"
   ]
  },
  {
   "cell_type": "code",
   "execution_count": 545,
   "metadata": {},
   "outputs": [
    {
     "data": {
      "text/plain": [
       "-1.00       21515\n",
       " 400.00       150\n",
       " 450.00       111\n",
       " 500.00       110\n",
       " 350.00       109\n",
       " 300.00        81\n",
       " 600.00        66\n",
       " 550.00        52\n",
       " 700.00        29\n",
       " 250.00        28\n",
       " 200.00        25\n",
       " 420.00        20\n",
       " 650.00        19\n",
       " 380.00        18\n",
       " 430.00        15\n",
       " 370.00        13\n",
       " 340.00        13\n",
       " 5.00          13\n",
       " 260.00        13\n",
       " 480.00        13\n",
       " 320.00        11\n",
       " 280.00        11\n",
       " 390.00        11\n",
       " 460.00        11\n",
       " 330.00        11\n",
       " 180.00        11\n",
       " 270.00        11\n",
       " 800.00        10\n",
       " 360.00        10\n",
       " 120.00        10\n",
       "            ...  \n",
       " 382.00         1\n",
       " 629.00         1\n",
       " 248.00         1\n",
       " 204.00         1\n",
       " 50.00          1\n",
       " 645.00         1\n",
       " 723.00         1\n",
       " 616.00         1\n",
       " 375.00         1\n",
       " 565.00         1\n",
       " 613.00         1\n",
       " 463.02         1\n",
       " 405.00         1\n",
       " 240.50         1\n",
       " 555.00         1\n",
       " 342.00         1\n",
       " 425.00         1\n",
       " 369.00         1\n",
       " 362.00         1\n",
       " 591.00         1\n",
       " 499.00         1\n",
       " 1100.00        1\n",
       " 272.00         1\n",
       " 299.00         1\n",
       " 549.00         1\n",
       " 385.00         1\n",
       " 371.00         1\n",
       " 300.70         1\n",
       " 630.00         1\n",
       " 780.00         1\n",
       "Name: czynsz, Length: 146, dtype: int64"
      ]
     },
     "execution_count": 545,
     "metadata": {},
     "output_type": "execute_result"
    }
   ],
   "source": [
    "df['czynsz'].value_counts()"
   ]
  },
  {
   "cell_type": "code",
   "execution_count": 546,
   "metadata": {},
   "outputs": [
    {
     "data": {
      "text/plain": [
       "<matplotlib.axes._subplots.AxesSubplot at 0x18b36f367b8>"
      ]
     },
     "execution_count": 546,
     "metadata": {},
     "output_type": "execute_result"
    },
    {
     "data": {
      "image/png": "[encoded data removed]",
      "text/plain": [
       "<Figure size 432x288 with 1 Axes>"
      ]
     },
     "metadata": {
      "needs_background": "light"
     },
     "output_type": "display_data"
    }
   ],
   "source": [
    "%matplotlib inline\n",
    "df['czynsz'].hist(bins=50)"
   ]
  },
  {
   "cell_type": "markdown",
   "metadata": {},
   "source": [
    "### Typ ogrzewania"
   ]
  },
  {
   "cell_type": "code",
   "execution_count": 547,
   "metadata": {},
   "outputs": [
    {
     "data": {
      "text/plain": [
       "-1                                                  15613\n",
       "Co miejskie                                          3380\n",
       "C. o. miejskie                                       1180\n",
       "Miejskie                                              824\n",
       "Gazowe                                                813\n",
       "Centralne                                             174\n",
       "Co własne                                             166\n",
       "Elektryczne                                           151\n",
       "Ogrzewanie miejskie                                    72\n",
       "Co                                                     64\n",
       "C. o.                                                  46\n",
       "C. o. z sieci miejskiej                                46\n",
       "C. o. gazowe                                           29\n",
       "Kotłownia lokalna                                      22\n",
       "Inne                                                   19\n",
       "Ogrzewanie na gaz miejski                              16\n",
       "Miejski                                                12\n",
       "Kotłownia                                              12\n",
       "Pompa ciepła                                            8\n",
       "Gaz                                                     6\n",
       "Kominkowe                                               6\n",
       "C. o                                                    6\n",
       "Centralne ogrzewanie                                    5\n",
       "Własne co                                               4\n",
       "Miejskie co                                             4\n",
       "C. o. elektryczne, kominek                              4\n",
       "Centralne miejskie                                      4\n",
       "C. o miejskie                                           4\n",
       "Etażowe                                                 4\n",
       "Brak                                                    3\n",
       "                                                    ...  \n",
       "Kotłownia gazowa                                        2\n",
       "Gazowe własne                                           2\n",
       "Centralne ogrzewanie z kotłowni opec sp. z o. o.        2\n",
       "(nieznane)                                              2\n",
       "Kotłownia w bloku                                       2\n",
       "Miasto                                                  2\n",
       "C. o. z sieci lokalnej                                  2\n",
       "Cen                                                     2\n",
       "Oc                                                      2\n",
       "Co gaz                                                  2\n",
       "Centralne-kotłownia                                     2\n",
       "Węglowe                                                 2\n",
       "Piec                                                    2\n",
       "Centralne - gazowe                                      2\n",
       "Centralne, kotłownia gazowa                             2\n",
       "Ogrzewanie elektryczne                                  2\n",
       "C. o. elektryczne                                       2\n",
       "Podłogowe                                               2\n",
       "Ogrzewanie na gaz płynny                                2\n",
       "Gazowe-piec dwufunkcyjny                                2\n",
       "Miejske                                                 2\n",
       "C. o. gazowe, kominek                                   2\n",
       "Centralne ze spółdzielni                                2\n",
       "Gaz miejski                                             2\n",
       "Centralny                                               2\n",
       "Z sieci miejskiej                                       2\n",
       "Logotermy                                               2\n",
       "Ec                                                      1\n",
       "Miejskie c. o.                                          1\n",
       "Gazowa                                                  1\n",
       "Name: typ_ogrzewania, Length: 65, dtype: int64"
      ]
     },
     "execution_count": 547,
     "metadata": {},
     "output_type": "execute_result"
    }
   ],
   "source": [
    "df['typ_ogrzewania'].value_counts()"
   ]
  },
  {
   "cell_type": "markdown",
   "metadata": {},
   "source": [
    "### Dodatkowe informacje"
   ]
  },
  {
   "cell_type": "code",
   "execution_count": 548,
   "metadata": {},
   "outputs": [
    {
     "data": {
      "text/plain": [
       "-1                                                                                                                                                                            13796\n",
       "Piwnica                                                                                                                                                                         358\n",
       "Balkon, Piwnica                                                                                                                                                                 279\n",
       "Balkon, Miejsce parkingowe                                                                                                                                                      267\n",
       "Balkon, Winda, Miejsce parkingowe                                                                                                                                               250\n",
       "Miejsce parkingowe                                                                                                                                                              229\n",
       "Balkon, Winda, Woda, Kanalizacja, Miejsce parkingowe, Internet                                                                                                                  174\n",
       "Balkon, Piwnica, Kuchnia                                                                                                                                                        156\n",
       "Balkon, Piwnica, Miejsce parkingowe                                                                                                                                             150\n",
       "Balkon, Piwnica, Miejsce parkingowe, Internet, Kuchnia                                                                                                                          143\n",
       "Balkon                                                                                                                                                                          135\n",
       "Piwnica, Kuchnia                                                                                                                                                                125\n",
       "Piwnica, Miejsce parkingowe, Internet, Kuchnia                                                                                                                                  121\n",
       "Winda                                                                                                                                                                           114\n",
       "Kuchnia                                                                                                                                                                         110\n",
       "Piwnica, Internet                                                                                                                                                                98\n",
       "Piwnica, Miejsce parkingowe                                                                                                                                                      97\n",
       "Balkon, Winda, Piwnica                                                                                                                                                           77\n",
       "Balkon, Garaż, Winda, Piwnica, Miejsce parkingowe, Internet, Kuchnia                                                                                                             73\n",
       "Balkon, Winda, Piwnica, Kuchnia                                                                                                                                                  71\n",
       "Balkon, Winda, Piwnica, Miejsce parkingowe, Internet, Kuchnia                                                                                                                    71\n",
       "Balkon, Winda                                                                                                                                                                    68\n",
       "Ogródek, Miejsce parkingowe                                                                                                                                                      65\n",
       "Balkon, Winda, Piwnica, Internet, Kuchnia                                                                                                                                        62\n",
       "Internet                                                                                                                                                                         59\n",
       "Balkon, Winda, Piwnica, Miejsce parkingowe                                                                                                                                       58\n",
       "Balkon, Gaz, Woda, Kanalizacja, Piwnica, Internet                                                                                                                                56\n",
       "Gaz, Woda, Kanalizacja, Piwnica, Miejsce parkingowe, Internet                                                                                                                    55\n",
       "Piwnica, Internet, Kuchnia                                                                                                                                                       54\n",
       "Balkon, Gaz, Woda, Kanalizacja, Piwnica, Miejsce parkingowe, Internet                                                                                                            53\n",
       "                                                                                                                                                                              ...  \n",
       "Balkon, Garaż, Winda, Piwnica, Miejsce parkingowe, Internet, Aneks kuchenny, Kablówka, Komórka lokatorska, Osiedle zamknięte                                                      1\n",
       "Garaż, Taras, Piwnica, Miejsce parkingowe, Internet, Kuchnia, Dwupoziomowe, Kablówka, Komórka lokatorska                                                                          1\n",
       "Balkon, Internet, Kuchnia, Kablówka, Komórka lokatorska                                                                                                                           1\n",
       "Balkon, Garaż, Winda, Piwnica, Kablówka                                                                                                                                           1\n",
       "Balkon, Internet, Aneks kuchenny                                                                                                                                                  1\n",
       "Balkon, Garaż, Winda, Taras, Kuchnia                                                                                                                                              1\n",
       "Winda, Woda, Piwnica                                                                                                                                                              1\n",
       "Balkon, Garaż, Winda, Taras, Piwnica, Internet, Aneks kuchenny                                                                                                                    1\n",
       "Garaż, Miejsce parkingowe, Internet, Kuchnia                                                                                                                                      1\n",
       "Balkon, Ochrona                                                                                                                                                                   1\n",
       "Woda, Piwnica, Miejsce parkingowe, Internet, Dwupoziomowe                                                                                                                         1\n",
       "Ogródek, Piwnica, Miejsce parkingowe, Dwupoziomowe                                                                                                                                1\n",
       "Balkon, Miejsce parkingowe, Internet, Kuchnia, Kablówka, Podjazd dla niepełnosprawnych, Recepcja, Ochrona, Komórka lokatorska                                                     1\n",
       "Balkon, Garaż, Winda, Internet, Aneks kuchenny, Kablówka, Komórka lokatorska                                                                                                      1\n",
       "Garaż, Siła, Internet, Aneks kuchenny                                                                                                                                             1\n",
       "Balkon, Garaż, Winda, Miejsce parkingowe, Internet, Aneks kuchenny, Kablówka, Światłowód, Ochrona, Komórka lokatorska                                                             1\n",
       "Balkon, Winda, Miejsce parkingowe, Internet, Aneks kuchenny, Kablówka, Podjazd dla niepełnosprawnych, Światłowód, Recepcja, Ochrona, Komórka lokatorska, Osiedle zamknięte        1\n",
       "Kanalizacja, Piwnica                                                                                                                                                              1\n",
       "Garaż, Taras, Piwnica, Miejsce parkingowe, Internet, Aneks kuchenny, Dwupoziomowe, Kablówka, Osiedle zamknięte                                                                    1\n",
       "Gaz, Piwnica, Miejsce parkingowe                                                                                                                                                  1\n",
       "Taras, Ogródek, Internet, Kuchnia, Światłowód                                                                                                                                     1\n",
       "Piwnica, Miejsce parkingowe, Internet, Kuchnia, Dwupoziomowe, Kablówka, Rowerownia, Osiedle zamknięte                                                                             1\n",
       "Balkon, Winda, Miejsce parkingowe, Internet, Aneks kuchenny, Kablówka, Światłowód, Komórka lokatorska, Rowerownia                                                                 1\n",
       "Balkon, Winda, Piwnica, Internet, Aneks kuchenny, Kablówka, Światłowód, Ochrona, Komórka lokatorska                                                                               1\n",
       "Gaz, Woda, Kanalizacja, Siła, Piwnica, Miejsce parkingowe, Kuchnia                                                                                                                1\n",
       "Balkon, Winda, Miejsce parkingowe, Aneks kuchenny, Komórka lokatorska                                                                                                             1\n",
       "Ogródek, Woda, Kanalizacja, Piwnica, Miejsce parkingowe, Internet                                                                                                                 1\n",
       "Woda, Piwnica, Internet, Dwupoziomowe                                                                                                                                             1\n",
       "Garaż, Taras                                                                                                                                                                      1\n",
       "Ogródek, Miejsce parkingowe, Internet, Kuchnia, Kablówka                                                                                                                          1\n",
       "Name: dodatkowe_informacje, Length: 887, dtype: int64"
      ]
     },
     "execution_count": 548,
     "metadata": {},
     "output_type": "execute_result"
    }
   ],
   "source": [
    "df['dodatkowe_informacje'].value_counts()"
   ]
  },
  {
   "cell_type": "markdown",
   "metadata": {},
   "source": [
    "### Ulica i nr"
   ]
  },
  {
   "cell_type": "code",
   "execution_count": 549,
   "metadata": {},
   "outputs": [
    {
     "data": {
      "text/plain": [
       "-1                                                                                          22095\n",
       "Rzeczypospolitej 8/205                                                                        142\n",
       "80-229 gdańsk, al. grunwaldzka 30/32 (wrzeszcz)                                                43\n",
       "Świętojańska 43/23                                                                             39\n",
       "80-257 gdańsk, juliusza słowackiego 37d                                                        34\n",
       "80-766 gdańsk, henryka hubertusa jabłońskiego 26/9                                             34\n",
       "80-398 gdańsk, obrońców wybrzeża 4c/22                                                         18\n",
       "80-332 gdańsk, piastowska 44                                                                   16\n",
       "80-254 gdańsk, partyzantów 8/107 (budynek quattro towers pierwsze piętro)                      16\n",
       "81-805 sopot, al. niepodległości 804b/3                                                        15\n",
       "80-531 gdańsk, sucha 15 (letnica)                                                              15\n",
       "Starowiejska 41-43/10                                                                          13\n",
       "81-509 gdynia, pl. górnośląski 19                                                              12\n",
       "80-280 gdańsk, norwida cypriana kamila 4/201 (hossa garnizon, budynek gamma, ii piętro)        11\n",
       "81-364 gdynia, szkolna 10                                                                      11\n",
       "80-462 gdańsk, al. jana pawła ii 20 (ii piętro, budynek falck)                                 10\n",
       "80-241 gdańsk, al. grunwaldzka 67/2                                                            10\n",
       "J. j. haffnera 6/2                                                                             10\n",
       "Gdańsk, al. grunwaldzka 103a (iii piętro)                                                      10\n",
       "81-401 gdynia, świętojańska 126/3                                                               8\n",
       "81-395 gdynia, antoniego abrahama 48 (klatka a, lokal 4)                                        8\n",
       "80-755 gdańsk, szafarnia 10/33                                                                  6\n",
       "Kołodzieja 51a                                                                                  6\n",
       "80-894 gdańsk, garncarska 33                                                                    6\n",
       "Świętokrzyska 69                                                                                6\n",
       "80-855 gdańsk, wały piastowskie 1 (lok. 616c)                                                   6\n",
       "80-237 gdańsk, jana uphagena 27                                                                 6\n",
       "80-809 gdańsk, wilanowska 30 (trójmiasto)                                                       6\n",
       "Kaprów 19/14                                                                                    5\n",
       "Dąbrowskiego 53/3                                                                               5\n",
       "                                                                                            ...  \n",
       "80-286 gdańsk, jaśkowa dolina 81                                                                2\n",
       "80-299 gdańsk, korsarzy 4d                                                                      2\n",
       "81-231 gdynia, marii curie-skłodowskiej 8c lokal 6 (i piętro)                                   2\n",
       "80-178 gdańsk, gołuńska 60                                                                      2\n",
       "80-531 gdańsk, sucha 15 (wrzeszcz)                                                              2\n",
       "81-855 sopot, al. niepodległości 645b/3 (parter)                                                2\n",
       "81-372 gdynia, armii krajowej 24/11 (v piętro)                                                  2\n",
       "80-172 gdańsk, trzy lipy 4 (lok. 6, ii piętro)                                                  2\n",
       "80-853 gdańsk, wały jagiellońskie 28/30/5a (i piętro)                                           2\n",
       "83-000 pruszcz gdański, fryderyka chopina 38/8                                                  2\n",
       "80-180 gdańsk, wielkopolska 63/4                                                                2\n",
       "80-264 gdańsk, antoniego lendziona 4b/4 (i-piętro)                                              2\n",
       "80-833 gdańsk, mariacka 21-22/3                                                                 2\n",
       "80-462 gdańsk, al. jana pawła ii 3c/7u (parter)                                                 2\n",
       "81-391 gdynia, świętojańska 43 (baltiq plaza)                                                   2\n",
       "80-244 gdańsk, al. grunwaldzka 99/101                                                           2\n",
       "80-336 gdańsk, józefa czyżewskiego 38 (oliwa)                                                   2\n",
       "80-365 gdańsk, czarny dwór 4a (pok. 88)                                                         2\n",
       "80-462 gdańsk, jana pawła ii 6/5 (zaspa)                                                        2\n",
       "80-178 gdańsk, węsierska 1a                                                                     2\n",
       "80-309 gdańsk, al. grunwaldzka 492/4                                                            2\n",
       "80-034 gdańsk, anny jagiellonki 34/6                                                            2\n",
       "81-866 sopot, adama mickiewicza 41                                                              2\n",
       "Ul. kaprów 3a/36                                                                                2\n",
       "80-254 gdańsk, karola szymanowskiego 12 (na terenie osiedla garnizon (apartamenty scena)        2\n",
       "81-350 gdynia, portowa 5/2                                                                      2\n",
       "80-414 gdańsk, dźwigowa 3                                                                       1\n",
       "81-524 gdynia, balladyny 17                                                                     1\n",
       "J. z. ptach 1                                                                                   1\n",
       "80-288 gdańsk, powstania styczniowego 7/9                                                       1\n",
       "Name: ulica_i_nr, Length: 90, dtype: int64"
      ]
     },
     "execution_count": 549,
     "metadata": {},
     "output_type": "execute_result"
    }
   ],
   "source": [
    "df['ulica_i_nr'].value_counts()"
   ]
  },
  {
   "cell_type": "markdown",
   "metadata": {},
   "source": [
    "### Serwis"
   ]
  },
  {
   "cell_type": "code",
   "execution_count": 550,
   "metadata": {},
   "outputs": [
    {
     "data": {
      "text/plain": [
       "trojmiasto    10749\n",
       "otodom         4991\n",
       "morizon        4405\n",
       "gratka         2619\n",
       "Name: serwis, dtype: int64"
      ]
     },
     "execution_count": 550,
     "metadata": {},
     "output_type": "execute_result"
    }
   ],
   "source": [
    "df['serwis'].value_counts()"
   ]
  },
  {
   "cell_type": "code",
   "execution_count": 551,
   "metadata": {},
   "outputs": [
    {
     "data": {
      "text/plain": [
       "(22764, 25)"
      ]
     },
     "execution_count": 551,
     "metadata": {},
     "output_type": "execute_result"
    }
   ],
   "source": [
    "df.shape"
   ]
  },
  {
   "cell_type": "code",
   "execution_count": 552,
   "metadata": {},
   "outputs": [
    {
     "data": {
      "text/html": [
       "<div>\n",
       "<style scoped>\n",
       "    .dataframe tbody tr th:only-of-type {\n",
       "        vertical-align: middle;\n",
       "    }\n",
       "\n",
       "    .dataframe tbody tr th {\n",
       "        vertical-align: top;\n",
       "    }\n",
       "\n",
       "    .dataframe thead th {\n",
       "        text-align: right;\n",
       "    }\n",
       "</style>\n",
       "<table border=\"1\" class=\"dataframe\">\n",
       "  <thead>\n",
       "    <tr style=\"text-align: right;\">\n",
       "      <th></th>\n",
       "      <th>kuchnia</th>\n",
       "      <th>rynek</th>\n",
       "      <th>balkon</th>\n",
       "      <th>liczba_pieter_budynku</th>\n",
       "      <th>rok_budowy</th>\n",
       "      <th>miasto</th>\n",
       "      <th>liczba_pokoi</th>\n",
       "      <th>wykonczenie</th>\n",
       "      <th>ulica</th>\n",
       "      <th>pietro</th>\n",
       "      <th>...</th>\n",
       "      <th>adres</th>\n",
       "      <th>serwis</th>\n",
       "      <th>material_budynku</th>\n",
       "      <th>oferta</th>\n",
       "      <th>ogrzewanie</th>\n",
       "      <th>winda</th>\n",
       "      <th>czynsz</th>\n",
       "      <th>typ_ogrzewania</th>\n",
       "      <th>dodatkowe_informacje</th>\n",
       "      <th>ulica_i_nr</th>\n",
       "    </tr>\n",
       "  </thead>\n",
       "  <tbody>\n",
       "    <tr>\n",
       "      <th>0</th>\n",
       "      <td>półotwarta</td>\n",
       "      <td>wtórny</td>\n",
       "      <td>nie</td>\n",
       "      <td>3</td>\n",
       "      <td>2018.0</td>\n",
       "      <td>Gdańsk</td>\n",
       "      <td>2</td>\n",
       "      <td>-1</td>\n",
       "      <td>piastowska</td>\n",
       "      <td>parter / 3</td>\n",
       "      <td>...</td>\n",
       "      <td>gdańsk, oliwa, piastowska</td>\n",
       "      <td>morizon</td>\n",
       "      <td>-1</td>\n",
       "      <td>-1</td>\n",
       "      <td>-1</td>\n",
       "      <td>-1.0</td>\n",
       "      <td>-1.0</td>\n",
       "      <td>-1</td>\n",
       "      <td>-1</td>\n",
       "      <td>-1</td>\n",
       "    </tr>\n",
       "    <tr>\n",
       "      <th>1</th>\n",
       "      <td>półotwarta</td>\n",
       "      <td>wtórny</td>\n",
       "      <td>nie</td>\n",
       "      <td>3</td>\n",
       "      <td>2018.0</td>\n",
       "      <td>Gdańsk</td>\n",
       "      <td>2</td>\n",
       "      <td>-1</td>\n",
       "      <td>piastowska</td>\n",
       "      <td>parter / 3</td>\n",
       "      <td>...</td>\n",
       "      <td>gdańsk, oliwa, piastowska</td>\n",
       "      <td>morizon</td>\n",
       "      <td>-1</td>\n",
       "      <td>-1</td>\n",
       "      <td>-1</td>\n",
       "      <td>-1.0</td>\n",
       "      <td>-1.0</td>\n",
       "      <td>-1</td>\n",
       "      <td>-1</td>\n",
       "      <td>-1</td>\n",
       "    </tr>\n",
       "    <tr>\n",
       "      <th>10</th>\n",
       "      <td>aneks</td>\n",
       "      <td>pierwotny</td>\n",
       "      <td>-1</td>\n",
       "      <td>7</td>\n",
       "      <td>2020.0</td>\n",
       "      <td>Gdańsk</td>\n",
       "      <td>2</td>\n",
       "      <td>do wykończenia</td>\n",
       "      <td>-1</td>\n",
       "      <td>parter / 7</td>\n",
       "      <td>...</td>\n",
       "      <td>gdańsk, przymorze, -1</td>\n",
       "      <td>morizon</td>\n",
       "      <td>-1</td>\n",
       "      <td>-1</td>\n",
       "      <td>-1</td>\n",
       "      <td>-1.0</td>\n",
       "      <td>-1.0</td>\n",
       "      <td>-1</td>\n",
       "      <td>-1</td>\n",
       "      <td>-1</td>\n",
       "    </tr>\n",
       "    <tr>\n",
       "      <th>100</th>\n",
       "      <td>-1</td>\n",
       "      <td>wtórny</td>\n",
       "      <td>tak</td>\n",
       "      <td>4</td>\n",
       "      <td>2018.0</td>\n",
       "      <td>Gdańsk</td>\n",
       "      <td>3</td>\n",
       "      <td>-1</td>\n",
       "      <td>gen. józefa hallera</td>\n",
       "      <td>1 / 4</td>\n",
       "      <td>...</td>\n",
       "      <td>gdańsk, wrzeszcz, gen. józefa hallera</td>\n",
       "      <td>morizon</td>\n",
       "      <td>-1</td>\n",
       "      <td>-1</td>\n",
       "      <td>-1</td>\n",
       "      <td>-1.0</td>\n",
       "      <td>-1.0</td>\n",
       "      <td>-1</td>\n",
       "      <td>-1</td>\n",
       "      <td>-1</td>\n",
       "    </tr>\n",
       "    <tr>\n",
       "      <th>1000</th>\n",
       "      <td>-1</td>\n",
       "      <td>wtórny</td>\n",
       "      <td>tak</td>\n",
       "      <td>5</td>\n",
       "      <td>2019.0</td>\n",
       "      <td>Gdańsk</td>\n",
       "      <td>3</td>\n",
       "      <td>-1</td>\n",
       "      <td>opacka</td>\n",
       "      <td>2 / 5</td>\n",
       "      <td>...</td>\n",
       "      <td>gdańsk, oliwa, opacka</td>\n",
       "      <td>morizon</td>\n",
       "      <td>inne</td>\n",
       "      <td>-1</td>\n",
       "      <td>-1</td>\n",
       "      <td>-1.0</td>\n",
       "      <td>-1.0</td>\n",
       "      <td>-1</td>\n",
       "      <td>-1</td>\n",
       "      <td>-1</td>\n",
       "    </tr>\n",
       "  </tbody>\n",
       "</table>\n",
       "<p>5 rows × 25 columns</p>\n",
       "</div>"
      ],
      "text/plain": [
       "          kuchnia      rynek balkon liczba_pieter_budynku  rok_budowy  miasto  \\\n",
       "0     półotwarta      wtórny   nie                      3      2018.0  Gdańsk   \n",
       "1     półotwarta      wtórny   nie                      3      2018.0  Gdańsk   \n",
       "10          aneks  pierwotny     -1                     7      2020.0  Gdańsk   \n",
       "100            -1     wtórny   tak                      4      2018.0  Gdańsk   \n",
       "1000           -1     wtórny   tak                      5      2019.0  Gdańsk   \n",
       "\n",
       "     liczba_pokoi     wykonczenie                ulica       pietro  ...  \\\n",
       "0               2              -1           piastowska  parter / 3   ...   \n",
       "1               2              -1           piastowska  parter / 3   ...   \n",
       "10              2  do wykończenia                   -1  parter / 7   ...   \n",
       "100             3              -1  gen. józefa hallera       1 / 4   ...   \n",
       "1000            3              -1               opacka       2 / 5   ...   \n",
       "\n",
       "                                      adres   serwis material_budynku oferta  \\\n",
       "0                 gdańsk, oliwa, piastowska  morizon               -1     -1   \n",
       "1                 gdańsk, oliwa, piastowska  morizon               -1     -1   \n",
       "10                    gdańsk, przymorze, -1  morizon               -1     -1   \n",
       "100   gdańsk, wrzeszcz, gen. józefa hallera  morizon               -1     -1   \n",
       "1000                  gdańsk, oliwa, opacka  morizon             inne     -1   \n",
       "\n",
       "      ogrzewanie winda czynsz typ_ogrzewania dodatkowe_informacje ulica_i_nr  \n",
       "0             -1  -1.0   -1.0             -1                   -1         -1  \n",
       "1             -1  -1.0   -1.0             -1                   -1         -1  \n",
       "10            -1  -1.0   -1.0             -1                   -1         -1  \n",
       "100           -1  -1.0   -1.0             -1                   -1         -1  \n",
       "1000          -1  -1.0   -1.0             -1                   -1         -1  \n",
       "\n",
       "[5 rows x 25 columns]"
      ]
     },
     "execution_count": 552,
     "metadata": {},
     "output_type": "execute_result"
    }
   ],
   "source": [
    "df.head()"
   ]
  },
  {
   "cell_type": "markdown",
   "metadata": {},
   "source": [
    "### Zapis danych"
   ]
  },
  {
   "cell_type": "code",
   "execution_count": 553,
   "metadata": {},
   "outputs": [
    {
     "ename": "NameError",
     "evalue": "name 'df1' is not defined",
     "output_type": "error",
     "traceback": [
      "\u001b[1;31m---------------------------------------------------------------------------\u001b[0m",
      "\u001b[1;31mNameError\u001b[0m                                 Traceback (most recent call last)",
      "\u001b[1;32m<ipython-input-553-830d38d9986a>\u001b[0m in \u001b[0;36m<module>\u001b[1;34m\u001b[0m\n\u001b[1;32m----> 1\u001b[1;33m \u001b[0mdf1\u001b[0m\u001b[1;33m.\u001b[0m\u001b[0mto_json\u001b[0m\u001b[1;33m(\u001b[0m\u001b[1;34m'przygotowane_dane.json'\u001b[0m\u001b[1;33m)\u001b[0m\u001b[1;33m\u001b[0m\u001b[1;33m\u001b[0m\u001b[0m\n\u001b[0m",
      "\u001b[1;31mNameError\u001b[0m: name 'df1' is not defined"
     ]
    }
   ],
   "source": [
    "df.to_json('przygotowane_dane.json')"
   ]
  }
 ],
 "metadata": {
  "kernelspec": {
   "display_name": "Python 3",
   "language": "python",
   "name": "python3"
  },
  "language_info": {
   "codemirror_mode": {
    "name": "ipython",
    "version": 3
   },
   "file_extension": ".py",
   "mimetype": "text/x-python",
   "name": "python",
   "nbconvert_exporter": "python",
   "pygments_lexer": "ipython3",
   "version": "3.7.3"
  }
 },
 "nbformat": 4,
 "nbformat_minor": 2
}
